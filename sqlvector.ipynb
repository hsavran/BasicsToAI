{
 "cells": [
  {
   "cell_type": "code",
   "execution_count": 13,
   "metadata": {
    "polyglot_notebook": {
     "kernelName": "csharp"
    }
   },
   "outputs": [
    {
     "data": {
      "text/html": [
       "<div><div></div><div></div><div><strong>Installed Packages</strong><ul><li><span>Azure, 1.0.6</span></li><li><span>Azure.AI.OpenAI, 2.1.0</span></li><li><span>Azure.Identity, 1.13.2</span></li><li><span>microsoft.data.sqlclient, 5.2.2</span></li><li><span>Microsoft.DotNet.Interactive.SqlServer, 1.0.0-beta.25177.1</span></li><li><span>Newtonsoft.Json, 13.0.3</span></li></ul></div></div>"
      ]
     },
     "metadata": {},
     "output_type": "display_data"
    }
   ],
   "source": [
    "#r \"nuget:Microsoft.DotNet.Interactive.SqlServer, *-*\"\n",
    "\n",
    "#r \"nuget: Azure.AI.OpenAI\"\n",
    "#r \"nuget: Azure.Identity\"\n",
    "#r \"nuget: Azure\"\n",
    "#r \"nuget: Newtonsoft.Json\"\n",
    "#r \"nuget: Microsoft.Data.SqlClient\""
   ]
  },
  {
   "cell_type": "code",
   "execution_count": 2,
   "metadata": {
    "polyglot_notebook": {
     "kernelName": "csharp"
    }
   },
   "outputs": [
    {
     "data": {
      "text/plain": [
       "Kernel added: #!sql-Stackoverflow"
      ]
     },
     "metadata": {},
     "output_type": "display_data"
    }
   ],
   "source": [
    "#!connect mssql --kernel-name Stackoverflow --connection-string \"Server=tcp:hsavransql1.database.windows.net,1433;Initial Catalog=azuredb1;Persist Security Info=False;User ID=hsavran;Password=HasanSavran90;MultipleActiveResultSets=False;Encrypt=True;TrustServerCertificate=False;Connection Timeout=30;\"\""
   ]
  },
  {
   "cell_type": "code",
   "execution_count": 31,
   "metadata": {
    "polyglot_notebook": {
     "kernelName": "sql-Stackoverflow"
    }
   },
   "outputs": [
    {
     "data": {
      "text/plain": [
       "Commands completed successfully."
      ]
     },
     "metadata": {},
     "output_type": "display_data"
    }
   ],
   "source": [
    "ALTER TABLE Posts ADD BodyVector VECTOR(1536)"
   ]
  },
  {
   "cell_type": "code",
   "execution_count": 28,
   "metadata": {
    "polyglot_notebook": {
     "kernelName": "sql-Stackoverflow"
    }
   },
   "outputs": [
    {
     "data": {
      "text/plain": [
       "(1 row affected)"
      ]
     },
     "metadata": {},
     "output_type": "display_data"
    },
    {
     "data": {
      "text/csv": [
       "PostId,Title,PostBody,ViewCount,PostType,OwnerUserId,Score\r\n",
       "20047,\"Diagnosing Deadlocks in SQL Server 2005\",\"<p>We're seeing some pernicious, but rare, deadlock conditions in the Stack Overflow SQL Server 2005 database.</p>\n",
       "\n",
       "<p>I attached the profiler, set up a trace profile using <a href=\"\"http://www.simple-talk.com/sql/learn-sql-server/how-to-track-down-deadlocks-using-sql-server-2005-profiler/\"\" rel=\"\"noreferrer\"\">this excellent article on troubleshooting deadlocks</a>, and captured a bunch of examples. The weird thing is that <strong>the deadlocking write is <em>always</em> the same</strong>:</p>\n",
       "\n",
       "<pre><code>UPDATE [dbo].[Posts]\n",
       "SET [AnswerCount] = @p1, [LastActivityDate] = @p2, [LastActivityUserId] = @p3\n",
       "WHERE [Id] = @p0\n",
       "</code></pre>\n",
       "\n",
       "<p>The other deadlocking statement varies, but it's usually some kind of trivial, simple <strong>read</strong> of the posts table. This one always gets killed in the deadlock. Here's an example</p>\n",
       "\n",
       "<pre><code>SELECT\n",
       "[t0].[Id], [t0].[PostTypeId], [t0].[Score], [t0].[Views], [t0].[AnswerCount], \n",
       "[t0].[AcceptedAnswerId], [t0].[IsLocked], [t0].[IsLockedEdit], [t0].[ParentId], \n",
       "[t0].[CurrentRevisionId], [t0].[FirstRevisionId], [t0].[LockedReason],\n",
       "[t0].[LastActivityDate], [t0].[LastActivityUserId]\n",
       "FROM [dbo].[Posts] AS [t0]\n",
       "WHERE [t0].[ParentId] = @p0\n",
       "</code></pre>\n",
       "\n",
       "<p>To be perfectly clear, we are not seeing write / write deadlocks, but read / write.</p>\n",
       "\n",
       "<p>We have a mixture of LINQ and parameterized SQL queries at the moment. We have added <code>with (nolock)</code> to all the SQL queries. This may have helped some. We also had a single (very) poorly-written badge query that I fixed yesterday, which was taking upwards of 20 seconds to run every time, and was running every minute on top of that. I was hoping this was the source of some of the locking problems!</p>\n",
       "\n",
       "<p>Unfortunately, I got another deadlock error about 2 hours ago. Same exact symptoms, same exact culprit write.</p>\n",
       "\n",
       "<p>The truly strange thing is that the locking write SQL statement you see above is part of a very specific code path. It's <em>only</em> executed when a new answer is added to a question -- it updates the parent question with the new answer count and last date/user. This is, obviously, not that common relative to the massive number of reads we are doing! As far as I can tell, we're not doing huge numbers of writes anywhere in the app.</p>\n",
       "\n",
       "<p>I realize that NOLOCK is sort of a giant hammer, but most of the queries we run here don't need to be that accurate. Will you care if your user profile is a few seconds out of date?</p>\n",
       "\n",
       "<p>Using NOLOCK with Linq is a bit more difficult as <a href=\"\"http://www.hanselman.com/blog/GettingLINQToSQLAndLINQToEntitiesToUseNOLOCK.aspx\"\" rel=\"\"noreferrer\"\">Scott Hanselman discusses here</a>.</p>\n",
       "\n",
       "<p>We are flirting with the idea of using</p>\n",
       "\n",
       "<pre><code>SET TRANSACTION ISOLATION LEVEL READ UNCOMMITTED\n",
       "</code></pre>\n",
       "\n",
       "<p>on the base database context so that all our LINQ queries have this set. Without that, we'd have to wrap every LINQ call we make (well, the simple reading ones, which is the vast majority of them) in a 3-4 line transaction code block, which is ugly.</p>\n",
       "\n",
       "<p>I guess I'm a little frustrated that trivial reads in SQL 2005 can deadlock on writes. I could see write/write deadlocks being a huge issue, but <em>reads?</em> We're not running a banking site here, we don't need perfect accuracy every time.</p>\n",
       "\n",
       "<p>Ideas? Thoughts?</p>\n",
       "\n",
       "<hr>\n",
       "\n",
       "<blockquote>\n",
       "  <p>Are you instantiating a new LINQ to SQL DataContext object for every operation or are you perhaps sharing the same static context for all your calls?</p>\n",
       "</blockquote>\n",
       "\n",
       "<p>Jeremy, we are sharing one static datacontext in the base Controller for the most part:</p>\n",
       "\n",
       "<pre><code>private DBContext _db;\n",
       "/// &lt;summary&gt;\n",
       "/// Gets the DataContext to be used by a Request's controllers.\n",
       "/// &lt;/summary&gt;\n",
       "public DBContext DB\n",
       "{\n",
       "    get\n",
       "    {\n",
       "        if (_db == null)\n",
       "        {\n",
       "            _db = new DBContext() { SessionName = GetType().Name };\n",
       "            //_db.ExecuteCommand(\"\"SET TRANSACTION ISOLATION LEVEL READ UNCOMMITTED\"\");\n",
       "        }\n",
       "        return _db;\n",
       "    }\n",
       "}\n",
       "</code></pre>\n",
       "\n",
       "<p>Do you recommend we create a new context for every Controller, or per Page, or .. more often?</p>\n",
       "\",27533,Question,1,82\r\n"
      ],
      "text/html": [
       "<table><thead><tr><td><span>PostId</span></td><td><span>Title</span></td><td><span>PostBody</span></td><td><span>ViewCount</span></td><td><span>PostType</span></td><td><span>OwnerUserId</span></td><td><span>Score</span></td></tr></thead><tbody><tr><td><div class=\"dni-plaintext\"><pre>20047</pre></div></td><td>Diagnosing Deadlocks in SQL Server 2005</td><td>&lt;p&gt;We&#39;re seeing some pernicious, but rare, deadlock conditions in the Stack Overflow SQL Server 2005 database.&lt;/p&gt;\n",
       "\n",
       "&lt;p&gt;I attached the profiler, set up a trace profile using &lt;a href=&quot;http://www.simple-talk.com/sql/learn-sql-server/how-to-track-down-deadlocks-using-sql-server-2005-profiler/&quot; rel=&quot;noreferrer&quot;&gt;this excellent article on troubleshooting deadlocks&lt;/a&gt;, and captured a bunch of examples. The weird thing is that &lt;strong&gt;the deadlocking write is &lt;em&gt;always&lt;/em&gt; the same&lt;/strong&gt;:&lt;/p&gt;\n",
       "\n",
       "&lt;pre&gt;&lt;code&gt;UPDATE [dbo].[Posts]\n",
       "SET [AnswerCount] = @p1, [LastActivityDate] = @p2, [LastActivityUserId] = @p3\n",
       "WHERE [Id] = @p0\n",
       "&lt;/code&gt;&lt;/pre&gt;\n",
       "\n",
       "&lt;p&gt;The other deadlocking statement varies, but it&#39;s usually some kind of trivial, simple &lt;strong&gt;read&lt;/strong&gt; of the posts table. This one always gets killed in the deadlock. Here&#39;s an example&lt;/p&gt;\n",
       "\n",
       "&lt;pre&gt;&lt;code&gt;SELECT\n",
       "[t0].[Id], [t0].[PostTypeId], [t0].[Score], [t0].[Views], [t0].[AnswerCount], \n",
       "[t0].[AcceptedAnswerId], [t0].[IsLocked], [t0].[IsLockedEdit], [t0].[ParentId], \n",
       "[t0].[CurrentRevisionId], [t0].[FirstRevisionId], [t0].[LockedReason],\n",
       "[t0].[LastActivityDate], [t0].[LastActivityUserId]\n",
       "FROM [dbo].[Posts] AS [t0]\n",
       "WHERE [t0].[ParentId] = @p0\n",
       "&lt;/code&gt;&lt;/pre&gt;\n",
       "\n",
       "&lt;p&gt;To be perfectly clear, we are not seeing write / write deadlocks, but read / write.&lt;/p&gt;\n",
       "\n",
       "&lt;p&gt;We have a mixture of LINQ and parameterized SQL queries at the moment. We have added &lt;code&gt;with (nolock)&lt;/code&gt; to all the SQL queries. This may have helped some. We also had a single (very) poorly-written badge query that I fixed yesterday, which was taking upwards of 20 seconds to run every time, and was running every minute on top of that. I was hoping this was the source of some of the locking problems!&lt;/p&gt;\n",
       "\n",
       "&lt;p&gt;Unfortunately, I got another deadlock error about 2 hours ago. Same exact symptoms, same exact culprit write.&lt;/p&gt;\n",
       "\n",
       "&lt;p&gt;The truly strange thing is that the locking write SQL statement you see above is part of a very specific code path. It&#39;s &lt;em&gt;only&lt;/em&gt; executed when a new answer is added to a question -- it updates the parent question with the new answer count and last date/user. This is, obviously, not that common relative to the massive number of reads we are doing! As far as I can tell, we&#39;re not doing huge numbers of writes anywhere in the app.&lt;/p&gt;\n",
       "\n",
       "&lt;p&gt;I realize that NOLOCK is sort of a giant hammer, but most of the queries we run here don&#39;t need to be that accurate. Will you care if your user profile is a few seconds out of date?&lt;/p&gt;\n",
       "\n",
       "&lt;p&gt;Using NOLOCK with Linq is a bit more difficult as &lt;a href=&quot;http://www.hanselman.com/blog/GettingLINQToSQLAndLINQToEntitiesToUseNOLOCK.aspx&quot; rel=&quot;noreferrer&quot;&gt;Scott Hanselman discusses here&lt;/a&gt;.&lt;/p&gt;\n",
       "\n",
       "&lt;p&gt;We are flirting with the idea of using&lt;/p&gt;\n",
       "\n",
       "&lt;pre&gt;&lt;code&gt;SET TRANSACTION ISOLATION LEVEL READ UNCOMMITTED\n",
       "&lt;/code&gt;&lt;/pre&gt;\n",
       "\n",
       "&lt;p&gt;on the base database context so that all our LINQ queries have this set. Without that, we&#39;d have to wrap every LINQ call we make (well, the simple reading ones, which is the vast majority of them) in a 3-4 line transaction code block, which is ugly.&lt;/p&gt;\n",
       "\n",
       "&lt;p&gt;I guess I&#39;m a little frustrated that trivial reads in SQL 2005 can deadlock on writes. I could see write/write deadlocks being a huge issue, but &lt;em&gt;reads?&lt;/em&gt; We&#39;re not running a banking site here, we don&#39;t need perfect accuracy every time.&lt;/p&gt;\n",
       "\n",
       "&lt;p&gt;Ideas? Thoughts?&lt;/p&gt;\n",
       "\n",
       "&lt;hr&gt;\n",
       "\n",
       "&lt;blockquote&gt;\n",
       "  &lt;p&gt;Are you instantiating a new LINQ to SQL DataContext object for every operation or are you perhaps sharing the same static context for all your calls?&lt;/p&gt;\n",
       "&lt;/blockquote&gt;\n",
       "\n",
       "&lt;p&gt;Jeremy, we are sharing one static datacontext in the base Controller for the most part:&lt;/p&gt;\n",
       "\n",
       "&lt;pre&gt;&lt;code&gt;private DBContext _db;\n",
       "/// &amp;lt;summary&amp;gt;\n",
       "/// Gets the DataContext to be used by a Request&#39;s controllers.\n",
       "/// &amp;lt;/summary&amp;gt;\n",
       "public DBContext DB\n",
       "{\n",
       "    get\n",
       "    {\n",
       "        if (_db == null)\n",
       "        {\n",
       "            _db = new DBContext() { SessionName = GetType().Name };\n",
       "            //_db.ExecuteCommand(&quot;SET TRANSACTION ISOLATION LEVEL READ UNCOMMITTED&quot;);\n",
       "        }\n",
       "        return _db;\n",
       "    }\n",
       "}\n",
       "&lt;/code&gt;&lt;/pre&gt;\n",
       "\n",
       "&lt;p&gt;Do you recommend we create a new context for every Controller, or per Page, or .. more often?&lt;/p&gt;\n",
       "</td><td><div class=\"dni-plaintext\"><pre>27533</pre></div></td><td>Question</td><td><div class=\"dni-plaintext\"><pre>1</pre></div></td><td><div class=\"dni-plaintext\"><pre>82</pre></div></td></tr></tbody></table><style>\r\n",
       ".dni-code-hint {\r\n",
       "    font-style: italic;\r\n",
       "    overflow: hidden;\r\n",
       "    white-space: nowrap;\r\n",
       "}\r\n",
       ".dni-treeview {\r\n",
       "    white-space: nowrap;\r\n",
       "}\r\n",
       ".dni-treeview td {\r\n",
       "    vertical-align: top;\r\n",
       "    text-align: start;\r\n",
       "}\r\n",
       "details.dni-treeview {\r\n",
       "    padding-left: 1em;\r\n",
       "}\r\n",
       "table td {\r\n",
       "    text-align: start;\r\n",
       "}\r\n",
       "table tr { \r\n",
       "    vertical-align: top; \r\n",
       "    margin: 0em 0px;\r\n",
       "}\r\n",
       "table tr td pre \r\n",
       "{ \r\n",
       "    vertical-align: top !important; \r\n",
       "    margin: 0em 0px !important;\r\n",
       "} \r\n",
       "table th {\r\n",
       "    text-align: start;\r\n",
       "}\r\n",
       "</style>"
      ]
     },
     "metadata": {},
     "output_type": "display_data"
    }
   ],
   "source": [
    "SELECT TOP 1 * FROM Posts WHERE PostType = 'Question'"
   ]
  },
  {
   "cell_type": "code",
   "execution_count": 14,
   "metadata": {
    "polyglot_notebook": {
     "kernelName": "csharp"
    }
   },
   "outputs": [],
   "source": [
    "\n",
    "using Azure;\n",
    "using Azure.AI.OpenAI;\n",
    "using Azure.Identity;\n",
    "using OpenAI.Embeddings;\n",
    "using Newtonsoft.Json;\n",
    "using Newtonsoft.Json.Linq;\n",
    "using System.Net.Http;\n",
    "using System.Collections.ObjectModel;\n",
    "using Microsoft.Data.SqlClient;\n"
   ]
  },
  {
   "cell_type": "code",
   "execution_count": 24,
   "metadata": {
    "polyglot_notebook": {
     "kernelName": "csharp"
    }
   },
   "outputs": [],
   "source": [
    "var openAIClient = new AzureOpenAIClient(\n",
    "    new Uri(\"https://savranweb.openai.azure.com/\"),\n",
    "    new AzureKeyCredential(\"3Qg3P8Fw37qaN3ZtG2JJapZZVjBFTKvOIDaIYXoL5a5fduu3wz2XJQQJ99BDACYeBjFXJ3w3AAABACOGPUlQ\"));\n",
    "var aiclient = openAIClient.GetEmbeddingClient(\"embedding\");"
   ]
  },
  {
   "cell_type": "code",
   "execution_count": 25,
   "metadata": {
    "polyglot_notebook": {
     "kernelName": "csharp"
    }
   },
   "outputs": [],
   "source": [
    "ReadOnlyMemory<float> GenerateVector(string text)\n",
    "{    \n",
    "    OpenAIEmbedding newembedding = aiclient.GenerateEmbedding(text);\n",
    "    return newembedding.ToFloats();\n",
    "}"
   ]
  },
  {
   "cell_type": "code",
   "execution_count": 22,
   "metadata": {
    "polyglot_notebook": {
     "kernelName": "csharp"
    }
   },
   "outputs": [],
   "source": [
    "public class Post    \n",
    "{    \n",
    "    public int PostId { get; set; }\n",
    "    public string PostBody { get; set; }\n",
    "    public string Title { get; set; }\n",
    "    public int ViewCount { get; set; }\n",
    "    public int OwnerUserId { get; set; }\n",
    "    public string PostType { get; set; }\n",
    "    public int Score { get; set; }\n",
    "    public float[] bodyvector {get;set;}\n",
    "}"
   ]
  },
  {
   "cell_type": "code",
   "execution_count": 40,
   "metadata": {
    "polyglot_notebook": {
     "kernelName": "csharp"
    }
   },
   "outputs": [
    {
     "data": {
      "text/html": [
       "<div class=\"dni-plaintext\"><pre>9264</pre></div><style>\r\n",
       ".dni-code-hint {\r\n",
       "    font-style: italic;\r\n",
       "    overflow: hidden;\r\n",
       "    white-space: nowrap;\r\n",
       "}\r\n",
       ".dni-treeview {\r\n",
       "    white-space: nowrap;\r\n",
       "}\r\n",
       ".dni-treeview td {\r\n",
       "    vertical-align: top;\r\n",
       "    text-align: start;\r\n",
       "}\r\n",
       "details.dni-treeview {\r\n",
       "    padding-left: 1em;\r\n",
       "}\r\n",
       "table td {\r\n",
       "    text-align: start;\r\n",
       "}\r\n",
       "table tr { \r\n",
       "    vertical-align: top; \r\n",
       "    margin: 0em 0px;\r\n",
       "}\r\n",
       "table tr td pre \r\n",
       "{ \r\n",
       "    vertical-align: top !important; \r\n",
       "    margin: 0em 0px !important;\r\n",
       "} \r\n",
       "table th {\r\n",
       "    text-align: start;\r\n",
       "}\r\n",
       "</style>"
      ]
     },
     "metadata": {},
     "output_type": "display_data"
    },
    {
     "data": {
      "text/html": [
       "<div class=\"dni-plaintext\"><pre>1</pre></div><style>\r\n",
       ".dni-code-hint {\r\n",
       "    font-style: italic;\r\n",
       "    overflow: hidden;\r\n",
       "    white-space: nowrap;\r\n",
       "}\r\n",
       ".dni-treeview {\r\n",
       "    white-space: nowrap;\r\n",
       "}\r\n",
       ".dni-treeview td {\r\n",
       "    vertical-align: top;\r\n",
       "    text-align: start;\r\n",
       "}\r\n",
       "details.dni-treeview {\r\n",
       "    padding-left: 1em;\r\n",
       "}\r\n",
       "table td {\r\n",
       "    text-align: start;\r\n",
       "}\r\n",
       "table tr { \r\n",
       "    vertical-align: top; \r\n",
       "    margin: 0em 0px;\r\n",
       "}\r\n",
       "table tr td pre \r\n",
       "{ \r\n",
       "    vertical-align: top !important; \r\n",
       "    margin: 0em 0px !important;\r\n",
       "} \r\n",
       "table th {\r\n",
       "    text-align: start;\r\n",
       "}\r\n",
       "</style>"
      ]
     },
     "metadata": {},
     "output_type": "display_data"
    },
    {
     "ename": "Error",
     "evalue": "System.InvalidOperationException: The given ColumnMapping does not match up with any column in the source or destination.\r\n   at Microsoft.Data.SqlClient.SqlBulkCopy.AnalyzeTargetAndCreateUpdateBulkCommand(BulkCopySimpleResultSet internalResults)\r\n   at Microsoft.Data.SqlClient.SqlBulkCopy.WriteToServerInternalRestContinuedAsync(BulkCopySimpleResultSet internalResults, CancellationToken cts, TaskCompletionSource`1 source)\r\n   at Microsoft.Data.SqlClient.SqlBulkCopy.WriteToServerInternalRestAsync(CancellationToken cts, TaskCompletionSource`1 source)\r\n   at Microsoft.Data.SqlClient.SqlBulkCopy.WriteToServerInternalAsync(CancellationToken ctoken)\r\n   at Microsoft.Data.SqlClient.SqlBulkCopy.WriteRowSourceToServerAsync(Int32 columnCount, CancellationToken ctoken)\r\n   at Microsoft.Data.SqlClient.SqlBulkCopy.WriteToServer(DataTable table, DataRowState rowState)\r\n   at Microsoft.Data.SqlClient.SqlBulkCopy.WriteToServer(DataTable table)\r\n   at Submission#30.<<Initialize>>d__0.MoveNext()\r\n--- End of stack trace from previous location ---\r\n   at Microsoft.CodeAnalysis.Scripting.ScriptExecutionState.RunSubmissionsAsync[TResult](ImmutableArray`1 precedingExecutors, Func`2 currentExecutor, StrongBox`1 exceptionHolderOpt, Func`2 catchExceptionOpt, CancellationToken cancellationToken)",
     "output_type": "error",
     "traceback": [
      "System.InvalidOperationException: The given ColumnMapping does not match up with any column in the source or destination.\r\n",
      "   at Microsoft.Data.SqlClient.SqlBulkCopy.AnalyzeTargetAndCreateUpdateBulkCommand(BulkCopySimpleResultSet internalResults)\r\n",
      "   at Microsoft.Data.SqlClient.SqlBulkCopy.WriteToServerInternalRestContinuedAsync(BulkCopySimpleResultSet internalResults, CancellationToken cts, TaskCompletionSource`1 source)\r\n",
      "   at Microsoft.Data.SqlClient.SqlBulkCopy.WriteToServerInternalRestAsync(CancellationToken cts, TaskCompletionSource`1 source)\r\n",
      "   at Microsoft.Data.SqlClient.SqlBulkCopy.WriteToServerInternalAsync(CancellationToken ctoken)\r\n",
      "   at Microsoft.Data.SqlClient.SqlBulkCopy.WriteRowSourceToServerAsync(Int32 columnCount, CancellationToken ctoken)\r\n",
      "   at Microsoft.Data.SqlClient.SqlBulkCopy.WriteToServer(DataTable table, DataRowState rowState)\r\n",
      "   at Microsoft.Data.SqlClient.SqlBulkCopy.WriteToServer(DataTable table)\r\n",
      "   at Submission#30.<<Initialize>>d__0.MoveNext()\r\n",
      "--- End of stack trace from previous location ---\r\n",
      "   at Microsoft.CodeAnalysis.Scripting.ScriptExecutionState.RunSubmissionsAsync[TResult](ImmutableArray`1 precedingExecutors, Func`2 currentExecutor, StrongBox`1 exceptionHolderOpt, Func`2 catchExceptionOpt, CancellationToken cancellationToken)"
     ]
    }
   ],
   "source": [
    "var json = await new HttpClient().GetStringAsync(\"https://raw.githubusercontent.com/hsavran/Presentations/refs/heads/main/stackoverflow.json\");\n",
    "var postList = JsonConvert.DeserializeObject<List<Post>>(json);\n",
    "postList.Count.Display();\n",
    "var inserttable = new System.Data.DataTable(\"Posts\");\n",
    "inserttable.Columns.Add(\"PostId\", typeof(int));\n",
    "inserttable.Columns.Add(\"PostBody\", typeof(string));\n",
    "inserttable.Columns.Add(\"Title\", typeof(string));\n",
    "inserttable.Columns.Add(\"ViewCount\", typeof(int));\n",
    "inserttable.Columns.Add(\"OwnerUserId\", typeof(int));\n",
    "inserttable.Columns.Add(\"PostType\", typeof(string));\n",
    "inserttable.Columns.Add(\"Score\", typeof(int));\n",
    "inserttable.Columns.Add(\"bodyvector\", typeof(float[]));\n",
    "foreach (var post in postList.Where(p => p.PostType == \"Question\").Take(1))\n",
    "{\n",
    "    //var vector = GenerateVector(post.PostBody).ToArray();\n",
    "    //post.bodyvector = vector;\n",
    "    var newRow = inserttable.NewRow();\n",
    "    newRow[\"PostId\"] = post.PostId;\n",
    "    newRow[\"PostBody\"] = post.PostBody;\n",
    "    newRow[\"Title\"] = post.Title;\n",
    "    newRow[\"ViewCount\"] = post.ViewCount;\n",
    "    newRow[\"OwnerUserId\"] = post.OwnerUserId;\n",
    "    newRow[\"PostType\"] = post.PostType;\n",
    "    newRow[\"Score\"] = post.Score;\n",
    "    newRow[\"bodyvector\"] = GenerateVector(post.Title).ToArray();\n",
    "    inserttable.Rows.Add(newRow);\n",
    "}\n",
    "inserttable.Rows.Count.Display();\n",
    "\n",
    "using (var connection = new Microsoft.Data.SqlClient.SqlConnection(\"Server=tcp:hsavransql1.database.windows.net,1433;Initial Catalog=azuredb1;Persist Security Info=False;User ID=hsavran;Password=HasanSavran90;MultipleActiveResultSets=False;Encrypt=True;TrustServerCertificate=False;Connection Timeout=30;\"))\n",
    "{\n",
    "    connection.Open();\n",
    "    using (var transaction = connection.BeginTransaction())\n",
    "    {\n",
    "        using (var bulkCopy = new Microsoft.Data.SqlClient.SqlBulkCopy(connection, Microsoft.Data.SqlClient.SqlBulkCopyOptions.Default, transaction))\n",
    "        {\n",
    "            bulkCopy.DestinationTableName = \"Posts\";\n",
    "            bulkCopy.ColumnMappings.Add(\"PostId\", \"PostId\");\n",
    "            bulkCopy.ColumnMappings.Add(\"PostBody\", \"PostBody\"); \n",
    "            bulkCopy.ColumnMappings.Add(\"Title\", \"Title\");                       \n",
    "            bulkCopy.ColumnMappings.Add(\"ViewCount\", \"ViewCount\");\n",
    "            bulkCopy.ColumnMappings.Add(\"OwnerUserId\", \"OwnerUserId\");  \n",
    "            bulkCopy.ColumnMappings.Add(\"PostType\", \"PostType\");                      \n",
    "            bulkCopy.ColumnMappings.Add(\"Score\", \"Score\");\n",
    "            bulkCopy.ColumnMappings.Add(\"bodyvector\", \"bodyvector\");\n",
    "            bulkCopy.BatchSize = 1000;\n",
    "            bulkCopy.WriteToServer(inserttable);\n",
    "        }\n",
    "        transaction.Commit();\n",
    "    }\n",
    "}\n"
   ]
  }
 ],
 "metadata": {
  "kernelspec": {
   "display_name": ".NET (C#)",
   "language": "C#",
   "name": ".net-csharp"
  },
  "language_info": {
   "name": "polyglot-notebook"
  },
  "polyglot_notebook": {
   "kernelInfo": {
    "defaultKernelName": "csharp",
    "items": [
     {
      "aliases": [],
      "languageName": "csharp",
      "name": "csharp"
     },
     {
      "aliases": [],
      "languageName": "T-SQL",
      "name": "sql-Stackoverflow"
     }
    ]
   }
  }
 },
 "nbformat": 4,
 "nbformat_minor": 5
}
