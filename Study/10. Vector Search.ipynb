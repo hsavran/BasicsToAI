{
 "cells": [
  {
   "cell_type": "code",
   "execution_count": 3,
   "id": "6353be40",
   "metadata": {
    "polyglot_notebook": {
     "kernelName": "csharp"
    }
   },
   "outputs": [
    {
     "data": {
      "text/html": [
       "<div><div></div><div></div><div><strong>Installed Packages</strong><ul><li><span>Azure, 1.0.6</span></li><li><span>Azure.AI.OpenAI, 2.2.0-beta.4</span></li><li><span>Azure.Identity, 1.14.0</span></li><li><span>Microsoft.Azure.Cosmos, 3.51.0</span></li><li><span>Newtonsoft.Json, 13.0.3</span></li></ul></div></div>"
      ]
     },
     "metadata": {},
     "output_type": "display_data"
    }
   ],
   "source": [
    "#r \"nuget: Azure.AI.OpenAI, 2.2.0-beta.4\"\n",
    "#r \"nuget: Azure.Identity\"\n",
    "#r \"nuget: Azure\"\n",
    "#r \"nuget: Newtonsoft.Json\"\n",
    "#r \"nuget: Microsoft.Azure.Cosmos\"\n",
    "using Azure;\n",
    "using Azure.AI.OpenAI;\n",
    "using Azure.Identity;\n",
    "using OpenAI.Embeddings;\n",
    "using Newtonsoft.Json;\n",
    "using Newtonsoft.Json.Linq;\n",
    "using System.Net.Http;\n",
    "using System.Collections.ObjectModel;\n",
    "using Microsoft.Azure.Cosmos;"
   ]
  },
  {
   "cell_type": "code",
   "execution_count": 4,
   "metadata": {
    "polyglot_notebook": {
     "kernelName": "csharp"
    }
   },
   "outputs": [],
   "source": [
    "public class Post    \n",
    "{\n",
    "    public string id { get; set; }\n",
    "    public int PostId { get; set; }\n",
    "    public string PostBody { get; set; }\n",
    "    public string Title { get; set; }\n",
    "    public int ViewCount { get; set; }\n",
    "    public int AnswerCount { get; set; }\n",
    "    public int CommentCount { get; set; }\n",
    "    public int FavoriteCount { get; set; }\n",
    "    public int AcceptedAnswerId { get; set; }\n",
    "    public DateTime? CreatedOn { get; set; }\n",
    "    public DateTime? ClosedDate { get; set; }\n",
    "    public int OwnerUserId { get; set; }\n",
    "    public string OwnerDisplayName { get; set; }\n",
    "    public string PostType { get; set; }\n",
    "    public int Score { get; set; }\n",
    "    public string Tags { get; set; }\n",
    "    public float[] bodyvector {get;set;}\n",
    "    public string score {get;set;}\n",
    "}"
   ]
  },
  {
   "cell_type": "code",
   "execution_count": 5,
   "metadata": {
    "polyglot_notebook": {
     "kernelName": "csharp"
    }
   },
   "outputs": [],
   "source": [
    "var openAIClient = new AzureOpenAIClient(\n",
    "    new Uri(\"https://savranweb.openai.azure.com/\"),\n",
    "    new AzureKeyCredential(\"3Qg3P8Fw37qaN3ZtG2JJapZZVjBFTKvOIDaIYXoL5a5fduu3wz2XJQQJ99BDACYeBjFXJ3w3AAABACOGPUlQ\"));\n",
    "var aiclient = openAIClient.GetEmbeddingClient(\"embedding\");"
   ]
  },
  {
   "cell_type": "code",
   "execution_count": 6,
   "metadata": {
    "polyglot_notebook": {
     "kernelName": "csharp"
    }
   },
   "outputs": [],
   "source": [
    "var cstring = \"AccountEndpoint=https://localhost:8081/;AccountKey=C2y6yDjf5/R+ob0N8A7Cgv30VRDJIWEHLM+4QDU5DE2nQ9nDuVTqobD4b8mGGyPMbIZnqyMsEcaGQy67XIw/Jw==\";\n",
    "var client = new CosmosClient(cstring);\n",
    "var db = client.GetDatabase(\"StackOverflow\");\n",
    "var vectorContainer = db.GetContainer(\"VectorPosts\");"
   ]
  },
  {
   "cell_type": "code",
   "execution_count": 7,
   "metadata": {
    "polyglot_notebook": {
     "kernelName": "csharp"
    }
   },
   "outputs": [],
   "source": [
    "ReadOnlyMemory<float> GenerateVector(string text)\n",
    "{    \n",
    "    OpenAIEmbedding newembedding = aiclient.GenerateEmbedding(text);\n",
    "    return newembedding.ToFloats();\n",
    "}"
   ]
  },
  {
   "cell_type": "code",
   "execution_count": 8,
   "metadata": {
    "polyglot_notebook": {
     "kernelName": "csharp"
    }
   },
   "outputs": [
    {
     "name": "stdout",
     "output_type": "stream",
     "text": [
      "Found item:\t0.7777388909341105\tMechanisms for tracking DB schema changes\n",
      "Found item:\t0.7677463969900357\tHow to export data from SQL Server 2005 to MySQL\n",
      "Found item:\t0.7651077393713712\tHow big can a MySQL database get before performance starts to degrade\n",
      "Found item:\t0.763617532519128\tFlat file databases\n",
      "Found item:\t0.761934513560742\tAuto Generate Database Diagram MySQL\n",
      "Found item:\t0.7583703312360776\tCreate a SQLite database based on an XSD Data Set\n",
      "Found item:\t0.7567938514574106\tUpgrading SQL Server 6.5\n",
      "Found item:\t0.7556035359978679\tUsing multiple SQLite databases at once\n",
      "Found item:\t0.7549846896313734\tSpeed Comparisons - Procedural vs. OO in interpreted languages\n",
      "Found item:\t0.754364197857698\tBinary Data in MySQL\n"
     ]
    }
   ],
   "source": [
    "float[] embedding = GenerateVector(\"Find the common database topics?\").ToArray();\n",
    "  var queryDef = new QueryDefinition(\n",
    "      query: $\"SELECT TOP 10 c.PostBody, c.Title, VectorDistance(c.bodyvector,@embedding) AS score FROM c WHERE c.PostType ='Question' ORDER BY VectorDistance(c.bodyvector,@embedding)\"\n",
    "      ).WithParameter(\"@embedding\", embedding);\n",
    "  FeedIterator<Post> feed = vectorContainer.GetItemQueryIterator<Post>(\n",
    "      queryDefinition: queryDef\n",
    "  );\n",
    "  string results = \"\";  \n",
    "  while (feed.HasMoreResults) \n",
    "  {\n",
    "      FeedResponse<Post> response = await feed.ReadNextAsync();      \n",
    "      foreach (Post item in response)\n",
    "      {\n",
    "        results = string.Concat(results, item.PostBody,\"\\n\");\n",
    "        Console.WriteLine($\"Found item:\\t{item.score}\\t{item.Title}\");\n",
    "      }      \n",
    "  }\n",
    "//Console.WriteLine(results);"
   ]
  },
  {
   "cell_type": "code",
   "execution_count": 9,
   "metadata": {
    "polyglot_notebook": {
     "kernelName": "csharp"
    }
   },
   "outputs": [
    {
     "data": {
      "text/html": [
       "<div><div></div><div></div><div><strong>Installed Packages</strong><ul><li><span>Microsoft.SemanticKernel, 1.48.0</span></li><li><span>Microsoft.SemanticKernel.Connectors.AzureOpenAI, 1.48.0</span></li></ul></div></div>"
      ]
     },
     "metadata": {},
     "output_type": "display_data"
    }
   ],
   "source": [
    "#r \"nuget: Microsoft.SemanticKernel, 1.48.0\"\n",
    "#r \"nuget: Microsoft.SemanticKernel.Connectors.AzureOpenAI, 1.48.0\"\n",
    "\n",
    "using Microsoft.Extensions.DependencyInjection;\n",
    "using Microsoft.SemanticKernel;\n",
    "using Microsoft.SemanticKernel.Connectors.OpenAI;\n",
    "using Microsoft.SemanticKernel.ChatCompletion;"
   ]
  },
  {
   "cell_type": "code",
   "execution_count": 10,
   "metadata": {
    "polyglot_notebook": {
     "kernelName": "csharp"
    }
   },
   "outputs": [
    {
     "data": {
      "text/plain": [
       "The text discusses several database-related challenges and inquiries, including automating DB schema changes, migrating data between SQL Server and MySQL, performance considerations for large MySQL databases, and creating database diagrams. The author seeks solutions for automating database updates while using Subversion, migrating from SQL Server 2005 to MySQL, and improving MySQL performance with large data volumes. They also explore creating SQLite databases from XSD DataSets, upgrading SQL Server 6.5 to 2005, syncing SQLite databases, and choosing between Procedural and Object-Oriented programming in PHP and JavaScript. Additionally, the text touches on storing binary data in MySQL and finding tools for automatically generating database diagrams."
      ]
     },
     "metadata": {},
     "output_type": "display_data"
    }
   ],
   "source": [
    "var builder = Kernel.CreateBuilder();\n",
    "builder.AddAzureOpenAIChatCompletion(\"test4o\", \"https://savranweb.openai.azure.com/\", \"3Qg3P8Fw37qaN3ZtG2JJapZZVjBFTKvOIDaIYXoL5a5fduu3wz2XJQQJ99BDACYeBjFXJ3w3AAABACOGPUlQ\");\n",
    "Kernel kernel = builder.Build();\n",
    "var chatcompservice = kernel.Services.GetRequiredService<IChatCompletionService>();\n",
    "\n",
    "var chathistory = new ChatHistory();\n",
    "var executionsettings = new OpenAIPromptExecutionSettings { FunctionChoiceBehavior = FunctionChoiceBehavior.Auto() };\n",
    "executionsettings.ChatSystemPrompt = \"You are a helpful assistant. The given text is the result of a vector search. Summarize the text.\";\n",
    "\n",
    "\n",
    "chathistory.AddUserMessage(results);\n",
    "var result = await chatcompservice.GetChatMessageContentAsync(chathistory, executionsettings, kernel);\n",
    "result.Content.Display();"
   ]
  }
 ],
 "metadata": {
  "kernelspec": {
   "display_name": ".NET (C#)",
   "language": "C#",
   "name": ".net-csharp"
  },
  "polyglot_notebook": {
   "kernelInfo": {
    "defaultKernelName": "csharp",
    "items": [
     {
      "aliases": [],
      "languageName": "csharp",
      "name": "csharp"
     }
    ]
   }
  }
 },
 "nbformat": 4,
 "nbformat_minor": 5
}
