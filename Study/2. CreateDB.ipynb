{
 "cells": [
  {
   "cell_type": "markdown",
   "id": "ade228d4",
   "metadata": {},
   "source": [
    "You can use following functions to create one.\n",
    "CreateDatabaseAsync\n",
    "CreateDatabaseIfNotExistsAsync\n",
    "\n",
    "Database names can't be longer than 256 chars.\n",
    "Once created, the URL for database will be in following format:\n",
    "https://<account-name>.documents.azure.com/dbs/<db name>\n"
   ]
  },
  {
   "cell_type": "code",
   "execution_count": 3,
   "id": "424142d1",
   "metadata": {
    "polyglot_notebook": {
     "kernelName": "csharp"
    }
   },
   "outputs": [
    {
     "data": {
      "text/html": [
       "<div><div></div><div></div><div><strong>Installed Packages</strong><ul><li><span>Microsoft.Azure.Cosmos, 3.50.0</span></li><li><span>Newtonsoft.Json, 13.0.3</span></li></ul></div></div>"
      ]
     },
     "metadata": {},
     "output_type": "display_data"
    }
   ],
   "source": [
    "#r \"nuget: Newtonsoft.Json\"\n",
    "#r \"nuget: Microsoft.Azure.Cosmos\"\n",
    "using Microsoft.Azure.Cosmos;"
   ]
  },
  {
   "cell_type": "code",
   "execution_count": 4,
   "id": "5e3dd50b",
   "metadata": {
    "polyglot_notebook": {
     "kernelName": "csharp"
    }
   },
   "outputs": [],
   "source": [
    "var endpoint = \"https://localhost:8081\";\n",
    "var key =\"C2y6yDjf5/R+ob0N8A7Cgv30VRDJIWEHLM+4QDU5DE2nQ9nDuVTqobD4b8mGGyPMbIZnqyMsEcaGQy67XIw/Jw==\";\n",
    "var client = new CosmosClient(endpoint, key);"
   ]
  },
  {
   "cell_type": "markdown",
   "id": "238c0866",
   "metadata": {},
   "source": [
    "CreateDatabaseIfNotExistsAsync avoids errors if you run the same code multiple times."
   ]
  },
  {
   "cell_type": "markdown",
   "id": "5a27070b",
   "metadata": {},
   "source": [
    "Create Functions takes optional throughput parameter and requestOptions.\n",
    "Try to use throughput parameter in containers rather than databases for a better flexibility and scalability."
   ]
  },
  {
   "cell_type": "code",
   "execution_count": 5,
   "id": "076f2527",
   "metadata": {
    "polyglot_notebook": {
     "kernelName": "csharp"
    }
   },
   "outputs": [],
   "source": [
    "var newdb = await client.CreateDatabaseIfNotExistsAsync(\"dbname\");\n"
   ]
  },
  {
   "cell_type": "markdown",
   "id": "5fcf40ed",
   "metadata": {},
   "source": [
    "Databases in Azure Cosmos DB works like namespaces.\n",
    "Containers control most of the data scalability and settings.\n",
    "Following two functions for creating new containers under a database\n",
    "\n",
    "CreateContainerAsync\n",
    "CreateContainerIfNotExistsAsync\n",
    "\n",
    "Container name can't be longer than 256 chars.\n",
    "\n",
    "Once created, the URL for a container will be in following format:\n",
    "https://<account-name>.documents.azure.com/dbs/<dbname>/<containername>\n",
    "\n"
   ]
  },
  {
   "cell_type": "markdown",
   "id": "55e7601a",
   "metadata": {},
   "source": [
    "ContainerResponse object lets to get and set many settings of a container including Indexing Policies, Vector Policies. Check out the members of ContainerResponse in the following example."
   ]
  },
  {
   "cell_type": "code",
   "execution_count": 6,
   "id": "be16fa2f",
   "metadata": {
    "polyglot_notebook": {
     "kernelName": "csharp"
    }
   },
   "outputs": [
    {
     "data": {
      "text/html": [
       "<details open=\"open\" class=\"dni-treeview\"><summary><span class=\"dni-code-hint\"><code>Microsoft.Azure.Cosmos.ContainerResponse</code></span></summary><div><table><thead><tr></tr></thead><tbody><tr><td>Container</td><td><details class=\"dni-treeview\"><summary><span class=\"dni-code-hint\"><code>Microsoft.Azure.Cosmos.ContainerInlineCore</code></span></summary><div><table><thead><tr></tr></thead><tbody><tr><td>Id</td><td><div class=\"dni-plaintext\"><pre>contname</pre></div></td></tr><tr><td>Database</td><td><details class=\"dni-treeview\"><summary><span class=\"dni-code-hint\"><code>Microsoft.Azure.Cosmos.DatabaseInlineCore</code></span></summary><div><table><thead><tr></tr></thead><tbody><tr><td>Id</td><td><div class=\"dni-plaintext\"><pre>dbname</pre></div></td></tr><tr><td>Client</td><td><details class=\"dni-treeview\"><summary><span class=\"dni-code-hint\"><code>Microsoft.Azure.Cosmos.CosmosClient</code></span></summary><div><table><thead><tr></tr></thead><tbody><tr><td>ClientOptions</td><td><details class=\"dni-treeview\"><summary><span class=\"dni-code-hint\"><code>Microsoft.Azure.Cosmos.CosmosClientOptions</code></span></summary><div><table><thead><tr></tr></thead><tbody><tr><td>ApplicationName</td><td><div class=\"dni-plaintext\"><pre>&lt;null&gt;</pre></div></td></tr><tr><td>ApplicationRegion</td><td><div class=\"dni-plaintext\"><pre>&lt;null&gt;</pre></div></td></tr><tr><td>ApplicationPreferredRegions</td><td><div class=\"dni-plaintext\"><pre>&lt;null&gt;</pre></div></td></tr><tr><td>AccountInitializationCustomEndpoints</td><td><div class=\"dni-plaintext\"><pre>&lt;null&gt;</pre></div></td></tr><tr><td>GatewayModeMaxConnectionLimit</td><td><div class=\"dni-plaintext\"><pre>50</pre></div></td></tr><tr><td>RequestTimeout</td><td><span>00:00:06</span></td></tr><tr><td>TokenCredentialBackgroundRefreshInterval</td><td><div class=\"dni-plaintext\"><pre>&lt;null&gt;</pre></div></td></tr><tr><td>CustomHandlers</td><td><i>(empty)</i></td></tr><tr><td>ConnectionMode</td><td><span>Direct</span></td></tr><tr><td>ConsistencyLevel</td><td><div class=\"dni-plaintext\"><pre>&lt;null&gt;</pre></div></td></tr><tr><td>PriorityLevel</td><td><div class=\"dni-plaintext\"><pre>&lt;null&gt;</pre></div></td></tr><tr><td>MaxRetryAttemptsOnRateLimitedRequests</td><td><div class=\"dni-plaintext\"><pre>&lt;null&gt;</pre></div></td></tr><tr><td>MaxRetryWaitTimeOnRateLimitedRequests</td><td><div class=\"dni-plaintext\"><pre>&lt;null&gt;</pre></div></td></tr><tr><td>EnableContentResponseOnWrite</td><td><div class=\"dni-plaintext\"><pre>&lt;null&gt;</pre></div></td></tr><tr><td>UseSystemTextJsonSerializerWithOptions</td><td><div class=\"dni-plaintext\"><pre>&lt;null&gt;</pre></div></td></tr><tr><td>IdleTcpConnectionTimeout</td><td><div class=\"dni-plaintext\"><pre>&lt;null&gt;</pre></div></td></tr><tr><td>OpenTcpConnectionTimeout</td><td><div class=\"dni-plaintext\"><pre>&lt;null&gt;</pre></div></td></tr><tr><td>MaxRequestsPerTcpConnection</td><td><div class=\"dni-plaintext\"><pre>&lt;null&gt;</pre></div></td></tr><tr><td>MaxTcpConnectionsPerEndpoint</td><td><div class=\"dni-plaintext\"><pre>&lt;null&gt;</pre></div></td></tr><tr><td>PortReuseMode</td><td><div class=\"dni-plaintext\"><pre>&lt;null&gt;</pre></div></td></tr><tr><td>WebProxy</td><td><div class=\"dni-plaintext\"><pre>&lt;null&gt;</pre></div></td></tr><tr><td>SerializerOptions</td><td><div class=\"dni-plaintext\"><pre>&lt;null&gt;</pre></div></td></tr><tr><td>Serializer</td><td><details class=\"dni-treeview\"><summary><span class=\"dni-code-hint\"><code>Microsoft.Azure.Cosmos.CosmosJsonSerializerWrapper</code></span></summary><div><table><thead><tr></tr></thead><tbody></tbody></table></div></details></td></tr><tr><td>LimitToEndpoint</td><td><div class=\"dni-plaintext\"><pre>False</pre></div></td></tr><tr><td>AllowBulkExecution</td><td><div class=\"dni-plaintext\"><pre>False</pre></div></td></tr><tr><td>EnableTcpConnectionEndpointRediscovery</td><td><div class=\"dni-plaintext\"><pre>True</pre></div></td></tr><tr><td>HttpClientFactory</td><td><div class=\"dni-plaintext\"><pre>&lt;null&gt;</pre></div></td></tr><tr><td>AvailabilityStrategy</td><td><div class=\"dni-plaintext\"><pre>&lt;null&gt;</pre></div></td></tr><tr><td>ServerCertificateCustomValidationCallback</td><td><div class=\"dni-plaintext\"><pre>&lt;null&gt;</pre></div></td></tr><tr><td>CosmosClientTelemetryOptions</td><td><details class=\"dni-treeview\"><summary><span class=\"dni-code-hint\"><code>Microsoft.Azure.Cosmos.CosmosClientTelemetryOptions</code></span></summary><div><table><thead><tr></tr></thead><tbody><tr><td>DisableSendingMetricsToService</td><td>True</td></tr><tr><td>DisableDistributedTracing</td><td>True</td></tr><tr><td>CosmosThresholdOptions</td><td>Microsoft.Azure.Cosmos.CosmosThresholdOptions</td></tr><tr><td>QueryTextMode</td><td>None</td></tr></tbody></table></div></details></td></tr><tr><td>FaultInjector</td><td><div class=\"dni-plaintext\"><pre>&lt;null&gt;</pre></div></td></tr></tbody></table></div></details></td></tr><tr><td>ResponseFactory</td><td><details class=\"dni-treeview\"><summary><span class=\"dni-code-hint\"><code>Microsoft.Azure.Cosmos.CosmosResponseFactoryCore</code></span></summary><div><table><thead><tr></tr></thead><tbody></tbody></table></div></details></td></tr><tr><td>Endpoint</td><td><details class=\"dni-treeview\"><summary><span class=\"dni-code-hint\"><code>https://localhost:8081/</code></span></summary><div><table><thead><tr></tr></thead><tbody><tr><td>AbsolutePath</td><td><div class=\"dni-plaintext\"><pre>/</pre></div></td></tr><tr><td>AbsoluteUri</td><td><div class=\"dni-plaintext\"><pre>https://localhost:8081/</pre></div></td></tr><tr><td>LocalPath</td><td><div class=\"dni-plaintext\"><pre>/</pre></div></td></tr><tr><td>Authority</td><td><div class=\"dni-plaintext\"><pre>localhost:8081</pre></div></td></tr><tr><td>HostNameType</td><td><span>Dns</span></td></tr><tr><td>IsDefaultPort</td><td><div class=\"dni-plaintext\"><pre>False</pre></div></td></tr><tr><td>IsFile</td><td><div class=\"dni-plaintext\"><pre>False</pre></div></td></tr><tr><td>IsLoopback</td><td><div class=\"dni-plaintext\"><pre>True</pre></div></td></tr><tr><td>PathAndQuery</td><td><div class=\"dni-plaintext\"><pre>/</pre></div></td></tr><tr><td>Segments</td><td><div class=\"dni-plaintext\"><pre>[ / ]</pre></div></td></tr><tr><td>IsUnc</td><td><div class=\"dni-plaintext\"><pre>False</pre></div></td></tr><tr><td>Host</td><td><div class=\"dni-plaintext\"><pre>localhost</pre></div></td></tr><tr><td>Port</td><td><div class=\"dni-plaintext\"><pre>8081</pre></div></td></tr><tr><td>Query</td><td><div class=\"dni-plaintext\"><pre></pre></div></td></tr><tr><td>Fragment</td><td><div class=\"dni-plaintext\"><pre></pre></div></td></tr><tr><td>Scheme</td><td><div class=\"dni-plaintext\"><pre>https</pre></div></td></tr><tr><td>OriginalString</td><td><div class=\"dni-plaintext\"><pre>https://localhost:8081</pre></div></td></tr><tr><td>DnsSafeHost</td><td><div class=\"dni-plaintext\"><pre>localhost</pre></div></td></tr><tr><td>IdnHost</td><td><div class=\"dni-plaintext\"><pre>localhost</pre></div></td></tr><tr><td>IsAbsoluteUri</td><td><div class=\"dni-plaintext\"><pre>True</pre></div></td></tr><tr><td>UserEscaped</td><td><div class=\"dni-plaintext\"><pre>False</pre></div></td></tr><tr><td>UserInfo</td><td><div class=\"dni-plaintext\"><pre></pre></div></td></tr></tbody></table></div></details></td></tr></tbody></table></div></details></td></tr></tbody></table></div></details></td></tr><tr><td>LinkUri</td><td><div class=\"dni-plaintext\"><pre>dbs/dbname/colls/contname</pre></div></td></tr><tr><td>ClientContext</td><td><details class=\"dni-treeview\"><summary><span class=\"dni-code-hint\"><code>Microsoft.Azure.Cosmos.ClientContextCore</code></span></summary><div><table><thead><tr></tr></thead><tbody></tbody></table></div></details></td></tr><tr><td>BatchExecutor</td><td><div class=\"dni-plaintext\"><pre>&lt;null&gt;</pre></div></td></tr><tr><td>Conflicts</td><td><details class=\"dni-treeview\"><summary><span class=\"dni-code-hint\"><code>Microsoft.Azure.Cosmos.ConflictsInlineCore</code></span></summary><div><table><thead><tr></tr></thead><tbody></tbody></table></div></details></td></tr><tr><td>Scripts</td><td><details class=\"dni-treeview\"><summary><span class=\"dni-code-hint\"><code>Microsoft.Azure.Cosmos.Scripts.ScriptsInlineCore</code></span></summary><div><table><thead><tr></tr></thead><tbody></tbody></table></div></details></td></tr></tbody></table></div></details></td></tr><tr><td>Headers</td><td><details class=\"dni-treeview\"><summary><span class=\"dni-code-hint\"><code>[ Cache-Control, Pragma, Transfer-Encoding, Server, Access-Control-Allow-Origin, Access-Control-Allow-Credentials, x-ms-mtls-status, x-ms-activity-id, x-ms-last-state-change-utc, ETag, x-ms-schemaversion, collection-partition-index, collection-service-index, lsn, x-ms-request-charge, x-ms-content-path, x-ms-quorum-acked-lsn, x-ms-current-write-quorum, x-ms-current-replica-set-size, x-ms-documentdb-partitionkeyrangeid ... (more) ]</code></span></summary><div><table><thead><tr></tr></thead><tbody><tr><td>ContinuationToken</td><td><div class=\"dni-plaintext\"><pre>&lt;null&gt;</pre></div></td></tr><tr><td>RequestCharge</td><td><div class=\"dni-plaintext\"><pre>2</pre></div></td></tr><tr><td>ActivityId</td><td><div class=\"dni-plaintext\"><pre>c22de7c5-fd01-4f03-b8b5-319a31b0d790</pre></div></td></tr><tr><td>ETag</td><td><div class=\"dni-plaintext\"><pre>&quot;00000000-0000-0000-c42e-0bbf3b5101db&quot;</pre></div></td></tr><tr><td>ContentType</td><td><div class=\"dni-plaintext\"><pre>application/json</pre></div></td></tr><tr><td>Session</td><td><div class=\"dni-plaintext\"><pre>0:-1#1</pre></div></td></tr><tr><td>ContentLength</td><td><div class=\"dni-plaintext\"><pre>&lt;null&gt;</pre></div></td></tr><tr><td>Location</td><td><div class=\"dni-plaintext\"><pre>&lt;null&gt;</pre></div></td></tr><tr><td><i>(values)</i></td><td><table><thead><tr><th><i>index</i></th><th>value</th></tr></thead><tbody><tr><td>0</td><td><div class=\"dni-plaintext\"><pre>Cache-Control</pre></div></td></tr><tr><td>1</td><td><div class=\"dni-plaintext\"><pre>Pragma</pre></div></td></tr><tr><td>2</td><td><div class=\"dni-plaintext\"><pre>Transfer-Encoding</pre></div></td></tr><tr><td>3</td><td><div class=\"dni-plaintext\"><pre>Server</pre></div></td></tr><tr><td>4</td><td><div class=\"dni-plaintext\"><pre>Access-Control-Allow-Origin</pre></div></td></tr><tr><td>5</td><td><div class=\"dni-plaintext\"><pre>Access-Control-Allow-Credentials</pre></div></td></tr><tr><td>6</td><td><div class=\"dni-plaintext\"><pre>x-ms-mtls-status</pre></div></td></tr><tr><td>7</td><td><div class=\"dni-plaintext\"><pre>x-ms-activity-id</pre></div></td></tr><tr><td>8</td><td><div class=\"dni-plaintext\"><pre>x-ms-last-state-change-utc</pre></div></td></tr><tr><td>9</td><td><div class=\"dni-plaintext\"><pre>ETag</pre></div></td></tr><tr><td>10</td><td><div class=\"dni-plaintext\"><pre>x-ms-schemaversion</pre></div></td></tr><tr><td>11</td><td><div class=\"dni-plaintext\"><pre>collection-partition-index</pre></div></td></tr><tr><td>12</td><td><div class=\"dni-plaintext\"><pre>collection-service-index</pre></div></td></tr><tr><td>13</td><td><div class=\"dni-plaintext\"><pre>lsn</pre></div></td></tr><tr><td>14</td><td><div class=\"dni-plaintext\"><pre>x-ms-request-charge</pre></div></td></tr><tr><td>15</td><td><div class=\"dni-plaintext\"><pre>x-ms-content-path</pre></div></td></tr><tr><td>16</td><td><div class=\"dni-plaintext\"><pre>x-ms-quorum-acked-lsn</pre></div></td></tr><tr><td>17</td><td><div class=\"dni-plaintext\"><pre>x-ms-current-write-quorum</pre></div></td></tr><tr><td>18</td><td><div class=\"dni-plaintext\"><pre>x-ms-current-replica-set-size</pre></div></td></tr><tr><td>19</td><td><div class=\"dni-plaintext\"><pre>x-ms-documentdb-partitionkeyrangeid</pre></div></td></tr><tr><td colspan=\"2\"><i>... (more)</i></td></tr></tbody></table></td></tr></tbody></table></div></details></td></tr><tr><td>Resource</td><td><details class=\"dni-treeview\"><summary><span class=\"dni-code-hint\"><code>Microsoft.Azure.Cosmos.ContainerProperties</code></span></summary><div><table><thead><tr></tr></thead><tbody><tr><td>PartitionKeyDefinitionVersion</td><td><div class=\"dni-plaintext\"><pre>&lt;null&gt;</pre></div></td></tr><tr><td>ConflictResolutionPolicy</td><td><details class=\"dni-treeview\"><summary><span class=\"dni-code-hint\"><code>Microsoft.Azure.Cosmos.ConflictResolutionPolicy</code></span></summary><div><table><thead><tr></tr></thead><tbody><tr><td>Mode</td><td><span>LastWriterWins</span></td></tr><tr><td>ResolutionPath</td><td><div class=\"dni-plaintext\"><pre>/_ts</pre></div></td></tr><tr><td>ResolutionProcedure</td><td><div class=\"dni-plaintext\"><pre></pre></div></td></tr></tbody></table></div></details></td></tr><tr><td>Id</td><td><div class=\"dni-plaintext\"><pre>contname</pre></div></td></tr><tr><td>UniqueKeyPolicy</td><td><details class=\"dni-treeview\"><summary><span class=\"dni-code-hint\"><code>Microsoft.Azure.Cosmos.UniqueKeyPolicy</code></span></summary><div><table><thead><tr></tr></thead><tbody><tr><td>UniqueKeys</td><td><i>(empty)</i></td></tr></tbody></table></div></details></td></tr><tr><td>ETag</td><td><div class=\"dni-plaintext\"><pre>&quot;00000000-0000-0000-c42e-0bbf3b5101db&quot;</pre></div></td></tr><tr><td>LastModified</td><td><span>2025-05-13 17:39:58Z</span></td></tr><tr><td>ClientEncryptionPolicy</td><td><div class=\"dni-plaintext\"><pre>&lt;null&gt;</pre></div></td></tr><tr><td>IndexingPolicy</td><td><details class=\"dni-treeview\"><summary><span class=\"dni-code-hint\"><code>Microsoft.Azure.Cosmos.IndexingPolicy</code></span></summary><div><table><thead><tr></tr></thead><tbody><tr><td>Automatic</td><td><div class=\"dni-plaintext\"><pre>True</pre></div></td></tr><tr><td>IndexingMode</td><td><span>Consistent</span></td></tr><tr><td>IncludedPaths</td><td><table><thead><tr><th><i>index</i></th><th>value</th></tr></thead><tbody><tr><td>0</td><td><details class=\"dni-treeview\"><summary><span class=\"dni-code-hint\"><code>Microsoft.Azure.Cosmos.IncludedPath</code></span></summary><div><table><thead><tr></tr></thead><tbody><tr><td>Path</td><td><div class=\"dni-plaintext\"><pre>/*</pre></div></td></tr></tbody></table></div></details></td></tr></tbody></table></td></tr><tr><td>ExcludedPaths</td><td><table><thead><tr><th><i>index</i></th><th>value</th></tr></thead><tbody><tr><td>0</td><td><details class=\"dni-treeview\"><summary><span class=\"dni-code-hint\"><code>Microsoft.Azure.Cosmos.ExcludedPath</code></span></summary><div><table><thead><tr></tr></thead><tbody><tr><td>Path</td><td><div class=\"dni-plaintext\"><pre>/&quot;_etag&quot;/?</pre></div></td></tr></tbody></table></div></details></td></tr></tbody></table></td></tr><tr><td>CompositeIndexes</td><td><i>(empty)</i></td></tr><tr><td>SpatialIndexes</td><td><i>(empty)</i></td></tr><tr><td>VectorIndexes</td><td><i>(empty)</i></td></tr><tr><td>FullTextIndexes</td><td><i>(empty)</i></td></tr></tbody></table></div></details></td></tr><tr><td>VectorEmbeddingPolicy</td><td><div class=\"dni-plaintext\"><pre>&lt;null&gt;</pre></div></td></tr><tr><td>ComputedProperties</td><td><i>(empty)</i></td></tr><tr><td>FullTextPolicy</td><td><div class=\"dni-plaintext\"><pre>&lt;null&gt;</pre></div></td></tr><tr><td>GeospatialConfig</td><td><details class=\"dni-treeview\"><summary><span class=\"dni-code-hint\"><code>Microsoft.Azure.Cosmos.GeospatialConfig</code></span></summary><div><table><thead><tr></tr></thead><tbody><tr><td>GeospatialType</td><td><span>Geography</span></td></tr></tbody></table></div></details></td></tr><tr><td>PartitionKeyPath</td><td><div class=\"dni-plaintext\"><pre>/pkey</pre></div></td></tr><tr><td>PartitionKeyPaths</td><td><div class=\"dni-plaintext\"><pre>[ /pkey ]</pre></div></td></tr><tr><td>TimeToLivePropertyPath</td><td><div class=\"dni-plaintext\"><pre>&lt;null&gt;</pre></div></td></tr><tr><td>DefaultTimeToLive</td><td><div class=\"dni-plaintext\"><pre>&lt;null&gt;</pre></div></td></tr><tr><td>AnalyticalStoreTimeToLiveInSeconds</td><td><div class=\"dni-plaintext\"><pre>&lt;null&gt;</pre></div></td></tr><tr><td>SelfLink</td><td><div class=\"dni-plaintext\"><pre>dbs/1+JFAA==/colls/1+JFAMF2Ct0=/</pre></div></td></tr></tbody></table></div></details></td></tr><tr><td>StatusCode</td><td><span>OK</span></td></tr><tr><td>Diagnostics</td><td><details class=\"dni-treeview\"><summary><span class=\"dni-code-hint\"><code>{&quot;Summary&quot;:{&quot;GatewayCalls&quot;:{&quot;(200, 0)&quot;:1}},&quot;name&quot;:&quot;CreateContainerIfNotExistsAsync&quot;,&quot;start datetime&quot;:&quot;2025-05-13T17:48:38.519Z&quot;,&quot;duration in milliseconds&quot;:75.0803,&quot;data&quot;:{&quot;Client Configuration&quot;:{&quot;Client Created Time Utc&quot;:&quot;2025-05-13T17:48:34.3421641Z&quot;,&quot;MachineId&quot;:&quot;hashedMachineName:854b5717-0c71-e58...</code></span></summary><div><table><thead><tr></tr></thead><tbody><tr><td>Value</td><td><details class=\"dni-treeview\"><summary><span class=\"dni-code-hint\"><code>Microsoft.Azure.Cosmos.Tracing.Trace</code></span></summary><div><table><thead><tr></tr></thead><tbody><tr><td>Name</td><td><div class=\"dni-plaintext\"><pre>CreateContainerIfNotExistsAsync</pre></div></td></tr><tr><td>Id</td><td><div class=\"dni-plaintext\"><pre>c7d0f3bd-1282-4284-90a5-7a8f0d5b07a7</pre></div></td></tr><tr><td>StartTime</td><td><span>2025-05-13 17:48:38Z</span></td></tr><tr><td>Duration</td><td><span>00:00:00.0750803</span></td></tr><tr><td>Level</td><td><span>Info</span></td></tr><tr><td>Component</td><td><span>Transport</span></td></tr><tr><td>Summary</td><td><details class=\"dni-treeview\"><summary><span class=\"dni-code-hint\"><code>Microsoft.Azure.Cosmos.Tracing.TraceSummary</code></span></summary><div><table><thead><tr></tr></thead><tbody><tr><td>RegionsContacted</td><td><i>(empty)</i></td></tr></tbody></table></div></details></td></tr><tr><td>Parent</td><td><div class=\"dni-plaintext\"><pre>&lt;null&gt;</pre></div></td></tr><tr><td>Children</td><td><table><thead><tr><th><i>index</i></th><th>value</th></tr></thead><tbody><tr><td>0</td><td><details class=\"dni-treeview\"><summary><span class=\"dni-code-hint\"><code>Microsoft.Azure.Cosmos.Tracing.Trace</code></span></summary><div><table><thead><tr></tr></thead><tbody><tr><td>Name</td><td><div class=\"dni-plaintext\"><pre>Microsoft.Azure.Cosmos.Handlers.RequestInvokerHandler</pre></div></td></tr><tr><td>Id</td><td><div class=\"dni-plaintext\"><pre>18f08b22-86c6-4633-a16c-ec671688fb3a</pre></div></td></tr><tr><td>StartTime</td><td><span>2025-05-13 17:48:38Z</span></td></tr><tr><td>Duration</td><td><span>00:00:00.0459333</span></td></tr><tr><td>Level</td><td><span>Info</span></td></tr><tr><td>Component</td><td><span>RequestHandler</span></td></tr><tr><td>Summary</td><td><details class=\"dni-treeview\"><summary><span class=\"dni-code-hint\"><code>Microsoft.Azure.Cosmos.Tracing.TraceSummary</code></span></summary><div><table><thead><tr></tr></thead><tbody><tr><td>RegionsContacted</td><td>[  ]</td></tr></tbody></table></div></details></td></tr><tr><td>Parent</td><td><details class=\"dni-treeview\"><summary><span class=\"dni-code-hint\"><code>Microsoft.Azure.Cosmos.Tracing.Trace</code></span></summary><div><table><thead><tr></tr></thead><tbody><tr><td>Name</td><td>CreateContainerIfNotExistsAsync</td></tr><tr><td>Id</td><td>c7d0f3bd-1282-4284-90a5-7a8f0d5b07a7</td></tr><tr><td>StartTime</td><td>5/13/2025 5:48:38 PM</td></tr><tr><td>Duration</td><td>00:00:00.0750803</td></tr><tr><td>Level</td><td>Info</td></tr><tr><td>Component</td><td>Transport</td></tr><tr><td>Summary</td><td>Microsoft.Azure.Cosmos.Tracing.TraceSummary</td></tr><tr><td>Parent</td><td><div class=\"dni-plaintext\"><pre>&lt;null&gt;</pre></div></td></tr><tr><td>Children</td><td>[ Microsoft.Azure.Cosmos.Tracing.Trace, Microsoft.Azure.Cosmos.Tracing.Trace ]</td></tr><tr><td>Data</td><td>[ [Client Configuration, Microsoft.Azure.Cosmos.Tracing.TraceData.ClientConfigurationTraceDatum] ]</td></tr></tbody></table></div></details></td></tr><tr><td>Children</td><td><table><thead><tr><th><i>index</i></th><th>value</th></tr></thead><tbody><tr><td>0</td><td>Microsoft.Azure.Cosmos.Tracing.Trace</td></tr></tbody></table></td></tr><tr><td>Data</td><td><i>(empty)</i></td></tr></tbody></table></div></details></td></tr><tr><td>1</td><td><details class=\"dni-treeview\"><summary><span class=\"dni-code-hint\"><code>Microsoft.Azure.Cosmos.Tracing.Trace</code></span></summary><div><table><thead><tr></tr></thead><tbody><tr><td>Name</td><td><div class=\"dni-plaintext\"><pre>Response Serialization</pre></div></td></tr><tr><td>Id</td><td><div class=\"dni-plaintext\"><pre>872dda76-d511-44c9-8435-372bd7ca6ca5</pre></div></td></tr><tr><td>StartTime</td><td><span>2025-05-13 17:48:38Z</span></td></tr><tr><td>Duration</td><td><span>00:00:00.0140791</span></td></tr><tr><td>Level</td><td><span>Verbose</span></td></tr><tr><td>Component</td><td><span>Transport</span></td></tr><tr><td>Summary</td><td><details class=\"dni-treeview\"><summary><span class=\"dni-code-hint\"><code>Microsoft.Azure.Cosmos.Tracing.TraceSummary</code></span></summary><div><table><thead><tr></tr></thead><tbody><tr><td>RegionsContacted</td><td>[  ]</td></tr></tbody></table></div></details></td></tr><tr><td>Parent</td><td><details class=\"dni-treeview\"><summary><span class=\"dni-code-hint\"><code>Microsoft.Azure.Cosmos.Tracing.Trace</code></span></summary><div><table><thead><tr></tr></thead><tbody><tr><td>Name</td><td>CreateContainerIfNotExistsAsync</td></tr><tr><td>Id</td><td>c7d0f3bd-1282-4284-90a5-7a8f0d5b07a7</td></tr><tr><td>StartTime</td><td>5/13/2025 5:48:38 PM</td></tr><tr><td>Duration</td><td>00:00:00.0750803</td></tr><tr><td>Level</td><td>Info</td></tr><tr><td>Component</td><td>Transport</td></tr><tr><td>Summary</td><td>Microsoft.Azure.Cosmos.Tracing.TraceSummary</td></tr><tr><td>Parent</td><td><div class=\"dni-plaintext\"><pre>&lt;null&gt;</pre></div></td></tr><tr><td>Children</td><td>[ Microsoft.Azure.Cosmos.Tracing.Trace, Microsoft.Azure.Cosmos.Tracing.Trace ]</td></tr><tr><td>Data</td><td>[ [Client Configuration, Microsoft.Azure.Cosmos.Tracing.TraceData.ClientConfigurationTraceDatum] ]</td></tr></tbody></table></div></details></td></tr><tr><td>Children</td><td><i>(empty)</i></td></tr><tr><td>Data</td><td><i>(empty)</i></td></tr></tbody></table></div></details></td></tr></tbody></table></td></tr><tr><td>Data</td><td><table><thead><tr><th><i>key</i></th><th>value</th></tr></thead><tbody><tr><td><div class=\"dni-plaintext\"><pre>Client Configuration</pre></div></td><td><details class=\"dni-treeview\"><summary><span class=\"dni-code-hint\"><code>Microsoft.Azure.Cosmos.Tracing.TraceData.ClientConfigurationTraceDatum</code></span></summary><div><table><thead><tr></tr></thead><tbody><tr><td>ClientCreatedDateTimeUtc</td><td><span>2025-05-13 17:48:34Z</span></td></tr><tr><td>GatewayConnectionConfig</td><td><details class=\"dni-treeview\"><summary><span class=\"dni-code-hint\"><code>(cps:50, urto:6, p:False, httpf: False)</code></span></summary><div><table><thead><tr></tr></thead><tbody><tr><td>MaxConnectionLimit</td><td>50</td></tr><tr><td>UserRequestTimeout</td><td>6</td></tr><tr><td>IsWebProxyConfigured</td><td>False</td></tr><tr><td>IsHttpClientFactoryConfigured</td><td>False</td></tr></tbody></table></div></details></td></tr><tr><td>RntbdConnectionConfig</td><td><details class=\"dni-treeview\"><summary><span class=\"dni-code-hint\"><code>(cto: 5, icto: -1, mrpc: 30, mcpe: 65535, erd: True, pr: ReuseUnicastPort)</code></span></summary><div><table><thead><tr></tr></thead><tbody><tr><td>ConnectionTimeout</td><td>5</td></tr><tr><td>IdleConnectionTimeout</td><td>-1</td></tr><tr><td>MaxRequestsPerChannel</td><td>30</td></tr><tr><td>MaxRequestsPerEndpoint</td><td>65535</td></tr><tr><td>TcpEndpointRediscovery</td><td>True</td></tr><tr><td>PortReuseMode</td><td>ReuseUnicastPort</td></tr></tbody></table></div></details></td></tr><tr><td>OtherConnectionConfig</td><td><details class=\"dni-treeview\"><summary><span class=\"dni-code-hint\"><code>(ed:False, be:False)</code></span></summary><div><table><thead><tr></tr></thead><tbody><tr><td>LimitToEndpoint</td><td>False</td></tr><tr><td>AllowBulkExecution</td><td>False</td></tr></tbody></table></div></details></td></tr><tr><td>ConsistencyConfig</td><td><details class=\"dni-treeview\"><summary><span class=\"dni-code-hint\"><code>(consistency: NotSet, prgns:[], apprgn: )</code></span></summary><div><table><thead><tr></tr></thead><tbody><tr><td>ConsistencyLevel</td><td><div class=\"dni-plaintext\"><pre>&lt;null&gt;</pre></div></td></tr><tr><td>PreferredRegions</td><td><div class=\"dni-plaintext\"><pre>&lt;null&gt;</pre></div></td></tr><tr><td>ApplicationRegion</td><td><div class=\"dni-plaintext\"><pre>&lt;null&gt;</pre></div></td></tr></tbody></table></div></details></td></tr><tr><td>ProcessorCount</td><td><div class=\"dni-plaintext\"><pre>16</pre></div></td></tr><tr><td>ConnectionMode</td><td><span>Direct</span></td></tr><tr><td>SerializedJson</td><td>[ 123, 34, 67, 108, 105, 101, 110, 116, 32, 67, 114, 101, 97, 116, 101, 100, 32, 84, 105, 109 ... (548 more) ]</td></tr></tbody></table></div></details></td></tr></tbody></table></td></tr></tbody></table></div></details></td></tr></tbody></table></div></details></td></tr><tr><td>RequestCharge</td><td><div class=\"dni-plaintext\"><pre>2</pre></div></td></tr><tr><td>ActivityId</td><td><div class=\"dni-plaintext\"><pre>c22de7c5-fd01-4f03-b8b5-319a31b0d790</pre></div></td></tr><tr><td>ETag</td><td><div class=\"dni-plaintext\"><pre>&quot;00000000-0000-0000-c42e-0bbf3b5101db&quot;</pre></div></td></tr></tbody></table></div></details><style>\r\n",
       ".dni-code-hint {\r\n",
       "    font-style: italic;\r\n",
       "    overflow: hidden;\r\n",
       "    white-space: nowrap;\r\n",
       "}\r\n",
       ".dni-treeview {\r\n",
       "    white-space: nowrap;\r\n",
       "}\r\n",
       ".dni-treeview td {\r\n",
       "    vertical-align: top;\r\n",
       "    text-align: start;\r\n",
       "}\r\n",
       "details.dni-treeview {\r\n",
       "    padding-left: 1em;\r\n",
       "}\r\n",
       "table td {\r\n",
       "    text-align: start;\r\n",
       "}\r\n",
       "table tr { \r\n",
       "    vertical-align: top; \r\n",
       "    margin: 0em 0px;\r\n",
       "}\r\n",
       "table tr td pre \r\n",
       "{ \r\n",
       "    vertical-align: top !important; \r\n",
       "    margin: 0em 0px !important;\r\n",
       "} \r\n",
       "table th {\r\n",
       "    text-align: start;\r\n",
       "}\r\n",
       "</style>"
      ]
     },
     "metadata": {},
     "output_type": "display_data"
    }
   ],
   "source": [
    "var db = client.GetDatabase(\"dbname\");    \n",
    "var response = await db.CreateContainerIfNotExistsAsync(\"contname\", \"/pkey\", 1000);\n",
    "response.Display();"
   ]
  },
  {
   "cell_type": "markdown",
   "id": "d3fba615",
   "metadata": {},
   "source": []
  }
 ],
 "metadata": {
  "kernelspec": {
   "display_name": ".NET (C#)",
   "language": "C#",
   "name": ".net-csharp"
  },
  "polyglot_notebook": {
   "kernelInfo": {
    "defaultKernelName": "csharp",
    "items": [
     {
      "aliases": [],
      "languageName": "csharp",
      "name": "csharp"
     }
    ]
   }
  }
 },
 "nbformat": 4,
 "nbformat_minor": 5
}
