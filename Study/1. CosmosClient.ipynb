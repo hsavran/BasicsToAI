{
 "cells": [
  {
   "cell_type": "code",
   "execution_count": 1,
   "id": "45c63877",
   "metadata": {
    "polyglot_notebook": {
     "kernelName": "csharp"
    }
   },
   "outputs": [
    {
     "data": {
      "text/html": [
       "<div><div></div><div></div><div><strong>Installed Packages</strong><ul><li><span>Microsoft.Azure.Cosmos, 3.51.0</span></li><li><span>Newtonsoft.Json, 13.0.3</span></li></ul></div></div>"
      ]
     },
     "metadata": {},
     "output_type": "display_data"
    }
   ],
   "source": [
    "#r \"nuget: Newtonsoft.Json\"\n",
    "#r \"nuget: Microsoft.Azure.Cosmos\"\n",
    "using Microsoft.Azure.Cosmos;\n",
    "using System.Net.Http;"
   ]
  },
  {
   "cell_type": "markdown",
   "id": "08436dda",
   "metadata": {},
   "source": [
    "CosmosClient is the door of your application to the Azure Cosmos DB\n",
    "You want to declare it once and use it for all your Azure Cosmos DB calls. (Use Singleton methods)\n",
    "CosmosClientOptions has many great options you might want to utilize depending on your application.\n",
    "\n",
    "AllowBulkExecution:             Optimistics batching of requests to service. \n",
    "                                Set this option True if you are doing BULK operations. It might impact the latency of operations.\n",
    "                                Keep it False for Operational operations.\n",
    "\n",
    "ApplicationName:                Sets the user-agent suffix for all Cosmos DB interaction.\n",
    "\n",
    "ApplicationRegion:              Location where the application is running.\n",
    "\n",
    "ApplicationPreferredRegions:    List of Preferred Azure Regions to use.\n",
    "\n",
    "AvailabilityStrategy:           If you have high availability, you can control when application should call different Azure region.\n",
    "                                CrossRegionHedgingStrategy(threshold, thresholdstep)\n",
    "                                When a request takes longer than the threshold time, SDK will try the second region in the app preferred list.\n",
    "                                If request is not received from the 2nd one after the threshold step time, SDK will try the third region.\n",
    "\n",
    "ConnectionMode:                 ConnectionMode.Gateway | ConnectionMode.Direct\n",
    "                                You need to use Gateway mode if you use Dedicated Gateway Server for caching.\n",
    "                                Gateway mode is firewall friendly but slower than Direct mode.\n",
    "\n",
    "ConsistencyLevel:               This can be used to weaken the db account consistency level for READ operations.\n",
    "\n",
    "EnableContentResponseWrite:     False will cause the WRITE Operations response to have a NULL value.\n",
    "                                Response packages will be lighter, Reduces Networking, CPU load.\n",
    "\n",
    "GatewayModeMaxConnectionLimit:  Max number of concurrent connections allowed. Default is 50\n",
    "\n",
    "IdleTcpConnectionTimeout:       This is valid for Direct Connection Modes. Default is no limit.\n",
    "                                Value must be 10 minutes or larger. Recommended vals are between 20 min and 24 hours.\n",
    "\n",
    "LimitToEndpoint:                ApplicationRegion or ApplicationPreferredRegions will not be used.\n",
    "\n",
    "MaxRequestsPerTcpConnection:    Valid for Direct Connections. The Default value is 30 simultaneous requests per connection.\n",
    "                                Do not set this lower than 4 requests or higher than 50-100 requests per connection.\n",
    "                                The former can lead to a large number of connection to be created.\n",
    "                                The latter can lead to head of line blocking, high latency, and timeouts.\n",
    "\n",
    "MaxRetryAttemptsOnRateLimitedRequests   Default is 9. Request will be issued for a max 10 times to the server before an error(429) occurs.\n",
    "                                        0 means there will be no automatic retries.\n",
    "                                        \n",
    "MaxRetryWaitTimeOnRateLimitedRequests   Default is 30 seconds.\n",
    "                                        When a request fails due to a rate limiting error, the service sends back a response that contains a value indicating the client should not retry before the RetryAfter time period has elapsed.\n",
    "                                        This property allows the application to set a maximum wait time for all retry attempts. If the cumulative wait time exceeds the this value, the client will stop retrying and return the error to the application.\n",
    "\n",
    "MaxTcpConnectionsPerEndpoint    Valid for Direct Connections. Default value is 65,535. Value must be greater than 15\n",
    "                                (Direct/TCP) Controls the maximum number of TCP connections that may be opened to each Cosmos DB back-end. Together with MaxRequestsPerTcpConnection, this setting limits the number of requests that are simultaneously sent to a single Cosmos DB back-end(MaxRequestsPerTcpConnection x MaxTcpConnectionPerEndpoint).                    \n",
    "\n",
    "OpenTcpConnectionTimeout        Valid for Direct Connections. The Default value is 5 seconds.\n",
    "                                It Controls the amount of time allowed for trying to establish a connection.\n",
    "                                For latency sensitive applications that prefer to retry faster, a recommended value of 1 second can be used.\n",
    "\n",
    "RequestTimeout:                 Default is 6 seconds. The number specifies the time to wait for response to come back from network peer.\n",
    "\n",
    "WebProxy:                       Valid for Gateway Connections. Gets or sets the proxy information used for web requests"
   ]
  },
  {
   "cell_type": "code",
   "execution_count": 2,
   "metadata": {
    "polyglot_notebook": {
     "kernelName": "csharp"
    }
   },
   "outputs": [],
   "source": [
    "CosmosClientOptions options = new CosmosClientOptions\n",
    "{\n",
    "    AllowBulkExecution = false,\n",
    "    ApplicationName = \"CosmosDBDemo\",\n",
    "    ApplicationRegion = \"East US\", \n",
    "    AvailabilityStrategy = AvailabilityStrategy.CrossRegionHedgingStrategy(threshold: TimeSpan.FromMilliseconds(500), thresholdStep: TimeSpan.FromMilliseconds(100)),\n",
    "    ConsistencyLevel = ConsistencyLevel.Session,\n",
    "    EnableContentResponseOnWrite = false,    \n",
    "    RequestTimeout = TimeSpan.FromSeconds(30),    \n",
    "    ConnectionMode = ConnectionMode.Gateway,\n",
    "    MaxRetryAttemptsOnRateLimitedRequests = 5,\n",
    "    MaxRetryWaitTimeOnRateLimitedRequests = TimeSpan.FromSeconds(30)    \n",
    "};"
   ]
  },
  {
   "cell_type": "code",
   "execution_count": 3,
   "id": "79c29a5f",
   "metadata": {
    "polyglot_notebook": {
     "kernelName": "csharp"
    }
   },
   "outputs": [
    {
     "data": {
      "text/html": [
       "<details open=\"open\" class=\"dni-treeview\"><summary><span class=\"dni-code-hint\"><code>Microsoft.Azure.Cosmos.CosmosClient</code></span></summary><div><table><thead><tr></tr></thead><tbody><tr><td>ClientOptions</td><td><details class=\"dni-treeview\"><summary><span class=\"dni-code-hint\"><code>Microsoft.Azure.Cosmos.CosmosClientOptions</code></span></summary><div><table><thead><tr></tr></thead><tbody><tr><td>ApplicationName</td><td><div class=\"dni-plaintext\"><pre>CosmosDBDemo</pre></div></td></tr><tr><td>ApplicationRegion</td><td><div class=\"dni-plaintext\"><pre>East US</pre></div></td></tr><tr><td>ApplicationPreferredRegions</td><td><div class=\"dni-plaintext\"><pre>&lt;null&gt;</pre></div></td></tr><tr><td>AccountInitializationCustomEndpoints</td><td><div class=\"dni-plaintext\"><pre>&lt;null&gt;</pre></div></td></tr><tr><td>GatewayModeMaxConnectionLimit</td><td><div class=\"dni-plaintext\"><pre>50</pre></div></td></tr><tr><td>RequestTimeout</td><td><span>00:00:30</span></td></tr><tr><td>TokenCredentialBackgroundRefreshInterval</td><td><div class=\"dni-plaintext\"><pre>&lt;null&gt;</pre></div></td></tr><tr><td>CustomHandlers</td><td><i>(empty)</i></td></tr><tr><td>ConnectionMode</td><td><span>Gateway</span></td></tr><tr><td>ConsistencyLevel</td><td><span>Session</span></td></tr><tr><td>PriorityLevel</td><td><div class=\"dni-plaintext\"><pre>&lt;null&gt;</pre></div></td></tr><tr><td>MaxRetryAttemptsOnRateLimitedRequests</td><td><div class=\"dni-plaintext\"><pre>5</pre></div></td></tr><tr><td>MaxRetryWaitTimeOnRateLimitedRequests</td><td><span>00:00:30</span></td></tr><tr><td>EnableContentResponseOnWrite</td><td><div class=\"dni-plaintext\"><pre>False</pre></div></td></tr><tr><td>UseSystemTextJsonSerializerWithOptions</td><td><div class=\"dni-plaintext\"><pre>&lt;null&gt;</pre></div></td></tr><tr><td>IdleTcpConnectionTimeout</td><td><div class=\"dni-plaintext\"><pre>&lt;null&gt;</pre></div></td></tr><tr><td>OpenTcpConnectionTimeout</td><td><div class=\"dni-plaintext\"><pre>&lt;null&gt;</pre></div></td></tr><tr><td>MaxRequestsPerTcpConnection</td><td><div class=\"dni-plaintext\"><pre>&lt;null&gt;</pre></div></td></tr><tr><td>MaxTcpConnectionsPerEndpoint</td><td><div class=\"dni-plaintext\"><pre>&lt;null&gt;</pre></div></td></tr><tr><td>PortReuseMode</td><td><div class=\"dni-plaintext\"><pre>&lt;null&gt;</pre></div></td></tr><tr><td>WebProxy</td><td><div class=\"dni-plaintext\"><pre>&lt;null&gt;</pre></div></td></tr><tr><td>SerializerOptions</td><td><div class=\"dni-plaintext\"><pre>&lt;null&gt;</pre></div></td></tr><tr><td>Serializer</td><td><details class=\"dni-treeview\"><summary><span class=\"dni-code-hint\"><code>Microsoft.Azure.Cosmos.CosmosJsonSerializerWrapper</code></span></summary><div><table><thead><tr></tr></thead><tbody></tbody></table></div></details></td></tr><tr><td>LimitToEndpoint</td><td><div class=\"dni-plaintext\"><pre>False</pre></div></td></tr><tr><td>AllowBulkExecution</td><td><div class=\"dni-plaintext\"><pre>False</pre></div></td></tr><tr><td>EnableTcpConnectionEndpointRediscovery</td><td><div class=\"dni-plaintext\"><pre>True</pre></div></td></tr><tr><td>HttpClientFactory</td><td><div class=\"dni-plaintext\"><pre>&lt;null&gt;</pre></div></td></tr><tr><td>AvailabilityStrategy</td><td><details class=\"dni-treeview\"><summary><span class=\"dni-code-hint\"><code>Microsoft.Azure.Cosmos.CrossRegionHedgingAvailabilityStrategy</code></span></summary><div><table><thead><tr></tr></thead><tbody><tr><td>Threshold</td><td><span>00:00:00.5000000</span></td></tr><tr><td>ThresholdStep</td><td><span>00:00:00.1000000</span></td></tr><tr><td>EnableMultiWriteRegionHedge</td><td><div class=\"dni-plaintext\"><pre>False</pre></div></td></tr></tbody></table></div></details></td></tr><tr><td>ServerCertificateCustomValidationCallback</td><td><div class=\"dni-plaintext\"><pre>&lt;null&gt;</pre></div></td></tr><tr><td>CosmosClientTelemetryOptions</td><td><details class=\"dni-treeview\"><summary><span class=\"dni-code-hint\"><code>Microsoft.Azure.Cosmos.CosmosClientTelemetryOptions</code></span></summary><div><table><thead><tr></tr></thead><tbody><tr><td>DisableSendingMetricsToService</td><td><div class=\"dni-plaintext\"><pre>True</pre></div></td></tr><tr><td>DisableDistributedTracing</td><td><div class=\"dni-plaintext\"><pre>True</pre></div></td></tr><tr><td>CosmosThresholdOptions</td><td><details class=\"dni-treeview\"><summary><span class=\"dni-code-hint\"><code>Microsoft.Azure.Cosmos.CosmosThresholdOptions</code></span></summary><div><table><thead><tr></tr></thead><tbody><tr><td>NonPointOperationLatencyThreshold</td><td><span>00:00:03</span></td></tr><tr><td>PointOperationLatencyThreshold</td><td><span>00:00:01</span></td></tr><tr><td>RequestChargeThreshold</td><td><div class=\"dni-plaintext\"><pre>&lt;null&gt;</pre></div></td></tr><tr><td>PayloadSizeThresholdInBytes</td><td><div class=\"dni-plaintext\"><pre>&lt;null&gt;</pre></div></td></tr></tbody></table></div></details></td></tr><tr><td>QueryTextMode</td><td><span>None</span></td></tr></tbody></table></div></details></td></tr><tr><td>FaultInjector</td><td><div class=\"dni-plaintext\"><pre>&lt;null&gt;</pre></div></td></tr></tbody></table></div></details></td></tr><tr><td>ResponseFactory</td><td><details class=\"dni-treeview\"><summary><span class=\"dni-code-hint\"><code>Microsoft.Azure.Cosmos.CosmosResponseFactoryCore</code></span></summary><div><table><thead><tr></tr></thead><tbody></tbody></table></div></details></td></tr><tr><td>Endpoint</td><td><details class=\"dni-treeview\"><summary><span class=\"dni-code-hint\"><code>https://localhost:8081/</code></span></summary><div><table><thead><tr></tr></thead><tbody><tr><td>AbsolutePath</td><td><div class=\"dni-plaintext\"><pre>/</pre></div></td></tr><tr><td>AbsoluteUri</td><td><div class=\"dni-plaintext\"><pre>https://localhost:8081/</pre></div></td></tr><tr><td>LocalPath</td><td><div class=\"dni-plaintext\"><pre>/</pre></div></td></tr><tr><td>Authority</td><td><div class=\"dni-plaintext\"><pre>localhost:8081</pre></div></td></tr><tr><td>HostNameType</td><td><span>Dns</span></td></tr><tr><td>IsDefaultPort</td><td><div class=\"dni-plaintext\"><pre>False</pre></div></td></tr><tr><td>IsFile</td><td><div class=\"dni-plaintext\"><pre>False</pre></div></td></tr><tr><td>IsLoopback</td><td><div class=\"dni-plaintext\"><pre>True</pre></div></td></tr><tr><td>PathAndQuery</td><td><div class=\"dni-plaintext\"><pre>/</pre></div></td></tr><tr><td>Segments</td><td><div class=\"dni-plaintext\"><pre>[ / ]</pre></div></td></tr><tr><td>IsUnc</td><td><div class=\"dni-plaintext\"><pre>False</pre></div></td></tr><tr><td>Host</td><td><div class=\"dni-plaintext\"><pre>localhost</pre></div></td></tr><tr><td>Port</td><td><div class=\"dni-plaintext\"><pre>8081</pre></div></td></tr><tr><td>Query</td><td><div class=\"dni-plaintext\"><pre></pre></div></td></tr><tr><td>Fragment</td><td><div class=\"dni-plaintext\"><pre></pre></div></td></tr><tr><td>Scheme</td><td><div class=\"dni-plaintext\"><pre>https</pre></div></td></tr><tr><td>OriginalString</td><td><div class=\"dni-plaintext\"><pre>https://localhost:8081</pre></div></td></tr><tr><td>DnsSafeHost</td><td><div class=\"dni-plaintext\"><pre>localhost</pre></div></td></tr><tr><td>IdnHost</td><td><div class=\"dni-plaintext\"><pre>localhost</pre></div></td></tr><tr><td>IsAbsoluteUri</td><td><div class=\"dni-plaintext\"><pre>True</pre></div></td></tr><tr><td>UserEscaped</td><td><div class=\"dni-plaintext\"><pre>False</pre></div></td></tr><tr><td>UserInfo</td><td><div class=\"dni-plaintext\"><pre></pre></div></td></tr></tbody></table></div></details></td></tr></tbody></table></div></details><style>\r\n",
       ".dni-code-hint {\r\n",
       "    font-style: italic;\r\n",
       "    overflow: hidden;\r\n",
       "    white-space: nowrap;\r\n",
       "}\r\n",
       ".dni-treeview {\r\n",
       "    white-space: nowrap;\r\n",
       "}\r\n",
       ".dni-treeview td {\r\n",
       "    vertical-align: top;\r\n",
       "    text-align: start;\r\n",
       "}\r\n",
       "details.dni-treeview {\r\n",
       "    padding-left: 1em;\r\n",
       "}\r\n",
       "table td {\r\n",
       "    text-align: start;\r\n",
       "}\r\n",
       "table tr { \r\n",
       "    vertical-align: top; \r\n",
       "    margin: 0em 0px;\r\n",
       "}\r\n",
       "table tr td pre \r\n",
       "{ \r\n",
       "    vertical-align: top !important; \r\n",
       "    margin: 0em 0px !important;\r\n",
       "} \r\n",
       "table th {\r\n",
       "    text-align: start;\r\n",
       "}\r\n",
       "</style>"
      ]
     },
     "metadata": {},
     "output_type": "display_data"
    }
   ],
   "source": [
    "\n",
    "var endpoint = \"https://localhost:8081\";\n",
    "var key =\"C2y6yDjf5/R+ob0N8A7Cgv30VRDJIWEHLM+4QDU5DE2nQ9nDuVTqobD4b8mGGyPMbIZnqyMsEcaGQy67XIw/Jw==\";\n",
    "var client = new CosmosClient(endpoint, key, options);\n",
    "\n",
    "client.Display();"
   ]
  }
 ],
 "metadata": {
  "kernelspec": {
   "display_name": ".NET (C#)",
   "language": "C#",
   "name": ".net-csharp"
  },
  "polyglot_notebook": {
   "kernelInfo": {
    "defaultKernelName": "csharp",
    "items": [
     {
      "aliases": [],
      "languageName": "csharp",
      "name": "csharp"
     }
    ]
   }
  }
 },
 "nbformat": 4,
 "nbformat_minor": 5
}
