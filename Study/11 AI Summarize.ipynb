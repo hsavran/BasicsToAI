{
 "cells": [
  {
   "cell_type": "code",
   "execution_count": 1,
   "id": "e5aeaf20",
   "metadata": {
    "polyglot_notebook": {
     "kernelName": "csharp"
    }
   },
   "outputs": [
    {
     "data": {
      "text/html": [
       "<div><div></div><div></div><div><strong>Installed Packages</strong><ul><li><span>Microsoft.SemanticKernel, 1.65.0</span></li><li><span>Microsoft.SemanticKernel.Connectors.AzureOpenAI, 1.65.0</span></li></ul></div></div>"
      ]
     },
     "metadata": {},
     "output_type": "display_data"
    }
   ],
   "source": [
    "#r \"nuget: Microsoft.SemanticKernel\"\n",
    "#r \"nuget: Microsoft.SemanticKernel.Connectors.AzureOpenAI\""
   ]
  },
  {
   "cell_type": "code",
   "execution_count": 2,
   "id": "daa54c8e",
   "metadata": {
    "polyglot_notebook": {
     "kernelName": "csharp"
<<<<<<< HEAD:AI Agent/1 Summarize.ipynb
=======
    },
    "vscode": {
     "languageId": "csharp"
>>>>>>> 7a60869abf784850faabe0f20a040befb0cdb2c2:Study/11 AI Summarize.ipynb
    }
   },
   "outputs": [],
   "source": [
    "using Microsoft.Extensions.DependencyInjection;\n",
    "using Microsoft.SemanticKernel;\n",
    "using Microsoft.SemanticKernel.Connectors.OpenAI;\n",
    "using Microsoft.SemanticKernel.ChatCompletion;"
   ]
  },
  {
   "cell_type": "code",
   "execution_count": 5,
   "id": "9a14c6cf",
   "metadata": {
    "polyglot_notebook": {
     "kernelName": "csharp"
<<<<<<< HEAD:AI Agent/1 Summarize.ipynb
=======
    },
    "vscode": {
     "languageId": "csharp"
>>>>>>> 7a60869abf784850faabe0f20a040befb0cdb2c2:Study/11 AI Summarize.ipynb
    }
   },
   "outputs": [
    {
     "name": "stdout",
     "output_type": "stream",
     "text": [
      "Celebrity chef Hilda Baci set a new Guinness World Record for the largest serving of jollof rice, preparing 8,780 kilograms, more than the required 4,700 kilograms. The achievement involved nine hours of cooking, with a dramatic moment when the pot collapsed during weighing. The rice was distributed to onlookers on Victoria Island. Previously, Baci held the record for the longest cooking marathon in 2023, lasting 93 hours and 11 minutes, until surpassed by Irish chef Alan Fisher. Baci's feats have inspired many young West Africans to attempt Guinness World Records, spanning various activities like book reading, skipping rope, and speech giving.\r\n"
     ]
    }
   ],
   "source": [
    "var builder = Kernel.CreateBuilder();\n",
    "builder.AddAzureOpenAIChatCompletion(\"test4o\", \"https://savranweb.openai.azure.com/\", \"3Qg3P8Fw37qaN3ZtG2JJapZZVjBFTKvOIDaIYXoL5a5fduu3wz2XJQQJ99BDACYeBjFXJ3w3AAABACOGPUlQ\");\n",
    "Kernel kernel = builder.Build();\n",
    "var chatcompservice = kernel.Services.GetRequiredService<IChatCompletionService>();\n",
    "\n",
    "var chathistory = new ChatHistory();\n",
    "var executionsettings = new OpenAIPromptExecutionSettings { FunctionChoiceBehavior = FunctionChoiceBehavior.Auto() };\n",
    "executionsettings.ChatSystemPrompt = \"You are a helpful assistant. You will be given text to summarize.\";\n",
    "var texttosummary = \"Guinness World Records confirmed the achievement on Monday for the largest jollof rice serving by celebrity chef Hilda Baci.Baci, who briefly held the world record for the longest cooking marathon in 2023, last Friday prepared a pot of 8,780 kilograms of jollof rice, a popular West African delicacy made from rice cooked in a pepper sauce. The food is a staple across the region. “It took nine hours of fire, passion, and teamwork,” the chef said after the day-long cooking and serving, which involved a moment of high drama when the huge retrofitted pot collapsed under a crane during weighing. Guinness World Records said on its official X account that Baci had surpassed the required 4,700 kilograms of rice. The mountain of rice was distributed to hundreds of onlookers who had come to cheer the chef at upscale Victoria Island. Baci’s marathon cooking challenge in 2023, which spanned 93 hours and 11 minutes, was surpassed in the record books a year later by Irish chef Alan Fisher. But it sparked off numerous of attempts at Guinness World Records recognition as many young West Africans tapped into the desire for global acclaim, including challenges for the longest book reading, the longest skipping rope session and the longest speech, among others.\";\n",
    "chathistory.AddUserMessage(texttosummary);\n",
    "var result = await chatcompservice.GetChatMessageContentAsync(chathistory, executionsettings, kernel);\n",
    "Console.WriteLine(result);\n"
   ]
  }
 ],
 "metadata": {
  "kernelspec": {
   "display_name": ".NET (C#)",
   "language": "C#",
   "name": ".net-csharp"
  },
  "polyglot_notebook": {
   "kernelInfo": {
    "defaultKernelName": "csharp",
    "items": [
     {
      "aliases": [],
      "languageName": "csharp",
      "name": "csharp"
     }
    ]
   }
  }
 },
 "nbformat": 4,
 "nbformat_minor": 5
}
