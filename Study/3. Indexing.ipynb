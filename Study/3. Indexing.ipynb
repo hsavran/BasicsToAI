{
 "cells": [
  {
   "cell_type": "markdown",
   "id": "41c193ec",
   "metadata": {},
   "source": [
    "When you define a new container, all properties of the data model would be indexed by default.\n",
    "It is your responsibility to exclude the properties that you don't need an index.\n",
    "You can disable indexing on a container by passing None to the Indexing Mode.\n",
    "If you keep all properties indexed, your index file might got larger than your data file."
   ]
  },
  {
   "cell_type": "code",
   "execution_count": 1,
   "id": "314ac3ee",
   "metadata": {
    "polyglot_notebook": {
     "kernelName": "csharp"
    }
   },
   "outputs": [
    {
     "data": {
      "text/html": [
       "<div><div></div><div></div><div><strong>Installed Packages</strong><ul><li><span>Microsoft.Azure.Cosmos, 3.50.0</span></li><li><span>Newtonsoft.Json, 13.0.3</span></li></ul></div></div>"
      ]
     },
     "metadata": {},
     "output_type": "display_data"
    }
   ],
   "source": [
    "#r \"nuget: Newtonsoft.Json\"\n",
    "#r \"nuget: Microsoft.Azure.Cosmos\"\n",
    "using Microsoft.Azure.Cosmos;\n",
    "using System.Net.Http;\n",
    "using System.Collections.ObjectModel;"
   ]
  },
  {
   "cell_type": "code",
   "execution_count": 2,
   "metadata": {
    "polyglot_notebook": {
     "kernelName": "csharp"
    }
   },
   "outputs": [],
   "source": [
    "var cstring = \"AccountEndpoint=https://localhost:8081/;AccountKey=C2y6yDjf5/R+ob0N8A7Cgv30VRDJIWEHLM+4QDU5DE2nQ9nDuVTqobD4b8mGGyPMbIZnqyMsEcaGQy67XIw/Jw==\";\n",
    "var client = new CosmosClient(cstring);\n",
    "var db = client.GetDatabase(\"StackOverflow\");\n",
    "var postContainer = await db.GetContainer(\"Posts2\").ReadContainerAsync();\n",
    "//await db.CreateContainerIfNotExistsAsync(\"Posts2\",\"/OwnerUserId\", 4000);"
   ]
  },
  {
   "cell_type": "markdown",
   "id": "679f8f5a",
   "metadata": {},
   "source": [
    "Composite Indexes:\n",
    "ORDER BY clause with two or more properties require a composite index. If you WHERE clauses have many filters, Composite Indexes can help with the performance and efficiency.\n",
    "\n",
    "Spatial Indexes:\n",
    "They increase the efficiency if you use any GeoSpatial system functions.\n",
    "\n",
    "Vector Indexes:\n",
    "They increase the efficiency if you have vectors and using VectorDistance system function.\n",
    "\n",
    "Full Text Indexes:\n",
    "They enable full text search and scoring efficiently. "
   ]
  },
  {
   "cell_type": "code",
   "execution_count": null,
   "id": "1565462c",
   "metadata": {
    "polyglot_notebook": {
     "kernelName": "csharp"
    }
   },
   "outputs": [],
   "source": [
    "postContainer.Resource.IndexingPolicy.IndexingMode = IndexingMode.None;\n",
    "\n",
    "postContainer.Resource.IndexingPolicy.IncludedPaths.Add(new IncludedPath { Path = \"/*\" });\n",
    "\n",
    "postContainer.Resource.IndexingPolicy.ExcludedPaths.Add(new ExcludedPath { Path = \"/name/*\" });\n",
    "\n",
    "postContainer.Resource.IndexingPolicy.CompositeIndexes.Add(new Collection<CompositePath> { \n",
    "    new CompositePath() { Path = \"/name\", Order = CompositePathSortOrder.Ascending }, \n",
    "    new CompositePath() { Path = \"/age\", Order = CompositePathSortOrder.Descending }\n",
    "    });\n",
    "\n",
    "SpatialPath spatialPath = new SpatialPath\n",
    "{\n",
    "    Path = \"/locations/*\"\n",
    "};\n",
    "spatialPath.SpatialTypes.Add(SpatialType.Point);\n",
    "postContainer.Resource.IndexingPolicy.SpatialIndexes.Add(spatialPath);\n",
    "\n",
    "await db.GetContainer(\"Posts\").ReplaceContainerAsync(postContainer.Resource);\n",
    "\n",
    "// retrieve the container's details\n",
    "ContainerResponse containerResponse = await db.GetContainer(\"Posts\").ReadContainerAsync(new ContainerRequestOptions { PopulateQuotaInfo = true });\n",
    "// retrieve the index transformation progress from the result\n",
    "long indexTransformationProgress = long.Parse(containerResponse.Headers[\"x-ms-documentdb-collection-index-transformation-progress\"]);"
   ]
  },
  {
   "cell_type": "markdown",
   "id": "db6bb45b",
   "metadata": {},
   "source": [
    "V3 Fluent API"
   ]
  },
  {
   "cell_type": "code",
   "execution_count": null,
   "metadata": {
    "polyglot_notebook": {
     "kernelName": "csharp"
    }
   },
   "outputs": [],
   "source": [
    "await client.GetDatabase(\"database\").DefineContainer(name: \"container\", partitionKeyPath: \"/myPartitionKey\")\n",
    "    .WithIndexingPolicy()\n",
    "        .WithIncludedPaths()\n",
    "            .Path(\"/*\")\n",
    "        .Attach()\n",
    "        .WithExcludedPaths()\n",
    "            .Path(\"/name/*\")\n",
    "        .Attach()\n",
    "        .WithSpatialIndex()\n",
    "            .Path(\"/locations/*\", SpatialType.Point)\n",
    "        .Attach()\n",
    "        .WithCompositeIndex()\n",
    "            .Path(\"/name\", CompositePathSortOrder.Ascending)\n",
    "            .Path(\"/age\", CompositePathSortOrder.Descending)\n",
    "        .Attach()\n",
    "    .Attach()\n",
    "    .CreateIfNotExistsAsync();"
   ]
  }
 ],
 "metadata": {
  "kernelspec": {
   "display_name": ".NET (C#)",
   "language": "C#",
   "name": ".net-csharp"
  },
  "polyglot_notebook": {
   "kernelInfo": {
    "defaultKernelName": "csharp",
    "items": [
     {
      "aliases": [],
      "languageName": "csharp",
      "name": "csharp"
     }
    ]
   }
  }
 },
 "nbformat": 4,
 "nbformat_minor": 5
}
