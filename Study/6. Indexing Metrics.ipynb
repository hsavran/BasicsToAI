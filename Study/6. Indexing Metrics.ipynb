{
 "cells": [
  {
   "cell_type": "code",
   "execution_count": 16,
   "id": "9bbca87f",
   "metadata": {
    "polyglot_notebook": {
     "kernelName": "csharp"
    }
   },
   "outputs": [
    {
     "data": {
      "text/html": [
       "<div><div></div><div></div><div><strong>Installed Packages</strong><ul><li><span>Microsoft.Azure.Cosmos, 3.50.0</span></li><li><span>Newtonsoft.Json, 13.0.3</span></li></ul></div></div>"
      ]
     },
     "metadata": {},
     "output_type": "display_data"
    }
   ],
   "source": [
    "#r \"nuget: Newtonsoft.Json\"\n",
    "#r \"nuget: Microsoft.Azure.Cosmos\"\n",
    "using Microsoft.Azure.Cosmos;\n",
    "using System.Collections.ObjectModel;\n",
    "using Newtonsoft.Json;"
   ]
  },
  {
   "cell_type": "code",
   "execution_count": 17,
   "metadata": {
    "polyglot_notebook": {
     "kernelName": "csharp"
    }
   },
   "outputs": [],
   "source": [
    "var endpoint = \"https://localhost:8081\";\n",
    "var key =\"C2y6yDjf5/R+ob0N8A7Cgv30VRDJIWEHLM+4QDU5DE2nQ9nDuVTqobD4b8mGGyPMbIZnqyMsEcaGQy67XIw/Jw==\";\n",
    "var client = new CosmosClient(endpoint, key);\n",
    "var db = client.GetDatabase(\"StackOverflow\");\n",
    "var postContainer = db.GetContainer(\"Posts\");"
   ]
  },
  {
   "cell_type": "code",
   "execution_count": 18,
   "metadata": {
    "polyglot_notebook": {
     "kernelName": "csharp"
    }
   },
   "outputs": [],
   "source": [
    "public class Post    \n",
    "{\n",
    "    public string id { get; set; }\n",
    "    public int PostId { get; set; }\n",
    "    public string PostBody { get; set; }\n",
    "    public string Title { get; set; }\n",
    "    public int ViewCount { get; set; }\n",
    "    public int AnswerCount { get; set; }\n",
    "    public int CommentCount { get; set; }\n",
    "    public int FavoriteCount { get; set; }\n",
    "    public int AcceptedAnswerId { get; set; }\n",
    "    public DateTime? CreatedOn { get; set; }\n",
    "    public DateTime? ClosedDate { get; set; }\n",
    "    public int OwnerUserId { get; set; }\n",
    "    public string OwnerDisplayName { get; set; }\n",
    "    public string PostType { get; set; }\n",
    "    public int Score { get; set; }\n",
    "    public string Tags { get; set; }\n",
    "}"
   ]
  },
  {
   "cell_type": "markdown",
   "id": "8891cb91",
   "metadata": {},
   "source": [
    "You need to enable the Indexing Metrics by using the QueryRequestOptions.\n",
    "It is a great parameter to debug performance problems.\n",
    "Don't keep it enabled in prod if you are not having issues.\n",
    "It returns a JSON document which is not really easy to read."
   ]
  },
  {
   "cell_type": "code",
   "execution_count": 27,
   "id": "74e11acb",
   "metadata": {
    "polyglot_notebook": {
     "kernelName": "csharp"
    }
   },
   "outputs": [],
   "source": [
    "public class SingleIndex{\n",
    "    public string IndexSpec { get; set; }    \n",
    "}\n",
    "\n",
    "public class CompositeIndexes{\n",
    "    public string IndexSpec { get; set; }\n",
    "}\n",
    "\n",
    "public class UtilizedIndexes{    \n",
    "    public List<SingleIndex> SingleIndexes { get; set; }\n",
    "    public List<CompositeIndexes> CompositeIndexes { get; set; }\n",
    "}\n",
    "\n",
    "public class PotentialIndexes{    \n",
    "    public List<SingleIndex> SingleIndexes { get; set; }\n",
    "    public List<CompositeIndexes> CompositeIndexes { get; set; }\n",
    "}\n",
    "\n",
    "public class IndexMetrics{\n",
    "    public UtilizedIndexes UtilizedIndexes { get; set; }\n",
    "    public PotentialIndexes PotentialIndexes { get; set; }\n",
    "}\n",
    "\n"
   ]
  },
  {
   "cell_type": "code",
   "execution_count": 29,
   "metadata": {
    "polyglot_notebook": {
     "kernelName": "csharp"
    }
   },
   "outputs": [
    {
     "data": {
      "text/html": [
       "<div class=\"dni-plaintext\"><pre>3.01</pre></div><style>\r\n",
       ".dni-code-hint {\r\n",
       "    font-style: italic;\r\n",
       "    overflow: hidden;\r\n",
       "    white-space: nowrap;\r\n",
       "}\r\n",
       ".dni-treeview {\r\n",
       "    white-space: nowrap;\r\n",
       "}\r\n",
       ".dni-treeview td {\r\n",
       "    vertical-align: top;\r\n",
       "    text-align: start;\r\n",
       "}\r\n",
       "details.dni-treeview {\r\n",
       "    padding-left: 1em;\r\n",
       "}\r\n",
       "table td {\r\n",
       "    text-align: start;\r\n",
       "}\r\n",
       "table tr { \r\n",
       "    vertical-align: top; \r\n",
       "    margin: 0em 0px;\r\n",
       "}\r\n",
       "table tr td pre \r\n",
       "{ \r\n",
       "    vertical-align: top !important; \r\n",
       "    margin: 0em 0px !important;\r\n",
       "} \r\n",
       "table th {\r\n",
       "    text-align: start;\r\n",
       "}\r\n",
       "</style>"
      ]
     },
     "metadata": {},
     "output_type": "display_data"
    },
    {
     "data": {
      "application/json": {
       "PotentialIndexes": {
        "CompositeIndexes": [],
        "SingleIndexes": []
       },
       "UtilizedIndexes": {
        "CompositeIndexes": [],
        "SingleIndexes": [
         {
          "IndexSpec": "/PostType/?"
         },
         {
          "IndexSpec": "/OwnerUserId/?"
         }
        ]
       }
      }
     },
     "metadata": {},
     "output_type": "display_data"
    }
   ],
   "source": [
    "var cmd = \"SELECT c.PostId FROM c WHERE c.OwnerUserId = 1 AND c.PostType= 'Question'\";\n",
    "var postQuery = new QueryDefinition(cmd);\n",
    "var iterator = postContainer.GetItemQueryIterator<Post>(postQuery, requestOptions: new QueryRequestOptions\n",
    "        {\n",
    "            PopulateIndexMetrics = true\n",
    "        });\n",
    "var results = new List<Post>();\n",
    "\n",
    "while (iterator.HasMoreResults)\n",
    "{\n",
    "    var response = await iterator.ReadNextAsync();    \n",
    "    results.AddRange(response);\n",
    "    response.RequestCharge.Display();\n",
    "    var iMetrics = JsonConvert.DeserializeObject<IndexMetrics>(response.IndexMetrics);\n",
    "    iMetrics.Display(\"application/json\");\n",
    "    //response.IndexMetrics.Display();\n",
    "}"
   ]
  }
 ],
 "metadata": {
  "kernelspec": {
   "display_name": ".NET (C#)",
   "language": "C#",
   "name": ".net-csharp"
  },
  "polyglot_notebook": {
   "kernelInfo": {
    "defaultKernelName": "csharp",
    "items": [
     {
      "aliases": [],
      "languageName": "csharp",
      "name": "csharp"
     }
    ]
   }
  }
 },
 "nbformat": 4,
 "nbformat_minor": 5
}
