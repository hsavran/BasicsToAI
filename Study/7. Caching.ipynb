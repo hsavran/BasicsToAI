{
 "cells": [
  {
   "cell_type": "markdown",
   "id": "31046914",
   "metadata": {},
   "source": [
    "Azure Cosmos DB cache is available only if you have dedicated Gateway Server.\n",
    "There are different size of servers,\n",
    "You need to use the dedicated gateway server's connection string and override your connection type to Gateway mode.\n",
    "Integrated Cache can cache query and point read results.\n",
    "You can define the expiration time of each item by code.\n",
    "Integrated Cache is a great way to save R/U(money) for Read-heavy workloads (Your data doesn't change frequently)\n",
    "ConsistencyLevel of the operation must be Session or Eventual for caching to work."
   ]
  },
  {
   "cell_type": "code",
   "execution_count": null,
   "id": "f431d56e",
   "metadata": {
    "polyglot_notebook": {
     "kernelName": "csharp"
    }
   },
   "outputs": [],
   "source": [
    "#r \"nuget: Newtonsoft.Json\"\n",
    "#r \"nuget: Microsoft.Azure.Cosmos\"\n",
    "using Microsoft.Azure.Cosmos;"
   ]
  },
  {
   "cell_type": "code",
   "execution_count": null,
   "id": "e5ed42ca",
   "metadata": {
    "polyglot_notebook": {
     "kernelName": "csharp"
    }
   },
   "outputs": [],
   "source": [
    "public class Post    \n",
    "{\n",
    "    public string id { get; set; }\n",
    "    public int PostId { get; set; }\n",
    "    public string PostBody { get; set; }\n",
    "    public string Title { get; set; }\n",
    "    public int ViewCount { get; set; }\n",
    "    public int AnswerCount { get; set; }\n",
    "    public int CommentCount { get; set; }\n",
    "    public int FavoriteCount { get; set; }\n",
    "    public int AcceptedAnswerId { get; set; }\n",
    "    public DateTime? CreatedOn { get; set; }\n",
    "    public DateTime? ClosedDate { get; set; }\n",
    "    public int OwnerUserId { get; set; }\n",
    "    public string OwnerDisplayName { get; set; }\n",
    "    public string PostType { get; set; }\n",
    "    public int Score { get; set; }\n",
    "    public string Tags { get; set; }\n",
    "}"
   ]
  },
  {
   "cell_type": "markdown",
   "id": "21b04328",
   "metadata": {},
   "source": [
    "You need to run this in Azure. Local Emulator does not support the caching feature.\n",
    "Paste the connection string of your dedicated gateway server to the following script to execute it."
   ]
  },
  {
   "cell_type": "code",
   "execution_count": null,
   "id": "d82d8a0b",
   "metadata": {
    "polyglot_notebook": {
     "kernelName": "csharp"
    }
   },
   "outputs": [],
   "source": [
    "var cstring = \"AccountEndpoint=https://localhost:8081/;AccountKey=C2y6yDjf5/R+ob0N8A7Cgv30VRDJIWEHLM+4QDU5DE2nQ9nDuVTqobD4b8mGGyPMbIZnqyMsEcaGQy67XIw/Jw==\";\n",
    "var client = new CosmosClient(cstring, new CosmosClientOptions\n",
    "{\n",
    "    ConnectionMode = ConnectionMode.Gateway\n",
    "});\n",
    "var db = client.GetDatabase(\"StackOverflow\");\n",
    "var postContainer = db.GetContainer(\"Posts\");"
   ]
  },
  {
   "cell_type": "code",
   "execution_count": null,
   "id": "097b7c35",
   "metadata": {
    "polyglot_notebook": {
     "kernelName": "csharp"
    }
   },
   "outputs": [],
   "source": [
    "var cmd = new QueryDefinition(\"SELECT * FROM c WHERE c.OwnerUserId = @id\")\n",
    "    .WithParameter(\"@id\", \"1\");\n",
    "var query= new QueryDefinition(cmd);\n",
    "var iterator = postContainer.GetItemQueryIterator<Post>(query, \n",
    "requestOptions: new QueryRequestOptions\n",
    "{\n",
    "    ConsistencyLevel = ConsistencyLevel.Eventual,\n",
    "    DedicatedGatewayRequestOptions = new DedicatedGatewayRequestOptions\n",
    "    {\n",
    "        MaxIntegratedCacheStaleness = TimeSpan.FromSeconds(30),\n",
    "        BypassIntegratedCache = false        \n",
    "    }\n",
    "});\n",
    "var results = new List<Post>();\n",
    "while (iterator.HasMoreResults)\n",
    "{\n",
    "    var response = await iterator.ReadNextAsync();\n",
    "    results.AddRange(response);\n",
    "    response.requestCharge.Display();\n",
    "}\n"
   ]
  }
 ],
 "metadata": {
  "kernelspec": {
   "display_name": ".NET (C#)",
   "language": "C#",
   "name": ".net-csharp"
  },
  "polyglot_notebook": {
   "kernelInfo": {
    "defaultKernelName": "csharp",
    "items": [
     {
      "aliases": [],
      "languageName": "csharp",
      "name": "csharp"
     }
    ]
   }
  }
 },
 "nbformat": 4,
 "nbformat_minor": 5
}
