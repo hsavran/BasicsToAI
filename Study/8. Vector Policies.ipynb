{
 "cells": [
  {
   "cell_type": "markdown",
   "id": "1a636c3f",
   "metadata": {},
   "source": [
    "First step to perform a vector search is creating a vector policy for a container.\n",
    "Vector Policies has the basic information database engine needs about the vector types and the metric used to compute distance/similarities.\n",
    "Vector Policies has the basic information database engine needs about the vector data types, location, and the metric used to compute distance/similarities.\n",
    "You can define multiple vectors in a container.\n",
    "\n",
    "A Vector policy contains the following options :\n",
    "\n",
    "\"path\" : It is required. Defines the location of vector.\n",
    "\"datatype\" : float32 is the default value. int8 and uint8 are the other options.\n",
    "\"dimensions\" : length of each vector in the path. All vectors should have the same length.\n",
    "\"distanceFunction\" : The metrics used to compute distance/similarity.\n",
    "   followings are supported for distanceFunction:\n",
    "   \"cosine\"  \n",
    "   \"dot product\"\n",
    "   \"euclidean\"\n",
    "\n",
    "You can use the Azure Portal or SDK to create a policy.\n"
   ]
  },
  {
   "cell_type": "markdown",
   "id": "8aa92779",
   "metadata": {},
   "source": [
    "After creating a vector policy, we need to create a vector index on the property that will have vector.\n",
    "Vector Indexes increase the efficiency and make your vector searches more affordable.\n",
    "You can create multiple vector indexes.\n",
    "\"path\" and \"type\" fields are required to create a vector index.\n",
    "\n",
    "Three types of vector indexes are supported.\n",
    "\n",
    "\"flat\" : Stores vectors on the same index as other props. Max length of a vector is 505\n",
    "\"quantizedFlat\" : Compresses vectors before storing. Searches should have lower latency, higher throughput, and lower RU cost comparing to \"flat\"\n",
    "\"diskANN\" : Deveoped by Microsoft. It offers a better performance and cost if you have more than 50k vectors in a physical partition.\n",
    "\n",
    "\"vectorIndexes\":[\n",
    "    {\n",
    "        \"path\": \"/vectorloc\",\n",
    "        \"type\": \"diskANN\"\n",
    "    }\n",
    "]"
   ]
  },
  {
   "cell_type": "code",
   "execution_count": 3,
   "id": "54fb8d13",
   "metadata": {
    "polyglot_notebook": {
     "kernelName": "csharp"
    }
   },
   "outputs": [
    {
     "data": {
      "text/html": [
       "<div><div></div><div></div><div><strong>Installed Packages</strong><ul><li><span>Microsoft.Azure.Cosmos, 3.51.0</span></li><li><span>Newtonsoft.Json, 13.0.3</span></li></ul></div></div>"
      ]
     },
     "metadata": {},
     "output_type": "display_data"
    }
   ],
   "source": [
    "#r \"nuget: Newtonsoft.Json\"\n",
    "#r \"nuget: Microsoft.Azure.Cosmos\"\n",
    "using Microsoft.Azure.Cosmos;\n",
    "using System.Collections.ObjectModel;"
   ]
  },
  {
   "cell_type": "code",
   "execution_count": 4,
   "metadata": {
    "polyglot_notebook": {
     "kernelName": "csharp"
    }
   },
   "outputs": [],
   "source": [
    "var cstring = \"AccountEndpoint=https://localhost:8081/;AccountKey=C2y6yDjf5/R+ob0N8A7Cgv30VRDJIWEHLM+4QDU5DE2nQ9nDuVTqobD4b8mGGyPMbIZnqyMsEcaGQy67XIw/Jw==\";\n",
    "var client = new CosmosClient(cstring);\n",
    "var db = client.GetDatabase(\"StackOverflow\");\n",
    " \n",
    "List<Embedding> embeddings = new List<Embedding>()\n",
    "{\n",
    "      new Embedding()\n",
    "      {\n",
    "          Path = \"/bodyvector\",\n",
    "          DataType = VectorDataType.Float32,\n",
    "          DistanceFunction = DistanceFunction.Cosine,\n",
    "          Dimensions = 1536,\n",
    "      }\n",
    "};\n",
    "var collection = new Collection<Embedding>(embeddings);\n",
    "\n",
    "ContainerProperties props = new ContainerProperties(\"VectorPosts2\", \"/OwnerUserId\"){    \n",
    "    VectorEmbeddingPolicy = new (collection),\n",
    "    IndexingPolicy = new IndexingPolicy(){\n",
    "        VectorIndexes = new Collection<VectorIndexPath>()\n",
    "        {\n",
    "            new VectorIndexPath()\n",
    "            {\n",
    "                Path = \"/bodyvector\",\n",
    "                Type = VectorIndexType.QuantizedFlat\n",
    "            }\n",
    "        }\n",
    "    }\n",
    "};\n",
    "props.IndexingPolicy.IncludedPaths.Add(new IncludedPath()\n",
    "{\n",
    "    Path = \"/*\"\n",
    "});\n",
    "props.IndexingPolicy.ExcludedPaths.Add(new ExcludedPath()\n",
    "{\n",
    "    Path = \"/bodyvector/?\"\n",
    "});\n",
    "\n",
    "var postContainer = await db.CreateContainerIfNotExistsAsync(props, throughput: 4000);"
   ]
  },
  {
   "cell_type": "markdown",
   "id": "a2fc8714",
   "metadata": {},
   "source": [
    "/bodyvector property will be used store vectors.\n",
    "Code creates a vector index for /bodyvector property. \n",
    "We don't want to generate regular indexes on /bodyvector values. \n",
    "That's why code adds /bodyvector to the ExcludedPaths in Indexing Policy.\n",
    "After the code completes succesfully, open your Azure Cosmos Db Emulator and find the new container.\n",
    "Then click on Scale & Settings menu option and find the Container Vector Policy tab to see the details.\n",
    "Next, we will generate vectors to store in /bodyvector"
   ]
  }
 ],
 "metadata": {
  "kernelspec": {
   "display_name": ".NET (C#)",
   "language": "C#",
   "name": ".net-csharp"
  },
  "polyglot_notebook": {
   "kernelInfo": {
    "defaultKernelName": "csharp",
    "items": [
     {
      "aliases": [],
      "languageName": "csharp",
      "name": "csharp"
     }
    ]
   }
  }
 },
 "nbformat": 4,
 "nbformat_minor": 5
}
