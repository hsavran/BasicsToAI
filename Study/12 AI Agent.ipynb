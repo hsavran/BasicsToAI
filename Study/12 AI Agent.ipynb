{
 "cells": [
  {
   "cell_type": "code",
   "execution_count": 1,
   "id": "fa5313da",
   "metadata": {
    "polyglot_notebook": {
     "kernelName": "csharp"
    }
   },
   "outputs": [
    {
     "data": {
      "text/html": [
       "<div><div></div><div></div><div><strong>Installed Packages</strong><ul><li><span>Microsoft.Azure.Cosmos, 3.53.1</span></li><li><span>Microsoft.SemanticKernel, 1.65.0</span></li><li><span>Newtonsoft.Json, 13.0.4</span></li></ul></div></div>"
      ]
     },
     "metadata": {},
     "output_type": "display_data"
    }
   ],
   "source": [
    "#r \"nuget: Microsoft.SemanticKernel\"\n",
    "#r \"nuget: Newtonsoft.Json\"\n",
    "#r \"nuget: Microsoft.Azure.Cosmos\""
   ]
  },
  {
   "cell_type": "code",
   "execution_count": 2,
   "id": "9cdf0999",
   "metadata": {
    "polyglot_notebook": {
     "kernelName": "csharp"
    }
   },
   "outputs": [],
   "source": [
    "using Microsoft.SemanticKernel;\n",
    "using Microsoft.SemanticKernel.ChatCompletion;\n",
    "using Microsoft.Extensions.DependencyInjection;\n",
    "using Microsoft.SemanticKernel.Connectors.OpenAI;"
   ]
  },
  {
   "cell_type": "code",
   "execution_count": 3,
   "id": "e4e83837",
   "metadata": {
    "polyglot_notebook": {
     "kernelName": "csharp"
    }
   },
   "outputs": [],
   "source": [
    "using Microsoft.Azure.Cosmos;\n",
    "using System.ComponentModel;"
   ]
  },
  {
   "cell_type": "code",
   "execution_count": 4,
   "id": "fda1fda9",
   "metadata": {
    "polyglot_notebook": {
     "kernelName": "csharp"
    }
   },
   "outputs": [],
   "source": [
    "public class CosmosDBPlugin\n",
    "{\n",
    "    public static string cstring = \"AccountEndpoint=https://nosqlmodelling.documents.azure.com:443/;AccountKey=wzdTVhx9ldkhYYQYDnq14IdfzyAptKoVfZyZjIEcaVPU8OltPwHxFxdTBGGDcDwEzVPzGoZ5XU4uACDbDu9Mog==;\";\n",
    "    public CosmosClient cosmosClient = new(cstring);\n",
    "    public class Order\n",
    "    {\n",
    "        public string id { get; set; }\n",
    "        public string customername { get; set; }\n",
    "        public List<Product> products { get; set; }                       \n",
    "        public string OrderStatus { get; set; } //Cancelled, Delivered, In Transit, In Process, Ready for Pickup\n",
    "        public int DriverId { get; set; }                \n",
    "        public string truckid { get; set; }\n",
    "        public string DeliveryAddress { get; set; }\n",
    "        public bool Driverisnotified { get; set; }\n",
    "\n",
    "        //public Order()\n",
    "        //{\n",
    "        //    id = \"100\";\n",
    "        //    customername = \"Hasan Savran\";\n",
    "        //    products =\n",
    "        //    [\n",
    "        //        new Product() { id = \"1\", name = \"Laptop\", quantity = 1 },\n",
    "        //        new Product() { id = \"2\", name = \"Mouse\", quantity = 1 },\n",
    "        //    ];\n",
    "        //    OrderStatus = \"In Transit\";\n",
    "        //    DriverId = 839;\n",
    "        //    truckid = \"4039\";\n",
    "        //    DeliveryAddress = \"1234 Main St, Seattle, WA 98101\";\n",
    "        //    Driverisnotified = false;\n",
    "        //}\n",
    "\n",
    "\n",
    "    }\n",
    "\n",
    "    public class Product\n",
    "    {\n",
    "        public string id { get; set; }\n",
    "        public string name { get; set; }\n",
    "        public int quantity { get; set; }\n",
    "        \n",
    "    }\n",
    "\n",
    "    public class DriverMessage\n",
    "    {\n",
    "        public string id { get; set; }\n",
    "        public string driverid { get; set; }\n",
    "        public string orderid { get; set; }\n",
    "        public string message { get; set; }\n",
    "    }\n",
    "\n",
    "    public class Delivery\n",
    "    {\n",
    "        public string id { get; set; }\n",
    "        public string orderid { get; set; }\n",
    "        public string driverid { get; set; }\n",
    "        public string truckid { get; set; }\n",
    "        public string customergeoloc { get; set; }\n",
    "        public bool isCancelled { get; set; }\n",
    "    }\n",
    "    \n",
    "    [KernelFunction(\"Search\")]\n",
    "    [Description(\"Searches the CosmosDB for given order number.\")]\n",
    "    [return:Description(\"The search result for the given order number\")]\n",
    "    public async Task<Order> Search(string orderid)\n",
    "    {\n",
    "        //Search the CosmosDB for the order\n",
    "        var cont = cosmosClient.GetContainer(\"OnlineMarket\", \"OrdersTransit\");\n",
    "        var query = cont.GetItemQueryIterator<Order>($\"SELECT * FROM c WHERE c.id = '{orderid}'\");\n",
    "        var results = await query.ReadNextAsync();\n",
    "        if (results.Any())\n",
    "        {\n",
    "            return results.First();\n",
    "        }\n",
    "        return new Order();\n",
    "    }\n",
    "\n",
    "    [KernelFunction(\"CancelOrder\")]\n",
    "    [Description(\"Cancels the order\")]\n",
    "    [return: Description(\"The result of the order cancellation. If orderstatus is in transit, notify the driver to not deliver it\")]\n",
    "    public async Task<Order> CancelOrder(string orderId)\n",
    "    {\n",
    "        var order = await Search(orderId);\n",
    "        if (order.OrderStatus == \"In Transit\")\n",
    "        {\n",
    "            await SendMessage(order.DriverId.ToString(), order.id, \"Order is cancelled. Do not deliver it. Customer location is removed from the GPS Delivery system.\");\n",
    "            order.Driverisnotified = true;                    \n",
    "            await RemoveDelivery(order.id, order.DriverId.ToString(), order.truckid);                    \n",
    "        }\n",
    "        order.OrderStatus = \"Cancelled\";\n",
    "        var cont = cosmosClient.GetContainer(\"OnlineMarket\", \"OrdersTransit\");\n",
    "        var pkey = new PartitionKey(order.truckid);\n",
    "        await cont.PatchItemAsync<Order>(order.id, pkey, new PatchOperation[] { PatchOperation.Set(\"/OrderStatus\", \"Cancelled\") });\n",
    "        \n",
    "\n",
    "        await cont.UpsertItemAsync(order);\n",
    "        return order;               \n",
    "    }\n",
    "\n",
    "    public async Task<bool> RemoveDelivery(string orderid, string driverid, string truckid)\n",
    "    {\n",
    "        var cont = cosmosClient.GetContainer(\"OnlineMarket\", \"Deliveries\");\n",
    "        var query = cont.GetItemQueryIterator<Delivery>($\"SELECT * FROM c WHERE c.orderid = '{orderid}' AND c.driverid = '{driverid}' AND c.truckid = '{truckid}'\");\n",
    "        var results = await query.ReadNextAsync();\n",
    "        if (results.Any())\n",
    "        {\n",
    "            var del = results.First();\n",
    "            del.isCancelled = true;\n",
    "            del = await cont.UpsertItemAsync(del);\n",
    "            return del.isCancelled;\n",
    "        }\n",
    "        return false;\n",
    "    }\n",
    "\n",
    "    public async Task<DriverMessage> SendMessage(string driverid, string orderid, string message)\n",
    "    {\n",
    "        var cont = cosmosClient.GetContainer(\"OnlineMarket\", \"DriverMessages\");\n",
    "        var dm = new DriverMessage() { driverid = driverid, orderid = orderid, message = message };\n",
    "        await cont.CreateItemAsync(dm);\n",
    "        return dm;\n",
    "    }\n",
    "    //If cancel > do we need audit?\n",
    "    //If cancel & in-transit > remove location from the GPS\n",
    "    //If cancel & in-transit > send a msg to the driver\n",
    "    //if cancel & in-transit > send a msg to warehouse\n",
    "    //Request refund\n",
    "\n",
    "}"
   ]
  },
  {
   "cell_type": "code",
   "execution_count": 5,
   "id": "bc65b26c",
   "metadata": {
    "polyglot_notebook": {
     "kernelName": "csharp"
    }
   },
   "outputs": [
    {
     "name": "stdout",
     "output_type": "stream",
     "text": [
      "Hi there! I'm George, and I'm here to help. Let's start by checking the status of your order. Could you please provide me with your order number?\n",
      "It seems like there's an issue fetching your order details with the given order number. Could you please double-check the order number and provide it again? I'm here to make sure we resolve this for you!\n",
      "It seems there's still an issue retrieving your order details with the order number provided. Could you confirm if this is the correct order number, or if there might be another reference number you can provide? I'm here to assist you with anything you need!\n",
      "It appears there is still an issue with retrieving your order details. It could be due to an incorrect order number or a system glitch. If you have any other reference number or additional details regarding the order, please let me know, and I'll do my utmost to resolve this for you!\n",
      "Hi Hasan! Thanks for reaching out. I took a look at your order, and it seems that it has been cancelled. \n",
      "\n",
      "You had some very interesting items in your cart, including:\n",
      "\n",
      "- A Chicken Harness and Leash: Perfect for a feathery friend who enjoys a bit of outdoor adventure!\n",
      "- A Mobile Phone Jail Cell: A humorous way to keep those phones at bay, especially when you need a little tech detox.\n",
      "- Car French Fry Holders (x2): Ideal for ensuring your fries are always within reach during those road trips!\n",
      "\n",
      "I can't help but imagine those French Fry Holders holding up traffic with delicious distractions or saving your car seats from becoming a salty mess. 😄 If these sound like a must-have, you might want to consider placing another order!\n",
      "\n",
      "Feel free to let me know how else I can assist you today!\n",
      "It looks like your order is already marked as cancelled, so you won't have to worry about receiving these quirky items anymore. Just imagine the French Fry Holder feeling abandoned in the backseat, yearning for some crispy company! 😄\n",
      "\n",
      "If there's anything else you need or any other way I can help, feel free to let me know. I'm here for you!\n"
     ]
    },
    {
     "ename": "Error",
     "evalue": "Input request cancelled",
     "output_type": "error",
     "traceback": [
      "Input request cancelled"
     ]
    },
    {
     "ename": "Error",
     "evalue": "System.Exception: Input request cancelled\r\n   at Microsoft.DotNet.Interactive.Kernel.GetInputAsync(String prompt, Boolean isPassword, String typeHint) in D:\\a\\_work\\1\\s\\src\\Microsoft.DotNet.Interactive\\Kernel.Static.cs:line 93\r\n   at Microsoft.DotNet.Interactive.Kernel.GetInputAsync(String prompt, String typeHint) in D:\\a\\_work\\1\\s\\src\\Microsoft.DotNet.Interactive\\Kernel.Static.cs:line 46\r\n   at Submission#4.<<Initialize>>d__0.MoveNext()\r\n--- End of stack trace from previous location ---\r\n   at Microsoft.CodeAnalysis.Scripting.ScriptExecutionState.RunSubmissionsAsync[TResult](ImmutableArray`1 precedingExecutors, Func`2 currentExecutor, StrongBox`1 exceptionHolderOpt, Func`2 catchExceptionOpt, CancellationToken cancellationToken)",
     "output_type": "error",
     "traceback": [
      "System.Exception: Input request cancelled\r\n",
      "   at Microsoft.DotNet.Interactive.Kernel.GetInputAsync(String prompt, Boolean isPassword, String typeHint) in D:\\a\\_work\\1\\s\\src\\Microsoft.DotNet.Interactive\\Kernel.Static.cs:line 92\r\n",
      "   at Microsoft.DotNet.Interactive.Kernel.GetInputAsync(String prompt, String typeHint) in D:\\a\\_work\\1\\s\\src\\Microsoft.DotNet.Interactive\\Kernel.Static.cs:line 45\r\n",
      "   at Submission#4.<<Initialize>>d__0.MoveNext()\r\n",
      "--- End of stack trace from previous location ---\r\n",
      "   at Microsoft.CodeAnalysis.Scripting.ScriptExecutionState.RunSubmissionsAsync[TResult](ImmutableArray`1 precedingExecutors, Func`2 currentExecutor, StrongBox`1 exceptionHolderOpt, Func`2 catchExceptionOpt, CancellationToken cancellationToken)"
     ]
    }
   ],
   "source": [
    "var builder = Kernel.CreateBuilder();\n",
    "builder.AddAzureOpenAIChatCompletion(\"test4o\",\"https://savranweb.openai.azure.com/\",\"3Qg3P8Fw37qaN3ZtG2JJapZZVjBFTKvOIDaIYXoL5a5fduu3wz2XJQQJ99BDACYeBjFXJ3w3AAABACOGPUlQ\");\n",
    "\n",
    "Kernel kernel = builder.Build();\n",
    "var chatcomp = kernel.Services.GetRequiredService<IChatCompletionService>();\n",
    "kernel.Plugins.AddFromType<CosmosDBPlugin>(\"Orders\");\n",
    "var chathistory = new ChatHistory();\n",
    "//planning settings.\n",
    "var executionsettings = new OpenAIPromptExecutionSettings { FunctionChoiceBehavior = FunctionChoiceBehavior.Auto() };\n",
    "executionsettings.ChatSystemPrompt = \"Your name is George, you are here to help our customers. Introduce yourself friendly. Make customers feel good about their order by talking about their order items! If user cancels an order, check out the items and make a joke about what user might be missing by cancelling the order.\";\n",
    "string? userinput;\n",
    "while ((userinput = await Microsoft.DotNet.Interactive.Kernel.GetInputAsync(\"Enter your message: \")) != null)\n",
    "{\n",
    "    chathistory.AddUserMessage(userinput.ToString());\n",
    "    var result = await chatcomp.GetChatMessageContentAsync(chathistory, executionsettings, kernel);    \n",
    "    Console.WriteLine(result.Content);\n",
    "    chathistory.AddMessage(result.Role, result.Content?? string.Empty);\n",
    "}"
   ]
  },
  {
   "cell_type": "code",
   "execution_count": null,
   "id": "fd88c5e0",
   "metadata": {
    "polyglot_notebook": {
     "kernelName": "csharp"
    }
   },
   "outputs": [],
   "source": []
  }
 ],
 "metadata": {
  "kernelspec": {
   "display_name": ".NET (C#)",
   "language": "C#",
   "name": ".net-csharp"
  },
  "polyglot_notebook": {
   "kernelInfo": {
    "defaultKernelName": "csharp",
    "items": [
     {
      "aliases": [],
      "languageName": "csharp",
      "name": "csharp"
     }
    ]
   }
  }
 },
 "nbformat": 4,
 "nbformat_minor": 5
}
