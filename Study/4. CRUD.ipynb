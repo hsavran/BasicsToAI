{
 "cells": [
  {
   "cell_type": "code",
   "execution_count": null,
   "id": "fb0ff79b",
   "metadata": {
    "polyglot_notebook": {
     "kernelName": "csharp"
    }
   },
   "outputs": [],
   "source": [
    "#r \"nuget: Newtonsoft.Json\"\n",
    "#r \"nuget: Microsoft.Azure.Cosmos\"\n",
    "using Microsoft.Azure.Cosmos;\n",
    "using System.Net.Http;\n",
    "using Newtonsoft.Json;\n",
    "using Newtonsoft.Json.Linq;\n",
    "using System.IO;"
   ]
  },
  {
   "cell_type": "code",
   "execution_count": null,
   "id": "bd7b296f",
   "metadata": {
    "polyglot_notebook": {
     "kernelName": "csharp"
    }
   },
   "outputs": [],
   "source": [
    "var cstring = \"AccountEndpoint=https://localhost:8081/;AccountKey=C2y6yDjf5/R+ob0N8A7Cgv30VRDJIWEHLM+4QDU5DE2nQ9nDuVTqobD4b8mGGyPMbIZnqyMsEcaGQy67XIw/Jw==\";\n",
    "var client = new CosmosClient(cstring);\n",
    "var db = client.GetDatabase(\"StackOverflow\");\n",
    "var postContainer = db.GetContainer(\"Posts\");"
   ]
  },
  {
   "cell_type": "code",
   "execution_count": null,
   "id": "d70f6866",
   "metadata": {
    "polyglot_notebook": {
     "kernelName": "csharp"
    }
   },
   "outputs": [],
   "source": [
    "public class Post    \n",
    "{\n",
    "    public string id { get; set; }\n",
    "    public int PostId { get; set; }\n",
    "    public string PostBody { get; set; }\n",
    "    public string Title { get; set; }\n",
    "    public int ViewCount { get; set; }\n",
    "    public int AnswerCount { get; set; }\n",
    "    public int CommentCount { get; set; }\n",
    "    public int FavoriteCount { get; set; }\n",
    "    public int AcceptedAnswerId { get; set; }\n",
    "    public DateTime? CreatedOn { get; set; }\n",
    "    public DateTime? ClosedDate { get; set; }\n",
    "    public int OwnerUserId { get; set; }\n",
    "    public string OwnerDisplayName { get; set; }\n",
    "    public string PostType { get; set; }\n",
    "    public int Score { get; set; }\n",
    "    public string Tags { get; set; }\n",
    "}"
   ]
  },
  {
   "cell_type": "markdown",
   "id": "831701a5",
   "metadata": {},
   "source": [
    "A User adds a new question which triggers an INSERT operation."
   ]
  },
  {
   "cell_type": "code",
   "execution_count": 42,
   "id": "8f0952b2",
   "metadata": {
    "polyglot_notebook": {
     "kernelName": "csharp"
    }
   },
   "outputs": [
    {
     "name": "stdout",
     "output_type": "stream",
     "text": [
      "Created item in database with id: 3db1288d-80d0-4606-bb90-c9b5393face0\n",
      "Request charge: 11.05\n"
     ]
    }
   ],
   "source": [
    "var newpost = new Post\n",
    "{\n",
    "    id = Guid.NewGuid().ToString(),\n",
    "    PostId = -10,\n",
    "    PostBody = \"Can anyone help me with creating a new record in a Cosmos DB container using C#?\",\n",
    "    Title = \"How to create a new record in a Cosmos DB container?\",\n",
    "    ViewCount = 0,\n",
    "    AnswerCount = 0,\n",
    "    CommentCount = 0,\n",
    "    FavoriteCount = 0,\n",
    "    AcceptedAnswerId = 0,\n",
    "    CreatedOn = DateTime.UtcNow,\n",
    "    ClosedDate = null,\n",
    "    OwnerUserId = -10,\n",
    "    OwnerDisplayName = \"Test User\",\n",
    "    PostType = \"Question\",\n",
    "    Score = 0,\n",
    "    Tags = \"CosmosDB,Azure,Database\"    \n",
    "};\n",
    "\n",
    "var newitem = await postContainer.CreateItemAsync(newpost, new PartitionKey(newpost.OwnerUserId));\n",
    "Console.WriteLine($\"Created item in database with id: {newitem.Resource.id}\");\n",
    "Console.WriteLine($\"Request charge: {newitem.RequestCharge}\");\n",
    "\n"
   ]
  },
  {
   "cell_type": "markdown",
   "id": "0595b111",
   "metadata": {},
   "source": [
    "A User finds this question and clicks on it."
   ]
  },
  {
   "cell_type": "code",
   "execution_count": 43,
   "id": "2f7a4d6e",
   "metadata": {
    "polyglot_notebook": {
     "kernelName": "csharp"
    }
   },
   "outputs": [
    {
     "name": "stdout",
     "output_type": "stream",
     "text": [
      "Request charge: 2.92\r\n"
     ]
    },
    {
     "data": {
      "text/html": [
       "<details open=\"open\" class=\"dni-treeview\"><summary><span class=\"dni-code-hint\"><code>Submission#29+Post</code></span></summary><div><table><thead><tr></tr></thead><tbody><tr><td>id</td><td><div class=\"dni-plaintext\"><pre>3db1288d-80d0-4606-bb90-c9b5393face0</pre></div></td></tr><tr><td>PostId</td><td><div class=\"dni-plaintext\"><pre>-10</pre></div></td></tr><tr><td>PostBody</td><td><div class=\"dni-plaintext\"><pre>Can anyone help me with creating a new record in a Cosmos DB container using C#?</pre></div></td></tr><tr><td>Title</td><td><div class=\"dni-plaintext\"><pre>How to create a new record in a Cosmos DB container?</pre></div></td></tr><tr><td>ViewCount</td><td><div class=\"dni-plaintext\"><pre>0</pre></div></td></tr><tr><td>AnswerCount</td><td><div class=\"dni-plaintext\"><pre>0</pre></div></td></tr><tr><td>CommentCount</td><td><div class=\"dni-plaintext\"><pre>0</pre></div></td></tr><tr><td>FavoriteCount</td><td><div class=\"dni-plaintext\"><pre>0</pre></div></td></tr><tr><td>AcceptedAnswerId</td><td><div class=\"dni-plaintext\"><pre>0</pre></div></td></tr><tr><td>CreatedOn</td><td><span>2025-09-26 01:22:32Z</span></td></tr><tr><td>ClosedDate</td><td><div class=\"dni-plaintext\"><pre>&lt;null&gt;</pre></div></td></tr><tr><td>OwnerUserId</td><td><div class=\"dni-plaintext\"><pre>-10</pre></div></td></tr><tr><td>OwnerDisplayName</td><td><div class=\"dni-plaintext\"><pre>Test User</pre></div></td></tr><tr><td>PostType</td><td><div class=\"dni-plaintext\"><pre>Question</pre></div></td></tr><tr><td>Score</td><td><div class=\"dni-plaintext\"><pre>0</pre></div></td></tr><tr><td>Tags</td><td><div class=\"dni-plaintext\"><pre>CosmosDB,Azure,Database</pre></div></td></tr></tbody></table></div></details><style>\r\n",
       ".dni-code-hint {\r\n",
       "    font-style: italic;\r\n",
       "    overflow: hidden;\r\n",
       "    white-space: nowrap;\r\n",
       "}\r\n",
       ".dni-treeview {\r\n",
       "    white-space: nowrap;\r\n",
       "}\r\n",
       ".dni-treeview td {\r\n",
       "    vertical-align: top;\r\n",
       "    text-align: start;\r\n",
       "}\r\n",
       "details.dni-treeview {\r\n",
       "    padding-left: 1em;\r\n",
       "}\r\n",
       "table td {\r\n",
       "    text-align: start;\r\n",
       "}\r\n",
       "table tr { \r\n",
       "    vertical-align: top; \r\n",
       "    margin: 0em 0px;\r\n",
       "}\r\n",
       "table tr td pre \r\n",
       "{ \r\n",
       "    vertical-align: top !important; \r\n",
       "    margin: 0em 0px !important;\r\n",
       "} \r\n",
       "table th {\r\n",
       "    text-align: start;\r\n",
       "}\r\n",
       "</style>"
      ]
     },
     "metadata": {},
     "output_type": "display_data"
    }
   ],
   "source": [
    "var id = newitem.Resource.id;\n",
    "var userid = newitem.Resource.OwnerUserId;\n",
    "\n",
    "var postQuery = new QueryDefinition(\"SELECT * FROM c WHERE c.id = @id AND c.OwnerUserId = @userid\")\n",
    "    .WithParameter(\"@id\", id)\n",
    "    .WithParameter(\"@userid\", userid);\n",
    "    // You can change the consistency level of READ here.\n",
    "    // var iterator = postContainer.GetItemQueryIterator<Post>(postQuery, requestOptions: new QueryRequestOptions { ConsistencyLevel = ConsistencyLevel.Eventual });\n",
    "var iterator = postContainer.GetItemQueryIterator<Post>(postQuery);\n",
    "var results = new List<Post>();\n",
    "while (iterator.HasMoreResults)\n",
    "{\n",
    "    var response = await iterator.ReadNextAsync();\n",
    "    results.AddRange(response);\n",
    "    Console.WriteLine($\"Request charge: {response.RequestCharge}\");\n",
    "}\n",
    "results[0].Display();"
   ]
  },
  {
   "cell_type": "markdown",
   "id": "86604a7d",
   "metadata": {},
   "source": [
    "If you can make id and partitionid available, you can make this operation much more affordable and fast by using READ operation rather than QUERY"
   ]
  },
  {
   "cell_type": "code",
   "execution_count": 44,
   "id": "c8badb8d",
   "metadata": {
    "polyglot_notebook": {
     "kernelName": "csharp"
    }
   },
   "outputs": [
    {
     "name": "stdout",
     "output_type": "stream",
     "text": [
      "Request charge: 1\r\n"
     ]
    },
    {
     "data": {
      "text/html": [
       "<details open=\"open\" class=\"dni-treeview\"><summary><span class=\"dni-code-hint\"><code>Submission#29+Post</code></span></summary><div><table><thead><tr></tr></thead><tbody><tr><td>id</td><td><div class=\"dni-plaintext\"><pre>3db1288d-80d0-4606-bb90-c9b5393face0</pre></div></td></tr><tr><td>PostId</td><td><div class=\"dni-plaintext\"><pre>-10</pre></div></td></tr><tr><td>PostBody</td><td><div class=\"dni-plaintext\"><pre>Can anyone help me with creating a new record in a Cosmos DB container using C#?</pre></div></td></tr><tr><td>Title</td><td><div class=\"dni-plaintext\"><pre>How to create a new record in a Cosmos DB container?</pre></div></td></tr><tr><td>ViewCount</td><td><div class=\"dni-plaintext\"><pre>0</pre></div></td></tr><tr><td>AnswerCount</td><td><div class=\"dni-plaintext\"><pre>0</pre></div></td></tr><tr><td>CommentCount</td><td><div class=\"dni-plaintext\"><pre>0</pre></div></td></tr><tr><td>FavoriteCount</td><td><div class=\"dni-plaintext\"><pre>0</pre></div></td></tr><tr><td>AcceptedAnswerId</td><td><div class=\"dni-plaintext\"><pre>0</pre></div></td></tr><tr><td>CreatedOn</td><td><span>2025-09-26 01:22:32Z</span></td></tr><tr><td>ClosedDate</td><td><div class=\"dni-plaintext\"><pre>&lt;null&gt;</pre></div></td></tr><tr><td>OwnerUserId</td><td><div class=\"dni-plaintext\"><pre>-10</pre></div></td></tr><tr><td>OwnerDisplayName</td><td><div class=\"dni-plaintext\"><pre>Test User</pre></div></td></tr><tr><td>PostType</td><td><div class=\"dni-plaintext\"><pre>Question</pre></div></td></tr><tr><td>Score</td><td><div class=\"dni-plaintext\"><pre>0</pre></div></td></tr><tr><td>Tags</td><td><div class=\"dni-plaintext\"><pre>CosmosDB,Azure,Database</pre></div></td></tr></tbody></table></div></details><style>\r\n",
       ".dni-code-hint {\r\n",
       "    font-style: italic;\r\n",
       "    overflow: hidden;\r\n",
       "    white-space: nowrap;\r\n",
       "}\r\n",
       ".dni-treeview {\r\n",
       "    white-space: nowrap;\r\n",
       "}\r\n",
       ".dni-treeview td {\r\n",
       "    vertical-align: top;\r\n",
       "    text-align: start;\r\n",
       "}\r\n",
       "details.dni-treeview {\r\n",
       "    padding-left: 1em;\r\n",
       "}\r\n",
       "table td {\r\n",
       "    text-align: start;\r\n",
       "}\r\n",
       "table tr { \r\n",
       "    vertical-align: top; \r\n",
       "    margin: 0em 0px;\r\n",
       "}\r\n",
       "table tr td pre \r\n",
       "{ \r\n",
       "    vertical-align: top !important; \r\n",
       "    margin: 0em 0px !important;\r\n",
       "} \r\n",
       "table th {\r\n",
       "    text-align: start;\r\n",
       "}\r\n",
       "</style>"
      ]
     },
     "metadata": {},
     "output_type": "display_data"
    }
   ],
   "source": [
    "var post = await postContainer.ReadItemAsync<Post>(id, new PartitionKey(userid));\n",
    "Console.WriteLine($\"Request charge: {post.RequestCharge}\");\n",
    "post.Resource.Display();"
   ]
  },
  {
   "cell_type": "markdown",
   "id": "b69044d6",
   "metadata": {},
   "source": [
    "A User answers the question which triggers an Update Operation."
   ]
  },
  {
   "cell_type": "code",
   "execution_count": 45,
   "id": "7c32f6c3",
   "metadata": {
    "polyglot_notebook": {
     "kernelName": "csharp"
    }
   },
   "outputs": [
    {
     "data": {
      "text/html": [
       "<details open=\"open\" class=\"dni-treeview\"><summary><span class=\"dni-code-hint\"><code>Submission#29+Post</code></span></summary><div><table><thead><tr></tr></thead><tbody><tr><td>id</td><td><div class=\"dni-plaintext\"><pre>3db1288d-80d0-4606-bb90-c9b5393face0</pre></div></td></tr><tr><td>PostId</td><td><div class=\"dni-plaintext\"><pre>-10</pre></div></td></tr><tr><td>PostBody</td><td><div class=\"dni-plaintext\"><pre>Can anyone help me with creating a new record in a Cosmos DB container using C#?</pre></div></td></tr><tr><td>Title</td><td><div class=\"dni-plaintext\"><pre>How to create a new record in a Cosmos DB container?</pre></div></td></tr><tr><td>ViewCount</td><td><div class=\"dni-plaintext\"><pre>0</pre></div></td></tr><tr><td>AnswerCount</td><td><div class=\"dni-plaintext\"><pre>0</pre></div></td></tr><tr><td>CommentCount</td><td><div class=\"dni-plaintext\"><pre>0</pre></div></td></tr><tr><td>FavoriteCount</td><td><div class=\"dni-plaintext\"><pre>0</pre></div></td></tr><tr><td>AcceptedAnswerId</td><td><div class=\"dni-plaintext\"><pre>0</pre></div></td></tr><tr><td>CreatedOn</td><td><span>2025-09-26 01:22:32Z</span></td></tr><tr><td>ClosedDate</td><td><div class=\"dni-plaintext\"><pre>&lt;null&gt;</pre></div></td></tr><tr><td>OwnerUserId</td><td><div class=\"dni-plaintext\"><pre>-10</pre></div></td></tr><tr><td>OwnerDisplayName</td><td><div class=\"dni-plaintext\"><pre>Test User</pre></div></td></tr><tr><td>PostType</td><td><div class=\"dni-plaintext\"><pre>Question</pre></div></td></tr><tr><td>Score</td><td><div class=\"dni-plaintext\"><pre>0</pre></div></td></tr><tr><td>Tags</td><td><div class=\"dni-plaintext\"><pre>CosmosDB,Azure,Database</pre></div></td></tr></tbody></table></div></details><style>\r\n",
       ".dni-code-hint {\r\n",
       "    font-style: italic;\r\n",
       "    overflow: hidden;\r\n",
       "    white-space: nowrap;\r\n",
       "}\r\n",
       ".dni-treeview {\r\n",
       "    white-space: nowrap;\r\n",
       "}\r\n",
       ".dni-treeview td {\r\n",
       "    vertical-align: top;\r\n",
       "    text-align: start;\r\n",
       "}\r\n",
       "details.dni-treeview {\r\n",
       "    padding-left: 1em;\r\n",
       "}\r\n",
       "table td {\r\n",
       "    text-align: start;\r\n",
       "}\r\n",
       "table tr { \r\n",
       "    vertical-align: top; \r\n",
       "    margin: 0em 0px;\r\n",
       "}\r\n",
       "table tr td pre \r\n",
       "{ \r\n",
       "    vertical-align: top !important; \r\n",
       "    margin: 0em 0px !important;\r\n",
       "} \r\n",
       "table th {\r\n",
       "    text-align: start;\r\n",
       "}\r\n",
       "</style>"
      ]
     },
     "metadata": {},
     "output_type": "display_data"
    },
    {
     "data": {
      "text/html": [
       "<details open=\"open\" class=\"dni-treeview\"><summary><span class=\"dni-code-hint\"><code>Submission#29+Post</code></span></summary><div><table><thead><tr></tr></thead><tbody><tr><td>id</td><td><div class=\"dni-plaintext\"><pre>3db1288d-80d0-4606-bb90-c9b5393face0</pre></div></td></tr><tr><td>PostId</td><td><div class=\"dni-plaintext\"><pre>-10</pre></div></td></tr><tr><td>PostBody</td><td><div class=\"dni-plaintext\"><pre>Can anyone help me with creating a new record in a Cosmos DB container using C#?</pre></div></td></tr><tr><td>Title</td><td><div class=\"dni-plaintext\"><pre>How to create a new record in a Cosmos DB container?</pre></div></td></tr><tr><td>ViewCount</td><td><div class=\"dni-plaintext\"><pre>1</pre></div></td></tr><tr><td>AnswerCount</td><td><div class=\"dni-plaintext\"><pre>1</pre></div></td></tr><tr><td>CommentCount</td><td><div class=\"dni-plaintext\"><pre>0</pre></div></td></tr><tr><td>FavoriteCount</td><td><div class=\"dni-plaintext\"><pre>0</pre></div></td></tr><tr><td>AcceptedAnswerId</td><td><div class=\"dni-plaintext\"><pre>0</pre></div></td></tr><tr><td>CreatedOn</td><td><span>2025-09-26 01:22:32Z</span></td></tr><tr><td>ClosedDate</td><td><div class=\"dni-plaintext\"><pre>&lt;null&gt;</pre></div></td></tr><tr><td>OwnerUserId</td><td><div class=\"dni-plaintext\"><pre>-10</pre></div></td></tr><tr><td>OwnerDisplayName</td><td><div class=\"dni-plaintext\"><pre>Test User</pre></div></td></tr><tr><td>PostType</td><td><div class=\"dni-plaintext\"><pre>Question</pre></div></td></tr><tr><td>Score</td><td><div class=\"dni-plaintext\"><pre>10</pre></div></td></tr><tr><td>Tags</td><td><div class=\"dni-plaintext\"><pre>CosmosDB,Azure,Database</pre></div></td></tr></tbody></table></div></details><style>\r\n",
       ".dni-code-hint {\r\n",
       "    font-style: italic;\r\n",
       "    overflow: hidden;\r\n",
       "    white-space: nowrap;\r\n",
       "}\r\n",
       ".dni-treeview {\r\n",
       "    white-space: nowrap;\r\n",
       "}\r\n",
       ".dni-treeview td {\r\n",
       "    vertical-align: top;\r\n",
       "    text-align: start;\r\n",
       "}\r\n",
       "details.dni-treeview {\r\n",
       "    padding-left: 1em;\r\n",
       "}\r\n",
       "table td {\r\n",
       "    text-align: start;\r\n",
       "}\r\n",
       "table tr { \r\n",
       "    vertical-align: top; \r\n",
       "    margin: 0em 0px;\r\n",
       "}\r\n",
       "table tr td pre \r\n",
       "{ \r\n",
       "    vertical-align: top !important; \r\n",
       "    margin: 0em 0px !important;\r\n",
       "} \r\n",
       "table th {\r\n",
       "    text-align: start;\r\n",
       "}\r\n",
       "</style>"
      ]
     },
     "metadata": {},
     "output_type": "display_data"
    },
    {
     "name": "stdout",
     "output_type": "stream",
     "text": [
      "Request charge: 11.43\r\n"
     ]
    }
   ],
   "source": [
    "var query = new QueryDefinition(\"SELECT * FROM c WHERE c.PostId = @postId\")\n",
    "    .WithParameter(\"@postId\", newpost.PostId);\n",
    "var iterator = postContainer.GetItemQueryIterator<Post>(query);\n",
    "var results = new List<Post>();\n",
    "while (iterator.HasMoreResults)\n",
    "{\n",
    "    var response = await iterator.ReadNextAsync();\n",
    "    results.AddRange(response);\n",
    "}\n",
    "results[0].Display();\n",
    "results[0].ViewCount += 1;\n",
    "results[0].AnswerCount += 1;\n",
    "results[0].Score += 10;\n",
    "//Figure out the partition key\n",
    "var updateResponse = await postContainer.ReplaceItemAsync(results[0], results[0].id, new PartitionKey(results[0].OwnerUserId));\n",
    "updateResponse.Resource.Display();\n",
    "Console.WriteLine($\"Request charge: {updateResponse.RequestCharge}\");"
   ]
  },
  {
   "cell_type": "markdown",
   "id": "d3a55523",
   "metadata": {},
   "source": [
    "We can use Partial Update to make this code and request package lighter.\n",
    "Partial Update request contains only the properties needs to get updated."
   ]
  },
  {
   "cell_type": "code",
   "execution_count": 46,
   "id": "791e2c3a",
   "metadata": {
    "polyglot_notebook": {
     "kernelName": "csharp"
    }
   },
   "outputs": [
    {
     "name": "stdout",
     "output_type": "stream",
     "text": [
      "Request charge: 11.8\r\n"
     ]
    },
    {
     "data": {
      "text/html": [
       "<details open=\"open\" class=\"dni-treeview\"><summary><span class=\"dni-code-hint\"><code>Submission#29+Post</code></span></summary><div><table><thead><tr></tr></thead><tbody><tr><td>id</td><td><div class=\"dni-plaintext\"><pre>3db1288d-80d0-4606-bb90-c9b5393face0</pre></div></td></tr><tr><td>PostId</td><td><div class=\"dni-plaintext\"><pre>-10</pre></div></td></tr><tr><td>PostBody</td><td><div class=\"dni-plaintext\"><pre>Can anyone help me with creating a new record in a Cosmos DB container using C#?</pre></div></td></tr><tr><td>Title</td><td><div class=\"dni-plaintext\"><pre>How to create a new record in a Cosmos DB container?</pre></div></td></tr><tr><td>ViewCount</td><td><div class=\"dni-plaintext\"><pre>2</pre></div></td></tr><tr><td>AnswerCount</td><td><div class=\"dni-plaintext\"><pre>2</pre></div></td></tr><tr><td>CommentCount</td><td><div class=\"dni-plaintext\"><pre>0</pre></div></td></tr><tr><td>FavoriteCount</td><td><div class=\"dni-plaintext\"><pre>0</pre></div></td></tr><tr><td>AcceptedAnswerId</td><td><div class=\"dni-plaintext\"><pre>0</pre></div></td></tr><tr><td>CreatedOn</td><td><span>2025-09-26 01:22:32Z</span></td></tr><tr><td>ClosedDate</td><td><div class=\"dni-plaintext\"><pre>&lt;null&gt;</pre></div></td></tr><tr><td>OwnerUserId</td><td><div class=\"dni-plaintext\"><pre>-10</pre></div></td></tr><tr><td>OwnerDisplayName</td><td><div class=\"dni-plaintext\"><pre>Test User</pre></div></td></tr><tr><td>PostType</td><td><div class=\"dni-plaintext\"><pre>Question</pre></div></td></tr><tr><td>Score</td><td><div class=\"dni-plaintext\"><pre>20</pre></div></td></tr><tr><td>Tags</td><td><div class=\"dni-plaintext\"><pre>CosmosDB,Azure,Database</pre></div></td></tr></tbody></table></div></details><style>\r\n",
       ".dni-code-hint {\r\n",
       "    font-style: italic;\r\n",
       "    overflow: hidden;\r\n",
       "    white-space: nowrap;\r\n",
       "}\r\n",
       ".dni-treeview {\r\n",
       "    white-space: nowrap;\r\n",
       "}\r\n",
       ".dni-treeview td {\r\n",
       "    vertical-align: top;\r\n",
       "    text-align: start;\r\n",
       "}\r\n",
       "details.dni-treeview {\r\n",
       "    padding-left: 1em;\r\n",
       "}\r\n",
       "table td {\r\n",
       "    text-align: start;\r\n",
       "}\r\n",
       "table tr { \r\n",
       "    vertical-align: top; \r\n",
       "    margin: 0em 0px;\r\n",
       "}\r\n",
       "table tr td pre \r\n",
       "{ \r\n",
       "    vertical-align: top !important; \r\n",
       "    margin: 0em 0px !important;\r\n",
       "} \r\n",
       "table th {\r\n",
       "    text-align: start;\r\n",
       "}\r\n",
       "</style>"
      ]
     },
     "metadata": {},
     "output_type": "display_data"
    }
   ],
   "source": [
    "var _id = newitem.Resource.id;\n",
    "var pkey = new PartitionKey(newitem.Resource.OwnerUserId);\n",
    "\n",
    "var ops = new List<PatchOperation>();\n",
    "ops.Add(PatchOperation.Increment(\"/ViewCount\", 1));\n",
    "ops.Add(PatchOperation.Increment(\"/AnswerCount\", 1));\n",
    "ops.Add(PatchOperation.Increment(\"/Score\", 10));\n",
    "\n",
    "var result = await postContainer.PatchItemAsync<Post>(\n",
    "    id: _id, \n",
    "    partitionKey: pkey, \n",
    "    patchOperations: ops);\n",
    "\n",
    "Console.WriteLine($\"Request charge: {result.RequestCharge}\");\n",
    "result.Resource.Display();\n"
   ]
  },
  {
   "cell_type": "markdown",
   "id": "ce197883",
   "metadata": {},
   "source": [
    "Another way to query data is the STREAM API\n",
    "Partition Key is required.\n",
    "There will be no serialization which will make the operation lighter."
   ]
  },
  {
   "cell_type": "code",
   "execution_count": 47,
   "id": "99bbd419",
   "metadata": {
    "polyglot_notebook": {
     "kernelName": "csharp"
    }
   },
   "outputs": [
    {
     "data": {
      "text/plain": [
       "{\r\n",
       "  \"_rid\": \"4QYyANtoaJI=\",\r\n",
       "  \"Documents\": [\r\n",
       "    {\r\n",
       "      \"id\": \"3db1288d-80d0-4606-bb90-c9b5393face0\",\r\n",
       "      \"PostId\": -10,\r\n",
       "      \"PostBody\": \"Can anyone help me with creating a new record in a Cosmos DB container using C#?\",\r\n",
       "      \"Title\": \"How to create a new record in a Cosmos DB container?\",\r\n",
       "      \"ViewCount\": 2,\r\n",
       "      \"AnswerCount\": 2,\r\n",
       "      \"CommentCount\": 0,\r\n",
       "      \"FavoriteCount\": 0,\r\n",
       "      \"AcceptedAnswerId\": 0,\r\n",
       "      \"CreatedOn\": \"2025-09-26T01:22:32.7775895Z\",\r\n",
       "      \"ClosedDate\": null,\r\n",
       "      \"OwnerUserId\": -10,\r\n",
       "      \"OwnerDisplayName\": \"Test User\",\r\n",
       "      \"PostType\": \"Question\",\r\n",
       "      \"Score\": 20,\r\n",
       "      \"Tags\": \"CosmosDB,Azure,Database\",\r\n",
       "      \"_rid\": \"4QYyANtoaJIHAAAAAAAAAA==\",\r\n",
       "      \"_self\": \"dbs/4QYyAA==/colls/4QYyANtoaJI=/docs/4QYyANtoaJIHAAAAAAAAAA==/\",\r\n",
       "      \"_etag\": \"\\\"00000000-0000-0000-2e84-236d341b01dc\\\"\",\r\n",
       "      \"_attachments\": \"attachments/\",\r\n",
       "      \"_ts\": 1758849797\r\n",
       "    }\r\n",
       "  ],\r\n",
       "  \"_count\": 1\r\n",
       "}"
      ]
     },
     "metadata": {},
     "output_type": "display_data"
    }
   ],
   "source": [
    "var query = new QueryDefinition(\"SELECT * FROM c WHERE c.PostId = @postId\")\n",
    "    .WithParameter(\"@postId\", newitem.Resource.PostId);\n",
    "var iterator = postContainer.GetItemQueryStreamIterator(query,null, new QueryRequestOptions { PartitionKey = new PartitionKey(newitem.Resource.PostId) });\n",
    "JObject result;\n",
    "while (iterator.HasMoreResults)\n",
    "{\n",
    "    using (ResponseMessage response = await iterator.ReadNextAsync())\n",
    "    {\n",
    "        using (StreamReader sr = new StreamReader(response.Content))\n",
    "        {\n",
    "            string content = await sr.ReadToEndAsync();\n",
    "            result = JObject.Parse(content);\n",
    "            \n",
    "\n",
    "        }\n",
    "        /*using (JsonTextReader jtr = new JsonTextReader(sr))\n",
    "        {\n",
    "            result = JObject.Load(jtr);\n",
    "            result.Display();            \n",
    "        }*/\n",
    "    }\n",
    "}\n",
    "result.ToString().Display();"
   ]
  },
  {
   "cell_type": "markdown",
   "id": "4e26570f",
   "metadata": {},
   "source": [
    "System finds this question a duplicate and deletes the question"
   ]
  },
  {
   "cell_type": "code",
   "execution_count": 48,
   "id": "ebf63f0a",
   "metadata": {
    "polyglot_notebook": {
     "kernelName": "csharp"
    }
   },
   "outputs": [
    {
     "name": "stdout",
     "output_type": "stream",
     "text": [
      "Delete Operation Cost 11.05 RU/s\r\n"
     ]
    }
   ],
   "source": [
    "var id = results[0].id;\n",
    "var pkey = userid;\n",
    "var deleteResponse = postContainer.DeleteItemAsync<Post>(id, new PartitionKey(pkey));\n",
    "Console.WriteLine($\"Delete Operation Cost {deleteResponse.Result.RequestCharge} RU/s\");"
   ]
  }
 ],
 "metadata": {
  "kernelspec": {
   "display_name": ".NET (C#)",
   "language": "C#",
   "name": ".net-csharp"
  },
  "polyglot_notebook": {
   "kernelInfo": {
    "defaultKernelName": "csharp",
    "items": [
     {
      "aliases": [],
      "languageName": "csharp",
      "name": "csharp"
     }
    ]
   }
  }
 },
 "nbformat": 4,
 "nbformat_minor": 5
}
