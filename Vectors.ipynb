{
 "cells": [
  {
   "cell_type": "code",
   "execution_count": 48,
   "id": "98140ef5",
   "metadata": {
    "polyglot_notebook": {
     "kernelName": "csharp"
    }
   },
   "outputs": [
    {
     "data": {
      "text/html": [
       "<div><div></div><div></div><div><strong>Installed Packages</strong><ul><li><span>Azure, 1.0.6</span></li><li><span>Azure.AI.OpenAI, 2.1.0</span></li><li><span>Azure.Identity, 1.13.2</span></li><li><span>newtonsoft.json, 10.0.3</span></li></ul></div></div>"
      ]
     },
     "metadata": {},
     "output_type": "display_data"
    }
   ],
   "source": [
    "#r \"nuget: Azure.AI.OpenAI\"\n",
    "#r \"nuget: Azure.Identity\"\n",
    "#r \"nuget: Azure\"\n",
    "#r \"nuget: Newtonsoft.Json\"\n",
    "\n",
    "using Azure;\n",
    "using Azure.AI.OpenAI;\n",
    "using Azure.Identity;\n",
    "using OpenAI.Embeddings;\n",
    "using Newtonsoft.Json;\n",
    "using Newtonsoft.Json.Linq;\n",
    "using System.Net.Http;\n",
    "using System.Collections.ObjectModel;"
   ]
  },
  {
   "cell_type": "markdown",
   "id": "f782c368",
   "metadata": {},
   "source": [
    "Create a new Container to store vectors.\n",
    "We need to declare a vector policy for the container\n",
    "Then we will create a vector index\n",
    "and exclude vector index property so it will not get indexed as regular index."
   ]
  },
  {
   "cell_type": "code",
   "execution_count": null,
   "metadata": {
    "polyglot_notebook": {
     "kernelName": "csharp"
    }
   },
   "outputs": [],
   "source": [
    "var cstring = \"AccountEndpoint=https://localhost:8081/;AccountKey=C2y6yDjf5/R+ob0N8A7Cgv30VRDJIWEHLM+4QDU5DE2nQ9nDuVTqobD4b8mGGyPMbIZnqyMsEcaGQy67XIw/Jw==\";\n",
    "var client = new CosmosClient(cstring);\n",
    "var db = client.GetDatabase(\"StackOverflow\");\n",
    " \n",
    "List<Embedding> embeddings = new List<Embedding>()\n",
    "{\n",
    "      new Embedding()\n",
    "      {\n",
    "          Path = \"/bodyvector\",\n",
    "          DataType = VectorDataType.Float32,\n",
    "          DistanceFunction = DistanceFunction.Cosine,\n",
    "          Dimensions = 1536,\n",
    "      }\n",
    "};\n",
    "var collection = new Collection<Embedding>(embeddings);\n",
    "\n",
    "ContainerProperties props = new ContainerProperties(\"VectorPosts\", \"/OwnerUserId\"){    \n",
    "    VectorEmbeddingPolicy = new (collection),\n",
    "    IndexingPolicy = new IndexingPolicy(){\n",
    "        VectorIndexes = new Collection<VectorIndexPath>()\n",
    "        {\n",
    "            new VectorIndexPath()\n",
    "            {\n",
    "                Path = \"/bodyvector\",\n",
    "                Type = VectorIndexType.QuantizedFlat\n",
    "            }\n",
    "        }\n",
    "    }\n",
    "};\n",
    "props.IndexingPolicy.IncludedPaths.Add(new IncludedPath()\n",
    "{\n",
    "    Path = \"/*\"\n",
    "});\n",
    "props.IndexingPolicy.ExcludedPaths.Add(new ExcludedPath()\n",
    "{\n",
    "    Path = \"/bodyvector/?\"\n",
    "});\n",
    "\n",
    "var postContainer = await db.CreateContainerIfNotExistsAsync(props, throughput: 4000);"
   ]
  },
  {
   "cell_type": "code",
   "execution_count": 73,
   "metadata": {
    "polyglot_notebook": {
     "kernelName": "csharp"
    }
   },
   "outputs": [],
   "source": [
    "public class Post    \n",
    "{\n",
    "    public string id { get; set; }\n",
    "    public int PostId { get; set; }\n",
    "    public string PostBody { get; set; }\n",
    "    public string Title { get; set; }\n",
    "    public int ViewCount { get; set; }\n",
    "    public int AnswerCount { get; set; }\n",
    "    public int CommentCount { get; set; }\n",
    "    public int FavoriteCount { get; set; }\n",
    "    public int AcceptedAnswerId { get; set; }\n",
    "    public DateTime? CreatedOn { get; set; }\n",
    "    public DateTime? ClosedDate { get; set; }\n",
    "    public int OwnerUserId { get; set; }\n",
    "    public string OwnerDisplayName { get; set; }\n",
    "    public string PostType { get; set; }\n",
    "    public int Score { get; set; }\n",
    "    public string Tags { get; set; }\n",
    "    public float[] bodyvector {get;set;}\n",
    "    public string score {get;set;}\n",
    "}"
   ]
  },
  {
   "cell_type": "markdown",
   "id": "8479eb66",
   "metadata": {},
   "source": [
    "Declare the client to access Azure AI.\n",
    "We will use the deployment name \"embedding\""
   ]
  },
  {
   "cell_type": "code",
   "execution_count": 51,
   "metadata": {
    "polyglot_notebook": {
     "kernelName": "csharp"
    }
   },
   "outputs": [],
   "source": [
    "var openAIClient = new AzureOpenAIClient(\n",
    "    new Uri(\"https://savranweb.openai.azure.com/\"),\n",
    "    new AzureKeyCredential(\"45e26c76efc749c0a1e5b9b7d6e103d7\"));\n",
    "var aiclient = openAIClient.GetEmbeddingClient(\"embedding\");"
   ]
  },
  {
   "cell_type": "code",
   "execution_count": null,
   "metadata": {
    "polyglot_notebook": {
     "kernelName": "csharp"
    }
   },
   "outputs": [],
   "source": [
    "ReadOnlyMemory<float> GenerateVector(string text)\n",
    "{    \n",
    "    OpenAIEmbedding newembedding = aiclient.GenerateEmbedding(text);\n",
    "    return newembedding.ToFloats();\n",
    "}"
   ]
  },
  {
   "cell_type": "code",
   "execution_count": 53,
   "metadata": {
    "polyglot_notebook": {
     "kernelName": "csharp"
    }
   },
   "outputs": [
    {
     "name": "stdout",
     "output_type": "stream",
     "text": [
      "-0.025809245,0.002151319,0.0035323112,-0.00045182637,-0.007815197,0.020700067,-0.0027488163,-0.00874354,-0.018382503,-0.027020698,0.001398275,0.029785976,-0.005744532,0.0012970462,0.0022978128,0.012384487,0.016525818,0.0052474407,0.009408523,-0.02055522,0.00014958004,-0.0012781173,-0.00061971816,0.0060868994,-0.012713687,-0.011561488,0.0108240815,-0.03868753,8.133544E-06,-0.009039819,0.006346967,-0.016091274,-0.0013735851,-0.035053167,-0.002885434,-0.0038779706,-0.0048293574,-0.03489515,0.027652763,-0.0064128074,0.010712153,0.0121013755,0.0071172942,-0.025545886,-0.013523517,0.0038615107,-0.0016394138,-0.010804329,-0.0075320858,0.014511116,0.022662098,0.008993732,-0.032077204,0.0031718377,-0.0053955805,0.01161416,-0.0035323112,0.021279458,0.011410057,-0.012068455,-0.0127268545,0.0116799995,-0.015432875,0.00714363,-0.0068539344,0.0005970857,0.0069131907,0.011666832,0.018514182,0.0052408567,0.019936325,0.017947959,-8.41002E-05,-0.005991432,0.020068005,0.0036936188,-0.009316348,-0.0045462456,0.008539436,0.0031833595,0.0036870348,-0.025453709,-0.0063502593,0.023267824,0.00047404735,0.0034730553,-0.0073740697,0.032129876,-0.015288027,-0.0005279538,0.004463946,0.007795445,0.0004987373,0.0123054795,-0.009151747,0.025677565,-0.0037660429,0.021371635,0.011864352,-0.021674499,0.00047322435,0.0045824577,-0.0049314094,-0.012693934,-0.027047034,-0.017302727,0.0025397744,-0.009731139,0.019751973,0.02479531,-0.012871702,0.009671883,-0.013451094,-0.03829249,0.0010526156,0.0045791655,-0.0018056595,-0.025466876,-0.016486313,-0.010086674,0.01455062,0.033973392,0.0020459753,-0.01651265,0.0330253,-0.0025644645,-0.0006711556,-0.035026833,-0.021621827,-0.007433326,0.012608343,0.010837249,0.014748139,0.014787643,-0.02695486,0.033262324,-0.017236888,0.016749673,-0.045956258,-0.018408839,0.0028590981,0.019370101,-0.008131228,-0.0056523564,-0.009908906,0.019686133,-0.005184893,-0.007248974,0.011034769,-0.018184982,0.0035421872,0.0001787965,-1.3219419E-05,0.003601443,-0.008947643,0.03518485,0.0061560315,-0.013694701,-0.02459779,-0.0112454565,0.00048186583,0.010060338,-0.017131545,-0.006583991,0.019699302,0.028732536,0.013523517,-0.0035388952,0.007235806,-0.005257317,-0.02486115,0.023136145,-0.030523382,0.0038351747,-0.011857768,0.005649064,0.0093295155,-0.0030763699,-0.013852717,-0.016499482,-0.028416505,0.010738489,0.013279909,0.017434409,-0.002222097,-0.012568839,0.01461646,-0.014958828,0.009362435,-0.015406539,0.02316248,0.027547417,0.011423225,-0.0005345378,-0.6977977,0.0055503044,0.046482977,-0.011146696,0.014629628,0.035079505,0.0073345657,-0.018896054,-0.012766358,0.031234453,-0.0090069,-0.00082341034,-0.020779075,-0.014129245,0.0031718377,-0.0033183314,-0.0016805637,-0.03249858,0.014366268,0.025743404,0.0017628636,0.022899121,0.0060901917,-0.0038318827,0.0012419053,0.0118841035,0.00597168,-0.007281894,0.011159864,0.012430575,-0.022411905,0.021016099,0.009270259,0.013615693,0.039925322,-0.013997565,-0.018817047,0.0033479594,0.0086777,0.023241488,-0.01977831,-0.0030220519,0.015564554,0.00010740135,-0.019027734,0.019870484,0.0055042165,-0.005843292,-0.0062844194,1.4479637E-05,-0.0004398929,0.0227016,-0.0087040365,-0.00053824123,-0.0033002254,-0.02224072,0.019080406,0.0110545205,0.022504082,0.010040586,-0.010461962,0.02812681,-0.013036302,0.0011974634,-0.023899887,0.009803562,-0.026441308,0.0390299,0.0076440135,-0.03189285,0.0170262,0.014511116,-0.011370553,-0.007775693,0.022741105,0.051776506,0.008460429,-0.012259391,-0.011594408,0.023439007,0.0015636978,-0.004381646,-0.0142214205,0.009217587,0.0032837654,0.004417858,-0.03392072,0.009987914,0.0073740697,0.0063041714,0.02225389,0.007183134,-0.042321894,-0.018817047,0.0062514995,0.0033364375,0.008822548,0.01755292,0.03979364,0.00848018,-0.005151973,-0.0011908794,0.005688568,0.0093295155,0.01990999,-0.00038228297,0.0015957948,0.012680766,-0.0073872376,-0.018961893,-0.027231386,-0.016552154,-0.005171725,-0.002951274,-0.007900789,-0.038503177,0.009211004,0.016591657,0.016617993,-0.014761307,0.009322931,0.0016328298,0.014590124,0.016170282,0.0008699098,0.0017299437,-0.006396347,-0.026046269,-0.017368568,0.015906923,0.0031076437,-0.008322164,0.029443607,-0.014511116,0.02578291,0.0068407664,0.009922074,0.0019982413,0.0054350845,-0.013069222,4.467341E-05,0.02342584,-0.0056918603,-0.014998332,-0.028916888,-0.006672875,-0.029259255,-0.0040952424,0.0047174296,-0.009717971,-0.0068736863,-0.0032261556,-0.0019751973,0.008914724,-0.007913957,-0.00717655,-0.015327531,-0.024373934,-0.00447053,-0.025940925,0.0048491093,0.014010733,-0.010119594,-0.002133213,-0.0069263587,-0.00054605975,-0.012687351,0.026006764,-0.019554453,-0.0260331,-0.005777452,-0.00894106,-0.002913416,0.0011028185,0.01258859,0.008447261,-0.020568388,-0.010626561,0.0011102255,-0.021569155,-0.00014978579,-0.0013456031,0.00062959414,0.011969696,0.007920541,0.014998332,0.013681533,0.0039438107,-0.0046647578,0.0009382187,-0.0053429087,0.00588938,-0.023992063,0.017513417,-0.010317114,0.006590575,-0.008789628,0.0025562346,0.0040458622,0.011752424,0.023847215,0.014392604,0.0026319504,-0.011719503,0.009270259,-0.027968794,-0.016499482,-0.008006133,0.020252356,0.009592875,0.019488614,-0.004401398,-0.027178714,0.015116843,0.013141646,0.017013032,-0.009553371,0.014511116,-0.019541286,-0.017789943,-0.026375467,0.0013826381,0.01592009,-0.0013571251,-0.019027734,0.0038121308,0.0068736863,0.016683834,0.017065704,-0.034157746,0.005728072,0.026138443,0.018435175,0.013484013,0.0050993008,-0.0069592786,0.022477746,0.009000315,0.03426309,0.009151747,0.008065389,0.019791476,0.034368433,-0.017961128,0.022095874,0.017460745,0.02695486,0.0046878015,-0.0118446,0.023083473,-0.0106068095,0.0046153776,-0.0062383316,0.0113508,0.033394,-0.003621195,-0.0263623,0.0077032694,0.0146691315,0.037054703,0.006462187,0.0015406539,-0.0030730779,-0.0055009243,0.015841082,-0.018619526,-0.01728956,8.636344E-05,-0.015485547,0.00031356257,-0.0086908685,-0.0020476212,0.0104027055,-0.0010188726,0.01963346,0.004220338,0.024716303,0.013655197,0.012226471,0.011278377,-0.005998016,-0.038002796,0.03510584,-0.008025885,-0.011192785,-0.027968794,-0.031129109,0.012516167,-0.0076374295,0.0057577,9.033698E-07,0.024940157,0.01872487,-0.015972761,0.009296595,0.028363833,0.021147778,0.0040359865,-0.0022566628,-0.021714002,0.0033166853,0.002274769,0.0068210145,0.0027010823,0.021516483,-0.014524284,0.0025677565,-0.013497181,-0.020831747,0.003723247,0.009724555,0.019580789,-0.007986381,-0.0064720633,0.028653529,0.01684185,-0.00453637,0.0121145435,0.019725638,0.008407757,-0.007518918,-0.015274859,-0.014761307,0.020199684,0.02505867,0.024518782,-0.0028228862,0.0005900902,-0.002776798,-0.012667598,-0.043375332,0.008394589,0.0013974521,0.007446494,-0.020344531,-0.009540203,0.020528885,0.001483867,0.017539753,0.007189718,-0.0016254227,-0.009474363,0.0066202027,-0.0068736863,0.0032804734,-0.008914724,-0.0061955354,-0.0030418038,0.018158646,-0.028521849,-0.00011028185,0.00574124,0.0004170547,-0.023978895,0.014102909,0.015801579,0.0016542277,0.0015604058,-0.011252041,0.029970327,-0.0034434272,0.019699302,0.017500248,0.0017299437,0.004180834,0.020081172,-0.0078612855,-0.0061362796,0.0015554678,-0.0146559635,-0.009744307,-0.005899256,-0.0010682525,-0.0010229876,0.023307327,0.003719955,-0.011989447,-0.01755292,0.018975062,0.0033644193,-0.010330282,-0.008980564,-0.0045001577,-0.034289423,-0.029706968,-0.022267057,-0.0073411497,-0.022201218,-0.023017632,-0.02479531,-0.013786877,-0.0069066067,-0.013615693,-0.019659797,-0.0019636753,-0.013549853,-0.033235986,-0.026177948,-0.00054811727,0.0015850958,0.009889155,-0.0069131907,-0.010422458,-0.00425655,0.0023965726,-0.01031053,0.008862052,-0.01872487,-0.0099681625,0.016143946,-0.000121700956,-0.0046351296,0.0027307102,-0.005138805,0.025269357,2.880496E-05,0.00590584,-0.021029267,0.0150773395,-0.007920541,0.010363202,0.015696235,-0.0020756032,-0.012410823,0.0052408567,-0.027415738,-0.0018287034,-0.0018402254,0.016315129,-0.002867328,0.0054976325,0.01295071,-0.01638097,0.002834408,-0.011620744,-0.019791476,-0.0005954397,-0.010896505,0.007229222,-0.010119594,-0.005023585,0.02225389,-0.016143946,-0.0077230213,0.011489064,-0.0119104395,-0.0023603607,0.009671883,0.008954228,0.03162949,-0.002264893,-0.0048853215,-0.018645862,0.00036026776,-0.016604826,0.026586156,-0.019014565,-0.014405772,-0.013984397,-0.026388636,-0.013852717,0.0032278015,0.0023274408,0.005181601,-0.015406539,0.01158124,-0.00052836526,-0.015340699,-0.019106742,-0.02733673,-0.028732536,0.026520316,-0.013431341,0.008361668,0.012265976,0.010508049,-0.01715788,-0.020989763,-0.0006460541,-0.018672198,-0.015867418,0.013918557,0.030286359,0.022201218,0.04213754,-0.01696036,0.015446043,0.012193551,-0.0017003156,0.007453078,-0.0055305525,-0.010165682,0.0004238444,0.00025266065,-0.0027109582,0.0073872376,0.005181601,0.010139346,0.0068934383,0.010870169,-0.02825849,0.0067551746,-0.013786877,-0.013233822,-0.02120045,0.0176846,-0.02120045,0.010883337,-0.025493212,-0.0063568433,0.004967621,0.009796979,0.00930318,0.01963346,0.018553687,-0.011489064,-0.0022467868,0.008341917,-0.0033841713,-0.009823315,-0.004980789,-0.013918557,-0.010119594,0.023768207,0.0062679593,0.02256992,-0.009606043,0.027152378,0.010698985,0.015748907,-0.0047668093,-0.005263901,0.0030450958,-0.009638962,-0.01847468,-0.051644824,-0.03608027,-0.014563788,0.0016171928,0.021516483,-0.017434409,0.0173554,-0.012121127,-0.009935242,-0.008157564,0.004365186,0.058044463,0.013319414,0.012858534,0.014326764,-0.008855468,-0.012134295,0.032445908,-0.007183134,0.0008081849,0.039661963,0.031761173,-0.013233822,-0.014445276,0.013707869,0.0016064938,0.0035520631,-0.02355752,0.020120677,0.00062630215,-0.021885186,-0.0019834272,-0.0046482976,-0.039661963,-0.0048984895,-0.015195851,-0.008045637,-0.027573753,-0.0059881397,-0.025164014,0.028785208,-0.02166133,0.018566854,0.0024080947,-0.0040458622,-0.0083485,0.0075913416,-0.0068934383,0.0047733933,0.02825849,0.027600091,-0.0076571815,-0.0009530327,0.018408839,0.0034236752,-0.0065872828,0.018092807,-0.015432875,0.026599323,-0.020765908,-0.009039819,0.013655197,0.01696036,0.0045528295,-0.0013990981,-0.0020081173,-0.021055603,-0.0047009694,-0.00083904737,0.023807712,-0.0033874633,-0.0013472491,-0.011080856,-0.0047865612,0.009994498,0.0019867192,-0.00582354,-0.012397655,-0.03608027,-0.006495107,0.0025117926,-0.0007884329,0.026994362,-0.0068802703,-0.013069222,0.014576956,0.02238557,-0.019607125,-0.0013628862,0.020370867,0.0041314545,-0.003561939,-0.012377903,0.012055287,-0.026665164,0.018184982,-0.011568072,-0.0019867192,-0.016604826,-0.006725547,0.017697768,-0.0069856145,-0.007920541,-0.009178083,0.004072198,0.0064391433,0.0011546675,-0.020410372,0.012134295,0.0011620744,0.0057577,0.006514859,-0.010705569,-0.0019998872,0.0004456539,-0.005089425,0.009467779,-0.02695486,-0.009388771,0.020528885,0.018105974,0.0017134836,-0.019422773,-0.027968794,-0.0056984443,-0.017408073,0.014748139,-0.003012176,-0.010363202,0.0045692897,-0.0060013076,-0.0052540246,0.00023681793,-0.02440027,-0.008519684,-0.023346832,-0.0018550395,-0.03373637,-0.0026187825,-0.0022599548,0.0076571815,0.015485547,-0.025203517,-0.021095106,0.008328749,-0.044455107,-0.023412671,-0.010126178,-0.014590124,-0.010303946,0.027363066,-0.010718737,0.02707337,0.0026286584,0.019751973,-0.013056054,-0.00017581314,0.0077098534,-0.028311161,-0.0005872097,0.017724104,-0.027126042,-0.004826065,0.009066155,0.00438823,0.0052474407,0.030918421,-0.0017036076,-0.017671432,0.0031471476,0.008256325,-0.0023175648,0.0056161443,0.013747373,-0.004309222,0.002947982,-0.0002185062,0.0035191432,-0.0008748478,-0.009388771,0.006511567,-0.0005119053,0.018698534,-0.027916122,0.012502999,-0.018566854,-0.008723788,0.023741871,-0.009480947,-0.014392604,0.030312695,0.025203517,-0.010020834,-0.007262142,0.023267824,-0.013444509,-0.015946425,-0.0023537767,-0.018224487,-0.017737271,-0.02773177,-0.0017282977,-0.032261554,-0.004556122,-0.00047569335,-0.004072198,-0.013576189,-0.0010155806,-0.0015134949,-0.035527214,-0.005533844,-0.024255423,0.017974295,-0.018158646,-0.00603752,0.002100293,0.0020278692,0.011620744,0.010284194,-0.010205186,-0.0006983145,0.0061000674,0.020278692,0.0038582187,0.01709204,0.21995796,-0.016170282,-0.0029298759,0.022596257,0.0052013528,0.006643247,-0.00048803832,-0.0017529876,-0.0046976777,0.0061461558,0.02857452,0.0056786924,0.0015628749,-0.0040359865,-0.0066004507,-0.010738489,-0.010936009,-0.020318195,-0.034789808,-0.016328298,-0.0067880945,-0.022820113,0.011653664,-0.018711703,0.013273326,-0.0062350393,-0.010633145,-0.010020834,0.014181917,0.031682163,-0.01552505,9.5107804E-05,0.021029267,0.0010361556,-0.016420474,-0.006577407,0.016183449,0.013839549,0.026335964,0.007255558,0.032709267,-0.011298128,5.9153044E-05,0.0020147013,0.0045890417,0.010007666,-0.0063239234,-0.013009966,-0.0070646224,0.021292627,0.009954995,0.000748106,0.011528568,0.0056754,0.0034993913,-0.010863585,0.020054836,0.0062975874,0.007808613,-7.046928E-05,-0.002954566,0.019356932,-0.010949177,0.013497181,-0.008980564,0.016815513,-0.02238557,0.0059420518,0.005224397,0.0012361443,0.0024048027,-0.008848884,0.0001473168,-0.012213303,-0.022135377,-0.034105074,0.036844015,0.027442073,0.035553552,0.026651995,-0.001436133,-0.010903089,-0.009691634,-0.019238422,-0.040557384,-0.048458174,0.018171815,-0.013971229,-0.0025726946,-0.030707734,-0.007321398,-0.0006485231,-0.0068868543,-0.009355851,0.0042367983,0.012977046,0.0011110485,0.027047034,0.0035487711,-0.010705569,-0.020107508,0.027837114,0.038582187,-0.00811806,-0.0049577453,0.0133786695,-0.022767441,-0.0049511613,0.005026877,0.0019126494,-0.014998332,-0.024123743,0.0057247803,-0.019541286,-0.0061428635,0.012838783,0.015564554,-0.01814548,0.01832983,-0.009263676,-0.019040901,0.0015595829,0.005787328,0.007900789,-0.00017694476,-0.0058399998,-0.020963427,-0.003621195,0.006449019,-0.01951495,0.012746606,-0.002877204,0.013293078,-0.0025002705,-0.006646539,0.015090507,0.002967734,0.013273326,-0.015775243,0.011219121,0.017381737,-0.0056655244,0.0034434272,-0.0073543177,-0.018316662,-0.028232154,0.026059436,-0.003729831,0.00025060316,-0.011067688,-0.023728704,-0.009691634,-0.008388004,-0.0038055468,0.028179482,-0.002278061,-0.005599684,-0.044665795,0.0010896506,0.0020542052,-0.045956258,0.0014196731,0.026678331,-0.02009434,-0.026599323,-0.0058597517,-0.17107841,0.011140113,0.0061691995,-0.024821647,-0.006396347,0.0038220068,0.013589357,-0.009395355,-0.010573889,-0.010106426,0.012963878,-0.01931743,-0.03047071,-0.013760541,0.003637655,0.015841082,-0.0125490865,-0.020173348,0.035553552,0.0119104395,0.02825849,-0.02400523,0.021253122,-0.012812447,-0.0059420518,-0.0017315897,0.0060473955,0.037818443,0.0015752198,-0.0012550732,0.0046647578,-0.012173799,0.038213484,-0.00048268883,0.010600225,0.024202751,0.049932986,-0.017184217,-0.0068802703,0.014247756,0.023241488,0.012489831,-0.024387103,0.0016517587,0.002898602,0.013615693,0.022872785,-0.0064654793,0.040847078,-0.006616911,0.008763292,-0.021766674,0.011377136,0.00053577224,0.006416099,0.008598692,0.00096866966,0.009066155,0.010284194,0.0011760654,0.008315581,-0.025993597,-0.0032113416,-0.027178714,-0.015182683,-0.017974295,-0.03726539,0.010975513,0.0033051635,0.0040096506,-0.011396889,0.000749752,0.006314047,0.014339932,0.0069592786,0.02139797,-0.018237654,0.021621827,0.0015604058,0.011765592,-0.0045264936,0.025216686,0.0034862233,0.019949492,-0.0012460203,-0.0022566628,-0.0009875987,-0.0018863134,-0.022767441,-0.0037825028,0.026862683,-0.04039937,-0.0076176776,-0.006692627,-0.00045264937,0.012351567,0.0019505073,0.00031952932,0.0027060204,-0.0010987035,-0.020054836,-0.008249741,-0.018514182,0.02839017,0.027257722,0.0015357159,-0.009079323,0.005754408,0.048115805,0.0009234047,-0.009632379,-0.011956528,0.024979662,0.0127531905,0.0039602704,0.026783675,-0.0015102029,-0.01715788,0.01128496,-0.0017151296,0.040083338,-0.0023570687,-0.030813077,0.023478512,-0.0073872376,-0.018540518,-0.09470413,-0.030260023,0.02029186,0.032366898,-0.005040045,0.03687035,0.008025885,0.026678331,-0.024255423,0.0049248254,-0.02055522,-0.034394767,-0.022648929,-0.010639729,-0.009369019,-0.0014986809,0.014708635,0.012081623,-0.022346064,0.041479144,-0.004658174,-0.0061955354,0.031682163,-0.030707734,-0.008980564,0.010231522,-0.026388636,0.01304947,0.0102117695,-0.01272027,-0.0060276436,-0.015406539,0.0068144305,-0.01788212,-0.018382503,-0.0052145207,-0.020370867,-0.013971229,0.029838648,-0.014247756,0.0040096506,0.0041413303,-0.025150845,-0.027099706,-0.008025885,0.0006382356,-0.0038944306,0.0046943855,0.004941285,-0.022438241,-0.033525683,-0.009770643,-0.01748708,0.013437926,0.016183449,0.014892988,0.023544353,-0.0049840813,-0.011100609,-0.0078612855,-0.034631792,-0.0013093912,-0.029469943,0.004266426,-0.0027389403,0.0012155693,-0.033235986,-0.01611761,0.0024706426,0.022280226,-0.014023901,0.0039668544,-0.0057050283,0.018711703,-0.034789808,0.005056505,-0.023359999,-0.045824576,0.024281759,-0.0019998872,-0.019291094,-0.011851184,0.005026877,-0.031102773,-0.0055568884,0.022082705,-0.009454611,0.013365502,0.0024821647,-0.047273055,-0.009448027,0.010224938,0.018369334,-0.029943991,-0.023807712,0.0047470573,0.0006732131,-0.004542954,0.01775044,0.015762074,-0.025940925,-0.017921623,-0.054884147,0.013444509,0.0037890868,-0.029364599,-0.0125359185,-0.005175017,-0.013036302,-0.010929425,-0.002029515,0.03073407,-0.0009406877,-0.0054614204,0.0005189008,0.016209785,-0.013372086,-0.009336099,0.0353692,-0.0020081173,0.012542503,0.022609426,-0.0038351747,-0.013865885,0.0038648027,0.020173348,-0.007163382,0.0010106426,-0.020831747,0.015419707,-0.025809245,-0.01207504,-1.658857E-05,-0.034605455,-0.016407305,0.02152965,-0.008341917,-0.0035290192,0.011146696,0.021753507,0.0360276,0.017197384,-0.005125637,-0.03047071,0.019830981,-0.010231522,-0.017131545,0.011772176,-0.018171815,-0.002877204,0.019725638,0.0150641715,0.011745839,-2.0047739E-05,-0.014524284,0.007802029,0.0005847407,-0.0005016178,0.011113777,-0.0005670462,-0.00067609356,-0.0055371365,0.051065434,0.015643563,0.019567622,-0.0038648027,0.004440902,0.014590124,-0.006725547,-0.011001849,0.011173032,-0.004384938,-0.005833416,0.0011645434,0.01004717,0.01898823,0.013372086,0.0076637655,0.017250055,0.00061724917,-0.015419707,0.024426606,0.025980428,0.0017694476,-0.020726403,0.006396347,0.010968929,0.017329063,-0.0008855468,0.010870169,-0.0023356709,0.004194002,-0.018540518,0.009270259,0.007453078,0.0033660654,-0.02205637,-0.02093709,0.0039602704,0.019580789,0.031603158,0.020844916,0.04129479,0.007907373,0.00053947576,-0.04253258,-0.017539753,0.008223405,-0.019343765,-0.024624126,0.005787328,0.004302638,0.00724239,-0.0069658626,-0.025005998,0.01158124,-0.015130011,-0.0060605635,-0.008203653,-0.0068210145,-0.031524148,0.032946292,-0.008407757,0.008394589,0.0336837,0.00848018,0.025940925,-0.005813664,-0.0006555186,-0.01154832,0.019501781,0.007940293,0.0047470573,0.0076966854,-0.01847468,-0.0060078916,-0.021213619,0.0039372267,-0.022438241,0.0106068095,-0.0017546336,0.07474147,0.013879053,-0.012878287,0.0125490865,-0.013549853,0.015643563,0.013398422,0.017276391,-0.019198917,-0.02093709,0.008723788,-0.00017704764,-0.002999008,-0.035474543,-0.03131346,-0.0013225592,-0.008552604,0.0031948816,-0.016762841,0.01651265,0.013734205,0.02466363,0.011686584,0.008901556,-0.014603292,0.008625028,0.025387868,-0.027257722,-0.02126629,-0.015551386,0.016433641,0.00848018,-0.042032197,-0.018738039,0.01487982,-0.0031520857,0.0036969108,0.005668816,0.009638962,0.010455377,0.017566089,0.03399973,-0.02565123,-0.0023521308,0.018619526,0.0019340473,-0.013385254,-0.0060605635,-0.006139572\r\n"
     ]
    }
   ],
   "source": [
    "Console.WriteLine(string.Join(\",\",GenerateVector(\"This is a test embedding\").ToArray()));"
   ]
  },
  {
   "cell_type": "code",
   "execution_count": 54,
   "metadata": {
    "polyglot_notebook": {
     "kernelName": "csharp"
    }
   },
   "outputs": [
    {
     "data": {
      "text/html": [
       "<div class=\"dni-plaintext\"><pre>9264</pre></div><style>\r\n",
       ".dni-code-hint {\r\n",
       "    font-style: italic;\r\n",
       "    overflow: hidden;\r\n",
       "    white-space: nowrap;\r\n",
       "}\r\n",
       ".dni-treeview {\r\n",
       "    white-space: nowrap;\r\n",
       "}\r\n",
       ".dni-treeview td {\r\n",
       "    vertical-align: top;\r\n",
       "    text-align: start;\r\n",
       "}\r\n",
       "details.dni-treeview {\r\n",
       "    padding-left: 1em;\r\n",
       "}\r\n",
       "table td {\r\n",
       "    text-align: start;\r\n",
       "}\r\n",
       "table tr { \r\n",
       "    vertical-align: top; \r\n",
       "    margin: 0em 0px;\r\n",
       "}\r\n",
       "table tr td pre \r\n",
       "{ \r\n",
       "    vertical-align: top !important; \r\n",
       "    margin: 0em 0px !important;\r\n",
       "} \r\n",
       "table th {\r\n",
       "    text-align: start;\r\n",
       "}\r\n",
       "</style>"
      ]
     },
     "metadata": {},
     "output_type": "display_data"
    }
   ],
   "source": [
    "var json = await new HttpClient().GetStringAsync(\"https://raw.githubusercontent.com/hsavran/Presentations/refs/heads/main/stackoverflow.json\");\n",
    "var postList = JsonConvert.DeserializeObject<List<Post>>(json);\n",
    "postList.Count.Display();\n",
    "\n",
    "client = new CosmosClient(cstring, new CosmosClientOptions() {AllowBulkExecution = true});\n",
    "Container postContainer = client.GetContainer(\"StackOverflow\", \"VectorPosts\");\n",
    "foreach (var post in postList.Take(1000))\n",
    "{\n",
    "    post.bodyvector = GenerateVector(post.PostBody).ToArray();\n",
    "    await postContainer.UpsertItemAsync(post, new PartitionKey(post.OwnerUserId));    \n",
    "}"
   ]
  },
  {
   "cell_type": "markdown",
   "id": "2cb0d698",
   "metadata": {},
   "source": [
    "Make a vector search"
   ]
  },
  {
   "cell_type": "code",
   "execution_count": 28,
   "metadata": {
    "polyglot_notebook": {
     "kernelName": "csharp"
    }
   },
   "outputs": [
    {
     "data": {
      "text/html": [
       "<div><div></div><div></div><div><strong>Installed Packages</strong><ul><li><span>Microsoft.Azure.Cosmos, 3.49.0</span></li><li><span>newtonsoft.json, 10.0.3</span></li></ul></div></div>"
      ]
     },
     "metadata": {},
     "output_type": "display_data"
    }
   ],
   "source": [
    "#r \"nuget: Newtonsoft.Json\"\n",
    "#r \"nuget: Microsoft.Azure.Cosmos\"\n",
    "using Microsoft.Azure.Cosmos;"
   ]
  },
  {
   "cell_type": "code",
   "execution_count": 57,
   "metadata": {
    "polyglot_notebook": {
     "kernelName": "csharp"
    }
   },
   "outputs": [],
   "source": [
    "var cstring = \"AccountEndpoint=https://localhost:8081/;AccountKey=C2y6yDjf5/R+ob0N8A7Cgv30VRDJIWEHLM+4QDU5DE2nQ9nDuVTqobD4b8mGGyPMbIZnqyMsEcaGQy67XIw/Jw==\";\n",
    "var client = new CosmosClient(cstring);\n",
    "var db = client.GetDatabase(\"StackOverflow\");\n",
    "var vectorContainer = db.GetContainer(\"VectorPosts\");"
   ]
  },
  {
   "cell_type": "code",
   "execution_count": 77,
   "metadata": {
    "polyglot_notebook": {
     "kernelName": "csharp"
    }
   },
   "outputs": [
    {
     "name": "stdout",
     "output_type": "stream",
     "text": [
      "Found item:\t0.8281025153516627\t<p>MERGE is one of the new features in SQL Server 2008, by the way.</p>\n",
      "\n",
      "Found item:\t0.8114448861387039\t<p>One thing you have to watch out for is the fairly severe differences in the way SQL&nbsp;Server and MySQL implement the SQL syntax.</p>\n",
      "\n",
      "<p>Here's a nice <a href=\"http://troels.arvin.dk/db/rdbms/\" rel=\"noreferrer\">Comparison of Different SQL Implementations</a>.</p>\n",
      "\n",
      "<p>For example, take a look at the top-n section. In MySQL:</p>\n",
      "\n",
      "<pre><code>SELECT age\n",
      "FROM person\n",
      "ORDER BY age ASC\n",
      "LIMIT 1 OFFSET 2\n",
      "</code></pre>\n",
      "\n",
      "<p>In SQL&nbsp;Server (T-SQL):</p>\n",
      "\n",
      "<pre><code>SELECT TOP 3 WITH TIES *\n",
      "FROM person\n",
      "ORDER BY age ASC\n",
      "</code></pre>\n",
      "\n",
      "Found item:\t0.8096576115258016\t<p>There's no known trick 'in the wild' for getting around this, other than using CTP-6 of SQL Server 2008 (in favour of the RTM).</p>\n",
      "\n",
      "<p>the reasons for removing backward compatability (and a lot more discussion besides) are provided at the <a href=\"https://connect.microsoft.com/SQLServer/feedback/ViewFeedback.aspx?FeedbackID=341872\" rel=\"nofollow noreferrer\">relevant feedback in microsoft connect</a>.</p>\n",
      "\n",
      "<p>edit: sorry i don't know where this ctp is available, if at all</p>\n",
      "\n",
      "Found item:\t0.8066652316324501\t<p>Hey, I'm still stuck in that camp too. The third party application we have to support is FINALLY going to 2K5, so we're almost out of the wood. But I feel your pain 8^D</p>\n",
      "\n",
      "<p>That said, from everything I heard from our DBA, the key is to convert the database to 8.0 format first, and then go to 2005. I believe they used the built in migration/upgrade tools for this. There are some big steps between 6.5 and 8.0 that are better solved there than going from 6.5 to 2005 directly.</p>\n",
      "\n",
      "<p>Your BIGGEST pain, if you didn't know already, is that DTS is gone in favor of SSIS. There is a shell type module that will run your existing DTS packages, but you're going to want to manually recreate them all in SSIS. Ease of this will depend on the complexity of the packages themselves, but I've done a few at work so far and they've been pretty smooth.</p>\n",
      "\n",
      "Found item:\t0.8039819874301077\t<p>Like Rob Allen, I use SQL Compare / Data Compare by Redgate. I also use the Database publishing wizard by Microsoft. I also have a console app I wrote in C# that takes a sql script and runs it on a server. This way you can run large scripts with 'GO' commands in it from a command line or in a batch script.</p>\n",
      "\n",
      "<p>I use Microsoft.SqlServer.BatchParser.dll and Microsoft.SqlServer.ConnectionInfo.dll libraries in the console application.</p>\n",
      "\n",
      "Found item:\t0.8029545273130423\t<p>Yes, I know.  The existence of a running copy of <code>SQL Server 6.5</code> in 2008 is absurd.</p>\n",
      "\n",
      "<p>That stipulated, what is the best way to migrate from <code>6.5</code> to <code>2005</code>?  Is there any direct path?  Most of the documentation I've found deals with upgrading <code>6.5</code> to <code>7</code>.</p>\n",
      "\n",
      "<p>Should I forget about the native <code>SQL Server</code> upgrade utilities, script out all of the objects and data, and try to recreate from scratch?</p>\n",
      "\n",
      "<p>I was going to attempt the upgrade this weekend, but server issues pushed it back till next.  So, any ideas would be welcomed during the course of the week.</p>\n",
      "\n",
      "<p><em>Update.  This is how I ended up doing it:</em></p>\n",
      "\n",
      "<ul>\n",
      "<li>Back up the database in question and Master on <code>6.5</code>.</li>\n",
      "<li>Execute <code>SQL Server 2000</code>'s <code>instcat.sql</code> against <code>6.5</code>'s Master.  This allows <code>SQL Server 2000</code>'s OLEDB provider to connect to <code>6.5</code>.</li>\n",
      "<li>Use <code>SQL Server 2000</code>'s standalone <code>\"Import and Export Data\"</code> to create a DTS package, using <code>OLEDB</code> to connect to 6.5.  This successfully copied all <code>6.5</code>'s tables to a new <code>2005</code> database (also using <code>OLEDB</code>).</li>\n",
      "<li>Use <code>6.5</code>'s Enterprise Manager to script out all of the database's indexes and triggers to a .sql file.</li>\n",
      "<li>Execute that .sql file against the new copy of the database, in 2005's Management Studio.</li>\n",
      "<li>Use 6.5's Enterprise Manager to script out all of the stored procedures.</li>\n",
      "<li>Execute that <code>.sql</code> file against the <code>2005</code> database.  Several dozen sprocs had issues making them incompatible with <code>2005</code>.  Mainly <code>non-ANSI joins</code> and <code>quoted identifier issues</code>.</li>\n",
      "<li>Corrected all of those issues and re-executed the <code>.sql</code> file.</li>\n",
      "<li>Recreated the <code>6.5</code>'s logins in <code>2005</code> and gave them appropriate permissions.</li>\n",
      "</ul>\n",
      "\n",
      "<p>There was a bit of rinse/repeat when correcting the stored procedures (there were hundreds of them to correct), but the upgrade went great otherwise.</p>\n",
      "\n",
      "<p>Being able to use Management Studio instead of <code>Query Analyzer</code> and <code>Enterprise Manager 6.5</code> is such an amazing difference.  A few report queries that took 20-30 seconds on the <code>6.5 database</code> are now running in 1-2 seconds, without any modification, new indexes, or anything.  I didn't expect that kind of immediate improvement.</p>\n",
      "\n",
      "Found item:\t0.8027161152421798\t<p>MySQL is more likely to have database corruption issues, and it doesn't fix them automatically when they happen. I've worked with MSSQL since version 6.5 and don't remember a database corruption issue taking the database offline. The few times I've worked with MySQL in a production environment, a database corruption issue took the entire database offline until we ran the magic \"please fix my corrupted index\" thing from the commandline.</p>\n",
      "\n",
      "<p>MSSQL's transaction and journaling system, in my experience, handles just about anything - including a power cycle or hardware failure - without database corruption, and if something gets messed up it fixes it automatically.</p>\n",
      "\n",
      "<p>This has been my experience, and I'd be happy to hear that this has been fixed or we were doing something wrong.</p>\n",
      "\n",
      "<p><a href=\"http://dev.mysql.com/doc/refman/6.0/en/corrupted-myisam-tables.html\" rel=\"noreferrer\">http://dev.mysql.com/doc/refman/6.0/en/corrupted-myisam-tables.html</a></p>\n",
      "\n",
      "<p><a href=\"http://www.google.com/search?q=site%3Abugs.mysql.com+index+corruption\" rel=\"noreferrer\">http://www.google.com/search?q=site%3Abugs.mysql.com+index+corruption</a></p>\n",
      "\n",
      "Found item:\t0.8021990582854261\t<p>For SQL Server 2005, I'd recommend using table variables and partially building the data as you go. </p>\n",
      "\n",
      "<p>To do this, create a table variable that represents your final result set you want to send to the user.</p>\n",
      "\n",
      "<p>Then find your primary table (say the orders table in your example above) and pull that data, plus a bit of supplementary data that is only say one join away (customer name, product name). You can do a SELECT INTO to put this straight into your table variable.</p>\n",
      "\n",
      "<p>From there, iterate through the table and for each row, do a bunch of small SELECT queries that retrieves all the supplemental data you need for your result set. Insert these into each column as you go.</p>\n",
      "\n",
      "<p>Once complete, you can then do a simple SELECT * from your table variable and return this result set to the user.</p>\n",
      "\n",
      "<p>I don't have any hard numbers for this, but there have been three distinct instances that I have worked on to date where doing these smaller queries has actually worked faster than doing one massive select query with a bunch of joins.</p>\n",
      "\n",
      "Found item:\t0.8006230162308694\t<p>Definitely upgrade to TFS 2008 and Visual Studio 2008, as it is the \"v2\" version of Team System in every way. Fixes lots of small and medium sized problems.</p>\n",
      "\n",
      "<p>As for \"things being randomly checked out\" this is almost <em>always</em> due to Visual Studio deciding to edit files on your behalf. Try getting latest from the Team Explorer, with nothing open in Visual Studio, and see if that behavior persists. I bet it won't!</p>\n",
      "\n",
      "<p>Multiple TFS servers is a bad idea. Make sure your proxy is configured correctly, as it caches repeated GETs. That said, TFS is a server connected model, so it'll always be a bit slower than true \"offline\" source control systems.</p>\n",
      "\n",
      "<p>Also, if you could edit your question to contain more specific complaints or details, that would help -- right now it's awfully vague, so I can't answer very well.</p>\n",
      "\n",
      "Found item:\t0.7994483700448055\t<p><strong>Team Foundation Server</strong></p>\n",
      "\n"
     ]
    }
   ],
   "source": [
    "  float[] embedding = GenerateVector(\"problems of SQL Server\").ToArray();\n",
    "  var queryDef = new QueryDefinition(\n",
    "      query: $\"SELECT TOP 10 c.PostBody, VectorDistance(c.bodyvector,@embedding) AS score FROM c ORDER BY VectorDistance(c.bodyvector,@embedding)\"\n",
    "      ).WithParameter(\"@embedding\", embedding);\n",
    "  FeedIterator<Post> feed = vectorContainer.GetItemQueryIterator<Post>(\n",
    "      queryDefinition: queryDef\n",
    "  );\n",
    "  while (feed.HasMoreResults) \n",
    "  {\n",
    "      FeedResponse<Post> response = await feed.ReadNextAsync();\n",
    "      foreach (Post item in response)\n",
    "      {\n",
    "          Console.WriteLine($\"Found item:\\t{item.score}\\t{item.PostBody}\");\n",
    "      }\n",
    "  }"
   ]
  }
 ],
 "metadata": {
  "kernelspec": {
   "display_name": ".NET (C#)",
   "language": "C#",
   "name": ".net-csharp"
  },
  "polyglot_notebook": {
   "kernelInfo": {
    "defaultKernelName": "csharp",
    "items": [
     {
      "aliases": [],
      "languageName": "csharp",
      "name": "csharp"
     }
    ]
   }
  }
 },
 "nbformat": 4,
 "nbformat_minor": 5
}
