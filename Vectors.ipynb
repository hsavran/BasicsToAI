{
 "cells": [
  {
   "cell_type": "code",
   "execution_count": 8,
   "id": "98140ef5",
   "metadata": {
    "polyglot_notebook": {
     "kernelName": "csharp"
    }
   },
   "outputs": [
    {
     "data": {
      "text/html": [
       "<div><div></div><div></div><div><strong>Installed Packages</strong><ul><li><span>Azure, 1.0.6</span></li><li><span>azure.ai.openai, 2.2.0-beta.4</span></li><li><span>Azure.Identity, 1.13.2</span></li><li><span>Newtonsoft.Json, 13.0.3</span></li></ul></div></div>"
      ]
     },
     "metadata": {},
     "output_type": "display_data"
    }
   ],
   "source": [
    "#r \"nuget: Azure.AI.OpenAI\"\n",
    "#r \"nuget: Azure.Identity\"\n",
    "#r \"nuget: Azure\"\n",
    "#r \"nuget: Newtonsoft.Json\"\n",
    "\n",
    "using Azure;\n",
    "using Azure.AI.OpenAI;\n",
    "using Azure.Identity;\n",
    "using OpenAI.Embeddings;\n",
    "using Newtonsoft.Json;\n",
    "using Newtonsoft.Json.Linq;\n",
    "using System.Net.Http;\n",
    "using System.Collections.ObjectModel;"
   ]
  },
  {
   "cell_type": "markdown",
   "id": "f782c368",
   "metadata": {},
   "source": [
    "Create a new Container to store vectors.\n",
    "We need to declare a vector policy for the container\n",
    "Then we will create a vector index\n",
    "and exclude vector index property so it will not get indexed as regular index."
   ]
  },
  {
   "cell_type": "code",
   "execution_count": null,
   "metadata": {
    "polyglot_notebook": {
     "kernelName": "csharp"
    }
   },
   "outputs": [],
   "source": [
    "var cstring = \"AccountEndpoint=https://localhost:8081/;AccountKey=C2y6yDjf5/R+ob0N8A7Cgv30VRDJIWEHLM+4QDU5DE2nQ9nDuVTqobD4b8mGGyPMbIZnqyMsEcaGQy67XIw/Jw==\";\n",
    "var client = new CosmosClient(cstring);\n",
    "var db = client.GetDatabase(\"StackOverflow\");\n",
    " \n",
    "List<Embedding> embeddings = new List<Embedding>()\n",
    "{\n",
    "      new Embedding()\n",
    "      {\n",
    "          Path = \"/bodyvector\",\n",
    "          DataType = VectorDataType.Float32,\n",
    "          DistanceFunction = DistanceFunction.Cosine,\n",
    "          Dimensions = 1536,\n",
    "      }\n",
    "};\n",
    "var collection = new Collection<Embedding>(embeddings);\n",
    "\n",
    "ContainerProperties props = new ContainerProperties(\"VectorPosts\", \"/OwnerUserId\"){    \n",
    "    VectorEmbeddingPolicy = new (collection),\n",
    "    IndexingPolicy = new IndexingPolicy(){\n",
    "        VectorIndexes = new Collection<VectorIndexPath>()\n",
    "        {\n",
    "            new VectorIndexPath()\n",
    "            {\n",
    "                Path = \"/bodyvector\",\n",
    "                Type = VectorIndexType.QuantizedFlat\n",
    "            }\n",
    "        }\n",
    "    }\n",
    "};\n",
    "props.IndexingPolicy.IncludedPaths.Add(new IncludedPath()\n",
    "{\n",
    "    Path = \"/*\"\n",
    "});\n",
    "props.IndexingPolicy.ExcludedPaths.Add(new ExcludedPath()\n",
    "{\n",
    "    Path = \"/bodyvector/?\"\n",
    "});\n",
    "\n",
    "var postContainer = await db.CreateContainerIfNotExistsAsync(props, throughput: 4000);"
   ]
  },
  {
   "cell_type": "code",
   "execution_count": 9,
   "metadata": {
    "polyglot_notebook": {
     "kernelName": "csharp"
    }
   },
   "outputs": [],
   "source": [
    "public class Post    \n",
    "{\n",
    "    public string id { get; set; }\n",
    "    public int PostId { get; set; }\n",
    "    public string PostBody { get; set; }\n",
    "    public string Title { get; set; }\n",
    "    public int ViewCount { get; set; }\n",
    "    public int AnswerCount { get; set; }\n",
    "    public int CommentCount { get; set; }\n",
    "    public int FavoriteCount { get; set; }\n",
    "    public int AcceptedAnswerId { get; set; }\n",
    "    public DateTime? CreatedOn { get; set; }\n",
    "    public DateTime? ClosedDate { get; set; }\n",
    "    public int OwnerUserId { get; set; }\n",
    "    public string OwnerDisplayName { get; set; }\n",
    "    public string PostType { get; set; }\n",
    "    public int Score { get; set; }\n",
    "    public string Tags { get; set; }\n",
    "    public float[] bodyvector {get;set;}\n",
    "    public string score {get;set;}\n",
    "}"
   ]
  },
  {
   "cell_type": "markdown",
   "id": "8479eb66",
   "metadata": {},
   "source": [
    "Declare the client to access Azure AI.\n",
    "We will use the deployment name \"embedding\""
   ]
  },
  {
   "cell_type": "code",
   "execution_count": 13,
   "metadata": {
    "polyglot_notebook": {
     "kernelName": "csharp"
    }
   },
   "outputs": [],
   "source": [
    "var openAIClient = new AzureOpenAIClient(\n",
    "    new Uri(\"https://savranweb.openai.azure.com/\"),\n",
    "    new AzureKeyCredential(\"3Qg3P8Fw37qaN3ZtG2JJapZZVjBFTKvOIDaIYXoL5a5fduu3wz2XJQQJ99BDACYeBjFXJ3w3AAABACOGPUlQ\"));\n",
    "var aiclient = openAIClient.GetEmbeddingClient(\"embedding\");"
   ]
  },
  {
   "cell_type": "code",
   "execution_count": 14,
   "metadata": {
    "polyglot_notebook": {
     "kernelName": "csharp"
    }
   },
   "outputs": [],
   "source": [
    "ReadOnlyMemory<float> GenerateVector(string text)\n",
    "{    \n",
    "    OpenAIEmbedding newembedding = aiclient.GenerateEmbedding(text);\n",
    "    return newembedding.ToFloats();\n",
    "}"
   ]
  },
  {
   "cell_type": "code",
   "execution_count": null,
   "metadata": {
    "polyglot_notebook": {
     "kernelName": "csharp"
    }
   },
   "outputs": [],
   "source": [
    "Console.WriteLine(string.Join(\",\",GenerateVector(\"This is a test embedding\").ToArray()));"
   ]
  },
  {
   "cell_type": "code",
   "execution_count": null,
   "metadata": {
    "polyglot_notebook": {
     "kernelName": "csharp"
    }
   },
   "outputs": [],
   "source": [
    "var json = await new HttpClient().GetStringAsync(\"https://raw.githubusercontent.com/hsavran/Presentations/refs/heads/main/stackoverflow.json\");\n",
    "var postList = JsonConvert.DeserializeObject<List<Post>>(json);\n",
    "postList.Count.Display();\n",
    "\n",
    "client = new CosmosClient(cstring, new CosmosClientOptions() {AllowBulkExecution = true});\n",
    "Container postContainer = client.GetContainer(\"StackOverflow\", \"VectorPosts\");\n",
    "foreach (var post in postList.Take(1000))\n",
    "{\n",
    "    post.bodyvector = GenerateVector(post.PostBody).ToArray();\n",
    "    await postContainer.UpsertItemAsync(post, new PartitionKey(post.OwnerUserId));    \n",
    "}"
   ]
  },
  {
   "cell_type": "markdown",
   "id": "2cb0d698",
   "metadata": {},
   "source": [
    "Make a vector search"
   ]
  },
  {
   "cell_type": "code",
   "execution_count": 10,
   "metadata": {
    "polyglot_notebook": {
     "kernelName": "csharp"
    }
   },
   "outputs": [
    {
     "data": {
      "text/html": [
       "<div><div></div><div></div><div><strong>Installed Packages</strong><ul><li><span>Microsoft.Azure.Cosmos, 3.49.0</span></li><li><span>Newtonsoft.Json, 13.0.3</span></li></ul></div></div>"
      ]
     },
     "metadata": {},
     "output_type": "display_data"
    }
   ],
   "source": [
    "#r \"nuget: Newtonsoft.Json\"\n",
    "#r \"nuget: Microsoft.Azure.Cosmos\"\n",
    "using Microsoft.Azure.Cosmos;"
   ]
  },
  {
   "cell_type": "code",
   "execution_count": 11,
   "metadata": {
    "polyglot_notebook": {
     "kernelName": "csharp"
    }
   },
   "outputs": [],
   "source": [
    "var cstring = \"AccountEndpoint=https://localhost:8081/;AccountKey=C2y6yDjf5/R+ob0N8A7Cgv30VRDJIWEHLM+4QDU5DE2nQ9nDuVTqobD4b8mGGyPMbIZnqyMsEcaGQy67XIw/Jw==\";\n",
    "var client = new CosmosClient(cstring);\n",
    "var db = client.GetDatabase(\"StackOverflow\");\n",
    "var vectorContainer = db.GetContainer(\"VectorPosts\");"
   ]
  },
  {
   "cell_type": "code",
   "execution_count": 45,
   "metadata": {
    "polyglot_notebook": {
     "kernelName": "csharp"
    }
   },
   "outputs": [
    {
     "name": "stdout",
     "output_type": "stream",
     "text": [
      "Found item:\t0.7777008344870484\tMechanisms for tracking DB schema changes\n",
      "Found item:\t0.7677607888037157\tHow to export data from SQL Server 2005 to MySQL\n",
      "Found item:\t0.7650628408879497\tHow big can a MySQL database get before performance starts to degrade\n",
      "Found item:\t0.7635516222422777\tFlat file databases\n",
      "Found item:\t0.7620110856707862\tAuto Generate Database Diagram MySQL\n",
      "Found item:\t0.7583531478382687\tCreate a SQLite database based on an XSD Data Set\n",
      "Found item:\t0.7567722506294345\tUpgrading SQL Server 6.5\n",
      "Found item:\t0.7556085075533724\tUsing multiple SQLite databases at once\n",
      "Found item:\t0.7548356251765791\tSpeed Comparisons - Procedural vs. OO in interpreted languages\n",
      "Found item:\t0.754336419254531\tBinary Data in MySQL\n",
      "<p>What are the best methods for tracking and/or automating DB schema changes?  Our team uses Subversion for version control and we've been able to automate some of our tasks this way (pushing builds up to a staging server, deploying tested code to a production server) but we're still doing database updates manually.  I would like to find or create a solution that allows us to work efficiently across servers with different environments while continuing to use Subversion as a backend through which code and DB updates are pushed around to various servers.</p>\n",
      "\n",
      "<p>Many popular software packages include auto-update scripts which detect DB version and apply the necessary changes.  Is this the best way to do this even on a larger scale (across multiple projects and sometimes multiple environments and languages)?  If so, is there any existing code out there that simplifies the process or is it best just to roll our own solution?  Has anyone implemented something similar before and integrated it into Subversion post-commit hooks, or is this a bad idea?</p>\n",
      "\n",
      "<p>While a solution that supports multiple platforms would be preferable, we definitely need to support the Linux/Apache/MySQL/PHP stack as the majority of our work is on that platform.</p>\n",
      "\n",
      "<p>I've been banging my head against <code>SQL Server 2005</code> trying to get a lot of data out.  I've been given a database with nearly 300 tables in it and I need to turn this into a MySQL database.  My first call was to use bcp but unfortunately it doesn't produce valid CSV - strings aren't encapsulated, so you can't deal with any row that has a string with a comma in it (or whatever you use as a delimiter) and I would still have to hand write all of the create table statements, as obviously CSV doesn't tell you anything about the data types.</p>\n",
      "\n",
      "<p>What would be better is if there was some tool that could connect to both SQL Server and MySQL, then do a copy. You lose views, stored procedures, trigger, etc, but it isn't hard to copy a table that only uses base types from one DB to another... is it?</p>\n",
      "\n",
      "<p>Does anybody know of such a tool?  I don't mind how many assumptions it makes or what simplifications occur, as long as it supports integer, float, datetime and string. I have to do a lot of pruning, normalising, etc. anyway so I don't care about keeping keys, relationships or anything like that, but I need the initial set of data in fast!</p>\n",
      "\n",
      "<p>At what point does a MySQL database start to lose performance?</p>\n",
      "\n",
      "<ul>\n",
      "<li>Does physical database size matter?</li>\n",
      "<li>Do number of records matter?</li>\n",
      "<li>Is any performance degradation linear or exponential?</li>\n",
      "</ul>\n",
      "\n",
      "<p>I have what I believe to be a large database, with roughly 15M records which take up almost 2GB. Based on these numbers, is there any incentive for me to clean the data out, or am I safe to allow it to continue scaling for a few more years?</p>\n",
      "\n",
      "<p>What are the best practices around creating flat file database structures in PHP?</p>\n",
      "\n",
      "<p>A lot of the more mature PHP flat file frameworks I see out there attempt to implement SQL-like query syntax, which is over the top for my purposes in most cases (I would just use a database at that point).</p>\n",
      "\n",
      "<p>Are there any elegant tricks out there to get good performance and features with a small code overhead?</p>\n",
      "\n",
      "<p>I'm tired of opening Dia and creating a database diagram at the beginning of every project. Is there a tool out there that will let me select specific tables and then create a database diagram for me based on a MySQL database? Preferably it would allow me to edit the diagram afterward since none of the foreign keys are set...</p>\n",
      "\n",
      "<p>Here is what I am picturing diagram-wise (please excuse the horrible data design, I didn't design it. Let's focus on the diagram concept and not on the actual data it represents for this example ;) ):</p>\n",
      "\n",
      "<p><img src=\"https://i.stack.imgur.com/lxvlR.jpg\" alt=\"diagram\">\n",
      "<a href=\"https://i.stack.imgur.com/ZnN2O.png\" rel=\"noreferrer\">see full size diagram</a></p>\n",
      "\n",
      "<p>Does anybody know if there is a way to create a SQLite database based on an XSD <code>DataSet</code>? In the past I've just used a basic SQLite manager, but want to fuse things a bit more with my <code>.NET</code> development if possible.</p>\n",
      "\n",
      "<p>Yes, I know.  The existence of a running copy of <code>SQL Server 6.5</code> in 2008 is absurd.</p>\n",
      "\n",
      "<p>That stipulated, what is the best way to migrate from <code>6.5</code> to <code>2005</code>?  Is there any direct path?  Most of the documentation I've found deals with upgrading <code>6.5</code> to <code>7</code>.</p>\n",
      "\n",
      "<p>Should I forget about the native <code>SQL Server</code> upgrade utilities, script out all of the objects and data, and try to recreate from scratch?</p>\n",
      "\n",
      "<p>I was going to attempt the upgrade this weekend, but server issues pushed it back till next.  So, any ideas would be welcomed during the course of the week.</p>\n",
      "\n",
      "<p><em>Update.  This is how I ended up doing it:</em></p>\n",
      "\n",
      "<ul>\n",
      "<li>Back up the database in question and Master on <code>6.5</code>.</li>\n",
      "<li>Execute <code>SQL Server 2000</code>'s <code>instcat.sql</code> against <code>6.5</code>'s Master.  This allows <code>SQL Server 2000</code>'s OLEDB provider to connect to <code>6.5</code>.</li>\n",
      "<li>Use <code>SQL Server 2000</code>'s standalone <code>\"Import and Export Data\"</code> to create a DTS package, using <code>OLEDB</code> to connect to 6.5.  This successfully copied all <code>6.5</code>'s tables to a new <code>2005</code> database (also using <code>OLEDB</code>).</li>\n",
      "<li>Use <code>6.5</code>'s Enterprise Manager to script out all of the database's indexes and triggers to a .sql file.</li>\n",
      "<li>Execute that .sql file against the new copy of the database, in 2005's Management Studio.</li>\n",
      "<li>Use 6.5's Enterprise Manager to script out all of the stored procedures.</li>\n",
      "<li>Execute that <code>.sql</code> file against the <code>2005</code> database.  Several dozen sprocs had issues making them incompatible with <code>2005</code>.  Mainly <code>non-ANSI joins</code> and <code>quoted identifier issues</code>.</li>\n",
      "<li>Corrected all of those issues and re-executed the <code>.sql</code> file.</li>\n",
      "<li>Recreated the <code>6.5</code>'s logins in <code>2005</code> and gave them appropriate permissions.</li>\n",
      "</ul>\n",
      "\n",
      "<p>There was a bit of rinse/repeat when correcting the stored procedures (there were hundreds of them to correct), but the upgrade went great otherwise.</p>\n",
      "\n",
      "<p>Being able to use Management Studio instead of <code>Query Analyzer</code> and <code>Enterprise Manager 6.5</code> is such an amazing difference.  A few report queries that took 20-30 seconds on the <code>6.5 database</code> are now running in 1-2 seconds, without any modification, new indexes, or anything.  I didn't expect that kind of immediate improvement.</p>\n",
      "\n",
      "<p>I have 2 SQLite databases, one downloaded from a server (<code>server.db</code>), and one used as storage on the client (<code>client.db</code>). I need to perform various sync queries on the client database, using data from the server database.</p>\n",
      "\n",
      "<p>For example, I want to delete all rows in the <code>client.db tRole</code> table, and repopulate with all rows in the <code>server.db tRole</code> table.</p>\n",
      "\n",
      "<p>Another example, I want to delete all rows in the <code>client.db tFile</code> table where the <code>fileID</code> is not in the <code>server.db tFile</code> table.</p>\n",
      "\n",
      "<p>In SQL Server you can just prefix the table with the name of the database. Is there anyway to do this in SQLite using Adobe Air?</p>\n",
      "\n",
      "<p>In interpreted programming languages, such as PHP and JavaScript, what are the repercussions of going with an Object Oriented approach over a Procedural approach?</p>\n",
      "\n",
      "<p>Specifically what I am looking for is a checklist of things to consider when creating a web application and choosing between Procedural and Object Oriented approaches, to optimize not only for speed, but maintainability as well. Cited research and test cases would be helpful as well if you know of any articles exploring this further.</p>\n",
      "\n",
      "<p>Bottom line: how big (if any) is the performance hit really, when going with OO vs. Procedural in an interpreted language?</p>\n",
      "\n",
      "<p>How do I store binary data in <a href=\"http://en.wikipedia.org/wiki/MySQL\" rel=\"noreferrer\">MySQL</a>?</p>\n",
      "\n",
      "\n"
     ]
    }
   ],
   "source": [
    "  //What are the most common SQL Server problem\n",
    "  float[] embedding = GenerateVector(\"Find the common database topics?\").ToArray();\n",
    "  var queryDef = new QueryDefinition(\n",
    "      query: $\"SELECT TOP 10 c.PostBody, c.Title, VectorDistance(c.bodyvector,@embedding) AS score FROM c WHERE c.PostType ='Question' ORDER BY VectorDistance(c.bodyvector,@embedding)\"\n",
    "      ).WithParameter(\"@embedding\", embedding);\n",
    "  FeedIterator<Post> feed = vectorContainer.GetItemQueryIterator<Post>(\n",
    "      queryDefinition: queryDef\n",
    "  );\n",
    "  string results = \"\";  \n",
    "  while (feed.HasMoreResults) \n",
    "  {\n",
    "      FeedResponse<Post> response = await feed.ReadNextAsync();      \n",
    "      foreach (Post item in response)\n",
    "      {\n",
    "        results = string.Concat(results, item.PostBody,\"\\n\");\n",
    "        Console.WriteLine($\"Found item:\\t{item.score}\\t{item.Title}\");\n",
    "      }      \n",
    "  }\n",
    "Console.WriteLine(results);"
   ]
  },
  {
   "cell_type": "markdown",
   "id": "0a98956c",
   "metadata": {},
   "source": [
    "Let's call a LLM Model and ask a question about the data"
   ]
  },
  {
   "cell_type": "code",
   "execution_count": 2,
   "metadata": {
    "polyglot_notebook": {
     "kernelName": "csharp"
    }
   },
   "outputs": [
    {
     "data": {
      "text/html": [
       "<div><div></div><div></div><div><strong>Installed Packages</strong><ul><li><span>Microsoft.SemanticKernel, 1.48.0</span></li><li><span>Microsoft.SemanticKernel.Connectors.AzureOpenAI, 1.48.0</span></li></ul></div></div>"
      ]
     },
     "metadata": {},
     "output_type": "display_data"
    }
   ],
   "source": [
    "#r \"nuget: Microsoft.SemanticKernel\"\n",
    "#r \"nuget: Microsoft.SemanticKernel.Connectors.AzureOpenAI\"\n"
   ]
  },
  {
   "cell_type": "code",
   "execution_count": 3,
   "metadata": {
    "polyglot_notebook": {
     "kernelName": "csharp"
    }
   },
   "outputs": [],
   "source": [
    "using Microsoft.Extensions.DependencyInjection;\n",
    "using Microsoft.SemanticKernel;\n",
    "using Microsoft.SemanticKernel.Connectors.OpenAI;\n",
    "using Microsoft.SemanticKernel.ChatCompletion;"
   ]
  },
  {
   "cell_type": "code",
   "execution_count": 47,
   "metadata": {
    "polyglot_notebook": {
     "kernelName": "csharp"
    }
   },
   "outputs": [
    {
     "data": {
      "text/plain": [
       "The text presents a variety of database-related questions and challenges. \n",
       "\n",
       "1. **Tracking and Automating DB Schema Changes**: Seeking methods to automate database updates using Subversion version control, possibly integrating auto-update scripts for efficient multi-server management. Questions about implementing solutions using Subversion post-commit hooks or creating a custom solution arise.\n",
       "\n",
       "2. **Data Transfer Between SQL Server and MySQL**: Discusses difficulties in converting a SQL Server database to MySQL due to CSV formatting issues and a lack of data type information. Seeks tools to facilitate copying tables between databases.\n",
       "\n",
       "3. **MySQL Database Performance Concerns**: Examines scalability and performance of a large 15M record MySQL database, questioning if cleaning data is necessary and how factors like database size and record count affect performance.\n",
       "\n",
       "4. **Flat File Database Structures in PHP**: Explores best practices for creating flat file databases in PHP, avoiding SQL-like query syntax for simplicity while maintaining good performance.\n",
       "\n",
       "5. **Database Diagram Tools for MySQL**: Requests tools to automate the creation of database diagrams, allowing for editing and focusing on diagram concepts rather than data design.\n",
       "\n",
       "6. **SQLite and .NET Integration**: Inquires about ways to create a SQLite database from an XSD DataSet for integration with .NET development.\n",
       "\n",
       "7. **SQL Server Migration from 6.5 to 2005**: Shares experiences and steps in successfully upgrading SQL Server 6.5 databases to 2005, highlighting improved performance with newer tools.\n",
       "\n",
       "8. **SQLite Database Synchronization in Adobe Air**: Queries methods to sync data between client and server SQLite databases using Adobe Air.\n",
       "\n",
       "9. **Programming Approach: Object-Oriented vs Procedural**: Seeks a checklist to weigh OO against Procedural approaches in PHP and JavaScript regarding performance, speed, maintainability, and considerations for web applications.\n",
       "\n",
       "10. **Storing Binary Data in MySQL**: Asks about methods to store binary data efficiently within a MySQL database.\n",
       "\n",
       "Overall, the text focuses on database schema management, data migration and transformation, optimization of database performance, synchronization challenges, and general programming practices for web applications using interpreted languages."
      ]
     },
     "metadata": {},
     "output_type": "display_data"
    }
   ],
   "source": [
    "var builder = Kernel.CreateBuilder();\n",
    "builder.AddAzureOpenAIChatCompletion(\"test4o\", \"https://savranweb.openai.azure.com/\", \"3Qg3P8Fw37qaN3ZtG2JJapZZVjBFTKvOIDaIYXoL5a5fduu3wz2XJQQJ99BDACYeBjFXJ3w3AAABACOGPUlQ\");\n",
    "Kernel kernel = builder.Build();\n",
    "var chatcompservice = kernel.Services.GetRequiredService<IChatCompletionService>();\n",
    "\n",
    "var chathistory = new ChatHistory();\n",
    "var executionsettings = new OpenAIPromptExecutionSettings { FunctionChoiceBehavior = FunctionChoiceBehavior.Auto() };\n",
    "executionsettings.ChatSystemPrompt = \"You are a helpful assistant. The given text is the result of a vector search. Summarize the text.\";\n",
    "var texttosummary = \"Hasan is an expert in Azure data products and has been recognized as a Microsoft Data Platform MVP. He owns SavranWeb Consulting and holds the Senior Business Intelligence Manager position at Progressive Insurance. His work involves designing advanced business solutions using the latest web and database development technologies. Hasan is a seasoned professional with more than two decades of experience in software as a developer, architect, and manager. He is a global conference speaker and enjoys blogging about SQL Server, Azure Cosmos DB, C#, and front-end development.\";\n",
    "\n",
    "\n",
    "chathistory.AddUserMessage(results);\n",
    "var result = await chatcompservice.GetChatMessageContentAsync(chathistory, executionsettings, kernel);\n",
    "result.Content.Display();"
   ]
  }
 ],
 "metadata": {
  "kernelspec": {
   "display_name": ".NET (C#)",
   "language": "C#",
   "name": ".net-csharp"
  },
  "polyglot_notebook": {
   "kernelInfo": {
    "defaultKernelName": "csharp",
    "items": [
     {
      "aliases": [],
      "languageName": "csharp",
      "name": "csharp"
     }
    ]
   }
  }
 },
 "nbformat": 4,
 "nbformat_minor": 5
}
