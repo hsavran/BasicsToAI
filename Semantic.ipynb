{
 "cells": [
  {
   "cell_type": "code",
   "execution_count": 2,
   "id": "fa5313da",
   "metadata": {
    "polyglot_notebook": {
     "kernelName": "csharp"
    }
   },
   "outputs": [
    {
     "data": {
      "text/html": [
       "<div><div></div><div></div><div><strong>Installed Packages</strong><ul><li><span>Microsoft.Azure.Cosmos, 3.49.0</span></li><li><span>Microsoft.SemanticKernel, 1.48.0</span></li><li><span>Newtonsoft.Json, 13.0.3</span></li></ul></div></div>"
      ]
     },
     "metadata": {},
     "output_type": "display_data"
    }
   ],
   "source": [
    "#r \"nuget: Microsoft.SemanticKernel\"\n",
    "#r \"nuget: Newtonsoft.Json\"\n",
    "#r \"nuget: Microsoft.Azure.Cosmos\""
   ]
  },
  {
   "cell_type": "code",
   "execution_count": 3,
   "metadata": {
    "polyglot_notebook": {
     "kernelName": "csharp"
    }
   },
   "outputs": [],
   "source": [
    "using Microsoft.SemanticKernel;\n",
    "using Microsoft.SemanticKernel.ChatCompletion;\n",
    "using Microsoft.Extensions.DependencyInjection;\n",
    "using Microsoft.SemanticKernel.Connectors.OpenAI;"
   ]
  },
  {
   "cell_type": "code",
   "execution_count": 6,
   "metadata": {
    "polyglot_notebook": {
     "kernelName": "csharp"
    }
   },
   "outputs": [],
   "source": [
    "using Microsoft.Azure.Cosmos;\n",
    "using System.ComponentModel;"
   ]
  },
  {
   "cell_type": "code",
   "execution_count": 7,
   "metadata": {
    "polyglot_notebook": {
     "kernelName": "csharp"
    }
   },
   "outputs": [],
   "source": [
    "public class CosmosDBPlugin\n",
    "{\n",
    "    public static string cstring = \"AccountEndpoint=https://nosqlmodelling.documents.azure.com:443/;AccountKey=wzdTVhx9ldkhYYQYDnq14IdfzyAptKoVfZyZjIEcaVPU8OltPwHxFxdTBGGDcDwEzVPzGoZ5XU4uACDbDu9Mog==;\";\n",
    "    public CosmosClient cosmosClient = new(cstring);\n",
    "    public class Order\n",
    "    {\n",
    "        public string id { get; set; }\n",
    "        public string customername { get; set; }\n",
    "        public List<Product> products { get; set; }                       \n",
    "        public string OrderStatus { get; set; } //Cancelled, Delivered, In Transit, In Process, Ready for Pickup\n",
    "        public int DriverId { get; set; }                \n",
    "        public string truckid { get; set; }\n",
    "        public string DeliveryAddress { get; set; }\n",
    "        public bool Driverisnotified { get; set; }\n",
    "\n",
    "        //public Order()\n",
    "        //{\n",
    "        //    id = \"100\";\n",
    "        //    customername = \"Hasan Savran\";\n",
    "        //    products =\n",
    "        //    [\n",
    "        //        new Product() { id = \"1\", name = \"Laptop\", quantity = 1 },\n",
    "        //        new Product() { id = \"2\", name = \"Mouse\", quantity = 1 },\n",
    "        //    ];\n",
    "        //    OrderStatus = \"In Transit\";\n",
    "        //    DriverId = 839;\n",
    "        //    truckid = \"4039\";\n",
    "        //    DeliveryAddress = \"1234 Main St, Seattle, WA 98101\";\n",
    "        //    Driverisnotified = false;\n",
    "        //}\n",
    "\n",
    "\n",
    "    }\n",
    "\n",
    "    public class Product\n",
    "    {\n",
    "        public string id { get; set; }\n",
    "        public string name { get; set; }\n",
    "        public int quantity { get; set; }\n",
    "        \n",
    "    }\n",
    "\n",
    "    public class DriverMessage\n",
    "    {\n",
    "        public string id { get; set; }\n",
    "        public string driverid { get; set; }\n",
    "        public string orderid { get; set; }\n",
    "        public string message { get; set; }\n",
    "    }\n",
    "\n",
    "    public class Delivery\n",
    "    {\n",
    "        public string id { get; set; }\n",
    "        public string orderid { get; set; }\n",
    "        public string driverid { get; set; }\n",
    "        public string truckid { get; set; }\n",
    "        public string customergeoloc { get; set; }\n",
    "        public bool isCancelled { get; set; }\n",
    "    }\n",
    "    \n",
    "    [KernelFunction(\"Search\")]\n",
    "    [Description(\"Searches the CosmosDB for given order number.\")]\n",
    "    [return:Description(\"The search result for the given order number\")]\n",
    "    public async Task<Order> Search(string orderid)\n",
    "    {\n",
    "        //Search the CosmosDB for the order\n",
    "        var cont = cosmosClient.GetContainer(\"OnlineMarket\", \"OrdersTransit\");\n",
    "        var query = cont.GetItemQueryIterator<Order>($\"SELECT * FROM c WHERE c.id = '{orderid}'\");\n",
    "        var results = await query.ReadNextAsync();\n",
    "        if (results.Any())\n",
    "        {\n",
    "            return results.First();\n",
    "        }\n",
    "        return new Order();\n",
    "    }\n",
    "\n",
    "    [KernelFunction(\"CancelOrder\")]\n",
    "    [Description(\"Cancels the order\")]\n",
    "    [return: Description(\"The result of the order cancellation. If orderstatus is in transit, notify the driver to not deliver it\")]\n",
    "    public async Task<Order> CancelOrder(string orderId)\n",
    "    {\n",
    "        var order = await Search(orderId);\n",
    "        if (order.OrderStatus == \"In Transit\")\n",
    "        {\n",
    "            await SendMessage(order.DriverId.ToString(), order.id, \"Order is cancelled. Do not deliver it. Customer location is removed from the GPS Delivery system.\");\n",
    "            order.Driverisnotified = true;                    \n",
    "            await RemoveDelivery(order.id, order.DriverId.ToString(), order.truckid);                    \n",
    "        }\n",
    "        order.OrderStatus = \"Cancelled\";\n",
    "        var cont = cosmosClient.GetContainer(\"OnlineMarket\", \"OrdersTransit\");\n",
    "        var pkey = new PartitionKey(order.truckid);\n",
    "        await cont.PatchItemAsync<Order>(order.id, pkey, new PatchOperation[] { PatchOperation.Set(\"/OrderStatus\", \"Cancelled\") });\n",
    "        \n",
    "\n",
    "        await cont.UpsertItemAsync(order);\n",
    "        return order;               \n",
    "    }\n",
    "\n",
    "    public async Task<bool> RemoveDelivery(string orderid, string driverid, string truckid)\n",
    "    {\n",
    "        var cont = cosmosClient.GetContainer(\"OnlineMarket\", \"Deliveries\");\n",
    "        var query = cont.GetItemQueryIterator<Delivery>($\"SELECT * FROM c WHERE c.orderid = '{orderid}' AND c.driverid = '{driverid}' AND c.truckid = '{truckid}'\");\n",
    "        var results = await query.ReadNextAsync();\n",
    "        if (results.Any())\n",
    "        {\n",
    "            var del = results.First();\n",
    "            del.isCancelled = true;\n",
    "            del = await cont.UpsertItemAsync(del);\n",
    "            return del.isCancelled;\n",
    "        }\n",
    "        return false;\n",
    "    }\n",
    "\n",
    "    public async Task<DriverMessage> SendMessage(string driverid, string orderid, string message)\n",
    "    {\n",
    "        var cont = cosmosClient.GetContainer(\"OnlineMarket\", \"DriverMessages\");\n",
    "        var dm = new DriverMessage() { driverid = driverid, orderid = orderid, message = message };\n",
    "        await cont.CreateItemAsync(dm);\n",
    "        return dm;\n",
    "    }\n",
    "\n",
    "    //If cancel > do we need audit?\n",
    "    //If cancel & in-transit > remove location from the GPS\n",
    "    //If cancel & in-transit > send a msg to the driver\n",
    "    //if cancel & in-transit > send a msg to warehouse\n",
    "    //Request refund\n",
    "\n",
    "}"
   ]
  },
  {
   "cell_type": "code",
   "execution_count": 19,
   "metadata": {
    "polyglot_notebook": {
     "kernelName": "csharp"
    }
   },
   "outputs": [
    {
     "name": "stdout",
     "output_type": "stream",
     "text": [
      "Hello there! I'm George, and I'm here to help you with your order. How can I assist you today?\n",
      "Hi Hasan Savran! I'm excited to share your order details with you. \n",
      "\n",
      "Here's what you've got coming your way:\n",
      "\n",
      "1. **Chicken Harness and Leash**: Just imagine taking your little feathered friend on walks. They'll be the talk of the town!\n",
      "   \n",
      "2. **Mobile Phone Jail Cell**: Perfect for those moments when your phone needs a little time out. It's like giving your phone a mini vacation.\n",
      "   \n",
      "3. **Car French Fry Holder** (Quantity: 2): Now you won't have to worry about those fries tipping over in your car. It's a holder even your fries will thank you for!\n",
      "\n",
      "Your order is currently in transit to the address at 1234 Main St in Uniontown, OH. Feel free to let me know if there's anything else you need!\n",
      "Hello again! How's everything going with your order? Is there anything else I can assist you with today?\n",
      "Your order has been cancelled as requested. 😅 \n",
      "\n",
      "But just think, now you'll miss out on the fun of taking a chicken for a walk with the Chicken Harness and Leash. And who will keep an eye on those cheeky mobile phones without the Mobile Phone Jail Cell? Plus, your car might miss those perfectly held fries! 🍟\n",
      "\n",
      "If there's anything else I can do for you, just let me know!\n"
     ]
    },
    {
     "ename": "Error",
     "evalue": "Input request cancelled",
     "output_type": "error",
     "traceback": [
      "Input request cancelled"
     ]
    },
    {
     "ename": "Error",
     "evalue": "System.Exception: Input request cancelled\r\n   at Microsoft.DotNet.Interactive.Kernel.GetInputAsync(String prompt, Boolean isPassword, String typeHint) in D:\\a\\_work\\1\\s\\src\\Microsoft.DotNet.Interactive\\Kernel.Static.cs:line 92\r\n   at Microsoft.DotNet.Interactive.Kernel.GetInputAsync(String prompt, String typeHint) in D:\\a\\_work\\1\\s\\src\\Microsoft.DotNet.Interactive\\Kernel.Static.cs:line 45\r\n   at Submission#17.<<Initialize>>d__0.MoveNext()\r\n--- End of stack trace from previous location ---\r\n   at Microsoft.CodeAnalysis.Scripting.ScriptExecutionState.RunSubmissionsAsync[TResult](ImmutableArray`1 precedingExecutors, Func`2 currentExecutor, StrongBox`1 exceptionHolderOpt, Func`2 catchExceptionOpt, CancellationToken cancellationToken)",
     "output_type": "error",
     "traceback": [
      "System.Exception: Input request cancelled\r\n",
      "   at Microsoft.DotNet.Interactive.Kernel.GetInputAsync(String prompt, Boolean isPassword, String typeHint) in D:\\a\\_work\\1\\s\\src\\Microsoft.DotNet.Interactive\\Kernel.Static.cs:line 92\r\n",
      "   at Microsoft.DotNet.Interactive.Kernel.GetInputAsync(String prompt, String typeHint) in D:\\a\\_work\\1\\s\\src\\Microsoft.DotNet.Interactive\\Kernel.Static.cs:line 45\r\n",
      "   at Submission#17.<<Initialize>>d__0.MoveNext()\r\n",
      "--- End of stack trace from previous location ---\r\n",
      "   at Microsoft.CodeAnalysis.Scripting.ScriptExecutionState.RunSubmissionsAsync[TResult](ImmutableArray`1 precedingExecutors, Func`2 currentExecutor, StrongBox`1 exceptionHolderOpt, Func`2 catchExceptionOpt, CancellationToken cancellationToken)"
     ]
    }
   ],
   "source": [
    "var builder = Kernel.CreateBuilder();\n",
    "builder.AddAzureOpenAIChatCompletion(\"test4o\",\"https://savranweb.openai.azure.com/\",\"3Qg3P8Fw37qaN3ZtG2JJapZZVjBFTKvOIDaIYXoL5a5fduu3wz2XJQQJ99BDACYeBjFXJ3w3AAABACOGPUlQ\");\n",
    "\n",
    "Kernel kernel = builder.Build();\n",
    "var chatcomp = kernel.Services.GetRequiredService<IChatCompletionService>();\n",
    "kernel.Plugins.AddFromType<CosmosDBPlugin>(\"Orders\");\n",
    "var chathistory = new ChatHistory();\n",
    "var executionsettings = new OpenAIPromptExecutionSettings { FunctionChoiceBehavior = FunctionChoiceBehavior.Auto() };\n",
    "executionsettings.ChatSystemPrompt = \"Your name is George, you are here to help our customers. Introduce yourself friendly. Make customers feel good about their order by talking about their order items! If user cancels an order, check out the items and make a joke about what user might be missing by cancelling the order.\";\n",
    "string? userinput;\n",
    "while ((userinput = await Microsoft.DotNet.Interactive.Kernel.GetInputAsync(\"Enter your message: \")) != null)\n",
    "{\n",
    "    chathistory.AddUserMessage(userinput.ToString());\n",
    "    var result = await chatcomp.GetChatMessageContentAsync(chathistory, executionsettings, kernel);    \n",
    "    Console.WriteLine(result.Content);\n",
    "    chathistory.AddMessage(result.Role, result.Content?? string.Empty);\n",
    "\n",
    "\n",
    "    //var q = await Microsoft.DotNet.Interactive.Kernel.GetInputAsync(\"Now what?\");\n",
    "    //chathistory.AddUserMessage(q.ToString());\n",
    "}\n",
    "/*\n",
    "\n",
    "var msg = \"Hello, I need information about my order id 100\";\n",
    "\n",
    "chathistory.AddUserMessage(msg);\n",
    "\n",
    "var result = await chatcomp.GetChatMessageContentAsync(chathistory,executionsettings,kernel);\n",
    "//result.Display();\n",
    "Console.WriteLine(result.Content);\n",
    "var q = await Microsoft.DotNet.Interactive.Kernel.GetInputAsync(\"Now what\");\n",
    "chathistory.AddUserMessage(q.ToString());\n",
    "\n",
    "result = await chatcomp.GetChatMessageContentAsync(chathistory,executionsettings,kernel);\n",
    "//result.Display();\n",
    "Console.WriteLine(result.Content);\n",
    "*/\n"
   ]
  },
  {
   "cell_type": "code",
   "execution_count": null,
   "metadata": {
    "polyglot_notebook": {
     "kernelName": "csharp"
    }
   },
   "outputs": [],
   "source": []
  }
 ],
 "metadata": {
  "kernelspec": {
   "display_name": ".NET (C#)",
   "language": "C#",
   "name": ".net-csharp"
  },
  "polyglot_notebook": {
   "kernelInfo": {
    "defaultKernelName": "csharp",
    "items": [
     {
      "aliases": [],
      "languageName": "csharp",
      "name": "csharp"
     }
    ]
   }
  }
 },
 "nbformat": 4,
 "nbformat_minor": 5
}
