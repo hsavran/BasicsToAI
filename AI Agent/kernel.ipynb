{
 "cells": [
  {
   "cell_type": "code",
   "execution_count": null,
   "id": "e5aeaf20",
   "metadata": {
    "polyglot_notebook": {
     "kernelName": "csharp"
    }
   },
   "outputs": [
    {
     "data": {
      "text/html": [
       "<div><div></div><div></div><div><strong>Installed Packages</strong><ul><li><span>Microsoft.SemanticKernel, 1.48.0</span></li><li><span>Microsoft.SemanticKernel.Connectors.AzureOpenAI, 1.48.0</span></li></ul></div></div>"
      ]
     },
     "metadata": {},
     "output_type": "display_data"
    }
   ],
   "source": [
    "#r \"nuget: Microsoft.SemanticKernel\"\n",
    "#r \"nuget: Microsoft.SemanticKernel.Connectors.AzureOpenAI\""
   ]
  },
  {
   "cell_type": "code",
   "execution_count": null,
   "id": "daa54c8e",
   "metadata": {
    "polyglot_notebook": {
     "kernelName": "csharp"
    }
   },
   "outputs": [],
   "source": [
    "using Microsoft.Extensions.DependencyInjection;\n",
    "using Microsoft.SemanticKernel;\n",
    "using Microsoft.SemanticKernel.Connectors.OpenAI;\n",
    "using Microsoft.SemanticKernel.ChatCompletion;"
   ]
  },
  {
   "cell_type": "code",
   "execution_count": null,
   "id": "9a14c6cf",
   "metadata": {
    "polyglot_notebook": {
     "kernelName": "csharp"
    }
   },
   "outputs": [
    {
     "name": "stdout",
     "output_type": "stream",
     "text": [
      "Hasan is a Microsoft Data Platform MVP and expert in Azure data products, owning SavranWeb Consulting and serving as the Senior Business Intelligence Manager at Progressive Insurance. With over 20 years of experience in software development, architecture, and management, he specializes in designing advanced business solutions using modern web and database technologies. Hasan is also a global conference speaker and blogger, sharing insights on SQL Server, Azure Cosmos DB, C#, and front-end development.\r\n"
     ]
    }
   ],
   "source": [
    "var builder = Kernel.CreateBuilder();\n",
    "builder.AddAzureOpenAIChatCompletion(\"test4o\", \"https://savranweb.openai.azure.com/\", \"3Qg3P8Fw37qaN3ZtG2JJapZZVjBFTKvOIDaIYXoL5a5fduu3wz2XJQQJ99BDACYeBjFXJ3w3AAABACOGPUlQ\");\n",
    "Kernel kernel = builder.Build();\n",
    "var chatcompservice = kernel.Services.GetRequiredService<IChatCompletionService>();\n",
    "\n",
    "var chathistory = new ChatHistory();\n",
    "var executionsettings = new OpenAIPromptExecutionSettings { FunctionChoiceBehavior = FunctionChoiceBehavior.Auto() };\n",
    "executionsettings.ChatSystemPrompt = \"You are a helpful assistant. You will be given text to summarize.\";\n",
    "var texttosummary = \"Hasan is an expert in Azure data products and has been recognized as a Microsoft Data Platform MVP. He owns SavranWeb Consulting and holds the Senior Business Intelligence Manager position at Progressive Insurance. His work involves designing advanced business solutions using the latest web and database development technologies. Hasan is a seasoned professional with more than two decades of experience in software as a developer, architect, and manager. He is a global conference speaker and enjoys blogging about SQL Server, Azure Cosmos DB, C#, and front-end development.\";\n",
    "chathistory.AddUserMessage(texttosummary);\n",
    "var result = await chatcompservice.GetChatMessageContentAsync(chathistory, executionsettings, kernel);\n",
    "Console.WriteLine(result);"
   ]
  }
 ],
 "metadata": {
  "kernelspec": {
   "display_name": ".NET (C#)",
   "language": "C#",
   "name": ".net-csharp"
  },
  "polyglot_notebook": {
   "kernelInfo": {
    "defaultKernelName": "csharp",
    "items": [
     {
      "aliases": [],
      "languageName": "csharp",
      "name": "csharp"
     }
    ]
   }
  }
 },
 "nbformat": 4,
 "nbformat_minor": 5
}
