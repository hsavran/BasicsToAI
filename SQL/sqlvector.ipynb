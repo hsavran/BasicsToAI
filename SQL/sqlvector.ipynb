{
 "cells": [
  {
   "cell_type": "code",
   "execution_count": 59,
   "metadata": {
    "polyglot_notebook": {
     "kernelName": "csharp"
    }
   },
   "outputs": [
    {
     "data": {
      "text/html": [
       "<div><div></div><div></div><div><strong>Installed Packages</strong><ul><li><span>Azure, 1.0.6</span></li><li><span>Azure.AI.OpenAI, 2.1.0</span></li><li><span>Azure.Identity, 1.14.0</span></li><li><span>Microsoft.Data.SqlClient, 6.0.2</span></li><li><span>Microsoft.DotNet.Interactive.SqlServer, 1.0.0-beta.25177.1</span></li><li><span>Newtonsoft.Json, 13.0.3</span></li></ul></div></div>"
      ]
     },
     "metadata": {},
     "output_type": "display_data"
    }
   ],
   "source": [
    "#r \"nuget:Microsoft.DotNet.Interactive.SqlServer, *-*\"\n",
    "\n",
    "#r \"nuget: Azure.AI.OpenAI\"\n",
    "#r \"nuget: Azure.Identity\"\n",
    "#r \"nuget: Azure\"\n",
    "#r \"nuget: Newtonsoft.Json\"\n",
    "#r \"nuget: Microsoft.Data.SqlClient\""
   ]
  },
  {
   "cell_type": "code",
   "execution_count": null,
   "metadata": {
    "polyglot_notebook": {
     "kernelName": "csharp"
    }
   },
   "outputs": [],
   "source": [
    "#!connect mssql --kernel-name Stackoverflow --connection-string \"Server=tcp:hsavransql1.database.windows.net,1433;Initial Catalog=azuredb1;Persist Security Info=False;User ID=hsavran;Password=HasanSavran90;MultipleActiveResultSets=False;Encrypt=True;TrustServerCertificate=False;Connection Timeout=30;\"\""
   ]
  },
  {
   "cell_type": "code",
   "execution_count": 60,
   "metadata": {
    "polyglot_notebook": {
     "kernelName": "sql-Stackoverflow"
    }
   },
   "outputs": [
    {
     "ename": "Error",
     "evalue": "Msg 2705, Level 16, State 4, Line 1\r\nColumn names in each table must be unique. Column name 'BodyVector' in table 'Posts' is specified more than once.",
     "output_type": "error",
     "traceback": [
      "Msg 2705, Level 16, State 4, Line 1\r\n",
      "Column names in each table must be unique. Column name 'BodyVector' in table 'Posts' is specified more than once."
     ]
    }
   ],
   "source": [
    "ALTER TABLE Posts ADD BodyVector VECTOR(1536)"
   ]
  },
  {
   "cell_type": "code",
   "execution_count": 61,
   "metadata": {
    "polyglot_notebook": {
     "kernelName": "sql-Stackoverflow"
    }
   },
   "outputs": [
    {
     "data": {
      "text/plain": [
       "Commands completed successfully."
      ]
     },
     "metadata": {},
     "output_type": "display_data"
    }
   ],
   "source": [
    "TRUNCATE TABLE Posts;"
   ]
  },
  {
   "cell_type": "code",
   "execution_count": 62,
   "metadata": {
    "polyglot_notebook": {
     "kernelName": "sql-Stackoverflow"
    }
   },
   "outputs": [
    {
     "data": {
      "text/plain": [
       "(0 rows affected)"
      ]
     },
     "metadata": {},
     "output_type": "display_data"
    },
    {
     "data": {
      "text/plain": [
       "Info: No rows were returned for query 0 in batch 0."
      ]
     },
     "metadata": {},
     "output_type": "display_data"
    }
   ],
   "source": [
    "SELECT TOP 1 PostId, Title, PostBody, ViewCount, PostType, OwnerUserId, Score\n",
    " FROM Posts WHERE PostType = 'Question'"
   ]
  },
  {
   "cell_type": "code",
   "execution_count": 63,
   "metadata": {
    "polyglot_notebook": {
     "kernelName": "csharp"
    }
   },
   "outputs": [],
   "source": [
    "\n",
    "using Azure;\n",
    "using Azure.AI.OpenAI;\n",
    "using Azure.Identity;\n",
    "using OpenAI.Embeddings;\n",
    "using Newtonsoft.Json;\n",
    "using Newtonsoft.Json.Linq;\n",
    "using System.Net.Http;\n",
    "using System.Collections.ObjectModel;\n",
    "using Microsoft.Data.SqlClient;\n"
   ]
  },
  {
   "cell_type": "code",
   "execution_count": 64,
   "metadata": {
    "polyglot_notebook": {
     "kernelName": "csharp"
    }
   },
   "outputs": [],
   "source": [
    "var openAIClient = new AzureOpenAIClient(\n",
    "    new Uri(\"https://savranweb.openai.azure.com/\"),\n",
    "    new AzureKeyCredential(\"3Qg3P8Fw37qaN3ZtG2JJapZZVjBFTKvOIDaIYXoL5a5fduu3wz2XJQQJ99BDACYeBjFXJ3w3AAABACOGPUlQ\"));\n",
    "var aiclient = openAIClient.GetEmbeddingClient(\"embedding\");"
   ]
  },
  {
   "cell_type": "code",
   "execution_count": 65,
   "metadata": {
    "polyglot_notebook": {
     "kernelName": "csharp"
    }
   },
   "outputs": [],
   "source": [
    "ReadOnlyMemory<float> GenerateVector(string text)\n",
    "{    \n",
    "    OpenAIEmbedding newembedding = aiclient.GenerateEmbedding(text);\n",
    "    return newembedding.ToFloats();\n",
    "}"
   ]
  },
  {
   "cell_type": "code",
   "execution_count": 66,
   "metadata": {
    "polyglot_notebook": {
     "kernelName": "csharp"
    }
   },
   "outputs": [],
   "source": [
    "public class Post    \n",
    "{    \n",
    "    public int PostId { get; set; }\n",
    "    public string PostBody { get; set; }\n",
    "    public string Title { get; set; }\n",
    "    public int ViewCount { get; set; }\n",
    "    public int OwnerUserId { get; set; }\n",
    "    public string PostType { get; set; }\n",
    "    public int Score { get; set; }\n",
    "    public float[] bodyvector {get;set;}\n",
    "}"
   ]
  },
  {
   "cell_type": "code",
   "execution_count": 67,
   "metadata": {
    "polyglot_notebook": {
     "kernelName": "csharp"
    }
   },
   "outputs": [
    {
     "data": {
      "text/html": [
       "<div class=\"dni-plaintext\"><pre>9264</pre></div><style>\r\n",
       ".dni-code-hint {\r\n",
       "    font-style: italic;\r\n",
       "    overflow: hidden;\r\n",
       "    white-space: nowrap;\r\n",
       "}\r\n",
       ".dni-treeview {\r\n",
       "    white-space: nowrap;\r\n",
       "}\r\n",
       ".dni-treeview td {\r\n",
       "    vertical-align: top;\r\n",
       "    text-align: start;\r\n",
       "}\r\n",
       "details.dni-treeview {\r\n",
       "    padding-left: 1em;\r\n",
       "}\r\n",
       "table td {\r\n",
       "    text-align: start;\r\n",
       "}\r\n",
       "table tr { \r\n",
       "    vertical-align: top; \r\n",
       "    margin: 0em 0px;\r\n",
       "}\r\n",
       "table tr td pre \r\n",
       "{ \r\n",
       "    vertical-align: top !important; \r\n",
       "    margin: 0em 0px !important;\r\n",
       "} \r\n",
       "table th {\r\n",
       "    text-align: start;\r\n",
       "}\r\n",
       "</style>"
      ]
     },
     "metadata": {},
     "output_type": "display_data"
    }
   ],
   "source": [
    "var json = await new HttpClient().GetStringAsync(\"https://raw.githubusercontent.com/hsavran/Presentations/refs/heads/main/stackoverflow.json\");\n",
    "var postList = JsonConvert.DeserializeObject<List<Post>>(json);\n",
    "postList.Count.Display();\n",
    "var inserttable = new System.Data.DataTable(\"Posts\");\n",
    "inserttable.Columns.Add(\"PostId\", typeof(int));\n",
    "inserttable.Columns.Add(\"Title\", typeof(string));\n",
    "inserttable.Columns.Add(\"PostBody\", typeof(string));\n",
    "inserttable.Columns.Add(\"ViewCount\", typeof(int));\n",
    "inserttable.Columns.Add(\"PostType\", typeof(string));\n",
    "inserttable.Columns.Add(\"OwnerUserId\", typeof(int));\n",
    "inserttable.Columns.Add(\"Score\", typeof(int));\n",
    "inserttable.Columns.Add(\"bodyvector\", typeof(string));\n",
    "\n",
    "foreach (var post in postList.Where(p => p.PostType == \"Question\" && p.Title.Contains(\"SQL\")).Take(1000))\n",
    "{   \n",
    "    var newRow = inserttable.NewRow();\n",
    "    newRow[\"PostId\"] = post.PostId;\n",
    "    newRow[\"PostBody\"] = post.PostBody;\n",
    "    newRow[\"Title\"] = post.Title;\n",
    "    newRow[\"ViewCount\"] = post.ViewCount;\n",
    "    newRow[\"OwnerUserId\"] = post.OwnerUserId;\n",
    "    newRow[\"PostType\"] = post.PostType;\n",
    "    newRow[\"Score\"] = post.Score;\n",
    "    var temp = GenerateVector(post.PostBody).ToArray();\n",
    "    var json = JsonConvert.SerializeObject(temp);\n",
    "    newRow[\"bodyvector\"] = json;\n",
    "    //JsonConvert.SerializeObject(string.Join(\",\", temp));\n",
    "    inserttable.Rows.Add(newRow);\n",
    "}\n",
    "//inserttable.Rows.Count.Display();\n",
    "//inserttable.Rows[0].Display();\n",
    "using (var connection = new Microsoft.Data.SqlClient.SqlConnection(\"Server=tcp:hsavransql1.database.windows.net,1433;Initial Catalog=azuredb1;Persist Security Info=False;User ID=hsavran;Password=HasanSavran90;MultipleActiveResultSets=False;Encrypt=True;TrustServerCertificate=False;Connection Timeout=30;\"))\n",
    "{\n",
    "    connection.Open();\n",
    "    using (var transaction = connection.BeginTransaction())\n",
    "    {\n",
    "        using (var bulkCopy = new Microsoft.Data.SqlClient.SqlBulkCopy(connection, Microsoft.Data.SqlClient.SqlBulkCopyOptions.Default, transaction))\n",
    "        {\n",
    "            bulkCopy.DestinationTableName = \"Posts\";\n",
    "            bulkCopy.BatchSize = 1000;\n",
    "            bulkCopy.WriteToServer(inserttable);\n",
    "        }\n",
    "        transaction.Commit();\n",
    "    }\n",
    "}"
   ]
  },
  {
   "cell_type": "code",
   "execution_count": 68,
   "metadata": {
    "polyglot_notebook": {
     "kernelName": "csharp"
    }
   },
   "outputs": [
    {
     "name": "stdout",
     "output_type": "stream",
     "text": [
      "Title: How big can a MySQL database get before performance starts to degrade, Distance: 0.16720164433149232\n",
      "Title: ADO.NET Connection Pooling & SQLServer, Distance: 0.17804568534468468\n",
      "Title: Automatically measure all SQL queries, Distance: 0.19333204080520694\n",
      "Title: What are the advantages of explicit Join Transitive Closure in SQL?, Distance: 0.1998784809196218\n",
      "Title: LINQ-to-SQL vs stored procedures?, Distance: 0.2029639149425464\n",
      "Title: Oracle XE or SQL Server Express, Distance: 0.2044463349202461\n",
      "Title: What is a \"reasonable\" length of time to keep a SQL cursor open?, Distance: 0.20456216392069126\n",
      "Title: Automate Syncing Oracle Tables With MySQL Tables, Distance: 0.20488238075016363\n",
      "Title: Migrating from MySQL to PostgreSQL, Distance: 0.20550847288033303\n",
      "Title: Have you ever encountered a query that SQL Server could not execute because it referenced too many tables?, Distance: 0.2057512291387743\n"
     ]
    }
   ],
   "source": [
    "var vectortosearch = GenerateVector(\"What are the most common efficiency questions about relational databases\").ToArray();\n",
    "var temp = JsonConvert.SerializeObject(vectortosearch);\n",
    "// run the query to get the top 10 most similar posts\n",
    "var cmd = @\"\n",
    "DECLARE @v AS VECTOR(1536);\n",
    "SET @v = (SELECT CAST(@temp AS VECTOR(1536)))\n",
    "SELECT TOP(10)   \n",
    "  title, postbody,\n",
    "  VECTOR_DISTANCE('cosine', @v, bodyvector) AS distance\n",
    "FROM \n",
    "  Posts\n",
    "ORDER BY distance \";\n",
    "  var texttosummary  =\"\";\n",
    "using (var connection = new Microsoft.Data.SqlClient.SqlConnection(\"Server=tcp:hsavransql1.database.windows.net,1433;Initial Catalog=azuredb1;Persist Security Info=False;User ID=hsavran;Password=HasanSavran90;MultipleActiveResultSets=False;Encrypt=True;TrustServerCertificate=False;Connection Timeout=30;\"))\n",
    "{\n",
    "    connection.Open();\n",
    "    using (var command = new Microsoft.Data.SqlClient.SqlCommand(cmd, connection))\n",
    "    {\n",
    "        command.Parameters.AddWithValue(\"@temp\", temp);\n",
    "        using (var reader = command.ExecuteReader())\n",
    "        {\n",
    "            while (reader.Read())\n",
    "            {\n",
    "              texttosummary += reader[\"postbody\"].ToString() + \" \";\n",
    "                Console.WriteLine($\"Title: {reader[\"title\"]}, Distance: {reader[\"distance\"].ToString()}\");               \n",
    "              \n",
    "            }\n",
    "        }\n",
    "    }\n",
    "}"
   ]
  }
 ],
 "metadata": {
  "kernelspec": {
   "display_name": ".NET (C#)",
   "language": "C#",
   "name": ".net-csharp"
  },
  "language_info": {
   "name": "polyglot-notebook"
  },
  "polyglot_notebook": {
   "kernelInfo": {
    "defaultKernelName": "csharp",
    "items": [
     {
      "aliases": [],
      "languageName": "csharp",
      "name": "csharp"
     },
     {
      "aliases": [],
      "languageName": "T-SQL",
      "name": "sql-Stackoverflow"
     }
    ]
   }
  }
 },
 "nbformat": 4,
 "nbformat_minor": 5
}
