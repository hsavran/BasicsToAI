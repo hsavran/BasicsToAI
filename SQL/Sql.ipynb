{
 "cells": [
  {
   "cell_type": "code",
   "execution_count": null,
   "id": "37e38e94",
   "metadata": {
    "polyglot_notebook": {
     "kernelName": "csharp"
    }
   },
   "outputs": [
    {
     "name": "stdout",
     "output_type": "stream",
     "text": [
      "Connection Opened\r\n"
     ]
    }
   ],
   "source": [
    "//connect to sql server and run a query using c#\n",
    "\n",
    "#r \"System.Data\"\n",
    "#r \"System.Data.SqlClient\"\n",
    "#r \"System.Configuration\"\n",
    "\n",
    "// Load the required namespaces\n",
    "using System;\n",
    "using System.Data;\n",
    "using System.Data.SqlClient;\n",
    "\n",
    "// Define the connection string to connect to the SQL Server database\n",
    "var cmd = new SqlConnection(\"Server=tcp:hsavransql1.database.windows.net,1433;Initial Catalog=azuredb1;Persist Security Info=False;User ID=hsavran;Password=HasanSavran90;MultipleActiveResultSets=False;Encrypt=True;TrustServerCertificate=False;Connection Timeout=30;\");\n",
    "cmd.Open();\n",
    "Console.WriteLine(\"Connection Opened\");\n",
    "// run a query to get the top 10 rows from the Employees table\n",
    "var query = \"SELECT TOP 10 * FROM Employees\";\n",
    "var command = new SqlCommand(query, cmd);\n",
    "var reader = command.ExecuteReader();\n",
    "// Read the data and print it to the console\n",
    "while (reader.Read())\n",
    "{\n",
    "    for (int i = 0; i < reader.FieldCount; i++)\n",
    "    {\n",
    "        Console.Write(reader[i] + \"\\t\");\n",
    "    }\n",
    "    Console.WriteLine();\n",
    "}\n",
    "cmd.Close();\n"
   ]
  }
 ],
 "metadata": {
  "kernelspec": {
   "display_name": ".NET (C#)",
   "language": "C#",
   "name": ".net-csharp"
  },
  "polyglot_notebook": {
   "kernelInfo": {
    "defaultKernelName": "csharp",
    "items": [
     {
      "aliases": [],
      "languageName": "csharp",
      "name": "csharp"
     }
    ]
   }
  }
 },
 "nbformat": 4,
 "nbformat_minor": 5
}
