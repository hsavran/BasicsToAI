{
 "cells": [
  {
   "cell_type": "code",
   "execution_count": null,
   "id": "37e38e94",
   "metadata": {
    "polyglot_notebook": {
     "kernelName": "csharp"
    }
   },
   "outputs": [
    {
     "name": "stdout",
     "output_type": "stream",
     "text": [
      "Connection Opened\r\n"
     ]
    },
    {
     "ename": "Error",
     "evalue": "System.Data.SqlClient.SqlException (0x80131904): Invalid object name 'Employees'.\r\n   at System.Data.SqlClient.SqlConnection.OnError(SqlException exception, Boolean breakConnection, Action`1 wrapCloseInAction)\r\n   at System.Data.SqlClient.SqlInternalConnection.OnError(SqlException exception, Boolean breakConnection, Action`1 wrapCloseInAction)\r\n   at System.Data.SqlClient.TdsParser.ThrowExceptionAndWarning(TdsParserStateObject stateObj, Boolean callerHasConnectionLock, Boolean asyncClose)\r\n   at System.Data.SqlClient.TdsParser.TryRun(RunBehavior runBehavior, SqlCommand cmdHandler, SqlDataReader dataStream, BulkCopySimpleResultSet bulkCopyHandler, TdsParserStateObject stateObj, Boolean& dataReady)\r\n   at System.Data.SqlClient.SqlDataReader.TryConsumeMetaData()\r\n   at System.Data.SqlClient.SqlDataReader.get_MetaData()\r\n   at System.Data.SqlClient.SqlCommand.FinishExecuteReader(SqlDataReader ds, RunBehavior runBehavior, String resetOptionsString)\r\n   at System.Data.SqlClient.SqlCommand.RunExecuteReaderTds(CommandBehavior cmdBehavior, RunBehavior runBehavior, Boolean returnStream, Boolean async, Int32 timeout, Task& task, Boolean asyncWrite, SqlDataReader ds)\r\n   at System.Data.SqlClient.SqlCommand.RunExecuteReader(CommandBehavior cmdBehavior, RunBehavior runBehavior, Boolean returnStream, TaskCompletionSource`1 completion, Int32 timeout, Task& task, Boolean asyncWrite, String method)\r\n   at System.Data.SqlClient.SqlCommand.RunExecuteReader(CommandBehavior cmdBehavior, RunBehavior runBehavior, Boolean returnStream, String method)\r\n   at System.Data.SqlClient.SqlCommand.ExecuteReader(CommandBehavior behavior)\r\n   at System.Data.SqlClient.SqlCommand.ExecuteReader()\r\n   at Submission#1.<<Initialize>>d__0.MoveNext()\r\n--- End of stack trace from previous location ---\r\n   at Microsoft.CodeAnalysis.Scripting.ScriptExecutionState.RunSubmissionsAsync[TResult](ImmutableArray`1 precedingExecutors, Func`2 currentExecutor, StrongBox`1 exceptionHolderOpt, Func`2 catchExceptionOpt, CancellationToken cancellationToken)\r\nClientConnectionId:cc01c2c6-1d66-4f2b-b071-033b8671201c\r\nError Number:208,State:1,Class:16",
     "output_type": "error",
     "traceback": [
      "System.Data.SqlClient.SqlException (0x80131904): Invalid object name 'Employees'.\r\n",
      "   at System.Data.SqlClient.SqlConnection.OnError(SqlException exception, Boolean breakConnection, Action`1 wrapCloseInAction)\r\n",
      "   at System.Data.SqlClient.SqlInternalConnection.OnError(SqlException exception, Boolean breakConnection, Action`1 wrapCloseInAction)\r\n",
      "   at System.Data.SqlClient.TdsParser.ThrowExceptionAndWarning(TdsParserStateObject stateObj, Boolean callerHasConnectionLock, Boolean asyncClose)\r\n",
      "   at System.Data.SqlClient.TdsParser.TryRun(RunBehavior runBehavior, SqlCommand cmdHandler, SqlDataReader dataStream, BulkCopySimpleResultSet bulkCopyHandler, TdsParserStateObject stateObj, Boolean& dataReady)\r\n",
      "   at System.Data.SqlClient.SqlDataReader.TryConsumeMetaData()\r\n",
      "   at System.Data.SqlClient.SqlDataReader.get_MetaData()\r\n",
      "   at System.Data.SqlClient.SqlCommand.FinishExecuteReader(SqlDataReader ds, RunBehavior runBehavior, String resetOptionsString)\r\n",
      "   at System.Data.SqlClient.SqlCommand.RunExecuteReaderTds(CommandBehavior cmdBehavior, RunBehavior runBehavior, Boolean returnStream, Boolean async, Int32 timeout, Task& task, Boolean asyncWrite, SqlDataReader ds)\r\n",
      "   at System.Data.SqlClient.SqlCommand.RunExecuteReader(CommandBehavior cmdBehavior, RunBehavior runBehavior, Boolean returnStream, TaskCompletionSource`1 completion, Int32 timeout, Task& task, Boolean asyncWrite, String method)\r\n",
      "   at System.Data.SqlClient.SqlCommand.RunExecuteReader(CommandBehavior cmdBehavior, RunBehavior runBehavior, Boolean returnStream, String method)\r\n",
      "   at System.Data.SqlClient.SqlCommand.ExecuteReader(CommandBehavior behavior)\r\n",
      "   at System.Data.SqlClient.SqlCommand.ExecuteReader()\r\n",
      "   at Submission#1.<<Initialize>>d__0.MoveNext()\r\n",
      "--- End of stack trace from previous location ---\r\n",
      "   at Microsoft.CodeAnalysis.Scripting.ScriptExecutionState.RunSubmissionsAsync[TResult](ImmutableArray`1 precedingExecutors, Func`2 currentExecutor, StrongBox`1 exceptionHolderOpt, Func`2 catchExceptionOpt, CancellationToken cancellationToken)\r\n",
      "ClientConnectionId:cc01c2c6-1d66-4f2b-b071-033b8671201c\r\n",
      "Error Number:208,State:1,Class:16"
     ]
    }
   ],
   "source": [
    "//connect to sql server and run a query using c#\n",
    "\n",
    "#r \"System.Data\"\n",
    "#r \"System.Data.SqlClient\"\n",
    "#r \"System.Configuration\"\n",
    "\n",
    "// Load the required namespaces\n",
    "using System;\n",
    "using System.Data;\n",
    "using System.Data.SqlClient;\n",
    "\n",
    "// Define the connection string to connect to the SQL Server database\n",
    "var cmd = new SqlConnection(\"Server=tcp:hsavransql1.database.windows.net,1433;Initial Catalog=azuredb1;Persist Security Info=False;User ID=hsavran;Password=;MultipleActiveResultSets=False;Encrypt=True;TrustServerCertificate=False;Connection Timeout=30;\");\n",
    "cmd.Open();\n",
    "Console.WriteLine(\"Connection Opened\");\n",
    "// run a query to get the top 10 rows from the Employees table\n",
    "var query = \"SELECT TOP 10 * FROM Employees\";\n",
    "var command = new SqlCommand(query, cmd);\n",
    "var reader = command.ExecuteReader();\n",
    "// Read the data and print it to the console\n",
    "while (reader.Read())\n",
    "{\n",
    "    for (int i = 0; i < reader.FieldCount; i++)\n",
    "    {\n",
    "        Console.Write(reader[i] + \"\\t\");\n",
    "    }\n",
    "    Console.WriteLine();\n",
    "}\n",
    "cmd.Close();\n"
   ]
  }
 ],
 "metadata": {
  "kernelspec": {
   "display_name": ".NET (C#)",
   "language": "C#",
   "name": ".net-csharp"
  },
  "polyglot_notebook": {
   "kernelInfo": {
    "defaultKernelName": "csharp",
    "items": [
     {
      "aliases": [],
      "languageName": "csharp",
      "name": "csharp"
     }
    ]
   }
  }
 },
 "nbformat": 4,
 "nbformat_minor": 5
}
