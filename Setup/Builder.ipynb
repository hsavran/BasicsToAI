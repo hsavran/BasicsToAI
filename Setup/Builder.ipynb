{
 "cells": [
  {
   "cell_type": "code",
   "execution_count": null,
   "id": "f4314de8",
   "metadata": {
    "polyglot_notebook": {
     "kernelName": "csharp"
    }
   },
   "outputs": [],
   "source": [
    "Following code creates a database named \"StackOverflow\" and a container named \"Posts\"\n",
    "It inserts 10k documents into the container.\n",
    "You may need to run this code to execute C# codes in different folders."
   ]
  },
  {
   "cell_type": "code",
   "execution_count": null,
   "id": "e4770998",
   "metadata": {},
   "outputs": [],
   "source": [
    "#r \"nuget: Newtonsoft.Json\"\n",
    "#r \"nuget: Microsoft.Azure.Cosmos\"\n",
    "using Microsoft.Azure.Cosmos;\n",
    "using System.Net.Http;\n",
    "using Newtonsoft.Json;\n",
    "using System.Collections.ObjectModel;"
   ]
  },
  {
   "cell_type": "markdown",
   "id": "11c80b51",
   "metadata": {},
   "source": [
    "Following connection string is from Azure Cosmos DB Emulator.\n",
    "Download it and set it up if you like to use this locally.\n",
    "It uses Bulk feature to insert operations faster."
   ]
  },
  {
   "cell_type": "code",
   "execution_count": null,
   "id": "64aceeec",
   "metadata": {},
   "outputs": [],
   "source": [
    "var cstring = \"AccountEndpoint=https://localhost:8081/;AccountKey=C2y6yDjf5/R+ob0N8A7Cgv30VRDJIWEHLM+4QDU5DE2nQ9nDuVTqobD4b8mGGyPMbIZnqyMsEcaGQy67XIw/Jw==\";\n",
    "client = new CosmosClient(cstring, new CosmosClientOptions() {AllowBulkExecution = true});\n",
    "var newdb = await client.CreateDatabaseIfNotExistsAsync(\"StackOverflow\");\n",
    "ContainerProperties props = new ContainerProperties(\"Posts0\", \"/OwnerUserId\");\n",
    "var postContainer = await db.CreateContainerIfNotExistsAsync(props, throughput: 4000);\n"
   ]
  },
  {
   "cell_type": "markdown",
   "id": "d8ff5b31",
   "metadata": {},
   "source": [
    "Following is the data model we will store in the container."
   ]
  },
  {
   "cell_type": "code",
   "execution_count": null,
   "id": "1bbd4e7e",
   "metadata": {},
   "outputs": [],
   "source": [
    "public class Post    \n",
    "{\n",
    "    public string id { get; set; }\n",
    "    public int PostId { get; set; }\n",
    "    public string PostBody { get; set; }\n",
    "    public string Title { get; set; }\n",
    "    public int ViewCount { get; set; }\n",
    "    public int AnswerCount { get; set; }\n",
    "    public int CommentCount { get; set; }\n",
    "    public int FavoriteCount { get; set; }\n",
    "    public int AcceptedAnswerId { get; set; }\n",
    "    public DateTime? CreatedOn { get; set; }\n",
    "    public DateTime? ClosedDate { get; set; }\n",
    "    public int OwnerUserId { get; set; }\n",
    "    public string OwnerDisplayName { get; set; }\n",
    "    public string PostType { get; set; }\n",
    "    public int Score { get; set; }\n",
    "    public string Tags { get; set; }\n",
    "    public float[] bodyvector {get;set;}\n",
    "}"
   ]
  },
  {
   "cell_type": "code",
   "execution_count": null,
   "id": "23de9e01",
   "metadata": {},
   "outputs": [],
   "source": [
    "using Newtonsoft.Json.Linq;\n",
    "\n",
    "// It takes 15 minutes to run this code\n",
    "var json = await new HttpClient().GetStringAsync(\"https://raw.githubusercontent.com/hsavran/Presentations/refs/heads/main/stackoverflow.json\");\n",
    "var postList = JsonConvert.DeserializeObject<List<Post>>(json);\n",
    "postList.Count.Display(); // Display the number of posts\n",
    "//write the post to the container in bulk mode\n",
    "var postContainer = db.GetContainer(\"Posts\");\n",
    "foreach (var post in postList)\n",
    "{        \n",
    "    var response = await postContainer.CreateItemAsync(post, new PartitionKey(post.OwnerUserId));\n",
    "    response.StatusCode.Display(); // Display the status code of the response\n",
    "}"
   ]
  }
 ],
 "metadata": {
  "kernelspec": {
   "display_name": ".NET (C#)",
   "language": "C#",
   "name": ".net-csharp"
  },
  "polyglot_notebook": {
   "kernelInfo": {
    "defaultKernelName": "csharp",
    "items": [
     {
      "aliases": [],
      "languageName": "csharp",
      "name": "csharp"
     }
    ]
   }
  }
 },
 "nbformat": 4,
 "nbformat_minor": 5
}
