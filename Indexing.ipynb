{
 "cells": [
  {
   "cell_type": "code",
   "execution_count": 1,
   "id": "314ac3ee",
   "metadata": {
    "polyglot_notebook": {
     "kernelName": "csharp"
    }
   },
   "outputs": [
    {
     "data": {
      "text/html": [
       "<div><div></div><div></div><div><strong>Installed Packages</strong><ul><li><span>Microsoft.Azure.Cosmos, 3.49.0</span></li><li><span>Newtonsoft.Json, 13.0.3</span></li></ul></div></div>"
      ]
     },
     "metadata": {},
     "output_type": "display_data"
    }
   ],
   "source": [
    "#r \"nuget: Newtonsoft.Json\"\n",
    "#r \"nuget: Microsoft.Azure.Cosmos\"\n",
    "using Microsoft.Azure.Cosmos;\n",
    "using System.Net.Http;\n",
    "using System.Collections.ObjectModel;"
   ]
  },
  {
   "cell_type": "code",
   "execution_count": 4,
   "metadata": {
    "polyglot_notebook": {
     "kernelName": "csharp"
    }
   },
   "outputs": [],
   "source": [
    "var cstring = \"AccountEndpoint=https://localhost:8081/;AccountKey=C2y6yDjf5/R+ob0N8A7Cgv30VRDJIWEHLM+4QDU5DE2nQ9nDuVTqobD4b8mGGyPMbIZnqyMsEcaGQy67XIw/Jw==\";\n",
    "var client = new CosmosClient(cstring);\n",
    "var db = client.GetDatabase(\"StackOverflow\");\n",
    "var postContainer = await db.GetContainer(\"Posts2\").ReadContainerAsync();\n",
    "//await db.CreateContainerIfNotExistsAsync(\"Posts2\",\"/OwnerUserId\", 4000);"
   ]
  },
  {
   "cell_type": "code",
   "execution_count": null,
   "metadata": {
    "polyglot_notebook": {
     "kernelName": "csharp"
    }
   },
   "outputs": [],
   "source": [
    "string sqlQueryText = \"SELECT TOP 10 c.id FROM c WHERE c.Item = 'value1234' AND c.Price > 2\";\n",
    "\n",
    "QueryDefinition query = new QueryDefinition(sqlQueryText);\n",
    "var resultSetIterator = postContainer.GetItemQueryIterator<Item>(\n",
    "                query, requestOptions: new QueryRequestOptions\n",
    "        {\n",
    "            PopulateIndexMetrics = true\n",
    "        });\n",
    "\n",
    "    FeedResponse<Item> response = null;\n",
    "\n",
    "    while (resultSetIterator.HasMoreResults)\n",
    "        {\n",
    "          response = await resultSetIterator.ReadNextAsync();\n",
    "          Console.WriteLine(response.IndexMetrics);\n",
    "        }"
   ]
  },
  {
   "cell_type": "code",
   "execution_count": null,
   "metadata": {
    "polyglot_notebook": {
     "kernelName": "csharp"
    }
   },
   "outputs": [],
   "source": [
    "postContainer.Resource.IndexingPolicy.IndexingMode = IndexingMode.None;\n",
    "\n",
    "postContainer.Resource.IndexingPolicy.IncludedPaths.Add(new IncludedPath { Path = \"/*\" });\n",
    "\n",
    "postContainer.Resource.IndexingPolicy.ExcludedPaths.Add(new ExcludedPath { Path = \"/name/*\" });\n",
    "\n",
    "postContainer.Resource.IndexingPolicy.CompositeIndexes.Add(new Collection<CompositePath> { \n",
    "    new CompositePath() { Path = \"/name\", Order = CompositePathSortOrder.Ascending }, \n",
    "    new CompositePath() { Path = \"/age\", Order = CompositePathSortOrder.Descending }\n",
    "    });\n",
    "\n",
    "SpatialPath spatialPath = new SpatialPath\n",
    "{\n",
    "    Path = \"/locations/*\"\n",
    "};\n",
    "spatialPath.SpatialTypes.Add(SpatialType.Point);\n",
    "postContainer.Resource.IndexingPolicy.SpatialIndexes.Add(spatialPath);\n",
    "\n",
    "await db.GetContainer(\"Posts\").ReplaceContainerAsync(postContainer.Resource);\n",
    "\n",
    "// retrieve the container's details\n",
    "ContainerResponse containerResponse = await db.GetContainer(\"Posts\").ReadContainerAsync(new ContainerRequestOptions { PopulateQuotaInfo = true });\n",
    "// retrieve the index transformation progress from the result\n",
    "long indexTransformationProgress = long.Parse(containerResponse.Headers[\"x-ms-documentdb-collection-index-transformation-progress\"]);"
   ]
  },
  {
   "cell_type": "markdown",
   "id": "db6bb45b",
   "metadata": {},
   "source": [
    "V3 Fluent API"
   ]
  },
  {
   "cell_type": "code",
   "execution_count": null,
   "metadata": {
    "polyglot_notebook": {
     "kernelName": "csharp"
    }
   },
   "outputs": [],
   "source": [
    "await client.GetDatabase(\"database\").DefineContainer(name: \"container\", partitionKeyPath: \"/myPartitionKey\")\n",
    "    .WithIndexingPolicy()\n",
    "        .WithIncludedPaths()\n",
    "            .Path(\"/*\")\n",
    "        .Attach()\n",
    "        .WithExcludedPaths()\n",
    "            .Path(\"/name/*\")\n",
    "        .Attach()\n",
    "        .WithSpatialIndex()\n",
    "            .Path(\"/locations/*\", SpatialType.Point)\n",
    "        .Attach()\n",
    "        .WithCompositeIndex()\n",
    "            .Path(\"/name\", CompositePathSortOrder.Ascending)\n",
    "            .Path(\"/age\", CompositePathSortOrder.Descending)\n",
    "        .Attach()\n",
    "    .Attach()\n",
    "    .CreateIfNotExistsAsync();"
   ]
  }
 ],
 "metadata": {
  "kernelspec": {
   "display_name": ".NET (C#)",
   "language": "C#",
   "name": ".net-csharp"
  },
  "polyglot_notebook": {
   "kernelInfo": {
    "defaultKernelName": "csharp",
    "items": [
     {
      "aliases": [],
      "languageName": "csharp",
      "name": "csharp"
     }
    ]
   }
  }
 },
 "nbformat": 4,
 "nbformat_minor": 5
}
