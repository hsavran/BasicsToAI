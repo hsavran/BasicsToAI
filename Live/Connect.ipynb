{
 "cells": [
  {
   "cell_type": "code",
   "execution_count": 2,
   "id": "c05eb254",
   "metadata": {
    "language_info": {
     "name": "polyglot-notebook"
    },
    "polyglot_notebook": {
     "kernelName": "csharp"
    }
   },
   "outputs": [
    {
     "data": {
      "text/html": [
       "<div><div></div><div></div><div><strong>Installed Packages</strong><ul><li><span>Microsoft.Azure.Cosmos, 3.53.0</span></li><li><span>Newtonsoft.Json, 13.0.3</span></li></ul></div></div>"
      ]
     },
     "metadata": {},
     "output_type": "display_data"
    }
   ],
   "source": [
    "#r \"nuget: Newtonsoft.Json\"\n",
    "#r \"nuget: Microsoft.Azure.Cosmos\"\n",
    "using Microsoft.Azure.Cosmos;\n",
    "using System.Net.Http;"
   ]
  },
  {
   "cell_type": "code",
   "execution_count": 4,
   "id": "8a680cfe",
   "metadata": {
    "language_info": {
     "name": "polyglot-notebook"
    },
    "polyglot_notebook": {
     "kernelName": "csharp"
    }
   },
   "outputs": [
    {
     "data": {
      "text/html": [
       "<details open=\"open\" class=\"dni-treeview\"><summary><span class=\"dni-code-hint\"><code>Microsoft.Azure.Cosmos.CosmosClient</code></span></summary><div><table><thead><tr></tr></thead><tbody><tr><td>ClientOptions</td><td><details class=\"dni-treeview\"><summary><span class=\"dni-code-hint\"><code>Microsoft.Azure.Cosmos.CosmosClientOptions</code></span></summary><div><table><thead><tr></tr></thead><tbody><tr><td>ApplicationName</td><td><div class=\"dni-plaintext\"><pre>&lt;null&gt;</pre></div></td></tr><tr><td>ApplicationRegion</td><td><div class=\"dni-plaintext\"><pre>&lt;null&gt;</pre></div></td></tr><tr><td>ApplicationPreferredRegions</td><td><div class=\"dni-plaintext\"><pre>&lt;null&gt;</pre></div></td></tr><tr><td>AccountInitializationCustomEndpoints</td><td><div class=\"dni-plaintext\"><pre>&lt;null&gt;</pre></div></td></tr><tr><td>GatewayModeMaxConnectionLimit</td><td><div class=\"dni-plaintext\"><pre>50</pre></div></td></tr><tr><td>RequestTimeout</td><td><span>00:00:06</span></td></tr><tr><td>TokenCredentialBackgroundRefreshInterval</td><td><div class=\"dni-plaintext\"><pre>&lt;null&gt;</pre></div></td></tr><tr><td>CustomHandlers</td><td><i>(empty)</i></td></tr><tr><td>ConnectionMode</td><td><span>Direct</span></td></tr><tr><td>ConsistencyLevel</td><td><div class=\"dni-plaintext\"><pre>&lt;null&gt;</pre></div></td></tr><tr><td>PriorityLevel</td><td><div class=\"dni-plaintext\"><pre>&lt;null&gt;</pre></div></td></tr><tr><td>MaxRetryAttemptsOnRateLimitedRequests</td><td><div class=\"dni-plaintext\"><pre>&lt;null&gt;</pre></div></td></tr><tr><td>MaxRetryWaitTimeOnRateLimitedRequests</td><td><div class=\"dni-plaintext\"><pre>&lt;null&gt;</pre></div></td></tr><tr><td>EnableContentResponseOnWrite</td><td><div class=\"dni-plaintext\"><pre>&lt;null&gt;</pre></div></td></tr><tr><td>UseSystemTextJsonSerializerWithOptions</td><td><div class=\"dni-plaintext\"><pre>&lt;null&gt;</pre></div></td></tr><tr><td>IdleTcpConnectionTimeout</td><td><div class=\"dni-plaintext\"><pre>&lt;null&gt;</pre></div></td></tr><tr><td>OpenTcpConnectionTimeout</td><td><div class=\"dni-plaintext\"><pre>&lt;null&gt;</pre></div></td></tr><tr><td>MaxRequestsPerTcpConnection</td><td><div class=\"dni-plaintext\"><pre>&lt;null&gt;</pre></div></td></tr><tr><td>MaxTcpConnectionsPerEndpoint</td><td><div class=\"dni-plaintext\"><pre>&lt;null&gt;</pre></div></td></tr><tr><td>PortReuseMode</td><td><div class=\"dni-plaintext\"><pre>&lt;null&gt;</pre></div></td></tr><tr><td>WebProxy</td><td><div class=\"dni-plaintext\"><pre>&lt;null&gt;</pre></div></td></tr><tr><td>SerializerOptions</td><td><div class=\"dni-plaintext\"><pre>&lt;null&gt;</pre></div></td></tr><tr><td>Serializer</td><td><details class=\"dni-treeview\"><summary><span class=\"dni-code-hint\"><code>Microsoft.Azure.Cosmos.CosmosJsonSerializerWrapper</code></span></summary><div><table><thead><tr></tr></thead><tbody></tbody></table></div></details></td></tr><tr><td>LimitToEndpoint</td><td><div class=\"dni-plaintext\"><pre>False</pre></div></td></tr><tr><td>AllowBulkExecution</td><td><div class=\"dni-plaintext\"><pre>False</pre></div></td></tr><tr><td>EnableTcpConnectionEndpointRediscovery</td><td><div class=\"dni-plaintext\"><pre>True</pre></div></td></tr><tr><td>HttpClientFactory</td><td><div class=\"dni-plaintext\"><pre>&lt;null&gt;</pre></div></td></tr><tr><td>AvailabilityStrategy</td><td><div class=\"dni-plaintext\"><pre>&lt;null&gt;</pre></div></td></tr><tr><td>ServerCertificateCustomValidationCallback</td><td><div class=\"dni-plaintext\"><pre>&lt;null&gt;</pre></div></td></tr><tr><td>CosmosClientTelemetryOptions</td><td><details class=\"dni-treeview\"><summary><span class=\"dni-code-hint\"><code>Microsoft.Azure.Cosmos.CosmosClientTelemetryOptions</code></span></summary><div><table><thead><tr></tr></thead><tbody><tr><td>DisableSendingMetricsToService</td><td><div class=\"dni-plaintext\"><pre>True</pre></div></td></tr><tr><td>DisableDistributedTracing</td><td><div class=\"dni-plaintext\"><pre>True</pre></div></td></tr><tr><td>CosmosThresholdOptions</td><td><details class=\"dni-treeview\"><summary><span class=\"dni-code-hint\"><code>Microsoft.Azure.Cosmos.CosmosThresholdOptions</code></span></summary><div><table><thead><tr></tr></thead><tbody><tr><td>NonPointOperationLatencyThreshold</td><td><span>00:00:03</span></td></tr><tr><td>PointOperationLatencyThreshold</td><td><span>00:00:01</span></td></tr><tr><td>RequestChargeThreshold</td><td><div class=\"dni-plaintext\"><pre>&lt;null&gt;</pre></div></td></tr><tr><td>PayloadSizeThresholdInBytes</td><td><div class=\"dni-plaintext\"><pre>&lt;null&gt;</pre></div></td></tr></tbody></table></div></details></td></tr><tr><td>QueryTextMode</td><td><span>None</span></td></tr></tbody></table></div></details></td></tr><tr><td>FaultInjector</td><td><div class=\"dni-plaintext\"><pre>&lt;null&gt;</pre></div></td></tr></tbody></table></div></details></td></tr><tr><td>ResponseFactory</td><td><details class=\"dni-treeview\"><summary><span class=\"dni-code-hint\"><code>Microsoft.Azure.Cosmos.CosmosResponseFactoryCore</code></span></summary><div><table><thead><tr></tr></thead><tbody></tbody></table></div></details></td></tr><tr><td>Endpoint</td><td><details class=\"dni-treeview\"><summary><span class=\"dni-code-hint\"><code>https://localhost:8081/</code></span></summary><div><table><thead><tr></tr></thead><tbody><tr><td>AbsolutePath</td><td><div class=\"dni-plaintext\"><pre>/</pre></div></td></tr><tr><td>AbsoluteUri</td><td><div class=\"dni-plaintext\"><pre>https://localhost:8081/</pre></div></td></tr><tr><td>LocalPath</td><td><div class=\"dni-plaintext\"><pre>/</pre></div></td></tr><tr><td>Authority</td><td><div class=\"dni-plaintext\"><pre>localhost:8081</pre></div></td></tr><tr><td>HostNameType</td><td><span>Dns</span></td></tr><tr><td>IsDefaultPort</td><td><div class=\"dni-plaintext\"><pre>False</pre></div></td></tr><tr><td>IsFile</td><td><div class=\"dni-plaintext\"><pre>False</pre></div></td></tr><tr><td>IsLoopback</td><td><div class=\"dni-plaintext\"><pre>True</pre></div></td></tr><tr><td>PathAndQuery</td><td><div class=\"dni-plaintext\"><pre>/</pre></div></td></tr><tr><td>Segments</td><td><div class=\"dni-plaintext\"><pre>[ / ]</pre></div></td></tr><tr><td>IsUnc</td><td><div class=\"dni-plaintext\"><pre>False</pre></div></td></tr><tr><td>Host</td><td><div class=\"dni-plaintext\"><pre>localhost</pre></div></td></tr><tr><td>Port</td><td><div class=\"dni-plaintext\"><pre>8081</pre></div></td></tr><tr><td>Query</td><td><div class=\"dni-plaintext\"><pre></pre></div></td></tr><tr><td>Fragment</td><td><div class=\"dni-plaintext\"><pre></pre></div></td></tr><tr><td>Scheme</td><td><div class=\"dni-plaintext\"><pre>https</pre></div></td></tr><tr><td>OriginalString</td><td><div class=\"dni-plaintext\"><pre>https://localhost:8081</pre></div></td></tr><tr><td>DnsSafeHost</td><td><div class=\"dni-plaintext\"><pre>localhost</pre></div></td></tr><tr><td>IdnHost</td><td><div class=\"dni-plaintext\"><pre>localhost</pre></div></td></tr><tr><td>IsAbsoluteUri</td><td><div class=\"dni-plaintext\"><pre>True</pre></div></td></tr><tr><td>UserEscaped</td><td><div class=\"dni-plaintext\"><pre>False</pre></div></td></tr><tr><td>UserInfo</td><td><div class=\"dni-plaintext\"><pre></pre></div></td></tr></tbody></table></div></details></td></tr></tbody></table></div></details><style>\r\n",
       ".dni-code-hint {\r\n",
       "    font-style: italic;\r\n",
       "    overflow: hidden;\r\n",
       "    white-space: nowrap;\r\n",
       "}\r\n",
       ".dni-treeview {\r\n",
       "    white-space: nowrap;\r\n",
       "}\r\n",
       ".dni-treeview td {\r\n",
       "    vertical-align: top;\r\n",
       "    text-align: start;\r\n",
       "}\r\n",
       "details.dni-treeview {\r\n",
       "    padding-left: 1em;\r\n",
       "}\r\n",
       "table td {\r\n",
       "    text-align: start;\r\n",
       "}\r\n",
       "table tr { \r\n",
       "    vertical-align: top; \r\n",
       "    margin: 0em 0px;\r\n",
       "}\r\n",
       "table tr td pre \r\n",
       "{ \r\n",
       "    vertical-align: top !important; \r\n",
       "    margin: 0em 0px !important;\r\n",
       "} \r\n",
       "table th {\r\n",
       "    text-align: start;\r\n",
       "}\r\n",
       "</style>"
      ]
     },
     "metadata": {},
     "output_type": "display_data"
    }
   ],
   "source": [
    "var endpoint = \"https://localhost:8081\";\n",
    "var key =\"C2y6yDjf5/R+ob0N8A7Cgv30VRDJIWEHLM+4QDU5DE2nQ9nDuVTqobD4b8mGGyPMbIZnqyMsEcaGQy67XIw/Jw==\";\n",
    "var client = new CosmosClient(endpoint, key);\n",
    "\n",
    "client.Display();"
   ]
  },
  {
   "cell_type": "code",
   "execution_count": null,
   "id": "183e2b47",
   "metadata": {
    "language_info": {
     "name": "polyglot-notebook"
    },
    "polyglot_notebook": {
     "kernelName": "csharp"
    }
   },
   "outputs": [],
   "source": [
    "using (var iterator = client.GetDatabaseQueryIterator<DatabaseProperties>())\n",
    "{\n",
    "    while (iterator.HasMoreResults)\n",
    "    {\n",
    "        var response = await iterator.ReadNextAsync();\n",
    "        foreach (var db in response)\n",
    "        {\n",
    "            Console.WriteLine($\"Database Id: {db.Id}\");\n",
    "        }\n",
    "    }\n",
    "}"
   ]
  },
  {
   "cell_type": "code",
   "execution_count": null,
   "id": "edcaa2e2",
   "metadata": {
    "language_info": {
     "name": "polyglot-notebook"
    },
    "polyglot_notebook": {
     "kernelName": "csharp"
    }
   },
   "outputs": [],
   "source": [
    "var livedb = await client.CreateDatabaseIfNotExistsAsync(\"Live\");\n",
    "livedb.Display();"
   ]
  },
  {
   "cell_type": "code",
   "execution_count": 6,
   "id": "11513d99",
   "metadata": {
    "language_info": {
     "name": "polyglot-notebook"
    },
    "polyglot_notebook": {
     "kernelName": "csharp"
    }
   },
   "outputs": [],
   "source": [
    "var livedb = client.GetDatabase(\"Live\");\n",
    "var products = await livedb.CreateContainerIfNotExistsAsync(\"Products\",\"/categoryid\", 1000);"
   ]
  },
  {
   "cell_type": "code",
   "execution_count": 5,
   "id": "cdc9ae99",
   "metadata": {
    "language_info": {
     "name": "polyglot-notebook"
    },
    "polyglot_notebook": {
     "kernelName": "csharp"
    }
   },
   "outputs": [
    {
     "ename": "Error",
     "evalue": "(8,22): error CS0103: The name 'livedb' does not exist in the current context",
     "output_type": "error",
     "traceback": [
      "(8,22): error CS0103: The name 'livedb' does not exist in the current context"
     ]
    }
   ],
   "source": [
    "var containerprops = new ContainerProperties\n",
    "{\n",
    "    Id = \"Products\",\n",
    "    PartitionKeyPath = \"/categoryid\"    \n",
    "};\n",
    "\n",
    "var throughputprops =  ThroughputProperties.CreateAutoscaleThroughput(4000);\n",
    "var products = await livedb.CreateContainerIfNotExistsAsync(containerprops, throughputprops);\n"
   ]
  }
 ],
 "metadata": {
  "kernelspec": {
   "display_name": ".NET (C#)",
   "language": "C#",
   "name": ".net-csharp"
  },
  "language_info": {
   "name": "polyglot-notebook"
  },
  "polyglot_notebook": {
   "kernelInfo": {
    "defaultKernelName": "csharp",
    "items": [
     {
      "aliases": [],
      "name": "csharp"
     }
    ]
   }
  }
 },
 "nbformat": 4,
 "nbformat_minor": 5
}
