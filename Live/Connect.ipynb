{
 "cells": [
  {
   "cell_type": "code",
   "execution_count": null,
   "id": "c05eb254",
   "metadata": {
    "language_info": {
     "name": "polyglot-notebook"
    },
    "polyglot_notebook": {
     "kernelName": "csharp"
    }
   },
   "outputs": [],
   "source": [
    "#r \"nuget: Newtonsoft.Json\"\n",
    "#r \"nuget: Microsoft.Azure.Cosmos\"\n",
    "using Microsoft.Azure.Cosmos;\n",
    "using System.Net.Http;"
   ]
  },
  {
   "cell_type": "markdown",
   "id": "ab75a869",
   "metadata": {},
   "source": [
    "Azure Cosmos DB Emulator\n",
    "\n",
    "GatewayModeMaxConnectionLimit\n",
    "\n",
    "ConnectionMode\n",
    "\n",
    "AllowBulkExecution"
   ]
  },
  {
   "cell_type": "code",
   "execution_count": null,
   "id": "8a680cfe",
   "metadata": {
    "language_info": {
     "name": "polyglot-notebook"
    },
    "polyglot_notebook": {
     "kernelName": "csharp"
    }
   },
   "outputs": [],
   "source": [
    "var endpoint = \"https://localhost:8081\";\n",
    "var key =\"C2y6yDjf5/R+ob0N8A7Cgv30VRDJIWEHLM+4QDU5DE2nQ9nDuVTqobD4b8mGGyPMbIZnqyMsEcaGQy67XIw/Jw==\";\n",
    "var client = new CosmosClient(endpoint, key);\n",
    "\n",
    "client.Display();"
   ]
  },
  {
   "cell_type": "code",
   "execution_count": null,
   "metadata": {
    "language_info": {
     "name": "polyglot-notebook"
    },
    "polyglot_notebook": {
     "kernelName": "csharp"
    }
   },
   "outputs": [],
   "source": [
    "CosmosClientOptions options = new CosmosClientOptions\n",
    "{\n",
    "    AllowBulkExecution = false,\n",
    "    ApplicationName = \"CosmosDBDemo\",\n",
    "    ApplicationRegion = \"East US\", \n",
    "    //threshold: how long before SDK begins hedging. thresholdStep: how much longer to wait before sending another request\n",
    "    //hedging is a latency optimization strategy that sends requests to multiple regions and uses the first response\n",
    "    AvailabilityStrategy = AvailabilityStrategy.CrossRegionHedgingStrategy(threshold: TimeSpan.FromMilliseconds(500), thresholdStep: TimeSpan.FromMilliseconds(100)),\n",
    "    ConsistencyLevel = ConsistencyLevel.Session,\n",
    "    EnableContentResponseOnWrite = false,    \n",
    "    RequestTimeout = TimeSpan.FromSeconds(30),    \n",
    "    ConnectionMode = ConnectionMode.Gateway,\n",
    "    MaxRetryAttemptsOnRateLimitedRequests = 5,\n",
    "    MaxRetryWaitTimeOnRateLimitedRequests = TimeSpan.FromSeconds(30)    \n",
    "};\n",
    "\n",
    "client = new CosmosClient(endpoint, key, options);\n",
    "client.Display();"
   ]
  },
  {
   "cell_type": "markdown",
   "id": "7d803bfe",
   "metadata": {},
   "source": [
    "Meta data queries"
   ]
  },
  {
   "cell_type": "code",
   "execution_count": null,
   "id": "183e2b47",
   "metadata": {
    "language_info": {
     "name": "polyglot-notebook"
    },
    "polyglot_notebook": {
     "kernelName": "csharp"
    }
   },
   "outputs": [],
   "source": [
    "using (var iterator = client.GetDatabaseQueryIterator<DatabaseProperties>())\n",
    "{\n",
    "    while (iterator.HasMoreResults)\n",
    "    {\n",
    "        var response = await iterator.ReadNextAsync();\n",
    "        foreach (var db in response)\n",
    "        {\n",
    "            Console.WriteLine($\"Database Id: {db.Id}\");\n",
    "        }\n",
    "    }\n",
    "}"
   ]
  },
  {
   "cell_type": "code",
   "execution_count": null,
   "id": "edcaa2e2",
   "metadata": {
    "language_info": {
     "name": "polyglot-notebook"
    },
    "polyglot_notebook": {
     "kernelName": "csharp"
    }
   },
   "outputs": [],
   "source": [
    "var livedb = await client.CreateDatabaseIfNotExistsAsync(\"Live\");\n",
    "livedb.Display();"
   ]
  },
  {
   "cell_type": "code",
   "execution_count": null,
   "id": "11513d99",
   "metadata": {
    "language_info": {
     "name": "polyglot-notebook"
    },
    "polyglot_notebook": {
     "kernelName": "csharp"
    }
   },
   "outputs": [],
   "source": [
    "var livedb = client.GetDatabase(\"Live\");\n",
    "var products = await livedb.CreateContainerIfNotExistsAsync(\"Products\",\"/categoryid\", 1000);\n",
    "products.Display();"
   ]
  },
  {
   "cell_type": "markdown",
   "id": "8a382b4e",
   "metadata": {},
   "source": [
    "Rated\n",
    "Auto Scale\n",
    "Serverless"
   ]
  },
  {
   "cell_type": "code",
   "execution_count": null,
   "id": "cdc9ae99",
   "metadata": {
    "language_info": {
     "name": "polyglot-notebook"
    },
    "polyglot_notebook": {
     "kernelName": "csharp"
    }
   },
   "outputs": [],
   "source": [
    "var containerprops = new ContainerProperties\n",
    "{\n",
    "    Id = \"Products2\",\n",
    "    PartitionKeyPath = \"/categoryid\"    \n",
    "};\n",
    "\n",
    "var throughputprops =  ThroughputProperties.CreateAutoscaleThroughput(4000);\n",
    "var products = await livedb.CreateContainerIfNotExistsAsync(containerprops, throughputprops);\n",
    "products.Display();\n"
   ]
  },
  {
   "cell_type": "code",
   "execution_count": null,
   "metadata": {
    "language_info": {
     "name": "polyglot-notebook"
    },
    "polyglot_notebook": {
     "kernelName": "csharp"
    }
   },
   "outputs": [],
   "source": [
    "var containertoupdate = livedb.GetContainer(\"Products2\");\n",
    "var autoscale = ThroughputProperties.CreateAutoscaleThroughput(8000);\n",
    "var response = await containertoupdate.ReplaceThroughputAsync(autoscale);\n",
    "response.Display();"
   ]
  },
  {
   "cell_type": "markdown",
   "id": "5e572d6a",
   "metadata": {},
   "source": [
    "#11:45"
   ]
  }
 ],
 "metadata": {
  "kernelspec": {
   "display_name": ".NET (C#)",
   "language": "C#",
   "name": ".net-csharp"
  },
  "language_info": {
   "name": "polyglot-notebook"
  },
  "polyglot_notebook": {
   "kernelInfo": {
    "defaultKernelName": "csharp",
    "items": [
     {
      "aliases": [],
      "name": "csharp"
     }
    ]
   }
  }
 },
 "nbformat": 4,
 "nbformat_minor": 5
}
