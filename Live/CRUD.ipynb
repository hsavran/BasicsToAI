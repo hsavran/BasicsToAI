{
 "cells": [
  {
   "cell_type": "code",
   "execution_count": 1,
   "id": "0f4c3b03",
   "metadata": {},
   "outputs": [
    {
     "data": {
      "text/html": [
       "<div><div></div><div></div><div><strong>Installed Packages</strong><ul><li><span>Microsoft.Azure.Cosmos, 3.53.0</span></li><li><span>Newtonsoft.Json, 13.0.3</span></li></ul></div></div>"
      ]
     },
     "metadata": {},
     "output_type": "display_data"
    }
   ],
   "source": [
    "#r \"nuget: Newtonsoft.Json\"\n",
    "#r \"nuget: Microsoft.Azure.Cosmos\"\n",
    "using Microsoft.Azure.Cosmos;\n",
    "using System.Net.Http;"
   ]
  },
  {
   "cell_type": "code",
   "execution_count": 18,
   "id": "daf5b95f",
   "metadata": {},
   "outputs": [],
   "source": [
    "var cstring = \"AccountEndpoint=https://localhost:8081/;AccountKey=C2y6yDjf5/R+ob0N8A7Cgv30VRDJIWEHLM+4QDU5DE2nQ9nDuVTqobD4b8mGGyPMbIZnqyMsEcaGQy67XIw/Jw==\";\n",
    "var client = new CosmosClient(cstring);\n",
    "var db = client.GetDatabase(\"Live\");\n",
    "var productContainer = db.GetContainer(\"Products\");"
   ]
  },
  {
   "cell_type": "code",
   "execution_count": 35,
   "id": "cb6cd16b",
   "metadata": {},
   "outputs": [],
   "source": [
    "public class Product    \n",
    "{\n",
    "    public string id { get; set; }\n",
    "    public int ProductId { get; set; }\n",
    "    public string Name { get; set; }\n",
    "    public string Desciption { get; set; }\n",
    "    public int categoryid { get; set; }\n",
    "    public string CategoryName { get; set; }\n",
    "    public decimal Price {get;set;}\n",
    "    public bool InStock {get;set;}\n",
    "    public List<string> ImageUrls { get; set; }        \n",
    "}"
   ]
  },
  {
   "cell_type": "code",
   "execution_count": 36,
   "id": "c3ff32d8",
   "metadata": {},
   "outputs": [],
   "source": [
    "var newproduct = new Product\n",
    "{\n",
    "    id = Guid.NewGuid().ToString(),\n",
    "    ProductId = 1,\n",
    "    Name = \"Sample Product\",\n",
    "    Desciption = \"This is a sample product.\",\n",
    "    categoryid = 1,\n",
    "    CategoryName = \"Category 1\",\n",
    "    Price = 19.99M,\n",
    "    InStock = true,\n",
    "    ImageUrls = new List<string> { \"http://example.com/image1.jpg\", \"http://example.com/image2.jpg\" }\n",
    "};"
   ]
  },
  {
   "cell_type": "code",
   "execution_count": 38,
   "id": "eabded8c",
   "metadata": {},
   "outputs": [
    {
     "name": "stdout",
     "output_type": "stream",
     "text": [
      "Created item in database with id: 72d6d521-55d8-4f58-84a0-45df461bd511\n",
      "Request charge: 8.95\n"
     ]
    }
   ],
   "source": [
    "var newitem = await productContainer.CreateItemAsync(newproduct, new PartitionKey(newproduct.categoryid));\n",
    "Console.WriteLine($\"Created item in database with id: {newitem.Resource.id}\");\n",
    "Console.WriteLine($\"Request charge: {newitem.RequestCharge}\");"
   ]
  },
  {
   "cell_type": "code",
   "execution_count": 39,
   "id": "8ed4ca93",
   "metadata": {},
   "outputs": [
    {
     "name": "stdout",
     "output_type": "stream",
     "text": [
      "Request charge: 2.82\r\n"
     ]
    },
    {
     "data": {
      "text/html": [
       "<details open=\"open\" class=\"dni-treeview\"><summary><span class=\"dni-code-hint\"><code>Submission#35+Product</code></span></summary><div><table><thead><tr></tr></thead><tbody><tr><td>id</td><td><div class=\"dni-plaintext\"><pre>72d6d521-55d8-4f58-84a0-45df461bd511</pre></div></td></tr><tr><td>ProductId</td><td><div class=\"dni-plaintext\"><pre>1</pre></div></td></tr><tr><td>Name</td><td><div class=\"dni-plaintext\"><pre>Sample Product</pre></div></td></tr><tr><td>Desciption</td><td><div class=\"dni-plaintext\"><pre>This is a sample product.</pre></div></td></tr><tr><td>categoryid</td><td><div class=\"dni-plaintext\"><pre>1</pre></div></td></tr><tr><td>CategoryName</td><td><div class=\"dni-plaintext\"><pre>Category 1</pre></div></td></tr><tr><td>Price</td><td><div class=\"dni-plaintext\"><pre>19.99</pre></div></td></tr><tr><td>InStock</td><td><div class=\"dni-plaintext\"><pre>True</pre></div></td></tr><tr><td>ImageUrls</td><td><div class=\"dni-plaintext\"><pre>[ http://example.com/image1.jpg, http://example.com/image2.jpg ]</pre></div></td></tr></tbody></table></div></details><style>\r\n",
       ".dni-code-hint {\r\n",
       "    font-style: italic;\r\n",
       "    overflow: hidden;\r\n",
       "    white-space: nowrap;\r\n",
       "}\r\n",
       ".dni-treeview {\r\n",
       "    white-space: nowrap;\r\n",
       "}\r\n",
       ".dni-treeview td {\r\n",
       "    vertical-align: top;\r\n",
       "    text-align: start;\r\n",
       "}\r\n",
       "details.dni-treeview {\r\n",
       "    padding-left: 1em;\r\n",
       "}\r\n",
       "table td {\r\n",
       "    text-align: start;\r\n",
       "}\r\n",
       "table tr { \r\n",
       "    vertical-align: top; \r\n",
       "    margin: 0em 0px;\r\n",
       "}\r\n",
       "table tr td pre \r\n",
       "{ \r\n",
       "    vertical-align: top !important; \r\n",
       "    margin: 0em 0px !important;\r\n",
       "} \r\n",
       "table th {\r\n",
       "    text-align: start;\r\n",
       "}\r\n",
       "</style>"
      ]
     },
     "metadata": {},
     "output_type": "display_data"
    }
   ],
   "source": [
    "var id = 1;\n",
    "var productQuery = new QueryDefinition(\"SELECT * FROM c WHERE c.ProductId = @id\")\n",
    "    .WithParameter(\"@id\", id);\n",
    "var iterator = productContainer.GetItemQueryIterator<Product>(productQuery);\n",
    "var results = new List<Product>();\n",
    "while (iterator.HasMoreResults)\n",
    "{\n",
    "    var response = await iterator.ReadNextAsync();\n",
    "    results.AddRange(response);\n",
    "    Console.WriteLine($\"Request charge: {response.RequestCharge}\");\n",
    "}\n",
    "results[0].Display();"
   ]
  },
  {
   "cell_type": "code",
   "execution_count": 40,
   "id": "9ecc66ab",
   "metadata": {},
   "outputs": [
    {
     "data": {
      "text/html": [
       "<details open=\"open\" class=\"dni-treeview\"><summary><span class=\"dni-code-hint\"><code>Microsoft.Azure.Cosmos.ItemResponse`1[Submission#35+Product]</code></span></summary><div><table><thead><tr></tr></thead><tbody><tr><td>Headers</td><td><details class=\"dni-treeview\"><summary><span class=\"dni-code-hint\"><code>[ x-ms-activity-id, x-ms-last-state-change-utc, etag, x-ms-resource-quota, x-ms-resource-usage, x-ms-schemaversion, lsn, x-ms-request-charge, x-ms-alt-content-path, x-ms-content-path, x-ms-quorum-acked-lsn, x-ms-current-write-quorum, x-ms-current-replica-set-size, x-ms-documentdb-partitionkeyrangeid, x-ms-xp-role, x-ms-global-Committed-lsn, x-ms-number-of-read-regions, x-ms-item-lsn, x-ms-transport-request-id, x-ms-cosmos-llsn ... (more) ]</code></span></summary><div><table><thead><tr></tr></thead><tbody><tr><td>ContinuationToken</td><td><div class=\"dni-plaintext\"><pre>&lt;null&gt;</pre></div></td></tr><tr><td>RequestCharge</td><td><div class=\"dni-plaintext\"><pre>1</pre></div></td></tr><tr><td>ActivityId</td><td><div class=\"dni-plaintext\"><pre>0c7e11ad-222c-46b3-8fc9-21e9c0518205</pre></div></td></tr><tr><td>ETag</td><td><div class=\"dni-plaintext\"><pre>&quot;00000000-0000-0000-1141-7db97d7901dc&quot;</pre></div></td></tr><tr><td>ContentType</td><td><div class=\"dni-plaintext\"><pre>&lt;null&gt;</pre></div></td></tr><tr><td>Session</td><td><div class=\"dni-plaintext\"><pre>0:-1#6</pre></div></td></tr><tr><td>ContentLength</td><td><div class=\"dni-plaintext\"><pre>&lt;null&gt;</pre></div></td></tr><tr><td>Location</td><td><div class=\"dni-plaintext\"><pre>&lt;null&gt;</pre></div></td></tr><tr><td><i>(values)</i></td><td><table><thead><tr><th><i>index</i></th><th>value</th></tr></thead><tbody><tr><td>0</td><td><div class=\"dni-plaintext\"><pre>x-ms-activity-id</pre></div></td></tr><tr><td>1</td><td><div class=\"dni-plaintext\"><pre>x-ms-last-state-change-utc</pre></div></td></tr><tr><td>2</td><td><div class=\"dni-plaintext\"><pre>etag</pre></div></td></tr><tr><td>3</td><td><div class=\"dni-plaintext\"><pre>x-ms-resource-quota</pre></div></td></tr><tr><td>4</td><td><div class=\"dni-plaintext\"><pre>x-ms-resource-usage</pre></div></td></tr><tr><td>5</td><td><div class=\"dni-plaintext\"><pre>x-ms-schemaversion</pre></div></td></tr><tr><td>6</td><td><div class=\"dni-plaintext\"><pre>lsn</pre></div></td></tr><tr><td>7</td><td><div class=\"dni-plaintext\"><pre>x-ms-request-charge</pre></div></td></tr><tr><td>8</td><td><div class=\"dni-plaintext\"><pre>x-ms-alt-content-path</pre></div></td></tr><tr><td>9</td><td><div class=\"dni-plaintext\"><pre>x-ms-content-path</pre></div></td></tr><tr><td>10</td><td><div class=\"dni-plaintext\"><pre>x-ms-quorum-acked-lsn</pre></div></td></tr><tr><td>11</td><td><div class=\"dni-plaintext\"><pre>x-ms-current-write-quorum</pre></div></td></tr><tr><td>12</td><td><div class=\"dni-plaintext\"><pre>x-ms-current-replica-set-size</pre></div></td></tr><tr><td>13</td><td><div class=\"dni-plaintext\"><pre>x-ms-documentdb-partitionkeyrangeid</pre></div></td></tr><tr><td>14</td><td><div class=\"dni-plaintext\"><pre>x-ms-xp-role</pre></div></td></tr><tr><td>15</td><td><div class=\"dni-plaintext\"><pre>x-ms-global-Committed-lsn</pre></div></td></tr><tr><td>16</td><td><div class=\"dni-plaintext\"><pre>x-ms-number-of-read-regions</pre></div></td></tr><tr><td>17</td><td><div class=\"dni-plaintext\"><pre>x-ms-item-lsn</pre></div></td></tr><tr><td>18</td><td><div class=\"dni-plaintext\"><pre>x-ms-transport-request-id</pre></div></td></tr><tr><td>19</td><td><div class=\"dni-plaintext\"><pre>x-ms-cosmos-llsn</pre></div></td></tr><tr><td colspan=\"2\"><i>... (more)</i></td></tr></tbody></table></td></tr></tbody></table></div></details></td></tr><tr><td>Resource</td><td><details class=\"dni-treeview\"><summary><span class=\"dni-code-hint\"><code>Submission#35+Product</code></span></summary><div><table><thead><tr></tr></thead><tbody><tr><td>id</td><td><div class=\"dni-plaintext\"><pre>72d6d521-55d8-4f58-84a0-45df461bd511</pre></div></td></tr><tr><td>ProductId</td><td><div class=\"dni-plaintext\"><pre>1</pre></div></td></tr><tr><td>Name</td><td><div class=\"dni-plaintext\"><pre>Sample Product</pre></div></td></tr><tr><td>Desciption</td><td><div class=\"dni-plaintext\"><pre>This is a sample product.</pre></div></td></tr><tr><td>categoryid</td><td><div class=\"dni-plaintext\"><pre>1</pre></div></td></tr><tr><td>CategoryName</td><td><div class=\"dni-plaintext\"><pre>Category 1</pre></div></td></tr><tr><td>Price</td><td><div class=\"dni-plaintext\"><pre>19.99</pre></div></td></tr><tr><td>InStock</td><td><div class=\"dni-plaintext\"><pre>True</pre></div></td></tr><tr><td>ImageUrls</td><td><div class=\"dni-plaintext\"><pre>[ http://example.com/image1.jpg, http://example.com/image2.jpg ]</pre></div></td></tr></tbody></table></div></details></td></tr><tr><td>StatusCode</td><td><span>OK</span></td></tr><tr><td>Diagnostics</td><td><details class=\"dni-treeview\"><summary><span class=\"dni-code-hint\"><code>{&quot;Summary&quot;:{&quot;DirectCalls&quot;:{&quot;(200, 0)&quot;:1}},&quot;name&quot;:&quot;ReadItemAsync&quot;,&quot;start datetime&quot;:&quot;2025-08-19T19:43:15.078Z&quot;,&quot;duration in milliseconds&quot;:3.7533,&quot;data&quot;:{&quot;Client Configuration&quot;:{&quot;Client Created Time Utc&quot;:&quot;2025-08-19T15:16:49.3001025Z&quot;,&quot;MachineId&quot;:&quot;hashedMachineName:854b5717-0c71-e584-b8c5-e106e5718dfa&quot;...</code></span></summary><div><table><thead><tr></tr></thead><tbody><tr><td>Value</td><td><details class=\"dni-treeview\"><summary><span class=\"dni-code-hint\"><code>Microsoft.Azure.Cosmos.Tracing.Trace</code></span></summary><div><table><thead><tr></tr></thead><tbody><tr><td>Name</td><td><div class=\"dni-plaintext\"><pre>ReadItemAsync</pre></div></td></tr><tr><td>Id</td><td><div class=\"dni-plaintext\"><pre>eed57255-8090-4257-8ae0-ff7bd61ee89f</pre></div></td></tr><tr><td>StartTime</td><td><span>2025-08-19 19:43:15Z</span></td></tr><tr><td>Duration</td><td><span>00:00:00.0037533</span></td></tr><tr><td>Level</td><td><span>Info</span></td></tr><tr><td>Component</td><td><span>Transport</span></td></tr><tr><td>Summary</td><td><details class=\"dni-treeview\"><summary><span class=\"dni-code-hint\"><code>Microsoft.Azure.Cosmos.Tracing.TraceSummary</code></span></summary><div><table><thead><tr></tr></thead><tbody><tr><td>RegionsContacted</td><td><table><thead><tr><th><i>index</i></th><th>value</th></tr></thead><tbody><tr><td>0</td><td><details class=\"dni-treeview\"><summary><span class=\"dni-code-hint\"><code>(South Central US, https://127.0.0.1:8081/)</code></span></summary><div><table><thead><tr></tr></thead><tbody><tr><td>Item1</td><td>South Central US</td></tr><tr><td>Item2</td><td>https://127.0.0.1:8081/</td></tr></tbody></table></div></details></td></tr></tbody></table></td></tr></tbody></table></div></details></td></tr><tr><td>Parent</td><td><div class=\"dni-plaintext\"><pre>&lt;null&gt;</pre></div></td></tr><tr><td>Children</td><td><table><thead><tr><th><i>index</i></th><th>value</th></tr></thead><tbody><tr><td>0</td><td><details class=\"dni-treeview\"><summary><span class=\"dni-code-hint\"><code>Microsoft.Azure.Cosmos.Tracing.Trace</code></span></summary><div><table><thead><tr></tr></thead><tbody><tr><td>Name</td><td><div class=\"dni-plaintext\"><pre>Microsoft.Azure.Cosmos.Handlers.RequestInvokerHandler</pre></div></td></tr><tr><td>Id</td><td><div class=\"dni-plaintext\"><pre>6875a1cc-c8f7-4dde-b63b-a06480c483dc</pre></div></td></tr><tr><td>StartTime</td><td><span>2025-08-19 19:43:15Z</span></td></tr><tr><td>Duration</td><td><span>00:00:00.0034631</span></td></tr><tr><td>Level</td><td><span>Info</span></td></tr><tr><td>Component</td><td><span>RequestHandler</span></td></tr><tr><td>Summary</td><td><details class=\"dni-treeview\"><summary><span class=\"dni-code-hint\"><code>Microsoft.Azure.Cosmos.Tracing.TraceSummary</code></span></summary><div><table><thead><tr></tr></thead><tbody><tr><td>RegionsContacted</td><td>[ (South Central US, https://127.0.0.1:8081/) ]</td></tr></tbody></table></div></details></td></tr><tr><td>Parent</td><td><details class=\"dni-treeview\"><summary><span class=\"dni-code-hint\"><code>Microsoft.Azure.Cosmos.Tracing.Trace</code></span></summary><div><table><thead><tr></tr></thead><tbody><tr><td>Name</td><td>ReadItemAsync</td></tr><tr><td>Id</td><td>eed57255-8090-4257-8ae0-ff7bd61ee89f</td></tr><tr><td>StartTime</td><td>8/19/2025 7:43:15 PM</td></tr><tr><td>Duration</td><td>00:00:00.0037533</td></tr><tr><td>Level</td><td>Info</td></tr><tr><td>Component</td><td>Transport</td></tr><tr><td>Summary</td><td>Microsoft.Azure.Cosmos.Tracing.TraceSummary</td></tr><tr><td>Parent</td><td><div class=\"dni-plaintext\"><pre>&lt;null&gt;</pre></div></td></tr><tr><td>Children</td><td>[ Microsoft.Azure.Cosmos.Tracing.Trace, Microsoft.Azure.Cosmos.Tracing.Trace ]</td></tr><tr><td>Data</td><td>[ [Client Configuration, Microsoft.Azure.Cosmos.Tracing.TraceData.ClientConfigurationTraceDatum] ]</td></tr></tbody></table></div></details></td></tr><tr><td>Children</td><td><table><thead><tr><th><i>index</i></th><th>value</th></tr></thead><tbody><tr><td>0</td><td>Microsoft.Azure.Cosmos.Tracing.Trace</td></tr></tbody></table></td></tr><tr><td>Data</td><td><i>(empty)</i></td></tr></tbody></table></div></details></td></tr><tr><td>1</td><td><details class=\"dni-treeview\"><summary><span class=\"dni-code-hint\"><code>Microsoft.Azure.Cosmos.Tracing.Trace</code></span></summary><div><table><thead><tr></tr></thead><tbody><tr><td>Name</td><td><div class=\"dni-plaintext\"><pre>Response Serialization</pre></div></td></tr><tr><td>Id</td><td><div class=\"dni-plaintext\"><pre>28462689-b549-4f9d-bd5a-45fdd3e44fc3</pre></div></td></tr><tr><td>StartTime</td><td><span>2025-08-19 19:43:15Z</span></td></tr><tr><td>Duration</td><td><span>00:00:00.0000590</span></td></tr><tr><td>Level</td><td><span>Verbose</span></td></tr><tr><td>Component</td><td><span>Transport</span></td></tr><tr><td>Summary</td><td><details class=\"dni-treeview\"><summary><span class=\"dni-code-hint\"><code>Microsoft.Azure.Cosmos.Tracing.TraceSummary</code></span></summary><div><table><thead><tr></tr></thead><tbody><tr><td>RegionsContacted</td><td>[ (South Central US, https://127.0.0.1:8081/) ]</td></tr></tbody></table></div></details></td></tr><tr><td>Parent</td><td><details class=\"dni-treeview\"><summary><span class=\"dni-code-hint\"><code>Microsoft.Azure.Cosmos.Tracing.Trace</code></span></summary><div><table><thead><tr></tr></thead><tbody><tr><td>Name</td><td>ReadItemAsync</td></tr><tr><td>Id</td><td>eed57255-8090-4257-8ae0-ff7bd61ee89f</td></tr><tr><td>StartTime</td><td>8/19/2025 7:43:15 PM</td></tr><tr><td>Duration</td><td>00:00:00.0037533</td></tr><tr><td>Level</td><td>Info</td></tr><tr><td>Component</td><td>Transport</td></tr><tr><td>Summary</td><td>Microsoft.Azure.Cosmos.Tracing.TraceSummary</td></tr><tr><td>Parent</td><td><div class=\"dni-plaintext\"><pre>&lt;null&gt;</pre></div></td></tr><tr><td>Children</td><td>[ Microsoft.Azure.Cosmos.Tracing.Trace, Microsoft.Azure.Cosmos.Tracing.Trace ]</td></tr><tr><td>Data</td><td>[ [Client Configuration, Microsoft.Azure.Cosmos.Tracing.TraceData.ClientConfigurationTraceDatum] ]</td></tr></tbody></table></div></details></td></tr><tr><td>Children</td><td><i>(empty)</i></td></tr><tr><td>Data</td><td><i>(empty)</i></td></tr></tbody></table></div></details></td></tr></tbody></table></td></tr><tr><td>Data</td><td><table><thead><tr><th><i>key</i></th><th>value</th></tr></thead><tbody><tr><td><div class=\"dni-plaintext\"><pre>Client Configuration</pre></div></td><td><details class=\"dni-treeview\"><summary><span class=\"dni-code-hint\"><code>Microsoft.Azure.Cosmos.Tracing.TraceData.ClientConfigurationTraceDatum</code></span></summary><div><table><thead><tr></tr></thead><tbody><tr><td>ClientCreatedDateTimeUtc</td><td><span>2025-08-19 15:16:49Z</span></td></tr><tr><td>GatewayConnectionConfig</td><td><details class=\"dni-treeview\"><summary><span class=\"dni-code-hint\"><code>(cps:50, urto:6, p:False, httpf: False)</code></span></summary><div><table><thead><tr></tr></thead><tbody><tr><td>MaxConnectionLimit</td><td>50</td></tr><tr><td>UserRequestTimeout</td><td>6</td></tr><tr><td>IsWebProxyConfigured</td><td>False</td></tr><tr><td>IsHttpClientFactoryConfigured</td><td>False</td></tr></tbody></table></div></details></td></tr><tr><td>RntbdConnectionConfig</td><td><details class=\"dni-treeview\"><summary><span class=\"dni-code-hint\"><code>(cto: 5, icto: -1, mrpc: 30, mcpe: 65535, erd: True, pr: ReuseUnicastPort)</code></span></summary><div><table><thead><tr></tr></thead><tbody><tr><td>ConnectionTimeout</td><td>5</td></tr><tr><td>IdleConnectionTimeout</td><td>-1</td></tr><tr><td>MaxRequestsPerChannel</td><td>30</td></tr><tr><td>MaxRequestsPerEndpoint</td><td>65535</td></tr><tr><td>TcpEndpointRediscovery</td><td>True</td></tr><tr><td>PortReuseMode</td><td>ReuseUnicastPort</td></tr></tbody></table></div></details></td></tr><tr><td>OtherConnectionConfig</td><td><details class=\"dni-treeview\"><summary><span class=\"dni-code-hint\"><code>(ed:False, be:False)</code></span></summary><div><table><thead><tr></tr></thead><tbody><tr><td>LimitToEndpoint</td><td>False</td></tr><tr><td>AllowBulkExecution</td><td>False</td></tr></tbody></table></div></details></td></tr><tr><td>ConsistencyConfig</td><td><details class=\"dni-treeview\"><summary><span class=\"dni-code-hint\"><code>(consistency: NotSet, prgns:[], apprgn: )</code></span></summary><div><table><thead><tr></tr></thead><tbody><tr><td>ConsistencyLevel</td><td><div class=\"dni-plaintext\"><pre>&lt;null&gt;</pre></div></td></tr><tr><td>PreferredRegions</td><td><div class=\"dni-plaintext\"><pre>&lt;null&gt;</pre></div></td></tr><tr><td>ApplicationRegion</td><td><div class=\"dni-plaintext\"><pre>&lt;null&gt;</pre></div></td></tr></tbody></table></div></details></td></tr><tr><td>ProcessorCount</td><td><div class=\"dni-plaintext\"><pre>16</pre></div></td></tr><tr><td>ConnectionMode</td><td><span>Direct</span></td></tr><tr><td>SerializedJson</td><td>[ 123, 34, 67, 108, 105, 101, 110, 116, 32, 67, 114, 101, 97, 116, 101, 100, 32, 84, 105, 109 ... (548 more) ]</td></tr></tbody></table></div></details></td></tr></tbody></table></td></tr></tbody></table></div></details></td></tr></tbody></table></div></details></td></tr><tr><td>RequestCharge</td><td><div class=\"dni-plaintext\"><pre>1</pre></div></td></tr><tr><td>ActivityId</td><td><div class=\"dni-plaintext\"><pre>0c7e11ad-222c-46b3-8fc9-21e9c0518205</pre></div></td></tr><tr><td>ETag</td><td><div class=\"dni-plaintext\"><pre>&quot;00000000-0000-0000-1141-7db97d7901dc&quot;</pre></div></td></tr></tbody></table></div></details><style>\r\n",
       ".dni-code-hint {\r\n",
       "    font-style: italic;\r\n",
       "    overflow: hidden;\r\n",
       "    white-space: nowrap;\r\n",
       "}\r\n",
       ".dni-treeview {\r\n",
       "    white-space: nowrap;\r\n",
       "}\r\n",
       ".dni-treeview td {\r\n",
       "    vertical-align: top;\r\n",
       "    text-align: start;\r\n",
       "}\r\n",
       "details.dni-treeview {\r\n",
       "    padding-left: 1em;\r\n",
       "}\r\n",
       "table td {\r\n",
       "    text-align: start;\r\n",
       "}\r\n",
       "table tr { \r\n",
       "    vertical-align: top; \r\n",
       "    margin: 0em 0px;\r\n",
       "}\r\n",
       "table tr td pre \r\n",
       "{ \r\n",
       "    vertical-align: top !important; \r\n",
       "    margin: 0em 0px !important;\r\n",
       "} \r\n",
       "table th {\r\n",
       "    text-align: start;\r\n",
       "}\r\n",
       "</style>"
      ]
     },
     "metadata": {},
     "output_type": "display_data"
    }
   ],
   "source": [
    "\n",
    "var item = await productContainer.ReadItemAsync<Product>(results[0].id, new PartitionKey(1));\n",
    "item.Display();"
   ]
  },
  {
   "cell_type": "code",
   "execution_count": 41,
   "id": "ee3a2902",
   "metadata": {},
   "outputs": [
    {
     "data": {
      "text/html": [
       "<details open=\"open\" class=\"dni-treeview\"><summary><span class=\"dni-code-hint\"><code>Microsoft.Azure.Cosmos.ItemResponse`1[Submission#35+Product]</code></span></summary><div><table><thead><tr></tr></thead><tbody><tr><td>Headers</td><td><details class=\"dni-treeview\"><summary><span class=\"dni-code-hint\"><code>[ x-ms-activity-id, x-ms-last-state-change-utc, etag, x-ms-resource-quota, x-ms-resource-usage, x-ms-schemaversion, lsn, x-ms-request-charge, x-ms-alt-content-path, x-ms-content-path, x-ms-quorum-acked-lsn, x-ms-current-write-quorum, x-ms-current-replica-set-size, x-ms-documentdb-partitionkeyrangeid, x-ms-xp-role, x-ms-global-Committed-lsn, x-ms-number-of-read-regions, x-ms-transport-request-id, x-ms-cosmos-llsn, x-ms-cosmos-quorum-acked-llsn ... (more) ]</code></span></summary><div><table><thead><tr></tr></thead><tbody><tr><td>ContinuationToken</td><td><div class=\"dni-plaintext\"><pre>&lt;null&gt;</pre></div></td></tr><tr><td>RequestCharge</td><td><div class=\"dni-plaintext\"><pre>10.67</pre></div></td></tr><tr><td>ActivityId</td><td><div class=\"dni-plaintext\"><pre>c768d4dc-595c-4ef4-87b1-c93742b777d5</pre></div></td></tr><tr><td>ETag</td><td><div class=\"dni-plaintext\"><pre>&quot;00000000-0000-0000-1141-823ab1c201dc&quot;</pre></div></td></tr><tr><td>ContentType</td><td><div class=\"dni-plaintext\"><pre>&lt;null&gt;</pre></div></td></tr><tr><td>Session</td><td><div class=\"dni-plaintext\"><pre>0:-1#7</pre></div></td></tr><tr><td>ContentLength</td><td><div class=\"dni-plaintext\"><pre>&lt;null&gt;</pre></div></td></tr><tr><td>Location</td><td><div class=\"dni-plaintext\"><pre>&lt;null&gt;</pre></div></td></tr><tr><td><i>(values)</i></td><td><table><thead><tr><th><i>index</i></th><th>value</th></tr></thead><tbody><tr><td>0</td><td><div class=\"dni-plaintext\"><pre>x-ms-activity-id</pre></div></td></tr><tr><td>1</td><td><div class=\"dni-plaintext\"><pre>x-ms-last-state-change-utc</pre></div></td></tr><tr><td>2</td><td><div class=\"dni-plaintext\"><pre>etag</pre></div></td></tr><tr><td>3</td><td><div class=\"dni-plaintext\"><pre>x-ms-resource-quota</pre></div></td></tr><tr><td>4</td><td><div class=\"dni-plaintext\"><pre>x-ms-resource-usage</pre></div></td></tr><tr><td>5</td><td><div class=\"dni-plaintext\"><pre>x-ms-schemaversion</pre></div></td></tr><tr><td>6</td><td><div class=\"dni-plaintext\"><pre>lsn</pre></div></td></tr><tr><td>7</td><td><div class=\"dni-plaintext\"><pre>x-ms-request-charge</pre></div></td></tr><tr><td>8</td><td><div class=\"dni-plaintext\"><pre>x-ms-alt-content-path</pre></div></td></tr><tr><td>9</td><td><div class=\"dni-plaintext\"><pre>x-ms-content-path</pre></div></td></tr><tr><td>10</td><td><div class=\"dni-plaintext\"><pre>x-ms-quorum-acked-lsn</pre></div></td></tr><tr><td>11</td><td><div class=\"dni-plaintext\"><pre>x-ms-current-write-quorum</pre></div></td></tr><tr><td>12</td><td><div class=\"dni-plaintext\"><pre>x-ms-current-replica-set-size</pre></div></td></tr><tr><td>13</td><td><div class=\"dni-plaintext\"><pre>x-ms-documentdb-partitionkeyrangeid</pre></div></td></tr><tr><td>14</td><td><div class=\"dni-plaintext\"><pre>x-ms-xp-role</pre></div></td></tr><tr><td>15</td><td><div class=\"dni-plaintext\"><pre>x-ms-global-Committed-lsn</pre></div></td></tr><tr><td>16</td><td><div class=\"dni-plaintext\"><pre>x-ms-number-of-read-regions</pre></div></td></tr><tr><td>17</td><td><div class=\"dni-plaintext\"><pre>x-ms-transport-request-id</pre></div></td></tr><tr><td>18</td><td><div class=\"dni-plaintext\"><pre>x-ms-cosmos-llsn</pre></div></td></tr><tr><td>19</td><td><div class=\"dni-plaintext\"><pre>x-ms-cosmos-quorum-acked-llsn</pre></div></td></tr><tr><td colspan=\"2\"><i>... (more)</i></td></tr></tbody></table></td></tr></tbody></table></div></details></td></tr><tr><td>Resource</td><td><details class=\"dni-treeview\"><summary><span class=\"dni-code-hint\"><code>Submission#35+Product</code></span></summary><div><table><thead><tr></tr></thead><tbody><tr><td>id</td><td><div class=\"dni-plaintext\"><pre>72d6d521-55d8-4f58-84a0-45df461bd511</pre></div></td></tr><tr><td>ProductId</td><td><div class=\"dni-plaintext\"><pre>1</pre></div></td></tr><tr><td>Name</td><td><div class=\"dni-plaintext\"><pre>Sample Product</pre></div></td></tr><tr><td>Desciption</td><td><div class=\"dni-plaintext\"><pre>Updated</pre></div></td></tr><tr><td>categoryid</td><td><div class=\"dni-plaintext\"><pre>1</pre></div></td></tr><tr><td>CategoryName</td><td><div class=\"dni-plaintext\"><pre>Category 1</pre></div></td></tr><tr><td>Price</td><td><div class=\"dni-plaintext\"><pre>19.99</pre></div></td></tr><tr><td>InStock</td><td><div class=\"dni-plaintext\"><pre>True</pre></div></td></tr><tr><td>ImageUrls</td><td><div class=\"dni-plaintext\"><pre>[ http://example.com/image1.jpg, http://example.com/image2.jpg ]</pre></div></td></tr></tbody></table></div></details></td></tr><tr><td>StatusCode</td><td><span>OK</span></td></tr><tr><td>Diagnostics</td><td><details class=\"dni-treeview\"><summary><span class=\"dni-code-hint\"><code>{&quot;Summary&quot;:{&quot;DirectCalls&quot;:{&quot;(200, 0)&quot;:1}},&quot;name&quot;:&quot;ReplaceItemAsync&quot;,&quot;start datetime&quot;:&quot;2025-08-19T19:43:16.968Z&quot;,&quot;duration in milliseconds&quot;:20.5474,&quot;data&quot;:{&quot;Client Configuration&quot;:{&quot;Client Created Time Utc&quot;:&quot;2025-08-19T15:16:49.3001025Z&quot;,&quot;MachineId&quot;:&quot;hashedMachineName:854b5717-0c71-e584-b8c5-e106e5718...</code></span></summary><div><table><thead><tr></tr></thead><tbody><tr><td>Value</td><td><details class=\"dni-treeview\"><summary><span class=\"dni-code-hint\"><code>Microsoft.Azure.Cosmos.Tracing.Trace</code></span></summary><div><table><thead><tr></tr></thead><tbody><tr><td>Name</td><td><div class=\"dni-plaintext\"><pre>ReplaceItemAsync</pre></div></td></tr><tr><td>Id</td><td><div class=\"dni-plaintext\"><pre>315c6f2b-8acd-4604-9516-296baab5e086</pre></div></td></tr><tr><td>StartTime</td><td><span>2025-08-19 19:43:16Z</span></td></tr><tr><td>Duration</td><td><span>00:00:00.0205474</span></td></tr><tr><td>Level</td><td><span>Info</span></td></tr><tr><td>Component</td><td><span>Transport</span></td></tr><tr><td>Summary</td><td><details class=\"dni-treeview\"><summary><span class=\"dni-code-hint\"><code>Microsoft.Azure.Cosmos.Tracing.TraceSummary</code></span></summary><div><table><thead><tr></tr></thead><tbody><tr><td>RegionsContacted</td><td><table><thead><tr><th><i>index</i></th><th>value</th></tr></thead><tbody><tr><td>0</td><td><details class=\"dni-treeview\"><summary><span class=\"dni-code-hint\"><code>(South Central US, https://127.0.0.1:8081/)</code></span></summary><div><table><thead><tr></tr></thead><tbody><tr><td>Item1</td><td>South Central US</td></tr><tr><td>Item2</td><td>https://127.0.0.1:8081/</td></tr></tbody></table></div></details></td></tr></tbody></table></td></tr></tbody></table></div></details></td></tr><tr><td>Parent</td><td><div class=\"dni-plaintext\"><pre>&lt;null&gt;</pre></div></td></tr><tr><td>Children</td><td><table><thead><tr><th><i>index</i></th><th>value</th></tr></thead><tbody><tr><td>0</td><td><details class=\"dni-treeview\"><summary><span class=\"dni-code-hint\"><code>Microsoft.Azure.Cosmos.Tracing.Trace</code></span></summary><div><table><thead><tr></tr></thead><tbody><tr><td>Name</td><td><div class=\"dni-plaintext\"><pre>ItemSerialize</pre></div></td></tr><tr><td>Id</td><td><div class=\"dni-plaintext\"><pre>1e9062a5-1100-48d0-adbd-25de7d2804e3</pre></div></td></tr><tr><td>StartTime</td><td><span>2025-08-19 19:43:16Z</span></td></tr><tr><td>Duration</td><td><span>00:00:00.0000667</span></td></tr><tr><td>Level</td><td><span>Verbose</span></td></tr><tr><td>Component</td><td><span>Transport</span></td></tr><tr><td>Summary</td><td><details class=\"dni-treeview\"><summary><span class=\"dni-code-hint\"><code>Microsoft.Azure.Cosmos.Tracing.TraceSummary</code></span></summary><div><table><thead><tr></tr></thead><tbody><tr><td>RegionsContacted</td><td>[ (South Central US, https://127.0.0.1:8081/) ]</td></tr></tbody></table></div></details></td></tr><tr><td>Parent</td><td><details class=\"dni-treeview\"><summary><span class=\"dni-code-hint\"><code>Microsoft.Azure.Cosmos.Tracing.Trace</code></span></summary><div><table><thead><tr></tr></thead><tbody><tr><td>Name</td><td>ReplaceItemAsync</td></tr><tr><td>Id</td><td>315c6f2b-8acd-4604-9516-296baab5e086</td></tr><tr><td>StartTime</td><td>8/19/2025 7:43:16 PM</td></tr><tr><td>Duration</td><td>00:00:00.0205474</td></tr><tr><td>Level</td><td>Info</td></tr><tr><td>Component</td><td>Transport</td></tr><tr><td>Summary</td><td>Microsoft.Azure.Cosmos.Tracing.TraceSummary</td></tr><tr><td>Parent</td><td><div class=\"dni-plaintext\"><pre>&lt;null&gt;</pre></div></td></tr><tr><td>Children</td><td>[ Microsoft.Azure.Cosmos.Tracing.Trace, Microsoft.Azure.Cosmos.Tracing.Trace, Microsoft.Azure.Cosmos.Tracing.Trace ]</td></tr><tr><td>Data</td><td>[ [Client Configuration, Microsoft.Azure.Cosmos.Tracing.TraceData.ClientConfigurationTraceDatum] ]</td></tr></tbody></table></div></details></td></tr><tr><td>Children</td><td><i>(empty)</i></td></tr><tr><td>Data</td><td><i>(empty)</i></td></tr></tbody></table></div></details></td></tr><tr><td>1</td><td><details class=\"dni-treeview\"><summary><span class=\"dni-code-hint\"><code>Microsoft.Azure.Cosmos.Tracing.Trace</code></span></summary><div><table><thead><tr></tr></thead><tbody><tr><td>Name</td><td><div class=\"dni-plaintext\"><pre>Microsoft.Azure.Cosmos.Handlers.RequestInvokerHandler</pre></div></td></tr><tr><td>Id</td><td><div class=\"dni-plaintext\"><pre>4ae27f47-073f-4329-ba52-2b2bdad25a03</pre></div></td></tr><tr><td>StartTime</td><td><span>2025-08-19 19:43:16Z</span></td></tr><tr><td>Duration</td><td><span>00:00:00.0198319</span></td></tr><tr><td>Level</td><td><span>Info</span></td></tr><tr><td>Component</td><td><span>RequestHandler</span></td></tr><tr><td>Summary</td><td><details class=\"dni-treeview\"><summary><span class=\"dni-code-hint\"><code>Microsoft.Azure.Cosmos.Tracing.TraceSummary</code></span></summary><div><table><thead><tr></tr></thead><tbody><tr><td>RegionsContacted</td><td>[ (South Central US, https://127.0.0.1:8081/) ]</td></tr></tbody></table></div></details></td></tr><tr><td>Parent</td><td><details class=\"dni-treeview\"><summary><span class=\"dni-code-hint\"><code>Microsoft.Azure.Cosmos.Tracing.Trace</code></span></summary><div><table><thead><tr></tr></thead><tbody><tr><td>Name</td><td>ReplaceItemAsync</td></tr><tr><td>Id</td><td>315c6f2b-8acd-4604-9516-296baab5e086</td></tr><tr><td>StartTime</td><td>8/19/2025 7:43:16 PM</td></tr><tr><td>Duration</td><td>00:00:00.0205474</td></tr><tr><td>Level</td><td>Info</td></tr><tr><td>Component</td><td>Transport</td></tr><tr><td>Summary</td><td>Microsoft.Azure.Cosmos.Tracing.TraceSummary</td></tr><tr><td>Parent</td><td><div class=\"dni-plaintext\"><pre>&lt;null&gt;</pre></div></td></tr><tr><td>Children</td><td>[ Microsoft.Azure.Cosmos.Tracing.Trace, Microsoft.Azure.Cosmos.Tracing.Trace, Microsoft.Azure.Cosmos.Tracing.Trace ]</td></tr><tr><td>Data</td><td>[ [Client Configuration, Microsoft.Azure.Cosmos.Tracing.TraceData.ClientConfigurationTraceDatum] ]</td></tr></tbody></table></div></details></td></tr><tr><td>Children</td><td><table><thead><tr><th><i>index</i></th><th>value</th></tr></thead><tbody><tr><td>0</td><td>Microsoft.Azure.Cosmos.Tracing.Trace</td></tr></tbody></table></td></tr><tr><td>Data</td><td><i>(empty)</i></td></tr></tbody></table></div></details></td></tr><tr><td>2</td><td><details class=\"dni-treeview\"><summary><span class=\"dni-code-hint\"><code>Microsoft.Azure.Cosmos.Tracing.Trace</code></span></summary><div><table><thead><tr></tr></thead><tbody><tr><td>Name</td><td><div class=\"dni-plaintext\"><pre>Response Serialization</pre></div></td></tr><tr><td>Id</td><td><div class=\"dni-plaintext\"><pre>36b26a9f-dd7c-416a-90b2-ef42fa0117a6</pre></div></td></tr><tr><td>StartTime</td><td><span>2025-08-19 19:43:16Z</span></td></tr><tr><td>Duration</td><td><span>00:00:00.0000948</span></td></tr><tr><td>Level</td><td><span>Verbose</span></td></tr><tr><td>Component</td><td><span>Transport</span></td></tr><tr><td>Summary</td><td><details class=\"dni-treeview\"><summary><span class=\"dni-code-hint\"><code>Microsoft.Azure.Cosmos.Tracing.TraceSummary</code></span></summary><div><table><thead><tr></tr></thead><tbody><tr><td>RegionsContacted</td><td>[ (South Central US, https://127.0.0.1:8081/) ]</td></tr></tbody></table></div></details></td></tr><tr><td>Parent</td><td><details class=\"dni-treeview\"><summary><span class=\"dni-code-hint\"><code>Microsoft.Azure.Cosmos.Tracing.Trace</code></span></summary><div><table><thead><tr></tr></thead><tbody><tr><td>Name</td><td>ReplaceItemAsync</td></tr><tr><td>Id</td><td>315c6f2b-8acd-4604-9516-296baab5e086</td></tr><tr><td>StartTime</td><td>8/19/2025 7:43:16 PM</td></tr><tr><td>Duration</td><td>00:00:00.0205474</td></tr><tr><td>Level</td><td>Info</td></tr><tr><td>Component</td><td>Transport</td></tr><tr><td>Summary</td><td>Microsoft.Azure.Cosmos.Tracing.TraceSummary</td></tr><tr><td>Parent</td><td><div class=\"dni-plaintext\"><pre>&lt;null&gt;</pre></div></td></tr><tr><td>Children</td><td>[ Microsoft.Azure.Cosmos.Tracing.Trace, Microsoft.Azure.Cosmos.Tracing.Trace, Microsoft.Azure.Cosmos.Tracing.Trace ]</td></tr><tr><td>Data</td><td>[ [Client Configuration, Microsoft.Azure.Cosmos.Tracing.TraceData.ClientConfigurationTraceDatum] ]</td></tr></tbody></table></div></details></td></tr><tr><td>Children</td><td><i>(empty)</i></td></tr><tr><td>Data</td><td><i>(empty)</i></td></tr></tbody></table></div></details></td></tr></tbody></table></td></tr><tr><td>Data</td><td><table><thead><tr><th><i>key</i></th><th>value</th></tr></thead><tbody><tr><td><div class=\"dni-plaintext\"><pre>Client Configuration</pre></div></td><td><details class=\"dni-treeview\"><summary><span class=\"dni-code-hint\"><code>Microsoft.Azure.Cosmos.Tracing.TraceData.ClientConfigurationTraceDatum</code></span></summary><div><table><thead><tr></tr></thead><tbody><tr><td>ClientCreatedDateTimeUtc</td><td><span>2025-08-19 15:16:49Z</span></td></tr><tr><td>GatewayConnectionConfig</td><td><details class=\"dni-treeview\"><summary><span class=\"dni-code-hint\"><code>(cps:50, urto:6, p:False, httpf: False)</code></span></summary><div><table><thead><tr></tr></thead><tbody><tr><td>MaxConnectionLimit</td><td>50</td></tr><tr><td>UserRequestTimeout</td><td>6</td></tr><tr><td>IsWebProxyConfigured</td><td>False</td></tr><tr><td>IsHttpClientFactoryConfigured</td><td>False</td></tr></tbody></table></div></details></td></tr><tr><td>RntbdConnectionConfig</td><td><details class=\"dni-treeview\"><summary><span class=\"dni-code-hint\"><code>(cto: 5, icto: -1, mrpc: 30, mcpe: 65535, erd: True, pr: ReuseUnicastPort)</code></span></summary><div><table><thead><tr></tr></thead><tbody><tr><td>ConnectionTimeout</td><td>5</td></tr><tr><td>IdleConnectionTimeout</td><td>-1</td></tr><tr><td>MaxRequestsPerChannel</td><td>30</td></tr><tr><td>MaxRequestsPerEndpoint</td><td>65535</td></tr><tr><td>TcpEndpointRediscovery</td><td>True</td></tr><tr><td>PortReuseMode</td><td>ReuseUnicastPort</td></tr></tbody></table></div></details></td></tr><tr><td>OtherConnectionConfig</td><td><details class=\"dni-treeview\"><summary><span class=\"dni-code-hint\"><code>(ed:False, be:False)</code></span></summary><div><table><thead><tr></tr></thead><tbody><tr><td>LimitToEndpoint</td><td>False</td></tr><tr><td>AllowBulkExecution</td><td>False</td></tr></tbody></table></div></details></td></tr><tr><td>ConsistencyConfig</td><td><details class=\"dni-treeview\"><summary><span class=\"dni-code-hint\"><code>(consistency: NotSet, prgns:[], apprgn: )</code></span></summary><div><table><thead><tr></tr></thead><tbody><tr><td>ConsistencyLevel</td><td><div class=\"dni-plaintext\"><pre>&lt;null&gt;</pre></div></td></tr><tr><td>PreferredRegions</td><td><div class=\"dni-plaintext\"><pre>&lt;null&gt;</pre></div></td></tr><tr><td>ApplicationRegion</td><td><div class=\"dni-plaintext\"><pre>&lt;null&gt;</pre></div></td></tr></tbody></table></div></details></td></tr><tr><td>ProcessorCount</td><td><div class=\"dni-plaintext\"><pre>16</pre></div></td></tr><tr><td>ConnectionMode</td><td><span>Direct</span></td></tr><tr><td>SerializedJson</td><td>[ 123, 34, 67, 108, 105, 101, 110, 116, 32, 67, 114, 101, 97, 116, 101, 100, 32, 84, 105, 109 ... (548 more) ]</td></tr></tbody></table></div></details></td></tr></tbody></table></td></tr></tbody></table></div></details></td></tr></tbody></table></div></details></td></tr><tr><td>RequestCharge</td><td><div class=\"dni-plaintext\"><pre>10.67</pre></div></td></tr><tr><td>ActivityId</td><td><div class=\"dni-plaintext\"><pre>c768d4dc-595c-4ef4-87b1-c93742b777d5</pre></div></td></tr><tr><td>ETag</td><td><div class=\"dni-plaintext\"><pre>&quot;00000000-0000-0000-1141-823ab1c201dc&quot;</pre></div></td></tr></tbody></table></div></details><style>\r\n",
       ".dni-code-hint {\r\n",
       "    font-style: italic;\r\n",
       "    overflow: hidden;\r\n",
       "    white-space: nowrap;\r\n",
       "}\r\n",
       ".dni-treeview {\r\n",
       "    white-space: nowrap;\r\n",
       "}\r\n",
       ".dni-treeview td {\r\n",
       "    vertical-align: top;\r\n",
       "    text-align: start;\r\n",
       "}\r\n",
       "details.dni-treeview {\r\n",
       "    padding-left: 1em;\r\n",
       "}\r\n",
       "table td {\r\n",
       "    text-align: start;\r\n",
       "}\r\n",
       "table tr { \r\n",
       "    vertical-align: top; \r\n",
       "    margin: 0em 0px;\r\n",
       "}\r\n",
       "table tr td pre \r\n",
       "{ \r\n",
       "    vertical-align: top !important; \r\n",
       "    margin: 0em 0px !important;\r\n",
       "} \r\n",
       "table th {\r\n",
       "    text-align: start;\r\n",
       "}\r\n",
       "</style>"
      ]
     },
     "metadata": {},
     "output_type": "display_data"
    }
   ],
   "source": [
    "item.Resource.Desciption = \"Updated\";\n",
    "var updated = await productContainer.ReplaceItemAsync(item.Resource, item.Resource.id, new PartitionKey(1)); \n",
    "updated.Display();\n"
   ]
  },
  {
   "cell_type": "code",
   "execution_count": 42,
   "id": "0af377d8",
   "metadata": {},
   "outputs": [
    {
     "data": {
      "text/html": [
       "<details open=\"open\" class=\"dni-treeview\"><summary><span class=\"dni-code-hint\"><code>Microsoft.Azure.Cosmos.ItemResponse`1[Submission#35+Product]</code></span></summary><div><table><thead><tr></tr></thead><tbody><tr><td>Headers</td><td><details class=\"dni-treeview\"><summary><span class=\"dni-code-hint\"><code>[ x-ms-activity-id, x-ms-last-state-change-utc, etag, x-ms-resource-quota, x-ms-resource-usage, x-ms-schemaversion, lsn, x-ms-request-charge, x-ms-alt-content-path, x-ms-content-path, x-ms-quorum-acked-lsn, x-ms-current-write-quorum, x-ms-current-replica-set-size, x-ms-documentdb-partitionkeyrangeid, x-ms-xp-role, x-ms-global-Committed-lsn, x-ms-number-of-read-regions, x-ms-transport-request-id, x-ms-cosmos-llsn, x-ms-cosmos-quorum-acked-llsn ... (more) ]</code></span></summary><div><table><thead><tr></tr></thead><tbody><tr><td>ContinuationToken</td><td><div class=\"dni-plaintext\"><pre>&lt;null&gt;</pre></div></td></tr><tr><td>RequestCharge</td><td><div class=\"dni-plaintext\"><pre>10.79</pre></div></td></tr><tr><td>ActivityId</td><td><div class=\"dni-plaintext\"><pre>d51c67a4-632c-4c03-a95a-1d3520f9ba32</pre></div></td></tr><tr><td>ETag</td><td><div class=\"dni-plaintext\"><pre>&quot;00000000-0000-0000-1141-8524da7b01dc&quot;</pre></div></td></tr><tr><td>ContentType</td><td><div class=\"dni-plaintext\"><pre>&lt;null&gt;</pre></div></td></tr><tr><td>Session</td><td><div class=\"dni-plaintext\"><pre>0:-1#8</pre></div></td></tr><tr><td>ContentLength</td><td><div class=\"dni-plaintext\"><pre>&lt;null&gt;</pre></div></td></tr><tr><td>Location</td><td><div class=\"dni-plaintext\"><pre>&lt;null&gt;</pre></div></td></tr><tr><td><i>(values)</i></td><td><table><thead><tr><th><i>index</i></th><th>value</th></tr></thead><tbody><tr><td>0</td><td><div class=\"dni-plaintext\"><pre>x-ms-activity-id</pre></div></td></tr><tr><td>1</td><td><div class=\"dni-plaintext\"><pre>x-ms-last-state-change-utc</pre></div></td></tr><tr><td>2</td><td><div class=\"dni-plaintext\"><pre>etag</pre></div></td></tr><tr><td>3</td><td><div class=\"dni-plaintext\"><pre>x-ms-resource-quota</pre></div></td></tr><tr><td>4</td><td><div class=\"dni-plaintext\"><pre>x-ms-resource-usage</pre></div></td></tr><tr><td>5</td><td><div class=\"dni-plaintext\"><pre>x-ms-schemaversion</pre></div></td></tr><tr><td>6</td><td><div class=\"dni-plaintext\"><pre>lsn</pre></div></td></tr><tr><td>7</td><td><div class=\"dni-plaintext\"><pre>x-ms-request-charge</pre></div></td></tr><tr><td>8</td><td><div class=\"dni-plaintext\"><pre>x-ms-alt-content-path</pre></div></td></tr><tr><td>9</td><td><div class=\"dni-plaintext\"><pre>x-ms-content-path</pre></div></td></tr><tr><td>10</td><td><div class=\"dni-plaintext\"><pre>x-ms-quorum-acked-lsn</pre></div></td></tr><tr><td>11</td><td><div class=\"dni-plaintext\"><pre>x-ms-current-write-quorum</pre></div></td></tr><tr><td>12</td><td><div class=\"dni-plaintext\"><pre>x-ms-current-replica-set-size</pre></div></td></tr><tr><td>13</td><td><div class=\"dni-plaintext\"><pre>x-ms-documentdb-partitionkeyrangeid</pre></div></td></tr><tr><td>14</td><td><div class=\"dni-plaintext\"><pre>x-ms-xp-role</pre></div></td></tr><tr><td>15</td><td><div class=\"dni-plaintext\"><pre>x-ms-global-Committed-lsn</pre></div></td></tr><tr><td>16</td><td><div class=\"dni-plaintext\"><pre>x-ms-number-of-read-regions</pre></div></td></tr><tr><td>17</td><td><div class=\"dni-plaintext\"><pre>x-ms-transport-request-id</pre></div></td></tr><tr><td>18</td><td><div class=\"dni-plaintext\"><pre>x-ms-cosmos-llsn</pre></div></td></tr><tr><td>19</td><td><div class=\"dni-plaintext\"><pre>x-ms-cosmos-quorum-acked-llsn</pre></div></td></tr><tr><td colspan=\"2\"><i>... (more)</i></td></tr></tbody></table></td></tr></tbody></table></div></details></td></tr><tr><td>Resource</td><td><details class=\"dni-treeview\"><summary><span class=\"dni-code-hint\"><code>Submission#35+Product</code></span></summary><div><table><thead><tr></tr></thead><tbody><tr><td>id</td><td><div class=\"dni-plaintext\"><pre>72d6d521-55d8-4f58-84a0-45df461bd511</pre></div></td></tr><tr><td>ProductId</td><td><div class=\"dni-plaintext\"><pre>1</pre></div></td></tr><tr><td>Name</td><td><div class=\"dni-plaintext\"><pre>Sample Product Updated</pre></div></td></tr><tr><td>Desciption</td><td><div class=\"dni-plaintext\"><pre>Updated</pre></div></td></tr><tr><td>categoryid</td><td><div class=\"dni-plaintext\"><pre>1</pre></div></td></tr><tr><td>CategoryName</td><td><div class=\"dni-plaintext\"><pre>Category 1</pre></div></td></tr><tr><td>Price</td><td><div class=\"dni-plaintext\"><pre>19.99</pre></div></td></tr><tr><td>InStock</td><td><div class=\"dni-plaintext\"><pre>True</pre></div></td></tr><tr><td>ImageUrls</td><td><div class=\"dni-plaintext\"><pre>[ http://example.com/image1.jpg, http://example.com/image2.jpg ]</pre></div></td></tr></tbody></table></div></details></td></tr><tr><td>StatusCode</td><td><span>OK</span></td></tr><tr><td>Diagnostics</td><td><details class=\"dni-treeview\"><summary><span class=\"dni-code-hint\"><code>{&quot;Summary&quot;:{&quot;DirectCalls&quot;:{&quot;(200, 0)&quot;:1}},&quot;name&quot;:&quot;PatchItemAsync&quot;,&quot;start datetime&quot;:&quot;2025-08-19T19:43:21.858Z&quot;,&quot;duration in milliseconds&quot;:12.261,&quot;data&quot;:{&quot;Client Configuration&quot;:{&quot;Client Created Time Utc&quot;:&quot;2025-08-19T15:16:49.3001025Z&quot;,&quot;MachineId&quot;:&quot;hashedMachineName:854b5717-0c71-e584-b8c5-e106e5718dfa...</code></span></summary><div><table><thead><tr></tr></thead><tbody><tr><td>Value</td><td><details class=\"dni-treeview\"><summary><span class=\"dni-code-hint\"><code>Microsoft.Azure.Cosmos.Tracing.Trace</code></span></summary><div><table><thead><tr></tr></thead><tbody><tr><td>Name</td><td><div class=\"dni-plaintext\"><pre>PatchItemAsync</pre></div></td></tr><tr><td>Id</td><td><div class=\"dni-plaintext\"><pre>903f46a4-66c9-4442-9ed3-f6806365bd99</pre></div></td></tr><tr><td>StartTime</td><td><span>2025-08-19 19:43:21Z</span></td></tr><tr><td>Duration</td><td><span>00:00:00.0122610</span></td></tr><tr><td>Level</td><td><span>Info</span></td></tr><tr><td>Component</td><td><span>Transport</span></td></tr><tr><td>Summary</td><td><details class=\"dni-treeview\"><summary><span class=\"dni-code-hint\"><code>Microsoft.Azure.Cosmos.Tracing.TraceSummary</code></span></summary><div><table><thead><tr></tr></thead><tbody><tr><td>RegionsContacted</td><td><table><thead><tr><th><i>index</i></th><th>value</th></tr></thead><tbody><tr><td>0</td><td><details class=\"dni-treeview\"><summary><span class=\"dni-code-hint\"><code>(South Central US, https://127.0.0.1:8081/)</code></span></summary><div><table><thead><tr></tr></thead><tbody><tr><td>Item1</td><td>South Central US</td></tr><tr><td>Item2</td><td>https://127.0.0.1:8081/</td></tr></tbody></table></div></details></td></tr></tbody></table></td></tr></tbody></table></div></details></td></tr><tr><td>Parent</td><td><div class=\"dni-plaintext\"><pre>&lt;null&gt;</pre></div></td></tr><tr><td>Children</td><td><table><thead><tr><th><i>index</i></th><th>value</th></tr></thead><tbody><tr><td>0</td><td><details class=\"dni-treeview\"><summary><span class=\"dni-code-hint\"><code>Microsoft.Azure.Cosmos.Tracing.Trace</code></span></summary><div><table><thead><tr></tr></thead><tbody><tr><td>Name</td><td><div class=\"dni-plaintext\"><pre>Patch Operations Serialize</pre></div></td></tr><tr><td>Id</td><td><div class=\"dni-plaintext\"><pre>d05d5e02-6ede-408c-b29e-f3c7ff30f23f</pre></div></td></tr><tr><td>StartTime</td><td><span>2025-08-19 19:43:21Z</span></td></tr><tr><td>Duration</td><td><span>00:00:00.0000741</span></td></tr><tr><td>Level</td><td><span>Verbose</span></td></tr><tr><td>Component</td><td><span>Transport</span></td></tr><tr><td>Summary</td><td><details class=\"dni-treeview\"><summary><span class=\"dni-code-hint\"><code>Microsoft.Azure.Cosmos.Tracing.TraceSummary</code></span></summary><div><table><thead><tr></tr></thead><tbody><tr><td>RegionsContacted</td><td>[ (South Central US, https://127.0.0.1:8081/) ]</td></tr></tbody></table></div></details></td></tr><tr><td>Parent</td><td><details class=\"dni-treeview\"><summary><span class=\"dni-code-hint\"><code>Microsoft.Azure.Cosmos.Tracing.Trace</code></span></summary><div><table><thead><tr></tr></thead><tbody><tr><td>Name</td><td>PatchItemAsync</td></tr><tr><td>Id</td><td>903f46a4-66c9-4442-9ed3-f6806365bd99</td></tr><tr><td>StartTime</td><td>8/19/2025 7:43:21 PM</td></tr><tr><td>Duration</td><td>00:00:00.0122610</td></tr><tr><td>Level</td><td>Info</td></tr><tr><td>Component</td><td>Transport</td></tr><tr><td>Summary</td><td>Microsoft.Azure.Cosmos.Tracing.TraceSummary</td></tr><tr><td>Parent</td><td><div class=\"dni-plaintext\"><pre>&lt;null&gt;</pre></div></td></tr><tr><td>Children</td><td>[ Microsoft.Azure.Cosmos.Tracing.Trace, Microsoft.Azure.Cosmos.Tracing.Trace, Microsoft.Azure.Cosmos.Tracing.Trace ]</td></tr><tr><td>Data</td><td>[ [Client Configuration, Microsoft.Azure.Cosmos.Tracing.TraceData.ClientConfigurationTraceDatum] ]</td></tr></tbody></table></div></details></td></tr><tr><td>Children</td><td><i>(empty)</i></td></tr><tr><td>Data</td><td><i>(empty)</i></td></tr></tbody></table></div></details></td></tr><tr><td>1</td><td><details class=\"dni-treeview\"><summary><span class=\"dni-code-hint\"><code>Microsoft.Azure.Cosmos.Tracing.Trace</code></span></summary><div><table><thead><tr></tr></thead><tbody><tr><td>Name</td><td><div class=\"dni-plaintext\"><pre>Microsoft.Azure.Cosmos.Handlers.RequestInvokerHandler</pre></div></td></tr><tr><td>Id</td><td><div class=\"dni-plaintext\"><pre>694fa913-9542-4d37-9ade-8a5ea6f2d16d</pre></div></td></tr><tr><td>StartTime</td><td><span>2025-08-19 19:43:21Z</span></td></tr><tr><td>Duration</td><td><span>00:00:00.0118057</span></td></tr><tr><td>Level</td><td><span>Info</span></td></tr><tr><td>Component</td><td><span>RequestHandler</span></td></tr><tr><td>Summary</td><td><details class=\"dni-treeview\"><summary><span class=\"dni-code-hint\"><code>Microsoft.Azure.Cosmos.Tracing.TraceSummary</code></span></summary><div><table><thead><tr></tr></thead><tbody><tr><td>RegionsContacted</td><td>[ (South Central US, https://127.0.0.1:8081/) ]</td></tr></tbody></table></div></details></td></tr><tr><td>Parent</td><td><details class=\"dni-treeview\"><summary><span class=\"dni-code-hint\"><code>Microsoft.Azure.Cosmos.Tracing.Trace</code></span></summary><div><table><thead><tr></tr></thead><tbody><tr><td>Name</td><td>PatchItemAsync</td></tr><tr><td>Id</td><td>903f46a4-66c9-4442-9ed3-f6806365bd99</td></tr><tr><td>StartTime</td><td>8/19/2025 7:43:21 PM</td></tr><tr><td>Duration</td><td>00:00:00.0122610</td></tr><tr><td>Level</td><td>Info</td></tr><tr><td>Component</td><td>Transport</td></tr><tr><td>Summary</td><td>Microsoft.Azure.Cosmos.Tracing.TraceSummary</td></tr><tr><td>Parent</td><td><div class=\"dni-plaintext\"><pre>&lt;null&gt;</pre></div></td></tr><tr><td>Children</td><td>[ Microsoft.Azure.Cosmos.Tracing.Trace, Microsoft.Azure.Cosmos.Tracing.Trace, Microsoft.Azure.Cosmos.Tracing.Trace ]</td></tr><tr><td>Data</td><td>[ [Client Configuration, Microsoft.Azure.Cosmos.Tracing.TraceData.ClientConfigurationTraceDatum] ]</td></tr></tbody></table></div></details></td></tr><tr><td>Children</td><td><table><thead><tr><th><i>index</i></th><th>value</th></tr></thead><tbody><tr><td>0</td><td>Microsoft.Azure.Cosmos.Tracing.Trace</td></tr></tbody></table></td></tr><tr><td>Data</td><td><i>(empty)</i></td></tr></tbody></table></div></details></td></tr><tr><td>2</td><td><details class=\"dni-treeview\"><summary><span class=\"dni-code-hint\"><code>Microsoft.Azure.Cosmos.Tracing.Trace</code></span></summary><div><table><thead><tr></tr></thead><tbody><tr><td>Name</td><td><div class=\"dni-plaintext\"><pre>Response Serialization</pre></div></td></tr><tr><td>Id</td><td><div class=\"dni-plaintext\"><pre>c273d7e3-d023-40ab-8a11-c3d8a61acd85</pre></div></td></tr><tr><td>StartTime</td><td><span>2025-08-19 19:43:21Z</span></td></tr><tr><td>Duration</td><td><span>00:00:00.0000689</span></td></tr><tr><td>Level</td><td><span>Verbose</span></td></tr><tr><td>Component</td><td><span>Transport</span></td></tr><tr><td>Summary</td><td><details class=\"dni-treeview\"><summary><span class=\"dni-code-hint\"><code>Microsoft.Azure.Cosmos.Tracing.TraceSummary</code></span></summary><div><table><thead><tr></tr></thead><tbody><tr><td>RegionsContacted</td><td>[ (South Central US, https://127.0.0.1:8081/) ]</td></tr></tbody></table></div></details></td></tr><tr><td>Parent</td><td><details class=\"dni-treeview\"><summary><span class=\"dni-code-hint\"><code>Microsoft.Azure.Cosmos.Tracing.Trace</code></span></summary><div><table><thead><tr></tr></thead><tbody><tr><td>Name</td><td>PatchItemAsync</td></tr><tr><td>Id</td><td>903f46a4-66c9-4442-9ed3-f6806365bd99</td></tr><tr><td>StartTime</td><td>8/19/2025 7:43:21 PM</td></tr><tr><td>Duration</td><td>00:00:00.0122610</td></tr><tr><td>Level</td><td>Info</td></tr><tr><td>Component</td><td>Transport</td></tr><tr><td>Summary</td><td>Microsoft.Azure.Cosmos.Tracing.TraceSummary</td></tr><tr><td>Parent</td><td><div class=\"dni-plaintext\"><pre>&lt;null&gt;</pre></div></td></tr><tr><td>Children</td><td>[ Microsoft.Azure.Cosmos.Tracing.Trace, Microsoft.Azure.Cosmos.Tracing.Trace, Microsoft.Azure.Cosmos.Tracing.Trace ]</td></tr><tr><td>Data</td><td>[ [Client Configuration, Microsoft.Azure.Cosmos.Tracing.TraceData.ClientConfigurationTraceDatum] ]</td></tr></tbody></table></div></details></td></tr><tr><td>Children</td><td><i>(empty)</i></td></tr><tr><td>Data</td><td><i>(empty)</i></td></tr></tbody></table></div></details></td></tr></tbody></table></td></tr><tr><td>Data</td><td><table><thead><tr><th><i>key</i></th><th>value</th></tr></thead><tbody><tr><td><div class=\"dni-plaintext\"><pre>Client Configuration</pre></div></td><td><details class=\"dni-treeview\"><summary><span class=\"dni-code-hint\"><code>Microsoft.Azure.Cosmos.Tracing.TraceData.ClientConfigurationTraceDatum</code></span></summary><div><table><thead><tr></tr></thead><tbody><tr><td>ClientCreatedDateTimeUtc</td><td><span>2025-08-19 15:16:49Z</span></td></tr><tr><td>GatewayConnectionConfig</td><td><details class=\"dni-treeview\"><summary><span class=\"dni-code-hint\"><code>(cps:50, urto:6, p:False, httpf: False)</code></span></summary><div><table><thead><tr></tr></thead><tbody><tr><td>MaxConnectionLimit</td><td>50</td></tr><tr><td>UserRequestTimeout</td><td>6</td></tr><tr><td>IsWebProxyConfigured</td><td>False</td></tr><tr><td>IsHttpClientFactoryConfigured</td><td>False</td></tr></tbody></table></div></details></td></tr><tr><td>RntbdConnectionConfig</td><td><details class=\"dni-treeview\"><summary><span class=\"dni-code-hint\"><code>(cto: 5, icto: -1, mrpc: 30, mcpe: 65535, erd: True, pr: ReuseUnicastPort)</code></span></summary><div><table><thead><tr></tr></thead><tbody><tr><td>ConnectionTimeout</td><td>5</td></tr><tr><td>IdleConnectionTimeout</td><td>-1</td></tr><tr><td>MaxRequestsPerChannel</td><td>30</td></tr><tr><td>MaxRequestsPerEndpoint</td><td>65535</td></tr><tr><td>TcpEndpointRediscovery</td><td>True</td></tr><tr><td>PortReuseMode</td><td>ReuseUnicastPort</td></tr></tbody></table></div></details></td></tr><tr><td>OtherConnectionConfig</td><td><details class=\"dni-treeview\"><summary><span class=\"dni-code-hint\"><code>(ed:False, be:False)</code></span></summary><div><table><thead><tr></tr></thead><tbody><tr><td>LimitToEndpoint</td><td>False</td></tr><tr><td>AllowBulkExecution</td><td>False</td></tr></tbody></table></div></details></td></tr><tr><td>ConsistencyConfig</td><td><details class=\"dni-treeview\"><summary><span class=\"dni-code-hint\"><code>(consistency: NotSet, prgns:[], apprgn: )</code></span></summary><div><table><thead><tr></tr></thead><tbody><tr><td>ConsistencyLevel</td><td><div class=\"dni-plaintext\"><pre>&lt;null&gt;</pre></div></td></tr><tr><td>PreferredRegions</td><td><div class=\"dni-plaintext\"><pre>&lt;null&gt;</pre></div></td></tr><tr><td>ApplicationRegion</td><td><div class=\"dni-plaintext\"><pre>&lt;null&gt;</pre></div></td></tr></tbody></table></div></details></td></tr><tr><td>ProcessorCount</td><td><div class=\"dni-plaintext\"><pre>16</pre></div></td></tr><tr><td>ConnectionMode</td><td><span>Direct</span></td></tr><tr><td>SerializedJson</td><td>[ 123, 34, 67, 108, 105, 101, 110, 116, 32, 67, 114, 101, 97, 116, 101, 100, 32, 84, 105, 109 ... (548 more) ]</td></tr></tbody></table></div></details></td></tr></tbody></table></td></tr></tbody></table></div></details></td></tr></tbody></table></div></details></td></tr><tr><td>RequestCharge</td><td><div class=\"dni-plaintext\"><pre>10.79</pre></div></td></tr><tr><td>ActivityId</td><td><div class=\"dni-plaintext\"><pre>d51c67a4-632c-4c03-a95a-1d3520f9ba32</pre></div></td></tr><tr><td>ETag</td><td><div class=\"dni-plaintext\"><pre>&quot;00000000-0000-0000-1141-8524da7b01dc&quot;</pre></div></td></tr></tbody></table></div></details><style>\r\n",
       ".dni-code-hint {\r\n",
       "    font-style: italic;\r\n",
       "    overflow: hidden;\r\n",
       "    white-space: nowrap;\r\n",
       "}\r\n",
       ".dni-treeview {\r\n",
       "    white-space: nowrap;\r\n",
       "}\r\n",
       ".dni-treeview td {\r\n",
       "    vertical-align: top;\r\n",
       "    text-align: start;\r\n",
       "}\r\n",
       "details.dni-treeview {\r\n",
       "    padding-left: 1em;\r\n",
       "}\r\n",
       "table td {\r\n",
       "    text-align: start;\r\n",
       "}\r\n",
       "table tr { \r\n",
       "    vertical-align: top; \r\n",
       "    margin: 0em 0px;\r\n",
       "}\r\n",
       "table tr td pre \r\n",
       "{ \r\n",
       "    vertical-align: top !important; \r\n",
       "    margin: 0em 0px !important;\r\n",
       "} \r\n",
       "table th {\r\n",
       "    text-align: start;\r\n",
       "}\r\n",
       "</style>"
      ]
     },
     "metadata": {},
     "output_type": "display_data"
    }
   ],
   "source": [
    "var updated2 = await productContainer.PatchItemAsync<Product>(item.Resource.id, new PartitionKey(1), new[] { PatchOperation.Replace(\"/Name\", \"Sample Product Updated\") });\n",
    "updated2.Display()"
   ]
  },
  {
   "cell_type": "code",
   "execution_count": 43,
   "id": "d25a469c",
   "metadata": {},
   "outputs": [
    {
     "data": {
      "text/html": [
       "<details open=\"open\" class=\"dni-treeview\"><summary><span class=\"dni-code-hint\"><code>Microsoft.Azure.Cosmos.ItemResponse`1[Submission#35+Product]</code></span></summary><div><table><thead><tr></tr></thead><tbody><tr><td>Headers</td><td><details class=\"dni-treeview\"><summary><span class=\"dni-code-hint\"><code>[ x-ms-activity-id, x-ms-last-state-change-utc, x-ms-resource-quota, x-ms-resource-usage, x-ms-schemaversion, lsn, x-ms-request-charge, x-ms-alt-content-path, x-ms-content-path, x-ms-quorum-acked-lsn, x-ms-current-write-quorum, x-ms-current-replica-set-size, x-ms-documentdb-partitionkeyrangeid, x-ms-xp-role, x-ms-global-Committed-lsn, x-ms-number-of-read-regions, x-ms-transport-request-id, x-ms-cosmos-llsn, x-ms-cosmos-quorum-acked-llsn, x-ms-session-token ... (more) ]</code></span></summary><div><table><thead><tr></tr></thead><tbody><tr><td>ContinuationToken</td><td><div class=\"dni-plaintext\"><pre>&lt;null&gt;</pre></div></td></tr><tr><td>RequestCharge</td><td><div class=\"dni-plaintext\"><pre>8.95</pre></div></td></tr><tr><td>ActivityId</td><td><div class=\"dni-plaintext\"><pre>1ec404b0-0ad4-4e73-8b9c-658f732997cb</pre></div></td></tr><tr><td>ETag</td><td><div class=\"dni-plaintext\"><pre>&lt;null&gt;</pre></div></td></tr><tr><td>ContentType</td><td><div class=\"dni-plaintext\"><pre>&lt;null&gt;</pre></div></td></tr><tr><td>Session</td><td><div class=\"dni-plaintext\"><pre>0:-1#9</pre></div></td></tr><tr><td>ContentLength</td><td><div class=\"dni-plaintext\"><pre>&lt;null&gt;</pre></div></td></tr><tr><td>Location</td><td><div class=\"dni-plaintext\"><pre>&lt;null&gt;</pre></div></td></tr><tr><td><i>(values)</i></td><td><table><thead><tr><th><i>index</i></th><th>value</th></tr></thead><tbody><tr><td>0</td><td><div class=\"dni-plaintext\"><pre>x-ms-activity-id</pre></div></td></tr><tr><td>1</td><td><div class=\"dni-plaintext\"><pre>x-ms-last-state-change-utc</pre></div></td></tr><tr><td>2</td><td><div class=\"dni-plaintext\"><pre>x-ms-resource-quota</pre></div></td></tr><tr><td>3</td><td><div class=\"dni-plaintext\"><pre>x-ms-resource-usage</pre></div></td></tr><tr><td>4</td><td><div class=\"dni-plaintext\"><pre>x-ms-schemaversion</pre></div></td></tr><tr><td>5</td><td><div class=\"dni-plaintext\"><pre>lsn</pre></div></td></tr><tr><td>6</td><td><div class=\"dni-plaintext\"><pre>x-ms-request-charge</pre></div></td></tr><tr><td>7</td><td><div class=\"dni-plaintext\"><pre>x-ms-alt-content-path</pre></div></td></tr><tr><td>8</td><td><div class=\"dni-plaintext\"><pre>x-ms-content-path</pre></div></td></tr><tr><td>9</td><td><div class=\"dni-plaintext\"><pre>x-ms-quorum-acked-lsn</pre></div></td></tr><tr><td>10</td><td><div class=\"dni-plaintext\"><pre>x-ms-current-write-quorum</pre></div></td></tr><tr><td>11</td><td><div class=\"dni-plaintext\"><pre>x-ms-current-replica-set-size</pre></div></td></tr><tr><td>12</td><td><div class=\"dni-plaintext\"><pre>x-ms-documentdb-partitionkeyrangeid</pre></div></td></tr><tr><td>13</td><td><div class=\"dni-plaintext\"><pre>x-ms-xp-role</pre></div></td></tr><tr><td>14</td><td><div class=\"dni-plaintext\"><pre>x-ms-global-Committed-lsn</pre></div></td></tr><tr><td>15</td><td><div class=\"dni-plaintext\"><pre>x-ms-number-of-read-regions</pre></div></td></tr><tr><td>16</td><td><div class=\"dni-plaintext\"><pre>x-ms-transport-request-id</pre></div></td></tr><tr><td>17</td><td><div class=\"dni-plaintext\"><pre>x-ms-cosmos-llsn</pre></div></td></tr><tr><td>18</td><td><div class=\"dni-plaintext\"><pre>x-ms-cosmos-quorum-acked-llsn</pre></div></td></tr><tr><td>19</td><td><div class=\"dni-plaintext\"><pre>x-ms-session-token</pre></div></td></tr><tr><td colspan=\"2\"><i>... (more)</i></td></tr></tbody></table></td></tr></tbody></table></div></details></td></tr><tr><td>Resource</td><td><div class=\"dni-plaintext\"><pre>&lt;null&gt;</pre></div></td></tr><tr><td>StatusCode</td><td><span>NoContent</span></td></tr><tr><td>Diagnostics</td><td><details class=\"dni-treeview\"><summary><span class=\"dni-code-hint\"><code>{&quot;Summary&quot;:{&quot;DirectCalls&quot;:{&quot;(204, 0)&quot;:1}},&quot;name&quot;:&quot;DeleteItemAsync&quot;,&quot;start datetime&quot;:&quot;2025-08-19T19:43:24.780Z&quot;,&quot;duration in milliseconds&quot;:17.3532,&quot;data&quot;:{&quot;Client Configuration&quot;:{&quot;Client Created Time Utc&quot;:&quot;2025-08-19T15:16:49.3001025Z&quot;,&quot;MachineId&quot;:&quot;hashedMachineName:854b5717-0c71-e584-b8c5-e106e5718d...</code></span></summary><div><table><thead><tr></tr></thead><tbody><tr><td>Value</td><td><details class=\"dni-treeview\"><summary><span class=\"dni-code-hint\"><code>Microsoft.Azure.Cosmos.Tracing.Trace</code></span></summary><div><table><thead><tr></tr></thead><tbody><tr><td>Name</td><td><div class=\"dni-plaintext\"><pre>DeleteItemAsync</pre></div></td></tr><tr><td>Id</td><td><div class=\"dni-plaintext\"><pre>4628a45f-3fc2-4e53-b88f-263d5a8584a4</pre></div></td></tr><tr><td>StartTime</td><td><span>2025-08-19 19:43:24Z</span></td></tr><tr><td>Duration</td><td><span>00:00:00.0173532</span></td></tr><tr><td>Level</td><td><span>Info</span></td></tr><tr><td>Component</td><td><span>Transport</span></td></tr><tr><td>Summary</td><td><details class=\"dni-treeview\"><summary><span class=\"dni-code-hint\"><code>Microsoft.Azure.Cosmos.Tracing.TraceSummary</code></span></summary><div><table><thead><tr></tr></thead><tbody><tr><td>RegionsContacted</td><td><table><thead><tr><th><i>index</i></th><th>value</th></tr></thead><tbody><tr><td>0</td><td><details class=\"dni-treeview\"><summary><span class=\"dni-code-hint\"><code>(South Central US, https://127.0.0.1:8081/)</code></span></summary><div><table><thead><tr></tr></thead><tbody><tr><td>Item1</td><td>South Central US</td></tr><tr><td>Item2</td><td>https://127.0.0.1:8081/</td></tr></tbody></table></div></details></td></tr></tbody></table></td></tr></tbody></table></div></details></td></tr><tr><td>Parent</td><td><div class=\"dni-plaintext\"><pre>&lt;null&gt;</pre></div></td></tr><tr><td>Children</td><td><table><thead><tr><th><i>index</i></th><th>value</th></tr></thead><tbody><tr><td>0</td><td><details class=\"dni-treeview\"><summary><span class=\"dni-code-hint\"><code>Microsoft.Azure.Cosmos.Tracing.Trace</code></span></summary><div><table><thead><tr></tr></thead><tbody><tr><td>Name</td><td><div class=\"dni-plaintext\"><pre>Microsoft.Azure.Cosmos.Handlers.RequestInvokerHandler</pre></div></td></tr><tr><td>Id</td><td><div class=\"dni-plaintext\"><pre>ecbea1d2-3761-4c08-98cd-3c9d2c6dfd8a</pre></div></td></tr><tr><td>StartTime</td><td><span>2025-08-19 19:43:24Z</span></td></tr><tr><td>Duration</td><td><span>00:00:00.0172865</span></td></tr><tr><td>Level</td><td><span>Info</span></td></tr><tr><td>Component</td><td><span>RequestHandler</span></td></tr><tr><td>Summary</td><td><details class=\"dni-treeview\"><summary><span class=\"dni-code-hint\"><code>Microsoft.Azure.Cosmos.Tracing.TraceSummary</code></span></summary><div><table><thead><tr></tr></thead><tbody><tr><td>RegionsContacted</td><td>[ (South Central US, https://127.0.0.1:8081/) ]</td></tr></tbody></table></div></details></td></tr><tr><td>Parent</td><td><details class=\"dni-treeview\"><summary><span class=\"dni-code-hint\"><code>Microsoft.Azure.Cosmos.Tracing.Trace</code></span></summary><div><table><thead><tr></tr></thead><tbody><tr><td>Name</td><td>DeleteItemAsync</td></tr><tr><td>Id</td><td>4628a45f-3fc2-4e53-b88f-263d5a8584a4</td></tr><tr><td>StartTime</td><td>8/19/2025 7:43:24 PM</td></tr><tr><td>Duration</td><td>00:00:00.0173532</td></tr><tr><td>Level</td><td>Info</td></tr><tr><td>Component</td><td>Transport</td></tr><tr><td>Summary</td><td>Microsoft.Azure.Cosmos.Tracing.TraceSummary</td></tr><tr><td>Parent</td><td><div class=\"dni-plaintext\"><pre>&lt;null&gt;</pre></div></td></tr><tr><td>Children</td><td>[ Microsoft.Azure.Cosmos.Tracing.Trace, Microsoft.Azure.Cosmos.Tracing.Trace ]</td></tr><tr><td>Data</td><td>[ [Client Configuration, Microsoft.Azure.Cosmos.Tracing.TraceData.ClientConfigurationTraceDatum] ]</td></tr></tbody></table></div></details></td></tr><tr><td>Children</td><td><table><thead><tr><th><i>index</i></th><th>value</th></tr></thead><tbody><tr><td>0</td><td>Microsoft.Azure.Cosmos.Tracing.Trace</td></tr></tbody></table></td></tr><tr><td>Data</td><td><i>(empty)</i></td></tr></tbody></table></div></details></td></tr><tr><td>1</td><td><details class=\"dni-treeview\"><summary><span class=\"dni-code-hint\"><code>Microsoft.Azure.Cosmos.Tracing.Trace</code></span></summary><div><table><thead><tr></tr></thead><tbody><tr><td>Name</td><td><div class=\"dni-plaintext\"><pre>Response Serialization</pre></div></td></tr><tr><td>Id</td><td><div class=\"dni-plaintext\"><pre>e567d8df-3b2a-45bf-acff-f49a6582c4b3</pre></div></td></tr><tr><td>StartTime</td><td><span>2025-08-19 19:43:24Z</span></td></tr><tr><td>Duration</td><td><span>00:00:00.0000105</span></td></tr><tr><td>Level</td><td><span>Verbose</span></td></tr><tr><td>Component</td><td><span>Transport</span></td></tr><tr><td>Summary</td><td><details class=\"dni-treeview\"><summary><span class=\"dni-code-hint\"><code>Microsoft.Azure.Cosmos.Tracing.TraceSummary</code></span></summary><div><table><thead><tr></tr></thead><tbody><tr><td>RegionsContacted</td><td>[ (South Central US, https://127.0.0.1:8081/) ]</td></tr></tbody></table></div></details></td></tr><tr><td>Parent</td><td><details class=\"dni-treeview\"><summary><span class=\"dni-code-hint\"><code>Microsoft.Azure.Cosmos.Tracing.Trace</code></span></summary><div><table><thead><tr></tr></thead><tbody><tr><td>Name</td><td>DeleteItemAsync</td></tr><tr><td>Id</td><td>4628a45f-3fc2-4e53-b88f-263d5a8584a4</td></tr><tr><td>StartTime</td><td>8/19/2025 7:43:24 PM</td></tr><tr><td>Duration</td><td>00:00:00.0173532</td></tr><tr><td>Level</td><td>Info</td></tr><tr><td>Component</td><td>Transport</td></tr><tr><td>Summary</td><td>Microsoft.Azure.Cosmos.Tracing.TraceSummary</td></tr><tr><td>Parent</td><td><div class=\"dni-plaintext\"><pre>&lt;null&gt;</pre></div></td></tr><tr><td>Children</td><td>[ Microsoft.Azure.Cosmos.Tracing.Trace, Microsoft.Azure.Cosmos.Tracing.Trace ]</td></tr><tr><td>Data</td><td>[ [Client Configuration, Microsoft.Azure.Cosmos.Tracing.TraceData.ClientConfigurationTraceDatum] ]</td></tr></tbody></table></div></details></td></tr><tr><td>Children</td><td><i>(empty)</i></td></tr><tr><td>Data</td><td><i>(empty)</i></td></tr></tbody></table></div></details></td></tr></tbody></table></td></tr><tr><td>Data</td><td><table><thead><tr><th><i>key</i></th><th>value</th></tr></thead><tbody><tr><td><div class=\"dni-plaintext\"><pre>Client Configuration</pre></div></td><td><details class=\"dni-treeview\"><summary><span class=\"dni-code-hint\"><code>Microsoft.Azure.Cosmos.Tracing.TraceData.ClientConfigurationTraceDatum</code></span></summary><div><table><thead><tr></tr></thead><tbody><tr><td>ClientCreatedDateTimeUtc</td><td><span>2025-08-19 15:16:49Z</span></td></tr><tr><td>GatewayConnectionConfig</td><td><details class=\"dni-treeview\"><summary><span class=\"dni-code-hint\"><code>(cps:50, urto:6, p:False, httpf: False)</code></span></summary><div><table><thead><tr></tr></thead><tbody><tr><td>MaxConnectionLimit</td><td>50</td></tr><tr><td>UserRequestTimeout</td><td>6</td></tr><tr><td>IsWebProxyConfigured</td><td>False</td></tr><tr><td>IsHttpClientFactoryConfigured</td><td>False</td></tr></tbody></table></div></details></td></tr><tr><td>RntbdConnectionConfig</td><td><details class=\"dni-treeview\"><summary><span class=\"dni-code-hint\"><code>(cto: 5, icto: -1, mrpc: 30, mcpe: 65535, erd: True, pr: ReuseUnicastPort)</code></span></summary><div><table><thead><tr></tr></thead><tbody><tr><td>ConnectionTimeout</td><td>5</td></tr><tr><td>IdleConnectionTimeout</td><td>-1</td></tr><tr><td>MaxRequestsPerChannel</td><td>30</td></tr><tr><td>MaxRequestsPerEndpoint</td><td>65535</td></tr><tr><td>TcpEndpointRediscovery</td><td>True</td></tr><tr><td>PortReuseMode</td><td>ReuseUnicastPort</td></tr></tbody></table></div></details></td></tr><tr><td>OtherConnectionConfig</td><td><details class=\"dni-treeview\"><summary><span class=\"dni-code-hint\"><code>(ed:False, be:False)</code></span></summary><div><table><thead><tr></tr></thead><tbody><tr><td>LimitToEndpoint</td><td>False</td></tr><tr><td>AllowBulkExecution</td><td>False</td></tr></tbody></table></div></details></td></tr><tr><td>ConsistencyConfig</td><td><details class=\"dni-treeview\"><summary><span class=\"dni-code-hint\"><code>(consistency: NotSet, prgns:[], apprgn: )</code></span></summary><div><table><thead><tr></tr></thead><tbody><tr><td>ConsistencyLevel</td><td><div class=\"dni-plaintext\"><pre>&lt;null&gt;</pre></div></td></tr><tr><td>PreferredRegions</td><td><div class=\"dni-plaintext\"><pre>&lt;null&gt;</pre></div></td></tr><tr><td>ApplicationRegion</td><td><div class=\"dni-plaintext\"><pre>&lt;null&gt;</pre></div></td></tr></tbody></table></div></details></td></tr><tr><td>ProcessorCount</td><td><div class=\"dni-plaintext\"><pre>16</pre></div></td></tr><tr><td>ConnectionMode</td><td><span>Direct</span></td></tr><tr><td>SerializedJson</td><td>[ 123, 34, 67, 108, 105, 101, 110, 116, 32, 67, 114, 101, 97, 116, 101, 100, 32, 84, 105, 109 ... (548 more) ]</td></tr></tbody></table></div></details></td></tr></tbody></table></td></tr></tbody></table></div></details></td></tr></tbody></table></div></details></td></tr><tr><td>RequestCharge</td><td><div class=\"dni-plaintext\"><pre>8.95</pre></div></td></tr><tr><td>ActivityId</td><td><div class=\"dni-plaintext\"><pre>1ec404b0-0ad4-4e73-8b9c-658f732997cb</pre></div></td></tr><tr><td>ETag</td><td><div class=\"dni-plaintext\"><pre>&lt;null&gt;</pre></div></td></tr></tbody></table></div></details><style>\r\n",
       ".dni-code-hint {\r\n",
       "    font-style: italic;\r\n",
       "    overflow: hidden;\r\n",
       "    white-space: nowrap;\r\n",
       "}\r\n",
       ".dni-treeview {\r\n",
       "    white-space: nowrap;\r\n",
       "}\r\n",
       ".dni-treeview td {\r\n",
       "    vertical-align: top;\r\n",
       "    text-align: start;\r\n",
       "}\r\n",
       "details.dni-treeview {\r\n",
       "    padding-left: 1em;\r\n",
       "}\r\n",
       "table td {\r\n",
       "    text-align: start;\r\n",
       "}\r\n",
       "table tr { \r\n",
       "    vertical-align: top; \r\n",
       "    margin: 0em 0px;\r\n",
       "}\r\n",
       "table tr td pre \r\n",
       "{ \r\n",
       "    vertical-align: top !important; \r\n",
       "    margin: 0em 0px !important;\r\n",
       "} \r\n",
       "table th {\r\n",
       "    text-align: start;\r\n",
       "}\r\n",
       "</style>"
      ]
     },
     "metadata": {},
     "output_type": "display_data"
    }
   ],
   "source": [
    "var temp = await productContainer.DeleteItemAsync<Product>(item.Resource.id, new PartitionKey(1));\n",
    "temp.Display();"
   ]
  }
 ],
 "metadata": {
  "kernelspec": {
   "display_name": ".NET (C#)",
   "language": "C#",
   "name": ".net-csharp"
  },
  "language_info": {
   "name": "polyglot-notebook"
  },
  "polyglot_notebook": {
   "kernelInfo": {
    "defaultKernelName": "csharp",
    "items": [
     {
      "aliases": [],
      "name": "csharp"
     }
    ]
   }
  }
 },
 "nbformat": 4,
 "nbformat_minor": 5
}
