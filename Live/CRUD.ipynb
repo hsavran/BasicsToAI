{
 "cells": [
  {
   "cell_type": "markdown",
   "id": "1416e548",
   "metadata": {},
   "source": [
    "#11:45"
   ]
  },
  {
   "cell_type": "code",
   "execution_count": null,
   "id": "0f4c3b03",
   "metadata": {
    "language_info": {
     "name": "polyglot-notebook"
    },
    "polyglot_notebook": {
     "kernelName": "csharp"
    }
   },
   "outputs": [],
   "source": [
    "#r \"nuget: Newtonsoft.Json\"\n",
    "#r \"nuget: Microsoft.Azure.Cosmos\"\n",
    "using Microsoft.Azure.Cosmos;\n",
    "using System.Net.Http;"
   ]
  },
  {
   "cell_type": "code",
   "execution_count": null,
   "id": "daf5b95f",
   "metadata": {
    "language_info": {
     "name": "polyglot-notebook"
    },
    "polyglot_notebook": {
     "kernelName": "csharp"
    }
   },
   "outputs": [],
   "source": [
    "var cstring = \"AccountEndpoint=https://localhost:8081/;AccountKey=C2y6yDjf5/R+ob0N8A7Cgv30VRDJIWEHLM+4QDU5DE2nQ9nDuVTqobD4b8mGGyPMbIZnqyMsEcaGQy67XIw/Jw==\";\n",
    "var client = new CosmosClient(cstring);\n",
    "var db = client.GetDatabase(\"Live\");\n",
    "var productContainer = db.GetContainer(\"Products\");"
   ]
  },
  {
   "cell_type": "code",
   "execution_count": null,
   "id": "cb6cd16b",
   "metadata": {
    "language_info": {
     "name": "polyglot-notebook"
    },
    "polyglot_notebook": {
     "kernelName": "csharp"
    }
   },
   "outputs": [],
   "source": [
    "public class Product    \n",
    "{\n",
    "    public string id { get; set; }\n",
    "    public int ProductId { get; set; }\n",
    "    public string Name { get; set; }\n",
    "    public string Desciption { get; set; }\n",
    "    public int categoryid { get; set; }\n",
    "    public string CategoryName { get; set; }\n",
    "    public decimal Price {get;set;}\n",
    "    public bool InStock {get;set;}\n",
    "    public List<string> ImageUrls { get; set; }        \n",
    "}"
   ]
  },
  {
   "cell_type": "code",
   "execution_count": null,
   "id": "c3ff32d8",
   "metadata": {
    "language_info": {
     "name": "polyglot-notebook"
    },
    "polyglot_notebook": {
     "kernelName": "csharp"
    }
   },
   "outputs": [],
   "source": [
    "var newproduct = new Product\n",
    "{\n",
    "    id = Guid.NewGuid().ToString(),\n",
    "    ProductId = 1,\n",
    "    Name = \"Sample Product\",\n",
    "    Desciption = \"This is a sample product.\",\n",
    "    categoryid = 1,\n",
    "    CategoryName = \"Category 1\",\n",
    "    Price = 19.99M,\n",
    "    InStock = true,\n",
    "    ImageUrls = new List<string> { \"http://example.com/image1.jpg\", \"http://example.com/image2.jpg\" }\n",
    "};"
   ]
  },
  {
   "cell_type": "code",
   "execution_count": null,
   "id": "eabded8c",
   "metadata": {
    "language_info": {
     "name": "polyglot-notebook"
    },
    "polyglot_notebook": {
     "kernelName": "csharp"
    }
   },
   "outputs": [],
   "source": [
    "var newitem = await productContainer.CreateItemAsync(newproduct, new PartitionKey(newproduct.categoryid));\n",
    "Console.WriteLine($\"Created item in database with id: {newitem.Resource.id}\");\n",
    "Console.WriteLine($\"Request charge: {newitem.RequestCharge}\");"
   ]
  },
  {
   "cell_type": "code",
   "execution_count": null,
   "id": "8ed4ca93",
   "metadata": {
    "language_info": {
     "name": "polyglot-notebook"
    },
    "polyglot_notebook": {
     "kernelName": "csharp"
    }
   },
   "outputs": [],
   "source": [
    "var id = 1;\n",
    "var productQuery = new QueryDefinition(\"SELECT * FROM c WHERE c.ProductId = @id\")\n",
    "    .WithParameter(\"@id\", id);\n",
    "var iterator = productContainer.GetItemQueryIterator<Product>(productQuery);\n",
    "var results = new List<Product>();\n",
    "while (iterator.HasMoreResults)\n",
    "{\n",
    "    var response = await iterator.ReadNextAsync();\n",
    "    results.AddRange(response);\n",
    "    Console.WriteLine($\"Request charge: {response.RequestCharge}\");\n",
    "}\n",
    "results[0].Display();"
   ]
  },
  {
   "cell_type": "code",
   "execution_count": null,
   "id": "9ecc66ab",
   "metadata": {
    "language_info": {
     "name": "polyglot-notebook"
    },
    "polyglot_notebook": {
     "kernelName": "csharp"
    }
   },
   "outputs": [],
   "source": [
    "\n",
    "var item = await productContainer.ReadItemAsync<Product>(results[0].id, new PartitionKey(1));\n",
    "item.Display();"
   ]
  },
  {
   "cell_type": "code",
   "execution_count": null,
   "id": "ee3a2902",
   "metadata": {
    "language_info": {
     "name": "polyglot-notebook"
    },
    "polyglot_notebook": {
     "kernelName": "csharp"
    }
   },
   "outputs": [],
   "source": [
    "item.Resource.Desciption = \"Updated\";\n",
    "var updated = await productContainer.ReplaceItemAsync(item.Resource, item.Resource.id, new PartitionKey(1)); \n",
    "updated.Display();\n"
   ]
  },
  {
   "cell_type": "code",
   "execution_count": null,
   "id": "0af377d8",
   "metadata": {
    "language_info": {
     "name": "polyglot-notebook"
    },
    "polyglot_notebook": {
     "kernelName": "csharp"
    }
   },
   "outputs": [],
   "source": [
    "var updated2 = await productContainer.PatchItemAsync<Product>(item.Resource.id, new PartitionKey(1), new[] { PatchOperation.Replace(\"/Name\", \"Sample Product Updated\") });\n",
    "updated2.Display()"
   ]
  },
  {
   "cell_type": "code",
   "execution_count": null,
   "id": "d25a469c",
   "metadata": {
    "language_info": {
     "name": "polyglot-notebook"
    },
    "polyglot_notebook": {
     "kernelName": "csharp"
    }
   },
   "outputs": [],
   "source": [
    "var temp = await productContainer.DeleteItemAsync<Product>(item.Resource.id, new PartitionKey(1));\n",
    "temp.Display();"
   ]
  },
  {
   "cell_type": "markdown",
   "id": "b39cf4f7",
   "metadata": {},
   "source": [
    "#12:00"
   ]
  }
 ],
 "metadata": {
  "kernelspec": {
   "display_name": ".NET (C#)",
   "language": "C#",
   "name": ".net-csharp"
  },
  "language_info": {
   "name": "polyglot-notebook"
  },
  "polyglot_notebook": {
   "kernelInfo": {
    "defaultKernelName": "csharp",
    "items": [
     {
      "aliases": [],
      "name": "csharp"
     }
    ]
   }
  }
 },
 "nbformat": 4,
 "nbformat_minor": 5
}
