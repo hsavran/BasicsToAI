{
 "cells": [
  {
   "cell_type": "code",
   "execution_count": 1,
   "id": "0f4c3b03",
   "metadata": {
    "language_info": {
     "name": "polyglot-notebook"
    },
    "polyglot_notebook": {
     "kernelName": "csharp"
    }
   },
   "outputs": [
    {
     "data": {
      "text/html": [
       "<div><div></div><div></div><div><strong>Installed Packages</strong><ul><li><span>Microsoft.Azure.Cosmos, 3.53.1</span></li><li><span>Newtonsoft.Json, 13.0.4</span></li></ul></div></div>"
      ]
     },
     "metadata": {},
     "output_type": "display_data"
    }
   ],
   "source": [
    "#r \"nuget: Newtonsoft.Json\"\n",
    "#r \"nuget: Microsoft.Azure.Cosmos\"\n",
    "using Microsoft.Azure.Cosmos;\n",
    "using System.Net.Http;"
   ]
  },
  {
   "cell_type": "code",
   "execution_count": 2,
   "id": "daf5b95f",
   "metadata": {
    "language_info": {
     "name": "polyglot-notebook"
    },
    "polyglot_notebook": {
     "kernelName": "csharp"
    }
   },
   "outputs": [],
   "source": [
    "var cstring = \"AccountEndpoint=https://localhost:8081/;AccountKey=C2y6yDjf5/R+ob0N8A7Cgv30VRDJIWEHLM+4QDU5DE2nQ9nDuVTqobD4b8mGGyPMbIZnqyMsEcaGQy67XIw/Jw==\";\n",
    "var client = new CosmosClient(cstring);\n",
    "var db = client.GetDatabase(\"Live\");\n",
    "var productContainer = db.GetContainer(\"Products\");"
   ]
  },
  {
   "cell_type": "code",
   "execution_count": 3,
   "id": "cb6cd16b",
   "metadata": {
    "language_info": {
     "name": "polyglot-notebook"
    },
    "polyglot_notebook": {
     "kernelName": "csharp"
    }
   },
   "outputs": [],
   "source": [
    "public class Product    \n",
    "{\n",
    "    public string id { get; set; }\n",
    "    public int ProductId { get; set; }\n",
    "    public string Name { get; set; }\n",
    "    public string Desciption { get; set; }\n",
    "    public int categoryid { get; set; }\n",
    "    public string CategoryName { get; set; }\n",
    "    public decimal Price {get;set;}\n",
    "    public bool InStock {get;set;}\n",
    "    public List<string> ImageUrls { get; set; }        \n",
    "}"
   ]
  },
  {
   "cell_type": "markdown",
   "id": "1379788e",
   "metadata": {},
   "source": [
    "id is the unique identifier for each doc within a logical partition.\n",
    "id field is required\n",
    "id must be string\n",
    "id value must be less than 255 chars\n",
    "Certain chars are not allowed in the id (/,\\,?,#)\n",
    "Try to make id and partition available for faster, cheaper reads."
   ]
  },
  {
   "cell_type": "code",
   "execution_count": 4,
   "id": "c3ff32d8",
   "metadata": {
    "language_info": {
     "name": "polyglot-notebook"
    },
    "polyglot_notebook": {
     "kernelName": "csharp"
    }
   },
   "outputs": [],
   "source": [
    "var newproduct = new Product\n",
    "{\n",
    "    id = Guid.NewGuid().ToString(),\n",
    "    ProductId = 1,\n",
    "    Name = \"Sample Product\",\n",
    "    Desciption = \"This is a sample product.\",\n",
    "    categoryid = 1,\n",
    "    CategoryName = \"Category 1\",\n",
    "    Price = 19.99M,\n",
    "    InStock = true,\n",
    "    ImageUrls = new List<string> { \"http://example.com/image1.jpg\", \"http://example.com/image2.jpg\" }\n",
    "};"
   ]
  },
  {
   "cell_type": "markdown",
   "id": "15e3e4cb",
   "metadata": {},
   "source": [
    "Partition key is required to create a document.\n",
    "Partition key can not be changed."
   ]
  },
  {
   "cell_type": "code",
   "execution_count": 5,
   "id": "eabded8c",
   "metadata": {
    "language_info": {
     "name": "polyglot-notebook"
    },
    "polyglot_notebook": {
     "kernelName": "csharp"
    }
   },
   "outputs": [
    {
     "name": "stdout",
     "output_type": "stream",
     "text": [
      "Created item in database with id: f61a1523-9d3a-4532-87d5-19e207215c13\n",
      "Request charge: 8.95\n"
     ]
    }
   ],
   "source": [
    "var newitem = await productContainer.CreateItemAsync(newproduct, new PartitionKey(newproduct.categoryid));\n",
    "Console.WriteLine($\"Created item in database with id: {newitem.Resource.id}\");\n",
    "Console.WriteLine($\"Request charge: {newitem.RequestCharge}\");"
   ]
  },
  {
   "cell_type": "markdown",
   "id": "3ff0798c",
   "metadata": {},
   "source": [
    "Try to have partition key in your queries.\n",
    "If id and partition key is available, prefer Point Read\n",
    "You can retrieve results as a stream with GetItemQueryStreamIterator\n",
    "Retrieve only what you need"
   ]
  },
  {
   "cell_type": "code",
   "execution_count": 8,
   "id": "8ed4ca93",
   "metadata": {
    "language_info": {
     "name": "polyglot-notebook"
    },
    "polyglot_notebook": {
     "kernelName": "csharp"
    }
   },
   "outputs": [
    {
     "name": "stdout",
     "output_type": "stream",
     "text": [
      "Request charge: 2.82\r\n"
     ]
    },
    {
     "data": {
      "text/html": [
       "<details open=\"open\" class=\"dni-treeview\"><summary><span class=\"dni-code-hint\"><code>Submission#3+Product</code></span></summary><div><table><thead><tr></tr></thead><tbody><tr><td>id</td><td><div class=\"dni-plaintext\"><pre>f61a1523-9d3a-4532-87d5-19e207215c13</pre></div></td></tr><tr><td>ProductId</td><td><div class=\"dni-plaintext\"><pre>1</pre></div></td></tr><tr><td>Name</td><td><div class=\"dni-plaintext\"><pre>Sample Product</pre></div></td></tr><tr><td>Desciption</td><td><div class=\"dni-plaintext\"><pre>This is a sample product.</pre></div></td></tr><tr><td>categoryid</td><td><div class=\"dni-plaintext\"><pre>1</pre></div></td></tr><tr><td>CategoryName</td><td><div class=\"dni-plaintext\"><pre>Category 1</pre></div></td></tr><tr><td>Price</td><td><div class=\"dni-plaintext\"><pre>19.99</pre></div></td></tr><tr><td>InStock</td><td><div class=\"dni-plaintext\"><pre>True</pre></div></td></tr><tr><td>ImageUrls</td><td><div class=\"dni-plaintext\"><pre>[ http://example.com/image1.jpg, http://example.com/image2.jpg ]</pre></div></td></tr></tbody></table></div></details><style>\r\n",
       ".dni-code-hint {\r\n",
       "    font-style: italic;\r\n",
       "    overflow: hidden;\r\n",
       "    white-space: nowrap;\r\n",
       "}\r\n",
       ".dni-treeview {\r\n",
       "    white-space: nowrap;\r\n",
       "}\r\n",
       ".dni-treeview td {\r\n",
       "    vertical-align: top;\r\n",
       "    text-align: start;\r\n",
       "}\r\n",
       "details.dni-treeview {\r\n",
       "    padding-left: 1em;\r\n",
       "}\r\n",
       "table td {\r\n",
       "    text-align: start;\r\n",
       "}\r\n",
       "table tr { \r\n",
       "    vertical-align: top; \r\n",
       "    margin: 0em 0px;\r\n",
       "}\r\n",
       "table tr td pre \r\n",
       "{ \r\n",
       "    vertical-align: top !important; \r\n",
       "    margin: 0em 0px !important;\r\n",
       "} \r\n",
       "table th {\r\n",
       "    text-align: start;\r\n",
       "}\r\n",
       "</style>"
      ]
     },
     "metadata": {},
     "output_type": "display_data"
    }
   ],
   "source": [
    "var id = 1;\n",
    "var productQuery = new QueryDefinition(\"SELECT * FROM c WHERE c.ProductId = @id\")\n",
    "    .WithParameter(\"@id\", id);\n",
    "var iterator = productContainer.GetItemQueryIterator<Product>(productQuery);\n",
    "var results = new List<Product>();\n",
    "while (iterator.HasMoreResults)\n",
    "{\n",
    "    var response = await iterator.ReadNextAsync();\n",
    "    results.AddRange(response);\n",
    "    Console.WriteLine($\"Request charge: {response.RequestCharge}\");\n",
    "}\n",
    "results[0].Display();"
   ]
  },
  {
   "cell_type": "code",
   "execution_count": 9,
   "id": "9ecc66ab",
   "metadata": {
    "language_info": {
     "name": "polyglot-notebook"
    },
    "polyglot_notebook": {
     "kernelName": "csharp"
    }
   },
   "outputs": [
    {
     "data": {
      "text/html": [
       "<details open=\"open\" class=\"dni-treeview\"><summary><span class=\"dni-code-hint\"><code>Microsoft.Azure.Cosmos.ItemResponse`1[Submission#3+Product]</code></span></summary><div><table><thead><tr></tr></thead><tbody><tr><td>Headers</td><td><details class=\"dni-treeview\"><summary><span class=\"dni-code-hint\"><code>[ x-ms-activity-id, x-ms-last-state-change-utc, etag, x-ms-resource-quota, x-ms-resource-usage, x-ms-schemaversion, lsn, x-ms-request-charge, x-ms-alt-content-path, x-ms-content-path, x-ms-quorum-acked-lsn, x-ms-current-write-quorum, x-ms-current-replica-set-size, x-ms-documentdb-partitionkeyrangeid, x-ms-xp-role, x-ms-global-Committed-lsn, x-ms-number-of-read-regions, x-ms-item-lsn, x-ms-transport-request-id, x-ms-cosmos-llsn ... (more) ]</code></span></summary><div><table><thead><tr></tr></thead><tbody><tr><td>ContinuationToken</td><td><div class=\"dni-plaintext\"><pre>&lt;null&gt;</pre></div></td></tr><tr><td>RequestCharge</td><td><div class=\"dni-plaintext\"><pre>1</pre></div></td></tr><tr><td>ActivityId</td><td><div class=\"dni-plaintext\"><pre>4c96d00c-87b1-4c61-997a-cda28380916f</pre></div></td></tr><tr><td>ETag</td><td><div class=\"dni-plaintext\"><pre>&quot;00000000-0000-0000-271c-aa826bfe01dc&quot;</pre></div></td></tr><tr><td>ContentType</td><td><div class=\"dni-plaintext\"><pre>&lt;null&gt;</pre></div></td></tr><tr><td>Session</td><td><div class=\"dni-plaintext\"><pre>0:-1#10</pre></div></td></tr><tr><td>ContentLength</td><td><div class=\"dni-plaintext\"><pre>&lt;null&gt;</pre></div></td></tr><tr><td>Location</td><td><div class=\"dni-plaintext\"><pre>&lt;null&gt;</pre></div></td></tr><tr><td><i>(values)</i></td><td><table><thead><tr><th><i>index</i></th><th>value</th></tr></thead><tbody><tr><td>0</td><td><div class=\"dni-plaintext\"><pre>x-ms-activity-id</pre></div></td></tr><tr><td>1</td><td><div class=\"dni-plaintext\"><pre>x-ms-last-state-change-utc</pre></div></td></tr><tr><td>2</td><td><div class=\"dni-plaintext\"><pre>etag</pre></div></td></tr><tr><td>3</td><td><div class=\"dni-plaintext\"><pre>x-ms-resource-quota</pre></div></td></tr><tr><td>4</td><td><div class=\"dni-plaintext\"><pre>x-ms-resource-usage</pre></div></td></tr><tr><td>5</td><td><div class=\"dni-plaintext\"><pre>x-ms-schemaversion</pre></div></td></tr><tr><td>6</td><td><div class=\"dni-plaintext\"><pre>lsn</pre></div></td></tr><tr><td>7</td><td><div class=\"dni-plaintext\"><pre>x-ms-request-charge</pre></div></td></tr><tr><td>8</td><td><div class=\"dni-plaintext\"><pre>x-ms-alt-content-path</pre></div></td></tr><tr><td>9</td><td><div class=\"dni-plaintext\"><pre>x-ms-content-path</pre></div></td></tr><tr><td>10</td><td><div class=\"dni-plaintext\"><pre>x-ms-quorum-acked-lsn</pre></div></td></tr><tr><td>11</td><td><div class=\"dni-plaintext\"><pre>x-ms-current-write-quorum</pre></div></td></tr><tr><td>12</td><td><div class=\"dni-plaintext\"><pre>x-ms-current-replica-set-size</pre></div></td></tr><tr><td>13</td><td><div class=\"dni-plaintext\"><pre>x-ms-documentdb-partitionkeyrangeid</pre></div></td></tr><tr><td>14</td><td><div class=\"dni-plaintext\"><pre>x-ms-xp-role</pre></div></td></tr><tr><td>15</td><td><div class=\"dni-plaintext\"><pre>x-ms-global-Committed-lsn</pre></div></td></tr><tr><td>16</td><td><div class=\"dni-plaintext\"><pre>x-ms-number-of-read-regions</pre></div></td></tr><tr><td>17</td><td><div class=\"dni-plaintext\"><pre>x-ms-item-lsn</pre></div></td></tr><tr><td>18</td><td><div class=\"dni-plaintext\"><pre>x-ms-transport-request-id</pre></div></td></tr><tr><td>19</td><td><div class=\"dni-plaintext\"><pre>x-ms-cosmos-llsn</pre></div></td></tr><tr><td colspan=\"2\"><i>... (more)</i></td></tr></tbody></table></td></tr></tbody></table></div></details></td></tr><tr><td>Resource</td><td><details class=\"dni-treeview\"><summary><span class=\"dni-code-hint\"><code>Submission#3+Product</code></span></summary><div><table><thead><tr></tr></thead><tbody><tr><td>id</td><td><div class=\"dni-plaintext\"><pre>f61a1523-9d3a-4532-87d5-19e207215c13</pre></div></td></tr><tr><td>ProductId</td><td><div class=\"dni-plaintext\"><pre>1</pre></div></td></tr><tr><td>Name</td><td><div class=\"dni-plaintext\"><pre>Sample Product</pre></div></td></tr><tr><td>Desciption</td><td><div class=\"dni-plaintext\"><pre>This is a sample product.</pre></div></td></tr><tr><td>categoryid</td><td><div class=\"dni-plaintext\"><pre>1</pre></div></td></tr><tr><td>CategoryName</td><td><div class=\"dni-plaintext\"><pre>Category 1</pre></div></td></tr><tr><td>Price</td><td><div class=\"dni-plaintext\"><pre>19.99</pre></div></td></tr><tr><td>InStock</td><td><div class=\"dni-plaintext\"><pre>True</pre></div></td></tr><tr><td>ImageUrls</td><td><div class=\"dni-plaintext\"><pre>[ http://example.com/image1.jpg, http://example.com/image2.jpg ]</pre></div></td></tr></tbody></table></div></details></td></tr><tr><td>StatusCode</td><td><span>OK</span></td></tr><tr><td>Diagnostics</td><td><details class=\"dni-treeview\"><summary><span class=\"dni-code-hint\"><code>{&quot;Summary&quot;:{&quot;DirectCalls&quot;:{&quot;(200, 0)&quot;:1}},&quot;name&quot;:&quot;ReadItemAsync&quot;,&quot;start datetime&quot;:&quot;2025-09-16T15:25:08.859Z&quot;,&quot;duration in milliseconds&quot;:5.9325,&quot;data&quot;:{&quot;Client Configuration&quot;:{&quot;Client Created Time Utc&quot;:&quot;2025-09-16T13:53:05.2194139Z&quot;,&quot;MachineId&quot;:&quot;hashedMachineName:854b5717-0c71-e584-b8c5-e106e5718dfa&quot;...</code></span></summary><div><table><thead><tr></tr></thead><tbody><tr><td>Value</td><td><details class=\"dni-treeview\"><summary><span class=\"dni-code-hint\"><code>Microsoft.Azure.Cosmos.Tracing.Trace</code></span></summary><div><table><thead><tr></tr></thead><tbody><tr><td>Name</td><td><div class=\"dni-plaintext\"><pre>ReadItemAsync</pre></div></td></tr><tr><td>Id</td><td><div class=\"dni-plaintext\"><pre>48b2bb5a-2a68-439e-a2e6-85bd62835dbc</pre></div></td></tr><tr><td>StartTime</td><td><span>2025-09-16 15:25:08Z</span></td></tr><tr><td>Duration</td><td><span>00:00:00.0059325</span></td></tr><tr><td>Level</td><td><span>Info</span></td></tr><tr><td>Component</td><td><span>Transport</span></td></tr><tr><td>Summary</td><td><details class=\"dni-treeview\"><summary><span class=\"dni-code-hint\"><code>Microsoft.Azure.Cosmos.Tracing.TraceSummary</code></span></summary><div><table><thead><tr></tr></thead><tbody><tr><td>RegionsContacted</td><td><table><thead><tr><th><i>index</i></th><th>value</th></tr></thead><tbody><tr><td>0</td><td><details class=\"dni-treeview\"><summary><span class=\"dni-code-hint\"><code>(South Central US, https://127.0.0.1:8081/)</code></span></summary><div><table><thead><tr></tr></thead><tbody><tr><td>Item1</td><td>South Central US</td></tr><tr><td>Item2</td><td>https://127.0.0.1:8081/</td></tr></tbody></table></div></details></td></tr></tbody></table></td></tr></tbody></table></div></details></td></tr><tr><td>Parent</td><td><div class=\"dni-plaintext\"><pre>&lt;null&gt;</pre></div></td></tr><tr><td>Children</td><td><table><thead><tr><th><i>index</i></th><th>value</th></tr></thead><tbody><tr><td>0</td><td><details class=\"dni-treeview\"><summary><span class=\"dni-code-hint\"><code>Microsoft.Azure.Cosmos.Tracing.Trace</code></span></summary><div><table><thead><tr></tr></thead><tbody><tr><td>Name</td><td><div class=\"dni-plaintext\"><pre>Microsoft.Azure.Cosmos.Handlers.RequestInvokerHandler</pre></div></td></tr><tr><td>Id</td><td><div class=\"dni-plaintext\"><pre>5030fb26-c958-4bdf-8611-7f36c990519e</pre></div></td></tr><tr><td>StartTime</td><td><span>2025-09-16 15:25:08Z</span></td></tr><tr><td>Duration</td><td><span>00:00:00.0043522</span></td></tr><tr><td>Level</td><td><span>Info</span></td></tr><tr><td>Component</td><td><span>RequestHandler</span></td></tr><tr><td>Summary</td><td><details class=\"dni-treeview\"><summary><span class=\"dni-code-hint\"><code>Microsoft.Azure.Cosmos.Tracing.TraceSummary</code></span></summary><div><table><thead><tr></tr></thead><tbody><tr><td>RegionsContacted</td><td>[ (South Central US, https://127.0.0.1:8081/) ]</td></tr></tbody></table></div></details></td></tr><tr><td>Parent</td><td><details class=\"dni-treeview\"><summary><span class=\"dni-code-hint\"><code>Microsoft.Azure.Cosmos.Tracing.Trace</code></span></summary><div><table><thead><tr></tr></thead><tbody><tr><td>Name</td><td>ReadItemAsync</td></tr><tr><td>Id</td><td>48b2bb5a-2a68-439e-a2e6-85bd62835dbc</td></tr><tr><td>StartTime</td><td>9/16/2025 3:25:08 PM</td></tr><tr><td>Duration</td><td>00:00:00.0059325</td></tr><tr><td>Level</td><td>Info</td></tr><tr><td>Component</td><td>Transport</td></tr><tr><td>Summary</td><td>Microsoft.Azure.Cosmos.Tracing.TraceSummary</td></tr><tr><td>Parent</td><td><div class=\"dni-plaintext\"><pre>&lt;null&gt;</pre></div></td></tr><tr><td>Children</td><td>[ Microsoft.Azure.Cosmos.Tracing.Trace, Microsoft.Azure.Cosmos.Tracing.Trace ]</td></tr><tr><td>Data</td><td>[ [Client Configuration, Microsoft.Azure.Cosmos.Tracing.TraceData.ClientConfigurationTraceDatum] ]</td></tr><tr><td>IsBeingWalked</td><td>True</td></tr></tbody></table></div></details></td></tr><tr><td>Children</td><td><table><thead><tr><th><i>index</i></th><th>value</th></tr></thead><tbody><tr><td>0</td><td>Microsoft.Azure.Cosmos.Tracing.Trace</td></tr></tbody></table></td></tr><tr><td>Data</td><td><i>(empty)</i></td></tr><tr><td>IsBeingWalked</td><td><div class=\"dni-plaintext\"><pre>True</pre></div></td></tr></tbody></table></div></details></td></tr><tr><td>1</td><td><details class=\"dni-treeview\"><summary><span class=\"dni-code-hint\"><code>Microsoft.Azure.Cosmos.Tracing.Trace</code></span></summary><div><table><thead><tr></tr></thead><tbody><tr><td>Name</td><td><div class=\"dni-plaintext\"><pre>Response Serialization</pre></div></td></tr><tr><td>Id</td><td><div class=\"dni-plaintext\"><pre>e470a0ad-5eaf-48cd-9191-0f3f7365bc23</pre></div></td></tr><tr><td>StartTime</td><td><span>2025-09-16 15:25:08Z</span></td></tr><tr><td>Duration</td><td><span>00:00:00.0000759</span></td></tr><tr><td>Level</td><td><span>Verbose</span></td></tr><tr><td>Component</td><td><span>Transport</span></td></tr><tr><td>Summary</td><td><details class=\"dni-treeview\"><summary><span class=\"dni-code-hint\"><code>Microsoft.Azure.Cosmos.Tracing.TraceSummary</code></span></summary><div><table><thead><tr></tr></thead><tbody><tr><td>RegionsContacted</td><td>[ (South Central US, https://127.0.0.1:8081/) ]</td></tr></tbody></table></div></details></td></tr><tr><td>Parent</td><td><details class=\"dni-treeview\"><summary><span class=\"dni-code-hint\"><code>Microsoft.Azure.Cosmos.Tracing.Trace</code></span></summary><div><table><thead><tr></tr></thead><tbody><tr><td>Name</td><td>ReadItemAsync</td></tr><tr><td>Id</td><td>48b2bb5a-2a68-439e-a2e6-85bd62835dbc</td></tr><tr><td>StartTime</td><td>9/16/2025 3:25:08 PM</td></tr><tr><td>Duration</td><td>00:00:00.0059325</td></tr><tr><td>Level</td><td>Info</td></tr><tr><td>Component</td><td>Transport</td></tr><tr><td>Summary</td><td>Microsoft.Azure.Cosmos.Tracing.TraceSummary</td></tr><tr><td>Parent</td><td><div class=\"dni-plaintext\"><pre>&lt;null&gt;</pre></div></td></tr><tr><td>Children</td><td>[ Microsoft.Azure.Cosmos.Tracing.Trace, Microsoft.Azure.Cosmos.Tracing.Trace ]</td></tr><tr><td>Data</td><td>[ [Client Configuration, Microsoft.Azure.Cosmos.Tracing.TraceData.ClientConfigurationTraceDatum] ]</td></tr><tr><td>IsBeingWalked</td><td>True</td></tr></tbody></table></div></details></td></tr><tr><td>Children</td><td><i>(empty)</i></td></tr><tr><td>Data</td><td><i>(empty)</i></td></tr><tr><td>IsBeingWalked</td><td><div class=\"dni-plaintext\"><pre>True</pre></div></td></tr></tbody></table></div></details></td></tr></tbody></table></td></tr><tr><td>Data</td><td><table><thead><tr><th><i>key</i></th><th>value</th></tr></thead><tbody><tr><td><div class=\"dni-plaintext\"><pre>Client Configuration</pre></div></td><td><details class=\"dni-treeview\"><summary><span class=\"dni-code-hint\"><code>Microsoft.Azure.Cosmos.Tracing.TraceData.ClientConfigurationTraceDatum</code></span></summary><div><table><thead><tr></tr></thead><tbody><tr><td>ClientCreatedDateTimeUtc</td><td><span>2025-09-16 13:53:05Z</span></td></tr><tr><td>GatewayConnectionConfig</td><td><details class=\"dni-treeview\"><summary><span class=\"dni-code-hint\"><code>(cps:50, urto:6, p:False, httpf: False)</code></span></summary><div><table><thead><tr></tr></thead><tbody><tr><td>MaxConnectionLimit</td><td>50</td></tr><tr><td>UserRequestTimeout</td><td>6</td></tr><tr><td>IsWebProxyConfigured</td><td>False</td></tr><tr><td>IsHttpClientFactoryConfigured</td><td>False</td></tr></tbody></table></div></details></td></tr><tr><td>RntbdConnectionConfig</td><td><details class=\"dni-treeview\"><summary><span class=\"dni-code-hint\"><code>(cto: 5, icto: -1, mrpc: 30, mcpe: 65535, erd: True, pr: ReuseUnicastPort)</code></span></summary><div><table><thead><tr></tr></thead><tbody><tr><td>ConnectionTimeout</td><td>5</td></tr><tr><td>IdleConnectionTimeout</td><td>-1</td></tr><tr><td>MaxRequestsPerChannel</td><td>30</td></tr><tr><td>MaxRequestsPerEndpoint</td><td>65535</td></tr><tr><td>TcpEndpointRediscovery</td><td>True</td></tr><tr><td>PortReuseMode</td><td>ReuseUnicastPort</td></tr></tbody></table></div></details></td></tr><tr><td>OtherConnectionConfig</td><td><details class=\"dni-treeview\"><summary><span class=\"dni-code-hint\"><code>(ed:False, be:False)</code></span></summary><div><table><thead><tr></tr></thead><tbody><tr><td>LimitToEndpoint</td><td>False</td></tr><tr><td>AllowBulkExecution</td><td>False</td></tr></tbody></table></div></details></td></tr><tr><td>ConsistencyConfig</td><td><details class=\"dni-treeview\"><summary><span class=\"dni-code-hint\"><code>(consistency: NotSet, prgns:[], apprgn: )</code></span></summary><div><table><thead><tr></tr></thead><tbody><tr><td>ConsistencyLevel</td><td><div class=\"dni-plaintext\"><pre>&lt;null&gt;</pre></div></td></tr><tr><td>PreferredRegions</td><td><div class=\"dni-plaintext\"><pre>&lt;null&gt;</pre></div></td></tr><tr><td>ApplicationRegion</td><td><div class=\"dni-plaintext\"><pre>&lt;null&gt;</pre></div></td></tr></tbody></table></div></details></td></tr><tr><td>ProcessorCount</td><td><div class=\"dni-plaintext\"><pre>16</pre></div></td></tr><tr><td>ConnectionMode</td><td><span>Direct</span></td></tr><tr><td>SerializedJson</td><td>[ 123, 34, 67, 108, 105, 101, 110, 116, 32, 67, 114, 101, 97, 116, 101, 100, 32, 84, 105, 109 ... (548 more) ]</td></tr></tbody></table></div></details></td></tr></tbody></table></td></tr><tr><td>IsBeingWalked</td><td><div class=\"dni-plaintext\"><pre>True</pre></div></td></tr></tbody></table></div></details></td></tr></tbody></table></div></details></td></tr><tr><td>RequestCharge</td><td><div class=\"dni-plaintext\"><pre>1</pre></div></td></tr><tr><td>ActivityId</td><td><div class=\"dni-plaintext\"><pre>4c96d00c-87b1-4c61-997a-cda28380916f</pre></div></td></tr><tr><td>ETag</td><td><div class=\"dni-plaintext\"><pre>&quot;00000000-0000-0000-271c-aa826bfe01dc&quot;</pre></div></td></tr></tbody></table></div></details><style>\r\n",
       ".dni-code-hint {\r\n",
       "    font-style: italic;\r\n",
       "    overflow: hidden;\r\n",
       "    white-space: nowrap;\r\n",
       "}\r\n",
       ".dni-treeview {\r\n",
       "    white-space: nowrap;\r\n",
       "}\r\n",
       ".dni-treeview td {\r\n",
       "    vertical-align: top;\r\n",
       "    text-align: start;\r\n",
       "}\r\n",
       "details.dni-treeview {\r\n",
       "    padding-left: 1em;\r\n",
       "}\r\n",
       "table td {\r\n",
       "    text-align: start;\r\n",
       "}\r\n",
       "table tr { \r\n",
       "    vertical-align: top; \r\n",
       "    margin: 0em 0px;\r\n",
       "}\r\n",
       "table tr td pre \r\n",
       "{ \r\n",
       "    vertical-align: top !important; \r\n",
       "    margin: 0em 0px !important;\r\n",
       "} \r\n",
       "table th {\r\n",
       "    text-align: start;\r\n",
       "}\r\n",
       "</style>"
      ]
     },
     "metadata": {},
     "output_type": "display_data"
    }
   ],
   "source": [
    "\n",
    "var item = await productContainer.ReadItemAsync<Product>(results[0].id, new PartitionKey(1));\n",
    "item.Display();"
   ]
  },
  {
   "cell_type": "markdown",
   "id": "170b9df8",
   "metadata": {},
   "source": [
    "Updates can be expensive, Consider batching if you need to update many documents"
   ]
  },
  {
   "cell_type": "code",
   "execution_count": 10,
   "id": "ee3a2902",
   "metadata": {
    "language_info": {
     "name": "polyglot-notebook"
    },
    "polyglot_notebook": {
     "kernelName": "csharp"
    }
   },
   "outputs": [
    {
     "data": {
      "text/html": [
       "<details open=\"open\" class=\"dni-treeview\"><summary><span class=\"dni-code-hint\"><code>Microsoft.Azure.Cosmos.ItemResponse`1[Submission#3+Product]</code></span></summary><div><table><thead><tr></tr></thead><tbody><tr><td>Headers</td><td><details class=\"dni-treeview\"><summary><span class=\"dni-code-hint\"><code>[ x-ms-activity-id, x-ms-last-state-change-utc, etag, x-ms-resource-quota, x-ms-resource-usage, x-ms-schemaversion, lsn, x-ms-request-charge, x-ms-alt-content-path, x-ms-content-path, x-ms-quorum-acked-lsn, x-ms-current-write-quorum, x-ms-current-replica-set-size, x-ms-documentdb-partitionkeyrangeid, x-ms-xp-role, x-ms-global-Committed-lsn, x-ms-number-of-read-regions, x-ms-transport-request-id, x-ms-cosmos-llsn, x-ms-cosmos-quorum-acked-llsn ... (more) ]</code></span></summary><div><table><thead><tr></tr></thead><tbody><tr><td>ContinuationToken</td><td><div class=\"dni-plaintext\"><pre>&lt;null&gt;</pre></div></td></tr><tr><td>RequestCharge</td><td><div class=\"dni-plaintext\"><pre>10.67</pre></div></td></tr><tr><td>ActivityId</td><td><div class=\"dni-plaintext\"><pre>1bfdb4b7-ee41-429f-b698-d9169d2a9312</pre></div></td></tr><tr><td>ETag</td><td><div class=\"dni-plaintext\"><pre>&quot;00000000-0000-0000-271e-194fb33f01dc&quot;</pre></div></td></tr><tr><td>ContentType</td><td><div class=\"dni-plaintext\"><pre>&lt;null&gt;</pre></div></td></tr><tr><td>Session</td><td><div class=\"dni-plaintext\"><pre>0:-1#11</pre></div></td></tr><tr><td>ContentLength</td><td><div class=\"dni-plaintext\"><pre>&lt;null&gt;</pre></div></td></tr><tr><td>Location</td><td><div class=\"dni-plaintext\"><pre>&lt;null&gt;</pre></div></td></tr><tr><td><i>(values)</i></td><td><table><thead><tr><th><i>index</i></th><th>value</th></tr></thead><tbody><tr><td>0</td><td><div class=\"dni-plaintext\"><pre>x-ms-activity-id</pre></div></td></tr><tr><td>1</td><td><div class=\"dni-plaintext\"><pre>x-ms-last-state-change-utc</pre></div></td></tr><tr><td>2</td><td><div class=\"dni-plaintext\"><pre>etag</pre></div></td></tr><tr><td>3</td><td><div class=\"dni-plaintext\"><pre>x-ms-resource-quota</pre></div></td></tr><tr><td>4</td><td><div class=\"dni-plaintext\"><pre>x-ms-resource-usage</pre></div></td></tr><tr><td>5</td><td><div class=\"dni-plaintext\"><pre>x-ms-schemaversion</pre></div></td></tr><tr><td>6</td><td><div class=\"dni-plaintext\"><pre>lsn</pre></div></td></tr><tr><td>7</td><td><div class=\"dni-plaintext\"><pre>x-ms-request-charge</pre></div></td></tr><tr><td>8</td><td><div class=\"dni-plaintext\"><pre>x-ms-alt-content-path</pre></div></td></tr><tr><td>9</td><td><div class=\"dni-plaintext\"><pre>x-ms-content-path</pre></div></td></tr><tr><td>10</td><td><div class=\"dni-plaintext\"><pre>x-ms-quorum-acked-lsn</pre></div></td></tr><tr><td>11</td><td><div class=\"dni-plaintext\"><pre>x-ms-current-write-quorum</pre></div></td></tr><tr><td>12</td><td><div class=\"dni-plaintext\"><pre>x-ms-current-replica-set-size</pre></div></td></tr><tr><td>13</td><td><div class=\"dni-plaintext\"><pre>x-ms-documentdb-partitionkeyrangeid</pre></div></td></tr><tr><td>14</td><td><div class=\"dni-plaintext\"><pre>x-ms-xp-role</pre></div></td></tr><tr><td>15</td><td><div class=\"dni-plaintext\"><pre>x-ms-global-Committed-lsn</pre></div></td></tr><tr><td>16</td><td><div class=\"dni-plaintext\"><pre>x-ms-number-of-read-regions</pre></div></td></tr><tr><td>17</td><td><div class=\"dni-plaintext\"><pre>x-ms-transport-request-id</pre></div></td></tr><tr><td>18</td><td><div class=\"dni-plaintext\"><pre>x-ms-cosmos-llsn</pre></div></td></tr><tr><td>19</td><td><div class=\"dni-plaintext\"><pre>x-ms-cosmos-quorum-acked-llsn</pre></div></td></tr><tr><td colspan=\"2\"><i>... (more)</i></td></tr></tbody></table></td></tr></tbody></table></div></details></td></tr><tr><td>Resource</td><td><details class=\"dni-treeview\"><summary><span class=\"dni-code-hint\"><code>Submission#3+Product</code></span></summary><div><table><thead><tr></tr></thead><tbody><tr><td>id</td><td><div class=\"dni-plaintext\"><pre>f61a1523-9d3a-4532-87d5-19e207215c13</pre></div></td></tr><tr><td>ProductId</td><td><div class=\"dni-plaintext\"><pre>1</pre></div></td></tr><tr><td>Name</td><td><div class=\"dni-plaintext\"><pre>Sample Product</pre></div></td></tr><tr><td>Desciption</td><td><div class=\"dni-plaintext\"><pre>Updated</pre></div></td></tr><tr><td>categoryid</td><td><div class=\"dni-plaintext\"><pre>1</pre></div></td></tr><tr><td>CategoryName</td><td><div class=\"dni-plaintext\"><pre>Category 1</pre></div></td></tr><tr><td>Price</td><td><div class=\"dni-plaintext\"><pre>19.99</pre></div></td></tr><tr><td>InStock</td><td><div class=\"dni-plaintext\"><pre>True</pre></div></td></tr><tr><td>ImageUrls</td><td><div class=\"dni-plaintext\"><pre>[ http://example.com/image1.jpg, http://example.com/image2.jpg ]</pre></div></td></tr></tbody></table></div></details></td></tr><tr><td>StatusCode</td><td><span>OK</span></td></tr><tr><td>Diagnostics</td><td><details class=\"dni-treeview\"><summary><span class=\"dni-code-hint\"><code>{&quot;Summary&quot;:{&quot;DirectCalls&quot;:{&quot;(200, 0)&quot;:1}},&quot;name&quot;:&quot;ReplaceItemAsync&quot;,&quot;start datetime&quot;:&quot;2025-09-16T15:25:14.139Z&quot;,&quot;duration in milliseconds&quot;:12.7522,&quot;data&quot;:{&quot;Client Configuration&quot;:{&quot;Client Created Time Utc&quot;:&quot;2025-09-16T13:53:05.2194139Z&quot;,&quot;MachineId&quot;:&quot;hashedMachineName:854b5717-0c71-e584-b8c5-e106e5718...</code></span></summary><div><table><thead><tr></tr></thead><tbody><tr><td>Value</td><td><details class=\"dni-treeview\"><summary><span class=\"dni-code-hint\"><code>Microsoft.Azure.Cosmos.Tracing.Trace</code></span></summary><div><table><thead><tr></tr></thead><tbody><tr><td>Name</td><td><div class=\"dni-plaintext\"><pre>ReplaceItemAsync</pre></div></td></tr><tr><td>Id</td><td><div class=\"dni-plaintext\"><pre>eee0bc43-c014-4d2c-a3fe-8fd0c5f8d0f1</pre></div></td></tr><tr><td>StartTime</td><td><span>2025-09-16 15:25:14Z</span></td></tr><tr><td>Duration</td><td><span>00:00:00.0127522</span></td></tr><tr><td>Level</td><td><span>Info</span></td></tr><tr><td>Component</td><td><span>Transport</span></td></tr><tr><td>Summary</td><td><details class=\"dni-treeview\"><summary><span class=\"dni-code-hint\"><code>Microsoft.Azure.Cosmos.Tracing.TraceSummary</code></span></summary><div><table><thead><tr></tr></thead><tbody><tr><td>RegionsContacted</td><td><table><thead><tr><th><i>index</i></th><th>value</th></tr></thead><tbody><tr><td>0</td><td><details class=\"dni-treeview\"><summary><span class=\"dni-code-hint\"><code>(South Central US, https://127.0.0.1:8081/)</code></span></summary><div><table><thead><tr></tr></thead><tbody><tr><td>Item1</td><td>South Central US</td></tr><tr><td>Item2</td><td>https://127.0.0.1:8081/</td></tr></tbody></table></div></details></td></tr></tbody></table></td></tr></tbody></table></div></details></td></tr><tr><td>Parent</td><td><div class=\"dni-plaintext\"><pre>&lt;null&gt;</pre></div></td></tr><tr><td>Children</td><td><table><thead><tr><th><i>index</i></th><th>value</th></tr></thead><tbody><tr><td>0</td><td><details class=\"dni-treeview\"><summary><span class=\"dni-code-hint\"><code>Microsoft.Azure.Cosmos.Tracing.Trace</code></span></summary><div><table><thead><tr></tr></thead><tbody><tr><td>Name</td><td><div class=\"dni-plaintext\"><pre>ItemSerialize</pre></div></td></tr><tr><td>Id</td><td><div class=\"dni-plaintext\"><pre>37c83cd4-5051-43dc-9467-271d07cedbc7</pre></div></td></tr><tr><td>StartTime</td><td><span>2025-09-16 15:25:14Z</span></td></tr><tr><td>Duration</td><td><span>00:00:00.0000762</span></td></tr><tr><td>Level</td><td><span>Verbose</span></td></tr><tr><td>Component</td><td><span>Transport</span></td></tr><tr><td>Summary</td><td><details class=\"dni-treeview\"><summary><span class=\"dni-code-hint\"><code>Microsoft.Azure.Cosmos.Tracing.TraceSummary</code></span></summary><div><table><thead><tr></tr></thead><tbody><tr><td>RegionsContacted</td><td>[ (South Central US, https://127.0.0.1:8081/) ]</td></tr></tbody></table></div></details></td></tr><tr><td>Parent</td><td><details class=\"dni-treeview\"><summary><span class=\"dni-code-hint\"><code>Microsoft.Azure.Cosmos.Tracing.Trace</code></span></summary><div><table><thead><tr></tr></thead><tbody><tr><td>Name</td><td>ReplaceItemAsync</td></tr><tr><td>Id</td><td>eee0bc43-c014-4d2c-a3fe-8fd0c5f8d0f1</td></tr><tr><td>StartTime</td><td>9/16/2025 3:25:14 PM</td></tr><tr><td>Duration</td><td>00:00:00.0127522</td></tr><tr><td>Level</td><td>Info</td></tr><tr><td>Component</td><td>Transport</td></tr><tr><td>Summary</td><td>Microsoft.Azure.Cosmos.Tracing.TraceSummary</td></tr><tr><td>Parent</td><td><div class=\"dni-plaintext\"><pre>&lt;null&gt;</pre></div></td></tr><tr><td>Children</td><td>[ Microsoft.Azure.Cosmos.Tracing.Trace, Microsoft.Azure.Cosmos.Tracing.Trace, Microsoft.Azure.Cosmos.Tracing.Trace ]</td></tr><tr><td>Data</td><td>[ [Client Configuration, Microsoft.Azure.Cosmos.Tracing.TraceData.ClientConfigurationTraceDatum] ]</td></tr><tr><td>IsBeingWalked</td><td>True</td></tr></tbody></table></div></details></td></tr><tr><td>Children</td><td><i>(empty)</i></td></tr><tr><td>Data</td><td><i>(empty)</i></td></tr><tr><td>IsBeingWalked</td><td><div class=\"dni-plaintext\"><pre>True</pre></div></td></tr></tbody></table></div></details></td></tr><tr><td>1</td><td><details class=\"dni-treeview\"><summary><span class=\"dni-code-hint\"><code>Microsoft.Azure.Cosmos.Tracing.Trace</code></span></summary><div><table><thead><tr></tr></thead><tbody><tr><td>Name</td><td><div class=\"dni-plaintext\"><pre>Microsoft.Azure.Cosmos.Handlers.RequestInvokerHandler</pre></div></td></tr><tr><td>Id</td><td><div class=\"dni-plaintext\"><pre>e522ab0b-370f-423c-ab73-80f72bae01d9</pre></div></td></tr><tr><td>StartTime</td><td><span>2025-09-16 15:25:14Z</span></td></tr><tr><td>Duration</td><td><span>00:00:00.0107912</span></td></tr><tr><td>Level</td><td><span>Info</span></td></tr><tr><td>Component</td><td><span>RequestHandler</span></td></tr><tr><td>Summary</td><td><details class=\"dni-treeview\"><summary><span class=\"dni-code-hint\"><code>Microsoft.Azure.Cosmos.Tracing.TraceSummary</code></span></summary><div><table><thead><tr></tr></thead><tbody><tr><td>RegionsContacted</td><td>[ (South Central US, https://127.0.0.1:8081/) ]</td></tr></tbody></table></div></details></td></tr><tr><td>Parent</td><td><details class=\"dni-treeview\"><summary><span class=\"dni-code-hint\"><code>Microsoft.Azure.Cosmos.Tracing.Trace</code></span></summary><div><table><thead><tr></tr></thead><tbody><tr><td>Name</td><td>ReplaceItemAsync</td></tr><tr><td>Id</td><td>eee0bc43-c014-4d2c-a3fe-8fd0c5f8d0f1</td></tr><tr><td>StartTime</td><td>9/16/2025 3:25:14 PM</td></tr><tr><td>Duration</td><td>00:00:00.0127522</td></tr><tr><td>Level</td><td>Info</td></tr><tr><td>Component</td><td>Transport</td></tr><tr><td>Summary</td><td>Microsoft.Azure.Cosmos.Tracing.TraceSummary</td></tr><tr><td>Parent</td><td><div class=\"dni-plaintext\"><pre>&lt;null&gt;</pre></div></td></tr><tr><td>Children</td><td>[ Microsoft.Azure.Cosmos.Tracing.Trace, Microsoft.Azure.Cosmos.Tracing.Trace, Microsoft.Azure.Cosmos.Tracing.Trace ]</td></tr><tr><td>Data</td><td>[ [Client Configuration, Microsoft.Azure.Cosmos.Tracing.TraceData.ClientConfigurationTraceDatum] ]</td></tr><tr><td>IsBeingWalked</td><td>True</td></tr></tbody></table></div></details></td></tr><tr><td>Children</td><td><table><thead><tr><th><i>index</i></th><th>value</th></tr></thead><tbody><tr><td>0</td><td>Microsoft.Azure.Cosmos.Tracing.Trace</td></tr></tbody></table></td></tr><tr><td>Data</td><td><i>(empty)</i></td></tr><tr><td>IsBeingWalked</td><td><div class=\"dni-plaintext\"><pre>True</pre></div></td></tr></tbody></table></div></details></td></tr><tr><td>2</td><td><details class=\"dni-treeview\"><summary><span class=\"dni-code-hint\"><code>Microsoft.Azure.Cosmos.Tracing.Trace</code></span></summary><div><table><thead><tr></tr></thead><tbody><tr><td>Name</td><td><div class=\"dni-plaintext\"><pre>Response Serialization</pre></div></td></tr><tr><td>Id</td><td><div class=\"dni-plaintext\"><pre>599dcd0d-2635-4828-9e3b-70ea98e97867</pre></div></td></tr><tr><td>StartTime</td><td><span>2025-09-16 15:25:14Z</span></td></tr><tr><td>Duration</td><td><span>00:00:00.0000835</span></td></tr><tr><td>Level</td><td><span>Verbose</span></td></tr><tr><td>Component</td><td><span>Transport</span></td></tr><tr><td>Summary</td><td><details class=\"dni-treeview\"><summary><span class=\"dni-code-hint\"><code>Microsoft.Azure.Cosmos.Tracing.TraceSummary</code></span></summary><div><table><thead><tr></tr></thead><tbody><tr><td>RegionsContacted</td><td>[ (South Central US, https://127.0.0.1:8081/) ]</td></tr></tbody></table></div></details></td></tr><tr><td>Parent</td><td><details class=\"dni-treeview\"><summary><span class=\"dni-code-hint\"><code>Microsoft.Azure.Cosmos.Tracing.Trace</code></span></summary><div><table><thead><tr></tr></thead><tbody><tr><td>Name</td><td>ReplaceItemAsync</td></tr><tr><td>Id</td><td>eee0bc43-c014-4d2c-a3fe-8fd0c5f8d0f1</td></tr><tr><td>StartTime</td><td>9/16/2025 3:25:14 PM</td></tr><tr><td>Duration</td><td>00:00:00.0127522</td></tr><tr><td>Level</td><td>Info</td></tr><tr><td>Component</td><td>Transport</td></tr><tr><td>Summary</td><td>Microsoft.Azure.Cosmos.Tracing.TraceSummary</td></tr><tr><td>Parent</td><td><div class=\"dni-plaintext\"><pre>&lt;null&gt;</pre></div></td></tr><tr><td>Children</td><td>[ Microsoft.Azure.Cosmos.Tracing.Trace, Microsoft.Azure.Cosmos.Tracing.Trace, Microsoft.Azure.Cosmos.Tracing.Trace ]</td></tr><tr><td>Data</td><td>[ [Client Configuration, Microsoft.Azure.Cosmos.Tracing.TraceData.ClientConfigurationTraceDatum] ]</td></tr><tr><td>IsBeingWalked</td><td>True</td></tr></tbody></table></div></details></td></tr><tr><td>Children</td><td><i>(empty)</i></td></tr><tr><td>Data</td><td><i>(empty)</i></td></tr><tr><td>IsBeingWalked</td><td><div class=\"dni-plaintext\"><pre>True</pre></div></td></tr></tbody></table></div></details></td></tr></tbody></table></td></tr><tr><td>Data</td><td><table><thead><tr><th><i>key</i></th><th>value</th></tr></thead><tbody><tr><td><div class=\"dni-plaintext\"><pre>Client Configuration</pre></div></td><td><details class=\"dni-treeview\"><summary><span class=\"dni-code-hint\"><code>Microsoft.Azure.Cosmos.Tracing.TraceData.ClientConfigurationTraceDatum</code></span></summary><div><table><thead><tr></tr></thead><tbody><tr><td>ClientCreatedDateTimeUtc</td><td><span>2025-09-16 13:53:05Z</span></td></tr><tr><td>GatewayConnectionConfig</td><td><details class=\"dni-treeview\"><summary><span class=\"dni-code-hint\"><code>(cps:50, urto:6, p:False, httpf: False)</code></span></summary><div><table><thead><tr></tr></thead><tbody><tr><td>MaxConnectionLimit</td><td>50</td></tr><tr><td>UserRequestTimeout</td><td>6</td></tr><tr><td>IsWebProxyConfigured</td><td>False</td></tr><tr><td>IsHttpClientFactoryConfigured</td><td>False</td></tr></tbody></table></div></details></td></tr><tr><td>RntbdConnectionConfig</td><td><details class=\"dni-treeview\"><summary><span class=\"dni-code-hint\"><code>(cto: 5, icto: -1, mrpc: 30, mcpe: 65535, erd: True, pr: ReuseUnicastPort)</code></span></summary><div><table><thead><tr></tr></thead><tbody><tr><td>ConnectionTimeout</td><td>5</td></tr><tr><td>IdleConnectionTimeout</td><td>-1</td></tr><tr><td>MaxRequestsPerChannel</td><td>30</td></tr><tr><td>MaxRequestsPerEndpoint</td><td>65535</td></tr><tr><td>TcpEndpointRediscovery</td><td>True</td></tr><tr><td>PortReuseMode</td><td>ReuseUnicastPort</td></tr></tbody></table></div></details></td></tr><tr><td>OtherConnectionConfig</td><td><details class=\"dni-treeview\"><summary><span class=\"dni-code-hint\"><code>(ed:False, be:False)</code></span></summary><div><table><thead><tr></tr></thead><tbody><tr><td>LimitToEndpoint</td><td>False</td></tr><tr><td>AllowBulkExecution</td><td>False</td></tr></tbody></table></div></details></td></tr><tr><td>ConsistencyConfig</td><td><details class=\"dni-treeview\"><summary><span class=\"dni-code-hint\"><code>(consistency: NotSet, prgns:[], apprgn: )</code></span></summary><div><table><thead><tr></tr></thead><tbody><tr><td>ConsistencyLevel</td><td><div class=\"dni-plaintext\"><pre>&lt;null&gt;</pre></div></td></tr><tr><td>PreferredRegions</td><td><div class=\"dni-plaintext\"><pre>&lt;null&gt;</pre></div></td></tr><tr><td>ApplicationRegion</td><td><div class=\"dni-plaintext\"><pre>&lt;null&gt;</pre></div></td></tr></tbody></table></div></details></td></tr><tr><td>ProcessorCount</td><td><div class=\"dni-plaintext\"><pre>16</pre></div></td></tr><tr><td>ConnectionMode</td><td><span>Direct</span></td></tr><tr><td>SerializedJson</td><td>[ 123, 34, 67, 108, 105, 101, 110, 116, 32, 67, 114, 101, 97, 116, 101, 100, 32, 84, 105, 109 ... (548 more) ]</td></tr></tbody></table></div></details></td></tr></tbody></table></td></tr><tr><td>IsBeingWalked</td><td><div class=\"dni-plaintext\"><pre>True</pre></div></td></tr></tbody></table></div></details></td></tr></tbody></table></div></details></td></tr><tr><td>RequestCharge</td><td><div class=\"dni-plaintext\"><pre>10.67</pre></div></td></tr><tr><td>ActivityId</td><td><div class=\"dni-plaintext\"><pre>1bfdb4b7-ee41-429f-b698-d9169d2a9312</pre></div></td></tr><tr><td>ETag</td><td><div class=\"dni-plaintext\"><pre>&quot;00000000-0000-0000-271e-194fb33f01dc&quot;</pre></div></td></tr></tbody></table></div></details><style>\r\n",
       ".dni-code-hint {\r\n",
       "    font-style: italic;\r\n",
       "    overflow: hidden;\r\n",
       "    white-space: nowrap;\r\n",
       "}\r\n",
       ".dni-treeview {\r\n",
       "    white-space: nowrap;\r\n",
       "}\r\n",
       ".dni-treeview td {\r\n",
       "    vertical-align: top;\r\n",
       "    text-align: start;\r\n",
       "}\r\n",
       "details.dni-treeview {\r\n",
       "    padding-left: 1em;\r\n",
       "}\r\n",
       "table td {\r\n",
       "    text-align: start;\r\n",
       "}\r\n",
       "table tr { \r\n",
       "    vertical-align: top; \r\n",
       "    margin: 0em 0px;\r\n",
       "}\r\n",
       "table tr td pre \r\n",
       "{ \r\n",
       "    vertical-align: top !important; \r\n",
       "    margin: 0em 0px !important;\r\n",
       "} \r\n",
       "table th {\r\n",
       "    text-align: start;\r\n",
       "}\r\n",
       "</style>"
      ]
     },
     "metadata": {},
     "output_type": "display_data"
    }
   ],
   "source": [
    "item.Resource.Desciption = \"Updated\";\n",
    "var updated = await productContainer.ReplaceItemAsync(item.Resource, item.Resource.id, new PartitionKey(1)); \n",
    "updated.Display();\n"
   ]
  },
  {
   "cell_type": "code",
   "execution_count": 11,
   "id": "0af377d8",
   "metadata": {
    "language_info": {
     "name": "polyglot-notebook"
    },
    "polyglot_notebook": {
     "kernelName": "csharp"
    }
   },
   "outputs": [
    {
     "data": {
      "text/html": [
       "<details open=\"open\" class=\"dni-treeview\"><summary><span class=\"dni-code-hint\"><code>Microsoft.Azure.Cosmos.ItemResponse`1[Submission#3+Product]</code></span></summary><div><table><thead><tr></tr></thead><tbody><tr><td>Headers</td><td><details class=\"dni-treeview\"><summary><span class=\"dni-code-hint\"><code>[ x-ms-activity-id, x-ms-last-state-change-utc, etag, x-ms-resource-quota, x-ms-resource-usage, x-ms-schemaversion, lsn, x-ms-request-charge, x-ms-alt-content-path, x-ms-content-path, x-ms-quorum-acked-lsn, x-ms-current-write-quorum, x-ms-current-replica-set-size, x-ms-documentdb-partitionkeyrangeid, x-ms-xp-role, x-ms-global-Committed-lsn, x-ms-number-of-read-regions, x-ms-transport-request-id, x-ms-cosmos-llsn, x-ms-cosmos-quorum-acked-llsn ... (more) ]</code></span></summary><div><table><thead><tr></tr></thead><tbody><tr><td>ContinuationToken</td><td><div class=\"dni-plaintext\"><pre>&lt;null&gt;</pre></div></td></tr><tr><td>RequestCharge</td><td><div class=\"dni-plaintext\"><pre>10.79</pre></div></td></tr><tr><td>ActivityId</td><td><div class=\"dni-plaintext\"><pre>056175bb-ed92-4349-977b-0d9005fb6382</pre></div></td></tr><tr><td>ETag</td><td><div class=\"dni-plaintext\"><pre>&quot;00000000-0000-0000-271e-1f05192101dc&quot;</pre></div></td></tr><tr><td>ContentType</td><td><div class=\"dni-plaintext\"><pre>&lt;null&gt;</pre></div></td></tr><tr><td>Session</td><td><div class=\"dni-plaintext\"><pre>0:-1#12</pre></div></td></tr><tr><td>ContentLength</td><td><div class=\"dni-plaintext\"><pre>&lt;null&gt;</pre></div></td></tr><tr><td>Location</td><td><div class=\"dni-plaintext\"><pre>&lt;null&gt;</pre></div></td></tr><tr><td><i>(values)</i></td><td><table><thead><tr><th><i>index</i></th><th>value</th></tr></thead><tbody><tr><td>0</td><td><div class=\"dni-plaintext\"><pre>x-ms-activity-id</pre></div></td></tr><tr><td>1</td><td><div class=\"dni-plaintext\"><pre>x-ms-last-state-change-utc</pre></div></td></tr><tr><td>2</td><td><div class=\"dni-plaintext\"><pre>etag</pre></div></td></tr><tr><td>3</td><td><div class=\"dni-plaintext\"><pre>x-ms-resource-quota</pre></div></td></tr><tr><td>4</td><td><div class=\"dni-plaintext\"><pre>x-ms-resource-usage</pre></div></td></tr><tr><td>5</td><td><div class=\"dni-plaintext\"><pre>x-ms-schemaversion</pre></div></td></tr><tr><td>6</td><td><div class=\"dni-plaintext\"><pre>lsn</pre></div></td></tr><tr><td>7</td><td><div class=\"dni-plaintext\"><pre>x-ms-request-charge</pre></div></td></tr><tr><td>8</td><td><div class=\"dni-plaintext\"><pre>x-ms-alt-content-path</pre></div></td></tr><tr><td>9</td><td><div class=\"dni-plaintext\"><pre>x-ms-content-path</pre></div></td></tr><tr><td>10</td><td><div class=\"dni-plaintext\"><pre>x-ms-quorum-acked-lsn</pre></div></td></tr><tr><td>11</td><td><div class=\"dni-plaintext\"><pre>x-ms-current-write-quorum</pre></div></td></tr><tr><td>12</td><td><div class=\"dni-plaintext\"><pre>x-ms-current-replica-set-size</pre></div></td></tr><tr><td>13</td><td><div class=\"dni-plaintext\"><pre>x-ms-documentdb-partitionkeyrangeid</pre></div></td></tr><tr><td>14</td><td><div class=\"dni-plaintext\"><pre>x-ms-xp-role</pre></div></td></tr><tr><td>15</td><td><div class=\"dni-plaintext\"><pre>x-ms-global-Committed-lsn</pre></div></td></tr><tr><td>16</td><td><div class=\"dni-plaintext\"><pre>x-ms-number-of-read-regions</pre></div></td></tr><tr><td>17</td><td><div class=\"dni-plaintext\"><pre>x-ms-transport-request-id</pre></div></td></tr><tr><td>18</td><td><div class=\"dni-plaintext\"><pre>x-ms-cosmos-llsn</pre></div></td></tr><tr><td>19</td><td><div class=\"dni-plaintext\"><pre>x-ms-cosmos-quorum-acked-llsn</pre></div></td></tr><tr><td colspan=\"2\"><i>... (more)</i></td></tr></tbody></table></td></tr></tbody></table></div></details></td></tr><tr><td>Resource</td><td><details class=\"dni-treeview\"><summary><span class=\"dni-code-hint\"><code>Submission#3+Product</code></span></summary><div><table><thead><tr></tr></thead><tbody><tr><td>id</td><td><div class=\"dni-plaintext\"><pre>f61a1523-9d3a-4532-87d5-19e207215c13</pre></div></td></tr><tr><td>ProductId</td><td><div class=\"dni-plaintext\"><pre>1</pre></div></td></tr><tr><td>Name</td><td><div class=\"dni-plaintext\"><pre>Sample Product Updated</pre></div></td></tr><tr><td>Desciption</td><td><div class=\"dni-plaintext\"><pre>Updated</pre></div></td></tr><tr><td>categoryid</td><td><div class=\"dni-plaintext\"><pre>1</pre></div></td></tr><tr><td>CategoryName</td><td><div class=\"dni-plaintext\"><pre>Category 1</pre></div></td></tr><tr><td>Price</td><td><div class=\"dni-plaintext\"><pre>19.99</pre></div></td></tr><tr><td>InStock</td><td><div class=\"dni-plaintext\"><pre>True</pre></div></td></tr><tr><td>ImageUrls</td><td><div class=\"dni-plaintext\"><pre>[ http://example.com/image1.jpg, http://example.com/image2.jpg ]</pre></div></td></tr></tbody></table></div></details></td></tr><tr><td>StatusCode</td><td><span>OK</span></td></tr><tr><td>Diagnostics</td><td><details class=\"dni-treeview\"><summary><span class=\"dni-code-hint\"><code>{&quot;Summary&quot;:{&quot;DirectCalls&quot;:{&quot;(200, 0)&quot;:1}},&quot;name&quot;:&quot;PatchItemAsync&quot;,&quot;start datetime&quot;:&quot;2025-09-16T15:25:23.700Z&quot;,&quot;duration in milliseconds&quot;:31.3576,&quot;data&quot;:{&quot;Client Configuration&quot;:{&quot;Client Created Time Utc&quot;:&quot;2025-09-16T13:53:05.2194139Z&quot;,&quot;MachineId&quot;:&quot;hashedMachineName:854b5717-0c71-e584-b8c5-e106e5718df...</code></span></summary><div><table><thead><tr></tr></thead><tbody><tr><td>Value</td><td><details class=\"dni-treeview\"><summary><span class=\"dni-code-hint\"><code>Microsoft.Azure.Cosmos.Tracing.Trace</code></span></summary><div><table><thead><tr></tr></thead><tbody><tr><td>Name</td><td><div class=\"dni-plaintext\"><pre>PatchItemAsync</pre></div></td></tr><tr><td>Id</td><td><div class=\"dni-plaintext\"><pre>7471cae8-bb69-41f9-b655-6903d3b60db6</pre></div></td></tr><tr><td>StartTime</td><td><span>2025-09-16 15:25:23Z</span></td></tr><tr><td>Duration</td><td><span>00:00:00.0313576</span></td></tr><tr><td>Level</td><td><span>Info</span></td></tr><tr><td>Component</td><td><span>Transport</span></td></tr><tr><td>Summary</td><td><details class=\"dni-treeview\"><summary><span class=\"dni-code-hint\"><code>Microsoft.Azure.Cosmos.Tracing.TraceSummary</code></span></summary><div><table><thead><tr></tr></thead><tbody><tr><td>RegionsContacted</td><td><table><thead><tr><th><i>index</i></th><th>value</th></tr></thead><tbody><tr><td>0</td><td><details class=\"dni-treeview\"><summary><span class=\"dni-code-hint\"><code>(South Central US, https://127.0.0.1:8081/)</code></span></summary><div><table><thead><tr></tr></thead><tbody><tr><td>Item1</td><td>South Central US</td></tr><tr><td>Item2</td><td>https://127.0.0.1:8081/</td></tr></tbody></table></div></details></td></tr></tbody></table></td></tr></tbody></table></div></details></td></tr><tr><td>Parent</td><td><div class=\"dni-plaintext\"><pre>&lt;null&gt;</pre></div></td></tr><tr><td>Children</td><td><table><thead><tr><th><i>index</i></th><th>value</th></tr></thead><tbody><tr><td>0</td><td><details class=\"dni-treeview\"><summary><span class=\"dni-code-hint\"><code>Microsoft.Azure.Cosmos.Tracing.Trace</code></span></summary><div><table><thead><tr></tr></thead><tbody><tr><td>Name</td><td><div class=\"dni-plaintext\"><pre>Patch Operations Serialize</pre></div></td></tr><tr><td>Id</td><td><div class=\"dni-plaintext\"><pre>fd6ede5f-bab9-408e-877a-e3d37d00e589</pre></div></td></tr><tr><td>StartTime</td><td><span>2025-09-16 15:25:23Z</span></td></tr><tr><td>Duration</td><td><span>00:00:00.0034884</span></td></tr><tr><td>Level</td><td><span>Verbose</span></td></tr><tr><td>Component</td><td><span>Transport</span></td></tr><tr><td>Summary</td><td><details class=\"dni-treeview\"><summary><span class=\"dni-code-hint\"><code>Microsoft.Azure.Cosmos.Tracing.TraceSummary</code></span></summary><div><table><thead><tr></tr></thead><tbody><tr><td>RegionsContacted</td><td>[ (South Central US, https://127.0.0.1:8081/) ]</td></tr></tbody></table></div></details></td></tr><tr><td>Parent</td><td><details class=\"dni-treeview\"><summary><span class=\"dni-code-hint\"><code>Microsoft.Azure.Cosmos.Tracing.Trace</code></span></summary><div><table><thead><tr></tr></thead><tbody><tr><td>Name</td><td>PatchItemAsync</td></tr><tr><td>Id</td><td>7471cae8-bb69-41f9-b655-6903d3b60db6</td></tr><tr><td>StartTime</td><td>9/16/2025 3:25:23 PM</td></tr><tr><td>Duration</td><td>00:00:00.0313576</td></tr><tr><td>Level</td><td>Info</td></tr><tr><td>Component</td><td>Transport</td></tr><tr><td>Summary</td><td>Microsoft.Azure.Cosmos.Tracing.TraceSummary</td></tr><tr><td>Parent</td><td><div class=\"dni-plaintext\"><pre>&lt;null&gt;</pre></div></td></tr><tr><td>Children</td><td>[ Microsoft.Azure.Cosmos.Tracing.Trace, Microsoft.Azure.Cosmos.Tracing.Trace, Microsoft.Azure.Cosmos.Tracing.Trace ]</td></tr><tr><td>Data</td><td>[ [Client Configuration, Microsoft.Azure.Cosmos.Tracing.TraceData.ClientConfigurationTraceDatum] ]</td></tr><tr><td>IsBeingWalked</td><td>True</td></tr></tbody></table></div></details></td></tr><tr><td>Children</td><td><i>(empty)</i></td></tr><tr><td>Data</td><td><i>(empty)</i></td></tr><tr><td>IsBeingWalked</td><td><div class=\"dni-plaintext\"><pre>True</pre></div></td></tr></tbody></table></div></details></td></tr><tr><td>1</td><td><details class=\"dni-treeview\"><summary><span class=\"dni-code-hint\"><code>Microsoft.Azure.Cosmos.Tracing.Trace</code></span></summary><div><table><thead><tr></tr></thead><tbody><tr><td>Name</td><td><div class=\"dni-plaintext\"><pre>Microsoft.Azure.Cosmos.Handlers.RequestInvokerHandler</pre></div></td></tr><tr><td>Id</td><td><div class=\"dni-plaintext\"><pre>436fd073-d69c-4489-ada1-b86467e9fe12</pre></div></td></tr><tr><td>StartTime</td><td><span>2025-09-16 15:25:23Z</span></td></tr><tr><td>Duration</td><td><span>00:00:00.0258458</span></td></tr><tr><td>Level</td><td><span>Info</span></td></tr><tr><td>Component</td><td><span>RequestHandler</span></td></tr><tr><td>Summary</td><td><details class=\"dni-treeview\"><summary><span class=\"dni-code-hint\"><code>Microsoft.Azure.Cosmos.Tracing.TraceSummary</code></span></summary><div><table><thead><tr></tr></thead><tbody><tr><td>RegionsContacted</td><td>[ (South Central US, https://127.0.0.1:8081/) ]</td></tr></tbody></table></div></details></td></tr><tr><td>Parent</td><td><details class=\"dni-treeview\"><summary><span class=\"dni-code-hint\"><code>Microsoft.Azure.Cosmos.Tracing.Trace</code></span></summary><div><table><thead><tr></tr></thead><tbody><tr><td>Name</td><td>PatchItemAsync</td></tr><tr><td>Id</td><td>7471cae8-bb69-41f9-b655-6903d3b60db6</td></tr><tr><td>StartTime</td><td>9/16/2025 3:25:23 PM</td></tr><tr><td>Duration</td><td>00:00:00.0313576</td></tr><tr><td>Level</td><td>Info</td></tr><tr><td>Component</td><td>Transport</td></tr><tr><td>Summary</td><td>Microsoft.Azure.Cosmos.Tracing.TraceSummary</td></tr><tr><td>Parent</td><td><div class=\"dni-plaintext\"><pre>&lt;null&gt;</pre></div></td></tr><tr><td>Children</td><td>[ Microsoft.Azure.Cosmos.Tracing.Trace, Microsoft.Azure.Cosmos.Tracing.Trace, Microsoft.Azure.Cosmos.Tracing.Trace ]</td></tr><tr><td>Data</td><td>[ [Client Configuration, Microsoft.Azure.Cosmos.Tracing.TraceData.ClientConfigurationTraceDatum] ]</td></tr><tr><td>IsBeingWalked</td><td>True</td></tr></tbody></table></div></details></td></tr><tr><td>Children</td><td><table><thead><tr><th><i>index</i></th><th>value</th></tr></thead><tbody><tr><td>0</td><td>Microsoft.Azure.Cosmos.Tracing.Trace</td></tr></tbody></table></td></tr><tr><td>Data</td><td><i>(empty)</i></td></tr><tr><td>IsBeingWalked</td><td><div class=\"dni-plaintext\"><pre>True</pre></div></td></tr></tbody></table></div></details></td></tr><tr><td>2</td><td><details class=\"dni-treeview\"><summary><span class=\"dni-code-hint\"><code>Microsoft.Azure.Cosmos.Tracing.Trace</code></span></summary><div><table><thead><tr></tr></thead><tbody><tr><td>Name</td><td><div class=\"dni-plaintext\"><pre>Response Serialization</pre></div></td></tr><tr><td>Id</td><td><div class=\"dni-plaintext\"><pre>32d07bdd-7597-44aa-9cfa-35095d715838</pre></div></td></tr><tr><td>StartTime</td><td><span>2025-09-16 15:25:23Z</span></td></tr><tr><td>Duration</td><td><span>00:00:00.0000763</span></td></tr><tr><td>Level</td><td><span>Verbose</span></td></tr><tr><td>Component</td><td><span>Transport</span></td></tr><tr><td>Summary</td><td><details class=\"dni-treeview\"><summary><span class=\"dni-code-hint\"><code>Microsoft.Azure.Cosmos.Tracing.TraceSummary</code></span></summary><div><table><thead><tr></tr></thead><tbody><tr><td>RegionsContacted</td><td>[ (South Central US, https://127.0.0.1:8081/) ]</td></tr></tbody></table></div></details></td></tr><tr><td>Parent</td><td><details class=\"dni-treeview\"><summary><span class=\"dni-code-hint\"><code>Microsoft.Azure.Cosmos.Tracing.Trace</code></span></summary><div><table><thead><tr></tr></thead><tbody><tr><td>Name</td><td>PatchItemAsync</td></tr><tr><td>Id</td><td>7471cae8-bb69-41f9-b655-6903d3b60db6</td></tr><tr><td>StartTime</td><td>9/16/2025 3:25:23 PM</td></tr><tr><td>Duration</td><td>00:00:00.0313576</td></tr><tr><td>Level</td><td>Info</td></tr><tr><td>Component</td><td>Transport</td></tr><tr><td>Summary</td><td>Microsoft.Azure.Cosmos.Tracing.TraceSummary</td></tr><tr><td>Parent</td><td><div class=\"dni-plaintext\"><pre>&lt;null&gt;</pre></div></td></tr><tr><td>Children</td><td>[ Microsoft.Azure.Cosmos.Tracing.Trace, Microsoft.Azure.Cosmos.Tracing.Trace, Microsoft.Azure.Cosmos.Tracing.Trace ]</td></tr><tr><td>Data</td><td>[ [Client Configuration, Microsoft.Azure.Cosmos.Tracing.TraceData.ClientConfigurationTraceDatum] ]</td></tr><tr><td>IsBeingWalked</td><td>True</td></tr></tbody></table></div></details></td></tr><tr><td>Children</td><td><i>(empty)</i></td></tr><tr><td>Data</td><td><i>(empty)</i></td></tr><tr><td>IsBeingWalked</td><td><div class=\"dni-plaintext\"><pre>True</pre></div></td></tr></tbody></table></div></details></td></tr></tbody></table></td></tr><tr><td>Data</td><td><table><thead><tr><th><i>key</i></th><th>value</th></tr></thead><tbody><tr><td><div class=\"dni-plaintext\"><pre>Client Configuration</pre></div></td><td><details class=\"dni-treeview\"><summary><span class=\"dni-code-hint\"><code>Microsoft.Azure.Cosmos.Tracing.TraceData.ClientConfigurationTraceDatum</code></span></summary><div><table><thead><tr></tr></thead><tbody><tr><td>ClientCreatedDateTimeUtc</td><td><span>2025-09-16 13:53:05Z</span></td></tr><tr><td>GatewayConnectionConfig</td><td><details class=\"dni-treeview\"><summary><span class=\"dni-code-hint\"><code>(cps:50, urto:6, p:False, httpf: False)</code></span></summary><div><table><thead><tr></tr></thead><tbody><tr><td>MaxConnectionLimit</td><td>50</td></tr><tr><td>UserRequestTimeout</td><td>6</td></tr><tr><td>IsWebProxyConfigured</td><td>False</td></tr><tr><td>IsHttpClientFactoryConfigured</td><td>False</td></tr></tbody></table></div></details></td></tr><tr><td>RntbdConnectionConfig</td><td><details class=\"dni-treeview\"><summary><span class=\"dni-code-hint\"><code>(cto: 5, icto: -1, mrpc: 30, mcpe: 65535, erd: True, pr: ReuseUnicastPort)</code></span></summary><div><table><thead><tr></tr></thead><tbody><tr><td>ConnectionTimeout</td><td>5</td></tr><tr><td>IdleConnectionTimeout</td><td>-1</td></tr><tr><td>MaxRequestsPerChannel</td><td>30</td></tr><tr><td>MaxRequestsPerEndpoint</td><td>65535</td></tr><tr><td>TcpEndpointRediscovery</td><td>True</td></tr><tr><td>PortReuseMode</td><td>ReuseUnicastPort</td></tr></tbody></table></div></details></td></tr><tr><td>OtherConnectionConfig</td><td><details class=\"dni-treeview\"><summary><span class=\"dni-code-hint\"><code>(ed:False, be:False)</code></span></summary><div><table><thead><tr></tr></thead><tbody><tr><td>LimitToEndpoint</td><td>False</td></tr><tr><td>AllowBulkExecution</td><td>False</td></tr></tbody></table></div></details></td></tr><tr><td>ConsistencyConfig</td><td><details class=\"dni-treeview\"><summary><span class=\"dni-code-hint\"><code>(consistency: NotSet, prgns:[], apprgn: )</code></span></summary><div><table><thead><tr></tr></thead><tbody><tr><td>ConsistencyLevel</td><td><div class=\"dni-plaintext\"><pre>&lt;null&gt;</pre></div></td></tr><tr><td>PreferredRegions</td><td><div class=\"dni-plaintext\"><pre>&lt;null&gt;</pre></div></td></tr><tr><td>ApplicationRegion</td><td><div class=\"dni-plaintext\"><pre>&lt;null&gt;</pre></div></td></tr></tbody></table></div></details></td></tr><tr><td>ProcessorCount</td><td><div class=\"dni-plaintext\"><pre>16</pre></div></td></tr><tr><td>ConnectionMode</td><td><span>Direct</span></td></tr><tr><td>SerializedJson</td><td>[ 123, 34, 67, 108, 105, 101, 110, 116, 32, 67, 114, 101, 97, 116, 101, 100, 32, 84, 105, 109 ... (548 more) ]</td></tr></tbody></table></div></details></td></tr></tbody></table></td></tr><tr><td>IsBeingWalked</td><td><div class=\"dni-plaintext\"><pre>True</pre></div></td></tr></tbody></table></div></details></td></tr></tbody></table></div></details></td></tr><tr><td>RequestCharge</td><td><div class=\"dni-plaintext\"><pre>10.79</pre></div></td></tr><tr><td>ActivityId</td><td><div class=\"dni-plaintext\"><pre>056175bb-ed92-4349-977b-0d9005fb6382</pre></div></td></tr><tr><td>ETag</td><td><div class=\"dni-plaintext\"><pre>&quot;00000000-0000-0000-271e-1f05192101dc&quot;</pre></div></td></tr></tbody></table></div></details><style>\r\n",
       ".dni-code-hint {\r\n",
       "    font-style: italic;\r\n",
       "    overflow: hidden;\r\n",
       "    white-space: nowrap;\r\n",
       "}\r\n",
       ".dni-treeview {\r\n",
       "    white-space: nowrap;\r\n",
       "}\r\n",
       ".dni-treeview td {\r\n",
       "    vertical-align: top;\r\n",
       "    text-align: start;\r\n",
       "}\r\n",
       "details.dni-treeview {\r\n",
       "    padding-left: 1em;\r\n",
       "}\r\n",
       "table td {\r\n",
       "    text-align: start;\r\n",
       "}\r\n",
       "table tr { \r\n",
       "    vertical-align: top; \r\n",
       "    margin: 0em 0px;\r\n",
       "}\r\n",
       "table tr td pre \r\n",
       "{ \r\n",
       "    vertical-align: top !important; \r\n",
       "    margin: 0em 0px !important;\r\n",
       "} \r\n",
       "table th {\r\n",
       "    text-align: start;\r\n",
       "}\r\n",
       "</style>"
      ]
     },
     "metadata": {},
     "output_type": "display_data"
    }
   ],
   "source": [
    "var updated2 = await productContainer.PatchItemAsync<Product>(item.Resource.id, new PartitionKey(1), new[] { PatchOperation.Replace(\"/Name\", \"Sample Product Updated\") });\n",
    "updated2.Display()"
   ]
  },
  {
   "cell_type": "code",
   "execution_count": 12,
   "id": "d25a469c",
   "metadata": {
    "language_info": {
     "name": "polyglot-notebook"
    },
    "polyglot_notebook": {
     "kernelName": "csharp"
    }
   },
   "outputs": [
    {
     "data": {
      "text/html": [
       "<details open=\"open\" class=\"dni-treeview\"><summary><span class=\"dni-code-hint\"><code>Microsoft.Azure.Cosmos.ItemResponse`1[Submission#3+Product]</code></span></summary><div><table><thead><tr></tr></thead><tbody><tr><td>Headers</td><td><details class=\"dni-treeview\"><summary><span class=\"dni-code-hint\"><code>[ x-ms-activity-id, x-ms-last-state-change-utc, x-ms-resource-quota, x-ms-resource-usage, x-ms-schemaversion, lsn, x-ms-request-charge, x-ms-alt-content-path, x-ms-content-path, x-ms-quorum-acked-lsn, x-ms-current-write-quorum, x-ms-current-replica-set-size, x-ms-documentdb-partitionkeyrangeid, x-ms-xp-role, x-ms-global-Committed-lsn, x-ms-number-of-read-regions, x-ms-transport-request-id, x-ms-cosmos-llsn, x-ms-cosmos-quorum-acked-llsn, x-ms-session-token ... (more) ]</code></span></summary><div><table><thead><tr></tr></thead><tbody><tr><td>ContinuationToken</td><td><div class=\"dni-plaintext\"><pre>&lt;null&gt;</pre></div></td></tr><tr><td>RequestCharge</td><td><div class=\"dni-plaintext\"><pre>8.95</pre></div></td></tr><tr><td>ActivityId</td><td><div class=\"dni-plaintext\"><pre>d18d42c7-b85d-41ee-917b-35b9e019f468</pre></div></td></tr><tr><td>ETag</td><td><div class=\"dni-plaintext\"><pre>&lt;null&gt;</pre></div></td></tr><tr><td>ContentType</td><td><div class=\"dni-plaintext\"><pre>&lt;null&gt;</pre></div></td></tr><tr><td>Session</td><td><div class=\"dni-plaintext\"><pre>0:-1#13</pre></div></td></tr><tr><td>ContentLength</td><td><div class=\"dni-plaintext\"><pre>&lt;null&gt;</pre></div></td></tr><tr><td>Location</td><td><div class=\"dni-plaintext\"><pre>&lt;null&gt;</pre></div></td></tr><tr><td><i>(values)</i></td><td><table><thead><tr><th><i>index</i></th><th>value</th></tr></thead><tbody><tr><td>0</td><td><div class=\"dni-plaintext\"><pre>x-ms-activity-id</pre></div></td></tr><tr><td>1</td><td><div class=\"dni-plaintext\"><pre>x-ms-last-state-change-utc</pre></div></td></tr><tr><td>2</td><td><div class=\"dni-plaintext\"><pre>x-ms-resource-quota</pre></div></td></tr><tr><td>3</td><td><div class=\"dni-plaintext\"><pre>x-ms-resource-usage</pre></div></td></tr><tr><td>4</td><td><div class=\"dni-plaintext\"><pre>x-ms-schemaversion</pre></div></td></tr><tr><td>5</td><td><div class=\"dni-plaintext\"><pre>lsn</pre></div></td></tr><tr><td>6</td><td><div class=\"dni-plaintext\"><pre>x-ms-request-charge</pre></div></td></tr><tr><td>7</td><td><div class=\"dni-plaintext\"><pre>x-ms-alt-content-path</pre></div></td></tr><tr><td>8</td><td><div class=\"dni-plaintext\"><pre>x-ms-content-path</pre></div></td></tr><tr><td>9</td><td><div class=\"dni-plaintext\"><pre>x-ms-quorum-acked-lsn</pre></div></td></tr><tr><td>10</td><td><div class=\"dni-plaintext\"><pre>x-ms-current-write-quorum</pre></div></td></tr><tr><td>11</td><td><div class=\"dni-plaintext\"><pre>x-ms-current-replica-set-size</pre></div></td></tr><tr><td>12</td><td><div class=\"dni-plaintext\"><pre>x-ms-documentdb-partitionkeyrangeid</pre></div></td></tr><tr><td>13</td><td><div class=\"dni-plaintext\"><pre>x-ms-xp-role</pre></div></td></tr><tr><td>14</td><td><div class=\"dni-plaintext\"><pre>x-ms-global-Committed-lsn</pre></div></td></tr><tr><td>15</td><td><div class=\"dni-plaintext\"><pre>x-ms-number-of-read-regions</pre></div></td></tr><tr><td>16</td><td><div class=\"dni-plaintext\"><pre>x-ms-transport-request-id</pre></div></td></tr><tr><td>17</td><td><div class=\"dni-plaintext\"><pre>x-ms-cosmos-llsn</pre></div></td></tr><tr><td>18</td><td><div class=\"dni-plaintext\"><pre>x-ms-cosmos-quorum-acked-llsn</pre></div></td></tr><tr><td>19</td><td><div class=\"dni-plaintext\"><pre>x-ms-session-token</pre></div></td></tr><tr><td colspan=\"2\"><i>... (more)</i></td></tr></tbody></table></td></tr></tbody></table></div></details></td></tr><tr><td>Resource</td><td><div class=\"dni-plaintext\"><pre>&lt;null&gt;</pre></div></td></tr><tr><td>StatusCode</td><td><span>NoContent</span></td></tr><tr><td>Diagnostics</td><td><details class=\"dni-treeview\"><summary><span class=\"dni-code-hint\"><code>{&quot;Summary&quot;:{&quot;DirectCalls&quot;:{&quot;(204, 0)&quot;:1}},&quot;name&quot;:&quot;DeleteItemAsync&quot;,&quot;start datetime&quot;:&quot;2025-09-16T15:25:29.771Z&quot;,&quot;duration in milliseconds&quot;:28.4617,&quot;data&quot;:{&quot;Client Configuration&quot;:{&quot;Client Created Time Utc&quot;:&quot;2025-09-16T13:53:05.2194139Z&quot;,&quot;MachineId&quot;:&quot;hashedMachineName:854b5717-0c71-e584-b8c5-e106e5718d...</code></span></summary><div><table><thead><tr></tr></thead><tbody><tr><td>Value</td><td><details class=\"dni-treeview\"><summary><span class=\"dni-code-hint\"><code>Microsoft.Azure.Cosmos.Tracing.Trace</code></span></summary><div><table><thead><tr></tr></thead><tbody><tr><td>Name</td><td><div class=\"dni-plaintext\"><pre>DeleteItemAsync</pre></div></td></tr><tr><td>Id</td><td><div class=\"dni-plaintext\"><pre>f427eb8d-abb4-4d7a-a452-20c9b29d9f7c</pre></div></td></tr><tr><td>StartTime</td><td><span>2025-09-16 15:25:29Z</span></td></tr><tr><td>Duration</td><td><span>00:00:00.0284617</span></td></tr><tr><td>Level</td><td><span>Info</span></td></tr><tr><td>Component</td><td><span>Transport</span></td></tr><tr><td>Summary</td><td><details class=\"dni-treeview\"><summary><span class=\"dni-code-hint\"><code>Microsoft.Azure.Cosmos.Tracing.TraceSummary</code></span></summary><div><table><thead><tr></tr></thead><tbody><tr><td>RegionsContacted</td><td><table><thead><tr><th><i>index</i></th><th>value</th></tr></thead><tbody><tr><td>0</td><td><details class=\"dni-treeview\"><summary><span class=\"dni-code-hint\"><code>(South Central US, https://127.0.0.1:8081/)</code></span></summary><div><table><thead><tr></tr></thead><tbody><tr><td>Item1</td><td>South Central US</td></tr><tr><td>Item2</td><td>https://127.0.0.1:8081/</td></tr></tbody></table></div></details></td></tr></tbody></table></td></tr></tbody></table></div></details></td></tr><tr><td>Parent</td><td><div class=\"dni-plaintext\"><pre>&lt;null&gt;</pre></div></td></tr><tr><td>Children</td><td><table><thead><tr><th><i>index</i></th><th>value</th></tr></thead><tbody><tr><td>0</td><td><details class=\"dni-treeview\"><summary><span class=\"dni-code-hint\"><code>Microsoft.Azure.Cosmos.Tracing.Trace</code></span></summary><div><table><thead><tr></tr></thead><tbody><tr><td>Name</td><td><div class=\"dni-plaintext\"><pre>Microsoft.Azure.Cosmos.Handlers.RequestInvokerHandler</pre></div></td></tr><tr><td>Id</td><td><div class=\"dni-plaintext\"><pre>072cf3d2-1629-4ed0-9645-1dd974f6b4b1</pre></div></td></tr><tr><td>StartTime</td><td><span>2025-09-16 15:25:29Z</span></td></tr><tr><td>Duration</td><td><span>00:00:00.0269066</span></td></tr><tr><td>Level</td><td><span>Info</span></td></tr><tr><td>Component</td><td><span>RequestHandler</span></td></tr><tr><td>Summary</td><td><details class=\"dni-treeview\"><summary><span class=\"dni-code-hint\"><code>Microsoft.Azure.Cosmos.Tracing.TraceSummary</code></span></summary><div><table><thead><tr></tr></thead><tbody><tr><td>RegionsContacted</td><td>[ (South Central US, https://127.0.0.1:8081/) ]</td></tr></tbody></table></div></details></td></tr><tr><td>Parent</td><td><details class=\"dni-treeview\"><summary><span class=\"dni-code-hint\"><code>Microsoft.Azure.Cosmos.Tracing.Trace</code></span></summary><div><table><thead><tr></tr></thead><tbody><tr><td>Name</td><td>DeleteItemAsync</td></tr><tr><td>Id</td><td>f427eb8d-abb4-4d7a-a452-20c9b29d9f7c</td></tr><tr><td>StartTime</td><td>9/16/2025 3:25:29 PM</td></tr><tr><td>Duration</td><td>00:00:00.0284617</td></tr><tr><td>Level</td><td>Info</td></tr><tr><td>Component</td><td>Transport</td></tr><tr><td>Summary</td><td>Microsoft.Azure.Cosmos.Tracing.TraceSummary</td></tr><tr><td>Parent</td><td><div class=\"dni-plaintext\"><pre>&lt;null&gt;</pre></div></td></tr><tr><td>Children</td><td>[ Microsoft.Azure.Cosmos.Tracing.Trace, Microsoft.Azure.Cosmos.Tracing.Trace ]</td></tr><tr><td>Data</td><td>[ [Client Configuration, Microsoft.Azure.Cosmos.Tracing.TraceData.ClientConfigurationTraceDatum] ]</td></tr><tr><td>IsBeingWalked</td><td>True</td></tr></tbody></table></div></details></td></tr><tr><td>Children</td><td><table><thead><tr><th><i>index</i></th><th>value</th></tr></thead><tbody><tr><td>0</td><td>Microsoft.Azure.Cosmos.Tracing.Trace</td></tr></tbody></table></td></tr><tr><td>Data</td><td><i>(empty)</i></td></tr><tr><td>IsBeingWalked</td><td><div class=\"dni-plaintext\"><pre>True</pre></div></td></tr></tbody></table></div></details></td></tr><tr><td>1</td><td><details class=\"dni-treeview\"><summary><span class=\"dni-code-hint\"><code>Microsoft.Azure.Cosmos.Tracing.Trace</code></span></summary><div><table><thead><tr></tr></thead><tbody><tr><td>Name</td><td><div class=\"dni-plaintext\"><pre>Response Serialization</pre></div></td></tr><tr><td>Id</td><td><div class=\"dni-plaintext\"><pre>135a3a3b-be2c-4457-a40e-db0f3a08085e</pre></div></td></tr><tr><td>StartTime</td><td><span>2025-09-16 15:25:29Z</span></td></tr><tr><td>Duration</td><td><span>00:00:00.0000041</span></td></tr><tr><td>Level</td><td><span>Verbose</span></td></tr><tr><td>Component</td><td><span>Transport</span></td></tr><tr><td>Summary</td><td><details class=\"dni-treeview\"><summary><span class=\"dni-code-hint\"><code>Microsoft.Azure.Cosmos.Tracing.TraceSummary</code></span></summary><div><table><thead><tr></tr></thead><tbody><tr><td>RegionsContacted</td><td>[ (South Central US, https://127.0.0.1:8081/) ]</td></tr></tbody></table></div></details></td></tr><tr><td>Parent</td><td><details class=\"dni-treeview\"><summary><span class=\"dni-code-hint\"><code>Microsoft.Azure.Cosmos.Tracing.Trace</code></span></summary><div><table><thead><tr></tr></thead><tbody><tr><td>Name</td><td>DeleteItemAsync</td></tr><tr><td>Id</td><td>f427eb8d-abb4-4d7a-a452-20c9b29d9f7c</td></tr><tr><td>StartTime</td><td>9/16/2025 3:25:29 PM</td></tr><tr><td>Duration</td><td>00:00:00.0284617</td></tr><tr><td>Level</td><td>Info</td></tr><tr><td>Component</td><td>Transport</td></tr><tr><td>Summary</td><td>Microsoft.Azure.Cosmos.Tracing.TraceSummary</td></tr><tr><td>Parent</td><td><div class=\"dni-plaintext\"><pre>&lt;null&gt;</pre></div></td></tr><tr><td>Children</td><td>[ Microsoft.Azure.Cosmos.Tracing.Trace, Microsoft.Azure.Cosmos.Tracing.Trace ]</td></tr><tr><td>Data</td><td>[ [Client Configuration, Microsoft.Azure.Cosmos.Tracing.TraceData.ClientConfigurationTraceDatum] ]</td></tr><tr><td>IsBeingWalked</td><td>True</td></tr></tbody></table></div></details></td></tr><tr><td>Children</td><td><i>(empty)</i></td></tr><tr><td>Data</td><td><i>(empty)</i></td></tr><tr><td>IsBeingWalked</td><td><div class=\"dni-plaintext\"><pre>True</pre></div></td></tr></tbody></table></div></details></td></tr></tbody></table></td></tr><tr><td>Data</td><td><table><thead><tr><th><i>key</i></th><th>value</th></tr></thead><tbody><tr><td><div class=\"dni-plaintext\"><pre>Client Configuration</pre></div></td><td><details class=\"dni-treeview\"><summary><span class=\"dni-code-hint\"><code>Microsoft.Azure.Cosmos.Tracing.TraceData.ClientConfigurationTraceDatum</code></span></summary><div><table><thead><tr></tr></thead><tbody><tr><td>ClientCreatedDateTimeUtc</td><td><span>2025-09-16 13:53:05Z</span></td></tr><tr><td>GatewayConnectionConfig</td><td><details class=\"dni-treeview\"><summary><span class=\"dni-code-hint\"><code>(cps:50, urto:6, p:False, httpf: False)</code></span></summary><div><table><thead><tr></tr></thead><tbody><tr><td>MaxConnectionLimit</td><td>50</td></tr><tr><td>UserRequestTimeout</td><td>6</td></tr><tr><td>IsWebProxyConfigured</td><td>False</td></tr><tr><td>IsHttpClientFactoryConfigured</td><td>False</td></tr></tbody></table></div></details></td></tr><tr><td>RntbdConnectionConfig</td><td><details class=\"dni-treeview\"><summary><span class=\"dni-code-hint\"><code>(cto: 5, icto: -1, mrpc: 30, mcpe: 65535, erd: True, pr: ReuseUnicastPort)</code></span></summary><div><table><thead><tr></tr></thead><tbody><tr><td>ConnectionTimeout</td><td>5</td></tr><tr><td>IdleConnectionTimeout</td><td>-1</td></tr><tr><td>MaxRequestsPerChannel</td><td>30</td></tr><tr><td>MaxRequestsPerEndpoint</td><td>65535</td></tr><tr><td>TcpEndpointRediscovery</td><td>True</td></tr><tr><td>PortReuseMode</td><td>ReuseUnicastPort</td></tr></tbody></table></div></details></td></tr><tr><td>OtherConnectionConfig</td><td><details class=\"dni-treeview\"><summary><span class=\"dni-code-hint\"><code>(ed:False, be:False)</code></span></summary><div><table><thead><tr></tr></thead><tbody><tr><td>LimitToEndpoint</td><td>False</td></tr><tr><td>AllowBulkExecution</td><td>False</td></tr></tbody></table></div></details></td></tr><tr><td>ConsistencyConfig</td><td><details class=\"dni-treeview\"><summary><span class=\"dni-code-hint\"><code>(consistency: NotSet, prgns:[], apprgn: )</code></span></summary><div><table><thead><tr></tr></thead><tbody><tr><td>ConsistencyLevel</td><td><div class=\"dni-plaintext\"><pre>&lt;null&gt;</pre></div></td></tr><tr><td>PreferredRegions</td><td><div class=\"dni-plaintext\"><pre>&lt;null&gt;</pre></div></td></tr><tr><td>ApplicationRegion</td><td><div class=\"dni-plaintext\"><pre>&lt;null&gt;</pre></div></td></tr></tbody></table></div></details></td></tr><tr><td>ProcessorCount</td><td><div class=\"dni-plaintext\"><pre>16</pre></div></td></tr><tr><td>ConnectionMode</td><td><span>Direct</span></td></tr><tr><td>SerializedJson</td><td>[ 123, 34, 67, 108, 105, 101, 110, 116, 32, 67, 114, 101, 97, 116, 101, 100, 32, 84, 105, 109 ... (548 more) ]</td></tr></tbody></table></div></details></td></tr></tbody></table></td></tr><tr><td>IsBeingWalked</td><td><div class=\"dni-plaintext\"><pre>True</pre></div></td></tr></tbody></table></div></details></td></tr></tbody></table></div></details></td></tr><tr><td>RequestCharge</td><td><div class=\"dni-plaintext\"><pre>8.95</pre></div></td></tr><tr><td>ActivityId</td><td><div class=\"dni-plaintext\"><pre>d18d42c7-b85d-41ee-917b-35b9e019f468</pre></div></td></tr><tr><td>ETag</td><td><div class=\"dni-plaintext\"><pre>&lt;null&gt;</pre></div></td></tr></tbody></table></div></details><style>\r\n",
       ".dni-code-hint {\r\n",
       "    font-style: italic;\r\n",
       "    overflow: hidden;\r\n",
       "    white-space: nowrap;\r\n",
       "}\r\n",
       ".dni-treeview {\r\n",
       "    white-space: nowrap;\r\n",
       "}\r\n",
       ".dni-treeview td {\r\n",
       "    vertical-align: top;\r\n",
       "    text-align: start;\r\n",
       "}\r\n",
       "details.dni-treeview {\r\n",
       "    padding-left: 1em;\r\n",
       "}\r\n",
       "table td {\r\n",
       "    text-align: start;\r\n",
       "}\r\n",
       "table tr { \r\n",
       "    vertical-align: top; \r\n",
       "    margin: 0em 0px;\r\n",
       "}\r\n",
       "table tr td pre \r\n",
       "{ \r\n",
       "    vertical-align: top !important; \r\n",
       "    margin: 0em 0px !important;\r\n",
       "} \r\n",
       "table th {\r\n",
       "    text-align: start;\r\n",
       "}\r\n",
       "</style>"
      ]
     },
     "metadata": {},
     "output_type": "display_data"
    }
   ],
   "source": [
    "var temp = await productContainer.DeleteItemAsync<Product>(item.Resource.id, new PartitionKey(1));\n",
    "temp.Display();"
   ]
  }
 ],
 "metadata": {
  "kernelspec": {
   "display_name": ".NET (C#)",
   "language": "C#",
   "name": ".net-csharp"
  },
  "language_info": {
   "name": "polyglot-notebook"
  },
  "polyglot_notebook": {
   "kernelInfo": {
    "defaultKernelName": "csharp",
    "items": [
     {
      "aliases": [],
      "name": "csharp"
     }
    ]
   }
  }
 },
 "nbformat": 4,
 "nbformat_minor": 5
}
