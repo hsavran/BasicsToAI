{
 "cells": [
  {
   "cell_type": "markdown",
   "id": "da198986",
   "metadata": {},
   "source": [
    "Indexing Metrics\n",
    "Indexing everything will slow down the Inserts and make Inserts expensive\n",
    "Composite Index can help you with Order BY and WHERE with many filters\n",
    "Global Secondary Indexes\n",
    "\n",
    "Indexing Metrics\n",
    "select * from c \n",
    "where c.OwnerUserId = 200 \n",
    "and c.PostType ='Question' \n",
    "and c.Score > 10\n",
    "\n",
    "GSI = Cross Partition's nightmare\n",
    "Data gets sync automatically\n",
    "GSI has its own structure (pkey, data model, indexing)\n",
    "\n",
    "\n"
   ]
  }
 ],
 "metadata": {
  "language_info": {
   "name": "python"
  }
 },
 "nbformat": 4,
 "nbformat_minor": 5
}
