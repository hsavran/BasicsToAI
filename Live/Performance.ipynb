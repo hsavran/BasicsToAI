{
 "cells": [
  {
   "cell_type": "markdown",
   "id": "da198986",
   "metadata": {},
   "source": [
    "Indexing Metrics\n",
    "\n",
    "Indexing everything will slow down the Inserts and make Inserts expensive\n",
    "\n",
    "Composite Index can help you with Order BY and WHERE with many filters\n",
    "\n",
    "Global Secondary Indexes\n",
    "\n",
    "Indexing Metrics\n",
    "\n",
    "select * from c \n",
    "where c.OwnerUserId = 200 \n",
    "and c.PostType ='Question' \n",
    "and c.Score > 10\n",
    "\n",
    "GSI = Cross Partition's nightmare\n",
    "\n",
    "Data gets sync automatically\n",
    "\n",
    "GSI has its own structure (pkey, data model, indexing)\n",
    "\n",
    "\n"
   ]
  },
  {
   "cell_type": "code",
   "execution_count": 1,
   "id": "bf8d9093",
   "metadata": {},
   "outputs": [
    {
     "data": {
      "text/html": [
       "<div><div></div><div></div><div><strong>Installed Packages</strong><ul><li><span>Microsoft.Azure.Cosmos, 3.53.1</span></li><li><span>Newtonsoft.Json, 13.0.4</span></li></ul></div></div>"
      ]
     },
     "metadata": {},
     "output_type": "display_data"
    }
   ],
   "source": [
    "#r \"nuget: Newtonsoft.Json\"\n",
    "#r \"nuget: Microsoft.Azure.Cosmos\"\n",
    "using Microsoft.Azure.Cosmos;\n",
    "using System.Net.Http;"
   ]
  },
  {
   "cell_type": "code",
   "execution_count": 4,
   "id": "dc4796ce",
   "metadata": {},
   "outputs": [],
   "source": [
    "var endpoint = \"https://localhost:8081\";\n",
    "var key =\"C2y6yDjf5/R+ob0N8A7Cgv30VRDJIWEHLM+4QDU5DE2nQ9nDuVTqobD4b8mGGyPMbIZnqyMsEcaGQy67XIw/Jw==\";\n",
    "var client = new CosmosClient(endpoint, key);\n",
    "var db = client.GetDatabase(\"StackOverflow\");\n",
    "var postContainer = db.GetContainer(\"Posts\");"
   ]
  },
  {
   "cell_type": "code",
   "execution_count": 5,
   "id": "43ccb461",
   "metadata": {},
   "outputs": [],
   "source": [
    "public class Post    \n",
    "{\n",
    "    public string id { get; set; }\n",
    "    public int PostId { get; set; }\n",
    "    public string PostBody { get; set; }\n",
    "    public string Title { get; set; }\n",
    "    public int ViewCount { get; set; }\n",
    "    public int AnswerCount { get; set; }\n",
    "    public int CommentCount { get; set; }\n",
    "    public int FavoriteCount { get; set; }\n",
    "    public int AcceptedAnswerId { get; set; }\n",
    "    public DateTime? CreatedOn { get; set; }\n",
    "    public DateTime? ClosedDate { get; set; }\n",
    "    public int OwnerUserId { get; set; }\n",
    "    public string OwnerDisplayName { get; set; }\n",
    "    public string PostType { get; set; }\n",
    "    public int Score { get; set; }\n",
    "    public string Tags { get; set; }\n",
    "}"
   ]
  },
  {
   "cell_type": "code",
   "execution_count": 11,
   "id": "4042ba4d",
   "metadata": {},
   "outputs": [
    {
     "name": "stdout",
     "output_type": "stream",
     "text": [
      "Request charge: 3.17\r\n"
     ]
    },
    {
     "data": {
      "text/plain": [
       "{\"UtilizedIndexes\":{\"SingleIndexes\":[{\"IndexSpec\":\"/PostType/?\"},{\"IndexSpec\":\"/Score/?\"},{\"IndexSpec\":\"/OwnerUserId/?\"}],\"CompositeIndexes\":[]},\"PotentialIndexes\":{\"SingleIndexes\":[],\"CompositeIndexes\":[{\"IndexSpecs\":[\"/OwnerUserId ASC\",\"/PostType ASC\",\"/Score ASC\"],\"IndexImpactScore\":\"High\"}]}}"
      ]
     },
     "metadata": {},
     "output_type": "display_data"
    },
    {
     "data": {
      "text/html": [
       "<table><thead><tr><th><i>index</i></th><th>value</th></tr></thead><tbody><tr><td>0</td><td><details class=\"dni-treeview\"><summary><span class=\"dni-code-hint\"><code>Submission#5+Post</code></span></summary><div><table><thead><tr></tr></thead><tbody><tr><td>id</td><td><div class=\"dni-plaintext\"><pre>d5121c9c-e4d4-4a55-ae32-afe2820b998b</pre></div></td></tr><tr><td>PostId</td><td><div class=\"dni-plaintext\"><pre>898</pre></div></td></tr><tr><td>PostBody</td><td><div class=\"dni-plaintext\"><pre>&lt;p&gt;How have you implemented Internationalization (i18n) in actual projects you&#39;ve worked on?&lt;/p&gt;\n",
       "\n",
       "&lt;p&gt;I took an interest in making software cross-cultural after I read the famous post by Joel, &lt;a href=&quot;http://www.joelonsoftware.com/articles/Unicode.html&quot; rel=&quot;noreferrer&quot;&gt;The Absolute Minimum Every Software Developer Absolutely, Positively Must Know About Unicode and Character Sets (No Excuses!)&lt;/a&gt;. However, I have yet to able to take advantage of this in a real project, besides making sure I used Unicode strings where possible. But making all your strings Unicode and ensuring you understand what encoding everything you work with is in is just the tip of the i18n iceberg.&lt;/p&gt;\n",
       "\n",
       "&lt;p&gt;Everything I have worked on to date has been for use by a controlled set of US English speaking people, or i18n just wasn&#39;t something we had time to work on before pushing the project live. So I am looking for any tips or war stories people have about making software more localized in real world projects.&lt;/p&gt;\n",
       "</pre></div></td></tr><tr><td>Title</td><td><div class=\"dni-plaintext\"><pre>Internationalization in your projects</pre></div></td></tr><tr><td>ViewCount</td><td><div class=\"dni-plaintext\"><pre>4279</pre></div></td></tr><tr><td>AnswerCount</td><td><div class=\"dni-plaintext\"><pre>11</pre></div></td></tr><tr><td>CommentCount</td><td><div class=\"dni-plaintext\"><pre>1</pre></div></td></tr><tr><td>FavoriteCount</td><td><div class=\"dni-plaintext\"><pre>36</pre></div></td></tr><tr><td>AcceptedAnswerId</td><td><div class=\"dni-plaintext\"><pre>0</pre></div></td></tr><tr><td>CreatedOn</td><td><span>2008-08-04 00:08:51Z</span></td></tr><tr><td>ClosedDate</td><td><div class=\"dni-plaintext\"><pre>&lt;null&gt;</pre></div></td></tr><tr><td>OwnerUserId</td><td><div class=\"dni-plaintext\"><pre>200</pre></div></td></tr><tr><td>OwnerDisplayName</td><td><div class=\"dni-plaintext\"><pre>John Downey</pre></div></td></tr><tr><td>PostType</td><td><div class=\"dni-plaintext\"><pre>Question</pre></div></td></tr><tr><td>Score</td><td><div class=\"dni-plaintext\"><pre>44</pre></div></td></tr><tr><td>Tags</td><td><div class=\"dni-plaintext\"><pre>&lt;language-agnostic&gt;&lt;unicode&gt;&lt;localization&gt;&lt;internationalization&gt;</pre></div></td></tr></tbody></table></div></details></td></tr></tbody></table><style>\r\n",
       ".dni-code-hint {\r\n",
       "    font-style: italic;\r\n",
       "    overflow: hidden;\r\n",
       "    white-space: nowrap;\r\n",
       "}\r\n",
       ".dni-treeview {\r\n",
       "    white-space: nowrap;\r\n",
       "}\r\n",
       ".dni-treeview td {\r\n",
       "    vertical-align: top;\r\n",
       "    text-align: start;\r\n",
       "}\r\n",
       "details.dni-treeview {\r\n",
       "    padding-left: 1em;\r\n",
       "}\r\n",
       "table td {\r\n",
       "    text-align: start;\r\n",
       "}\r\n",
       "table tr { \r\n",
       "    vertical-align: top; \r\n",
       "    margin: 0em 0px;\r\n",
       "}\r\n",
       "table tr td pre \r\n",
       "{ \r\n",
       "    vertical-align: top !important; \r\n",
       "    margin: 0em 0px !important;\r\n",
       "} \r\n",
       "table th {\r\n",
       "    text-align: start;\r\n",
       "}\r\n",
       "</style>"
      ]
     },
     "metadata": {},
     "output_type": "display_data"
    }
   ],
   "source": [
    "var id = 1;\n",
    "var productQuery = new QueryDefinition(\"select * from c where c.OwnerUserId = 200 and c.PostType ='Question' and c.Score > 10\");\n",
    "    //.WithParameter(\"@id\", id);\n",
    "    var options = new QueryRequestOptions() { PopulateIndexMetrics = true };\n",
    "var iterator = postContainer.GetItemQueryIterator<Post>(productQuery, requestOptions: options);\n",
    "var results = new List<Post>();\n",
    "\n",
    "while (iterator.HasMoreResults)\n",
    "{\n",
    "    var response = await iterator.ReadNextAsync();\n",
    "    results.AddRange(response);\n",
    "    Console.WriteLine($\"Request charge: {response.RequestCharge}\");\n",
    "    response.IndexMetrics.Display();\n",
    "}\n",
    "results.Display();"
   ]
  }
 ],
 "metadata": {
  "kernelspec": {
   "display_name": ".NET (C#)",
   "language": "C#",
   "name": ".net-csharp"
  },
  "language_info": {
   "name": "polyglot-notebook"
  },
  "polyglot_notebook": {
   "kernelInfo": {
    "defaultKernelName": "csharp",
    "items": [
     {
      "aliases": [],
      "name": "csharp"
     }
    ]
   }
  }
 },
 "nbformat": 4,
 "nbformat_minor": 5
}
