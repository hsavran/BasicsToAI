{
 "cells": [
  {
   "cell_type": "markdown",
   "id": "8a8c411d",
   "metadata": {},
   "source": [
    "Indexing Policy LAB\n",
    "\n",
    "Open the Azure Cosmos DB Emulator. (https://localhost:8081/_explorer/index.html)\n",
    "\n",
    "Find the database and container you created.\n",
    "\n",
    "Click on Scale & Settings.\n",
    "\n",
    "Click on Indexing Policy.\n",
    "\n",
    "Add the following properties to Exclusion list\n",
    "\n",
    "        PostBody\n",
    "        OwnerDisplayName"
   ]
  }
 ],
 "metadata": {
  "kernelspec": {
   "display_name": ".NET (C#)",
   "language": "C#",
   "name": ".net-csharp"
  },
  "polyglot_notebook": {
   "kernelInfo": {
    "defaultKernelName": "csharp",
    "items": [
     {
      "aliases": [],
      "languageName": "csharp",
      "name": "csharp"
     }
    ]
   }
  }
 },
 "nbformat": 4,
 "nbformat_minor": 5
}
