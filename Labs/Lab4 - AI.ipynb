{
 "cells": [
  {
   "cell_type": "markdown",
   "id": "0c0a97d1",
   "metadata": {},
   "source": [
    "Initialize the CosmosClient using Azure Cosmos DB emulator settings."
   ]
  },
  {
   "cell_type": "code",
   "execution_count": null,
   "id": "8f33fd36",
   "metadata": {
    "vscode": {
     "languageId": "polyglot-notebook"
    }
   },
   "outputs": [],
   "source": [
    "//Initialize CosmosClient then initialize database"
   ]
  },
  {
   "cell_type": "markdown",
   "id": "edda2830",
   "metadata": {},
   "source": [
    "You are planning to vectorize the property named Title. You will setup a new property named TitleVector to store vectors.\n",
    "\n",
    "First, you need to create a vector embedding policy. Use Embedding object to tell Cosmos DB about the vector.\n",
    "\n",
    "You will need the name of the property, data type, dimension size and distance function to declare an embedding for Azure Cosmos DB.\n"
   ]
  },
  {
   "cell_type": "code",
   "execution_count": null,
   "id": "43f15a9d",
   "metadata": {
    "vscode": {
     "languageId": "polyglot-notebook"
    }
   },
   "outputs": [],
   "source": [
    "//Initialize the embedding object.\n",
    "\n",
    "//Initialize Collection object using the embedding object."
   ]
  }
 ],
 "metadata": {
  "language_info": {
   "name": "python"
  }
 },
 "nbformat": 4,
 "nbformat_minor": 5
}
