{
 "cells": [
  {
   "cell_type": "markdown",
   "id": "0c0a97d1",
   "metadata": {},
   "source": [
    "Initialize the CosmosClient using Azure Cosmos DB emulator settings."
   ]
  },
  {
   "cell_type": "code",
   "execution_count": null,
   "id": "8f33fd36",
   "metadata": {},
   "outputs": [],
   "source": [
    "//Initialize CosmosClient then initialize database"
   ]
  },
  {
   "cell_type": "markdown",
   "id": "edda2830",
   "metadata": {},
   "source": [
    "You are planning to vectorize the property named Title. You will setup a new property named TitleVector to store vectors.\n",
    "\n",
    "First, you need to create a vector embedding policy. Use Embedding object to tell Cosmos DB about the vector. \n",
    "\n",
    "You will need the name of the property, data type, dimension size and distance function to declare an embedding for Azure Cosmos DB.\n",
    "\n",
    "Use 8.Vector Policies in Study directory for an examaple"
   ]
  },
  {
   "cell_type": "code",
   "execution_count": 1,
   "id": "43f15a9d",
   "metadata": {},
   "outputs": [],
   "source": [
    "//Initialize the embedding object.\n",
    "\n",
    "//Initialize Collection object using the embedding object."
   ]
  },
  {
   "cell_type": "markdown",
   "id": "77b550f5",
   "metadata": {},
   "source": [
    "To continue, you will need Azure Subscription to generate vector.\n",
    "\n",
    "Check the 9.Generate Vectors in Study folder. Copy and Paste your Uri and token AzureOpenAIClient to initialize AzureOpenAIClient object."
   ]
  },
  {
   "cell_type": "code",
   "execution_count": null,
   "id": "06bbf4a7",
   "metadata": {},
   "outputs": [],
   "source": [
    "// Initialize the AzureOpenAIClient object using your Azure OpenAI endpoint and token."
   ]
  },
  {
   "cell_type": "markdown",
   "id": "d5742c14",
   "metadata": {},
   "source": [
    "Create a new function name VectorGenerator that generates vector using given string parameter.\n",
    "Check the 9.Generate Vectors in Study folder for an example."
   ]
  },
  {
   "cell_type": "code",
   "execution_count": null,
   "id": "acdef097",
   "metadata": {},
   "outputs": [],
   "source": [
    "// declare a function to generate vector using AzureOpenAIClient object."
   ]
  },
  {
   "cell_type": "code",
   "execution_count": 2,
   "id": "1b330fb6",
   "metadata": {},
   "outputs": [],
   "source": [
    "public class Post    \n",
    "{\n",
    "    public string id { get; set; }\n",
    "    public int PostId { get; set; }\n",
    "    public string PostBody { get; set; }\n",
    "    public string Title { get; set; }\n",
    "    public int ViewCount { get; set; }\n",
    "    public int AnswerCount { get; set; }\n",
    "    public int CommentCount { get; set; }\n",
    "    public int FavoriteCount { get; set; }\n",
    "    public int AcceptedAnswerId { get; set; }\n",
    "    public DateTime? CreatedOn { get; set; }\n",
    "    public DateTime? ClosedDate { get; set; }\n",
    "    public int OwnerUserId { get; set; }\n",
    "    public string OwnerDisplayName { get; set; }\n",
    "    public string PostType { get; set; }\n",
    "    public int Score { get; set; }\n",
    "    public string Tags { get; set; }\n",
    "    public float[] bodyvector {get;set;}\n",
    "    public string score {get;set;}\n",
    "}"
   ]
  },
  {
   "cell_type": "markdown",
   "id": "3f9122b1",
   "metadata": {},
   "source": [
    "Read Json file and convert items in to a list of Posts\n",
    "Create a foreach loop for the List of posts and generate a vector for each post then insert Post object into the container.\n",
    "Look at the 9.Generate Vectors file in Study folder for an example."
   ]
  },
  {
   "cell_type": "code",
   "execution_count": null,
   "id": "0b69c091",
   "metadata": {},
   "outputs": [],
   "source": [
    "// Read Json file and convert items in to a list of Posts\n",
    "\n",
    "// Create a foreach loop for the List of posts and generate a vector for each post then insert Post object into the container."
   ]
  },
  {
   "cell_type": "markdown",
   "id": "3b189be9",
   "metadata": {},
   "source": [
    "After it is completed, Open the Azure Cosmos DB Emulator and be sure that vectors are generated for each document."
   ]
  },
  {
   "cell_type": "markdown",
   "id": "c5b533c0",
   "metadata": {},
   "source": [
    "You want to ask the following question to your vector store.\n",
    "\"Find the common database topics\"\n",
    "\n",
    "First, you need to generate a vector for the question using the function you created earlier.\n",
    "\n",
    "Then write a Cosmos DB query using the VectorDistance Function of Azure Cosmos DB to search in container.\n",
    "Don't forget the TOP 10 in the SELECT statement.\n",
    "\n",
    "Use 10. Vector Seach file in Study folder as a reference."
   ]
  },
  {
   "cell_type": "code",
   "execution_count": null,
   "id": "de32fc76",
   "metadata": {},
   "outputs": [],
   "source": [
    "//Generate a vector for string \"Find the common database topics\"\n",
    "\n",
    "// Run a query using Cosmos DB vector function to find similar vectors in database."
   ]
  }
 ],
 "metadata": {
  "kernelspec": {
   "display_name": ".NET (C#)",
   "language": "C#",
   "name": ".net-csharp"
  },
  "language_info": {
   "name": "polyglot-notebook"
  },
  "polyglot_notebook": {
   "kernelInfo": {
    "defaultKernelName": "csharp",
    "items": [
     {
      "aliases": [],
      "name": "csharp"
     }
    ]
   }
  }
 },
 "nbformat": 4,
 "nbformat_minor": 5
}
