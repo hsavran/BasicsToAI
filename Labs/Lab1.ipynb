{
 "cells": [
  {
   "cell_type": "markdown",
   "metadata": {},
   "source": [
    "You need to use Microsoft.Azure.Cosmos package to connect and work with Azure Cosmos DB.\n",
    "You can reference any nuget packages by using the following format.\n",
    "\n",
    "#r \"nuget: Microsoft.Azure.Cosmos\"\n",
    "\n",
    "You may need to reference Newtonsoft.Json package manually if you receive any error from the Microsoft.Azure.Cosmos package.\n",
    "\n",
    "You need to reference Newtonsoft.Json first if you receive an error.\n",
    "#r \"nuget: Newtonsoft.Json\""
   ]
  },
  {
   "cell_type": "code",
   "execution_count": 2,
   "metadata": {
    "polyglot_notebook": {
     "kernelName": "csharp"
    }
   },
   "outputs": [
    {
     "data": {
      "text/html": [
       "<div><div></div><div></div><div><strong>Installed Packages</strong><ul><li><span>Microsoft.Azure.Cosmos, 3.51.0</span></li><li><span>Newtonsoft.Json, 13.0.3</span></li></ul></div></div>"
      ]
     },
     "metadata": {},
     "output_type": "display_data"
    }
   ],
   "source": [
    "#r \"nuget: Newtonsoft.Json\"\n",
    "#r \"nuget: Microsoft.Azure.Cosmos\""
   ]
  },
  {
   "cell_type": "markdown",
   "metadata": {},
   "source": [
    "After successful installation, reference the Microsoft.Azure.Cosmos\n",
    "using Microsoft.Azure.Cosmos;"
   ]
  },
  {
   "cell_type": "code",
   "execution_count": 3,
   "metadata": {
    "polyglot_notebook": {
     "kernelName": "csharp"
    }
   },
   "outputs": [],
   "source": [
    "using Microsoft.Azure.Cosmos;"
   ]
  },
  {
   "cell_type": "markdown",
   "metadata": {},
   "source": [
    "Open the Azure Cosmos DB Emulator or your Azure Subscription and find the connection strings\n",
    "Declare object named client using CosmosClient constructor.\n",
    "Use the connection string\n",
    "\n",
    "CosmosClientOptions parameter is optional and it has many useful options. Take a look at CosmosClient file under Study directory to learn more about it.\n",
    "\n",
    "Display() function is a great VsCode Polygot function. It displays all the properties of an object in text.\n",
    "\n",
    "Use Display() function to explore the options of client object."
   ]
  },
  {
   "cell_type": "code",
   "execution_count": null,
   "metadata": {
    "polyglot_notebook": {
     "kernelName": "csharp"
    }
   },
   "outputs": [],
   "source": [
    "var cstring = \"AccountEndpoint=https://localhost:8081/;AccountKey=C2y6yDjf5/R+ob0N8A7Cgv30VRDJIWEHLM+4QDU5DE2nQ9nDuVTqobD4b8mGGyPMbIZnqyMsEcaGQy67XIw/Jw==\";\n",
    "var client = new CosmosClient(cstring);\n",
    "client.Display();"
   ]
  },
  {
   "cell_type": "markdown",
   "metadata": {},
   "source": [
    "Create a new database named \"Stackoverflow\"\n",
    "\n",
    "Create a new container named \"Posts\". Use the \"/OwnerUserId\" property as partition key\n",
    "\n",
    "Don't forget everything is case-sensitive!!\n",
    "Explore the new database and container properties by using Display() function."
   ]
  },
  {
   "cell_type": "code",
   "execution_count": null,
   "metadata": {
    "polyglot_notebook": {
     "kernelName": "csharp"
    }
   },
   "outputs": [],
   "source": [
    "var db = await client.CreateDatabaseIfNotExistsAsync(\"StackOverflow\");\n",
    "var container = await db.Database.CreateContainerIfNotExistsAsync(\"Posts\", \"/OwnerUserId\");\n",
    "db.Display();\n",
    "container.Display();"
   ]
  }
 ],
 "metadata": {
  "kernelspec": {
   "display_name": ".NET (C#)",
   "language": "C#",
   "name": ".net-csharp"
  },
  "polyglot_notebook": {
   "kernelInfo": {
    "defaultKernelName": "csharp",
    "items": [
     {
      "aliases": [],
      "languageName": "csharp",
      "name": "csharp"
     }
    ]
   }
  }
 },
 "nbformat": 4,
 "nbformat_minor": 2
}
