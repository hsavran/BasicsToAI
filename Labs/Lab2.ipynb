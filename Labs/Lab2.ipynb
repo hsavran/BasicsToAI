{
 "cells": [
  {
   "cell_type": "markdown",
   "id": "34537fac",
   "metadata": {},
   "source": [
    "We will use the following data model for CRUD operations."
   ]
  },
  {
   "cell_type": "code",
   "execution_count": null,
   "id": "288b112a",
   "metadata": {
    "polyglot_notebook": {
     "kernelName": "csharp"
    }
   },
   "outputs": [],
   "source": [
    "public class Post    \n",
    "{\n",
    "    public string id { get; set; }\n",
    "    public int PostId { get; set; }\n",
    "    public string PostBody { get; set; }\n",
    "    public string Title { get; set; }\n",
    "    public int ViewCount { get; set; }\n",
    "    public int AnswerCount { get; set; }\n",
    "    public int CommentCount { get; set; }\n",
    "    public int FavoriteCount { get; set; }\n",
    "    public int AcceptedAnswerId { get; set; }\n",
    "    public DateTime? CreatedOn { get; set; }\n",
    "    public DateTime? ClosedDate { get; set; }\n",
    "    public int OwnerUserId { get; set; }\n",
    "    public string OwnerDisplayName { get; set; }\n",
    "    public string PostType { get; set; }\n",
    "    public int Score { get; set; }\n",
    "    public string Tags { get; set; }\n",
    "}"
   ]
  },
  {
   "cell_type": "markdown",
   "id": "fbef78c9",
   "metadata": {},
   "source": [
    "First reference Cosmos DB nuget package then declare a CosmosClient using your connection string from Azure Cosmos DB Emulator or Azure subscription"
   ]
  },
  {
   "cell_type": "code",
   "execution_count": null,
   "metadata": {
    "polyglot_notebook": {
     "kernelName": "csharp"
    }
   },
   "outputs": [],
   "source": [
    "// Declare CosmosClient"
   ]
  },
  {
   "cell_type": "markdown",
   "id": "f00cbeb9",
   "metadata": {},
   "source": [
    "We are ready to insert a document.\n",
    "To do that, you need to specify which database and container you like to use.\n",
    "Use GetDatabase() and GetContainer functions of CosmosClient"
   ]
  },
  {
   "cell_type": "code",
   "execution_count": null,
   "metadata": {
    "polyglot_notebook": {
     "kernelName": "csharp"
    }
   },
   "outputs": [],
   "source": [
    "// Find the database\n",
    "// Find the container in the database"
   ]
  },
  {
   "cell_type": "markdown",
   "id": "fe29f391",
   "metadata": {},
   "source": [
    "Initiliaze a new Post object with values you like to have."
   ]
  },
  {
   "cell_type": "code",
   "execution_count": null,
   "metadata": {
    "polyglot_notebook": {
     "kernelName": "csharp"
    }
   },
   "outputs": [],
   "source": [
    "// declare a new Post object with random values."
   ]
  },
  {
   "cell_type": "markdown",
   "id": "55439556",
   "metadata": {},
   "source": [
    "Insert the new Post object into the Posts container.\n",
    "You need to use CreateItemAsync function of the container.\n",
    "You need to know the partition key of Posts container to complete this task.\n",
    "\n",
    "Find how much Request Units this operation cost you.\n",
    "You can use Display() function to output any results."
   ]
  },
  {
   "cell_type": "code",
   "execution_count": null,
   "metadata": {
    "polyglot_notebook": {
     "kernelName": "csharp"
    }
   },
   "outputs": [],
   "source": [
    "// insert The Post object into the container\n",
    "//var newitem = "
   ]
  }
 ],
 "metadata": {
  "kernelspec": {
   "display_name": ".NET (C#)",
   "language": "C#",
   "name": ".net-csharp"
  },
  "polyglot_notebook": {
   "kernelInfo": {
    "defaultKernelName": "csharp",
    "items": [
     {
      "aliases": [],
      "languageName": "csharp",
      "name": "csharp"
     }
    ]
   }
  }
 },
 "nbformat": 4,
 "nbformat_minor": 5
}
