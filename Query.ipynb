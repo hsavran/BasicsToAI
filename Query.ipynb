{
 "cells": [
  {
   "cell_type": "code",
   "execution_count": 34,
   "id": "62ea5f82",
   "metadata": {
    "polyglot_notebook": {
     "kernelName": "csharp"
    }
   },
   "outputs": [
    {
     "data": {
      "text/html": [
       "<div><div></div><div></div><div><strong>Installed Packages</strong><ul><li><span>Microsoft.Azure.Cosmos, 3.48.1</span></li><li><span>Newtonsoft.Json, 13.0.3</span></li></ul></div></div>"
      ]
     },
     "metadata": {},
     "output_type": "display_data"
    }
   ],
   "source": [
    "#r \"nuget: Newtonsoft.Json\"\n",
    "#r \"nuget: Microsoft.Azure.Cosmos\"\n",
    "using Microsoft.Azure.Cosmos;\n",
    "using System.Net.Http;\n",
    "using Newtonsoft.Json;\n"
   ]
  },
  {
   "cell_type": "code",
   "execution_count": 35,
   "id": "19844e86",
   "metadata": {
    "polyglot_notebook": {
     "kernelName": "csharp"
    }
   },
   "outputs": [],
   "source": [
    "var cstring = \"AccountEndpoint=https://localhost:8081/;AccountKey=C2y6yDjf5/R+ob0N8A7Cgv30VRDJIWEHLM+4QDU5DE2nQ9nDuVTqobD4b8mGGyPMbIZnqyMsEcaGQy67XIw/Jw==\";\n",
    "var client = new CosmosClient(cstring);\n",
    "var db = client.GetDatabase(\"StackOverflow\");\n",
    "var postContainer = db.GetContainer(\"Posts\");"
   ]
  },
  {
   "cell_type": "code",
   "execution_count": 36,
   "id": "c56c7a2d",
   "metadata": {
    "polyglot_notebook": {
     "kernelName": "csharp"
    }
   },
   "outputs": [],
   "source": [
    "public class Post    \n",
    "{\n",
    "    public string id { get; set; }\n",
    "    public int PostId { get; set; }\n",
    "    public string PostBody { get; set; }\n",
    "    public string Title { get; set; }\n",
    "    public int ViewCount { get; set; }\n",
    "    public int AnswerCount { get; set; }\n",
    "    public int CommentCount { get; set; }\n",
    "    public int FavoriteCount { get; set; }\n",
    "    public int AcceptedAnswerId { get; set; }\n",
    "    public DateTime? CreatedOn { get; set; }\n",
    "    public DateTime? ClosedDate { get; set; }\n",
    "    public int OwnerUserId { get; set; }\n",
    "    public string OwnerDisplayName { get; set; }\n",
    "    public string PostType { get; set; }\n",
    "    public int Score { get; set; }\n",
    "    public string Tags { get; set; }\n",
    "}"
   ]
  },
  {
   "cell_type": "code",
   "execution_count": 37,
   "id": "8c420709",
   "metadata": {
    "polyglot_notebook": {
     "kernelName": "csharp"
    }
   },
   "outputs": [
    {
     "data": {
      "text/html": [
       "<div class=\"dni-plaintext\"><pre>9264</pre></div><style>\r\n",
       ".dni-code-hint {\r\n",
       "    font-style: italic;\r\n",
       "    overflow: hidden;\r\n",
       "    white-space: nowrap;\r\n",
       "}\r\n",
       ".dni-treeview {\r\n",
       "    white-space: nowrap;\r\n",
       "}\r\n",
       ".dni-treeview td {\r\n",
       "    vertical-align: top;\r\n",
       "    text-align: start;\r\n",
       "}\r\n",
       "details.dni-treeview {\r\n",
       "    padding-left: 1em;\r\n",
       "}\r\n",
       "table td {\r\n",
       "    text-align: start;\r\n",
       "}\r\n",
       "table tr { \r\n",
       "    vertical-align: top; \r\n",
       "    margin: 0em 0px;\r\n",
       "}\r\n",
       "table tr td pre \r\n",
       "{ \r\n",
       "    vertical-align: top !important; \r\n",
       "    margin: 0em 0px !important;\r\n",
       "} \r\n",
       "table th {\r\n",
       "    text-align: start;\r\n",
       "}\r\n",
       "</style>"
      ]
     },
     "metadata": {},
     "output_type": "display_data"
    },
    {
     "ename": "Error",
     "evalue": "Microsoft.Azure.Cosmos.CosmosException : Response status code does not indicate success: Conflict (409); Substatus: 0; ActivityId: b256f539-1b96-4711-ab43-78cfb243540a; Reason: ();\r\n   at Microsoft.Azure.Cosmos.ClientContextCore.RunWithDiagnosticsHelperAsync[TResult](String containerName, String databaseName, OperationType operationType, ITrace trace, Func`2 task, Nullable`1 openTelemetry, RequestOptions requestOptions, Nullable`1 resourceType)\r\n   at Microsoft.Azure.Cosmos.ClientContextCore.OperationHelperWithRootTraceAsync[TResult](String operationName, String containerName, String databaseName, OperationType operationType, RequestOptions requestOptions, Func`2 task, Nullable`1 openTelemetry, TraceComponent traceComponent, TraceLevel traceLevel, Nullable`1 resourceType)\r\n   at Submission#37.<<Initialize>>d__0.MoveNext()\r\n--- End of stack trace from previous location ---\r\n   at Microsoft.CodeAnalysis.Scripting.ScriptExecutionState.RunSubmissionsAsync[TResult](ImmutableArray`1 precedingExecutors, Func`2 currentExecutor, StrongBox`1 exceptionHolderOpt, Func`2 catchExceptionOpt, CancellationToken cancellationToken)\r\n--- Cosmos Diagnostics ---{\"Summary\":{\"DirectCalls\":{\"(207, 0)\":1},\"GatewayCalls\":{\"(200, 0)\":2}},\"name\":\"CreateItemAsync\",\"start datetime\":\"2025-04-16T18:37:32.183Z\",\"duration in milliseconds\":2196.8892,\"data\":{\"Client Configuration\":{\"Client Created Time Utc\":\"2025-04-16T18:37:32.1809686Z\",\"MachineId\":\"hashedMachineName:854b5717-0c71-e584-b8c5-e106e5718dfa\",\"NumberOfClientsCreated\":5,\"NumberOfActiveClients\":5,\"ConnectionMode\":\"Direct\",\"User Agent\":\"cosmos-netstandard-sdk/3.48.1|5|X64|Microsoft Windows 10.0.26100|.NET 9.0.3|N|F 00000001|\",\"ConnectionConfig\":{\"gw\":\"(cps:50, urto:6, p:False, httpf: False)\",\"rntbd\":\"(cto: 5, icto: -1, mrpc: 30, mcpe: 65535, erd: True, pr: ReuseUnicastPort)\",\"other\":\"(ed:False, be:True)\"},\"ConsistencyConfig\":\"(consistency: NotSet, prgns:[], apprgn: )\",\"ProcessorCount\":16}},\"children\":[{\"name\":\"ItemSerialize\",\"duration in milliseconds\":3.4825},{\"name\":\"Get Collection Cache\",\"duration in milliseconds\":2029.3219,\"children\":[{\"name\":\"Waiting for Initialization of client to complete\",\"duration in milliseconds\":2029.3166}]},{\"name\":\"Read Collection\",\"duration in milliseconds\":29.5545,\"data\":{\"Client Side Request Stats\":{\"Id\":\"AggregatedClientSideRequestStatistics\",\"ContactedReplicas\":[],\"RegionsContacted\":[],\"FailedReplicas\":[],\"AddressResolutionStatistics\":[],\"StoreResponseStatistics\":[],\"HttpResponseStats\":[{\"StartTimeUTC\":\"2025-04-16T18:37:34.2173936Z\",\"DurationInMs\":26.8604,\"RequestUri\":\"https://127.0.0.1:8081/dbs/StackOverflow/colls/Posts\",\"ResourceType\":\"Collection\",\"HttpMethod\":\"GET\",\"ActivityId\":\"adbe7d0e-6287-4723-b86c-2d5d36322f72\",\"StatusCode\":\"OK\"}]}}},{\"name\":\"Batch Dispatch Async\",\"duration in milliseconds\":34.5747,\"children\":[{\"name\":\"Using Wait\",\"duration in milliseconds\":0.0019},{\"name\":\"Microsoft.Azure.Cosmos.Handlers.RequestInvokerHandler\",\"duration in milliseconds\":34.2989,\"children\":[{\"name\":\"Microsoft.Azure.Cosmos.Handlers.DiagnosticsHandler\",\"duration in milliseconds\":34.2601,\"data\":{\"System Info\":{\"systemHistory\":[{\"dateUtc\":\"2025-04-16T18:36:36.5852401Z\",\"cpu\":23.502,\"memory\":901252.000,\"threadInfo\":{\"isThreadStarving\":\"False\",\"threadWaitIntervalInMs\":0.6626,\"availableThreads\":32766,\"minThreads\":16,\"maxThreads\":32767},\"numberOfOpenTcpConnection\":3},{\"dateUtc\":\"2025-04-16T18:36:46.5948278Z\",\"cpu\":17.533,\"memory\":886604.000,\"threadInfo\":{\"isThreadStarving\":\"False\",\"threadWaitIntervalInMs\":0.5511,\"availableThreads\":32765,\"minThreads\":16,\"maxThreads\":32767},\"numberOfOpenTcpConnection\":3},{\"dateUtc\":\"2025-04-16T18:36:56.6096435Z\",\"cpu\":9.838,\"memory\":942976.000,\"threadInfo\":{\"isThreadStarving\":\"False\",\"threadWaitIntervalInMs\":0.5086,\"availableThreads\":32765,\"minThreads\":16,\"maxThreads\":32767},\"numberOfOpenTcpConnection\":3},{\"dateUtc\":\"2025-04-16T18:37:06.6107587Z\",\"cpu\":19.877,\"memory\":1868320.000,\"threadInfo\":{\"isThreadStarving\":\"False\",\"threadWaitIntervalInMs\":0.1888,\"availableThreads\":32766,\"minThreads\":16,\"maxThreads\":32767},\"numberOfOpenTcpConnection\":3},{\"dateUtc\":\"2025-04-16T18:37:16.6116030Z\",\"cpu\":22.337,\"memory\":1812264.000,\"threadInfo\":{\"isThreadStarving\":\"False\",\"threadWaitIntervalInMs\":0.4352,\"availableThreads\":32766,\"minThreads\":16,\"maxThreads\":32767},\"numberOfOpenTcpConnection\":3},{\"dateUtc\":\"2025-04-16T18:37:26.6223410Z\",\"cpu\":13.105,\"memory\":1723004.000,\"threadInfo\":{\"isThreadStarving\":\"False\",\"threadWaitIntervalInMs\":0.0451,\"availableThreads\":32766,\"minThreads\":16,\"maxThreads\":32767},\"numberOfOpenTcpConnection\":3}]}},\"children\":[{\"name\":\"Microsoft.Azure.Cosmos.Handlers.TelemetryHandler\",\"duration in milliseconds\":34.2535,\"children\":[{\"name\":\"Microsoft.Azure.Cosmos.Handlers.RetryHandler\",\"duration in milliseconds\":34.2507,\"children\":[{\"name\":\"Microsoft.Azure.Cosmos.Handlers.RouterHandler\",\"duration in milliseconds\":34.2425,\"children\":[{\"name\":\"Microsoft.Azure.Cosmos.Handlers.TransportHandler\",\"duration in milliseconds\":34.2409,\"children\":[{\"name\":\"Microsoft.Azure.Documents.ServerStoreModel Transport Request\",\"duration in milliseconds\":34.1912,\"data\":{\"Client Side Request Stats\":{\"Id\":\"AggregatedClientSideRequestStatistics\",\"ContactedReplicas\":[{\"Count\":12,\"Uri\":\"rntbd://127.0.0.1:10253/apps/DocDbApp/services/DocDbServer6/partitions/a4cb4952-38c8-11e6-8106-8cdcd42c33be/replicas/1p/\"}],\"RegionsContacted\":[],\"FailedReplicas\":[],\"AddressResolutionStatistics\":[{\"StartTimeUTC\":\"2025-04-16T18:37:34.3464959Z\",\"EndTimeUTC\":\"2025-04-16T18:37:34.3548700Z\",\"TargetEndpoint\":\"https://127.0.0.1:8081//addresses/?$resolveFor=dbs%2f2%2blfAA%3d%3d%2fcolls%2f2%2blfAI0hEkA%3d%2fdocs&$filter=protocol eq rntbd&$partitionKeyRangeIds=0\"}],\"StoreResponseStatistics\":[{\"ResponseTimeUTC\":\"2025-04-16T18:37:34.3791176Z\",\"DurationInMs\":21.4317,\"ResourceType\":\"Document\",\"OperationType\":\"Batch\",\"LocationEndpoint\":\"https://127.0.0.1:8081/\",\"StoreResult\":{\"ActivityId\":\"b256f539-1b96-4711-ab43-78cfb243540a\",\"StatusCode\":\"MultiStatus\",\"SubStatusCode\":\"Unknown\",\"LSN\":9265,\"PartitionKeyRangeId\":\"0\",\"GlobalCommittedLSN\":-1,\"ItemLSN\":-1,\"UsingLocalLSN\":false,\"QuorumAckedLSN\":9265,\"SessionToken\":\"-1#9265\",\"CurrentWriteQuorum\":1,\"CurrentReplicaSetSize\":1,\"NumberOfReadRegions\":0,\"IsValid\":true,\"StorePhysicalAddress\":\"rntbd://127.0.0.1:10253/apps/DocDbApp/services/DocDbServer6/partitions/a4cb4952-38c8-11e6-8106-8cdcd42c33be/replicas/1p/\",\"RequestCharge\":2.67,\"RetryAfterInMs\":null,\"BELatencyInMs\":\"11.97\",\"ReplicaHealthStatuses\":[\"(port: 10253 | status: Connected | lkt: 4/16/2025 6:37:34 PM)\"],\"transportRequestTimeline\":{\"requestTimeline\":[{\"event\": \"Created\", \"startTimeUtc\": \"2025-04-16T18:37:34.3576883Z\", \"durationInMs\": 0.0496},{\"event\": \"ChannelAcquisitionStarted\", \"startTimeUtc\": \"2025-04-16T18:37:34.3577379Z\", \"durationInMs\": 8.6376},{\"event\": \"Pipelined\", \"startTimeUtc\": \"2025-04-16T18:37:34.3663755Z\", \"durationInMs\": 0.1276},{\"event\": \"Transit Time\", \"startTimeUtc\": \"2025-04-16T18:37:34.3665031Z\", \"durationInMs\": 12.4889},{\"event\": \"Received\", \"startTimeUtc\": \"2025-04-16T18:37:34.3789920Z\", \"durationInMs\": 0.1098},{\"event\": \"Completed\", \"startTimeUtc\": \"2025-04-16T18:37:34.3791018Z\", \"durationInMs\": 0}],\"serviceEndpointStats\":{\"inflightRequests\":1,\"openConnections\":1},\"connectionStats\":{\"waitforConnectionInit\":\"True\",\"callsPendingReceive\":0,\"lastSendAttempt\":\"2025-04-16T18:37:34.3649475Z\",\"lastSend\":\"2025-04-16T18:37:34.3649893Z\",\"lastReceive\":\"2025-04-16T18:37:34.3653969Z\"},\"requestSizeInBytes\":1280,\"requestBodySizeInBytes\":927,\"responseMetadataSizeInBytes\":243,\"responseBodySizeInBytes\":47},\"TransportException\":null}}],\"HttpResponseStats\":[{\"StartTimeUTC\":\"2025-04-16T18:37:34.3465407Z\",\"DurationInMs\":7.7823,\"RequestUri\":\"https://127.0.0.1:8081//addresses/?$resolveFor=dbs%2f2%2blfAA%3d%3d%2fcolls%2f2%2blfAI0hEkA%3d%2fdocs&$filter=protocol eq rntbd&$partitionKeyRangeIds=0\",\"ResourceType\":\"Document\",\"HttpMethod\":\"GET\",\"ActivityId\":\"b256f539-1b96-4711-ab43-78cfb243540a\",\"StatusCode\":\"OK\"}]}}}]}]}]}]}]}]},{\"name\":\"Create Trace\",\"duration in milliseconds\":0.0193}]}]}",
     "output_type": "error",
     "traceback": [
      "Microsoft.Azure.Cosmos.CosmosException : Response status code does not indicate success: Conflict (409); Substatus: 0; ActivityId: b256f539-1b96-4711-ab43-78cfb243540a; Reason: ();\r\n",
      "   at Microsoft.Azure.Cosmos.ClientContextCore.RunWithDiagnosticsHelperAsync[TResult](String containerName, String databaseName, OperationType operationType, ITrace trace, Func`2 task, Nullable`1 openTelemetry, RequestOptions requestOptions, Nullable`1 resourceType)\r\n",
      "   at Microsoft.Azure.Cosmos.ClientContextCore.OperationHelperWithRootTraceAsync[TResult](String operationName, String containerName, String databaseName, OperationType operationType, RequestOptions requestOptions, Func`2 task, Nullable`1 openTelemetry, TraceComponent traceComponent, TraceLevel traceLevel, Nullable`1 resourceType)\r\n",
      "   at Submission#37.<<Initialize>>d__0.MoveNext()\r\n",
      "--- End of stack trace from previous location ---\r\n",
      "   at Microsoft.CodeAnalysis.Scripting.ScriptExecutionState.RunSubmissionsAsync[TResult](ImmutableArray`1 precedingExecutors, Func`2 currentExecutor, StrongBox`1 exceptionHolderOpt, Func`2 catchExceptionOpt, CancellationToken cancellationToken)\r\n",
      "--- Cosmos Diagnostics ---{\"Summary\":{\"DirectCalls\":{\"(207, 0)\":1},\"GatewayCalls\":{\"(200, 0)\":2}},\"name\":\"CreateItemAsync\",\"start datetime\":\"2025-04-16T18:37:32.183Z\",\"duration in milliseconds\":2196.8892,\"data\":{\"Client Configuration\":{\"Client Created Time Utc\":\"2025-04-16T18:37:32.1809686Z\",\"MachineId\":\"hashedMachineName:854b5717-0c71-e584-b8c5-e106e5718dfa\",\"NumberOfClientsCreated\":5,\"NumberOfActiveClients\":5,\"ConnectionMode\":\"Direct\",\"User Agent\":\"cosmos-netstandard-sdk/3.48.1|5|X64|Microsoft Windows 10.0.26100|.NET 9.0.3|N|F 00000001|\",\"ConnectionConfig\":{\"gw\":\"(cps:50, urto:6, p:False, httpf: False)\",\"rntbd\":\"(cto: 5, icto: -1, mrpc: 30, mcpe: 65535, erd: True, pr: ReuseUnicastPort)\",\"other\":\"(ed:False, be:True)\"},\"ConsistencyConfig\":\"(consistency: NotSet, prgns:[], apprgn: )\",\"ProcessorCount\":16}},\"children\":[{\"name\":\"ItemSerialize\",\"duration in milliseconds\":3.4825},{\"name\":\"Get Collection Cache\",\"duration in milliseconds\":2029.3219,\"children\":[{\"name\":\"Waiting for Initialization of client to complete\",\"duration in milliseconds\":2029.3166}]},{\"name\":\"Read Collection\",\"duration in milliseconds\":29.5545,\"data\":{\"Client Side Request Stats\":{\"Id\":\"AggregatedClientSideRequestStatistics\",\"ContactedReplicas\":[],\"RegionsContacted\":[],\"FailedReplicas\":[],\"AddressResolutionStatistics\":[],\"StoreResponseStatistics\":[],\"HttpResponseStats\":[{\"StartTimeUTC\":\"2025-04-16T18:37:34.2173936Z\",\"DurationInMs\":26.8604,\"RequestUri\":\"https://127.0.0.1:8081/dbs/StackOverflow/colls/Posts\",\"ResourceType\":\"Collection\",\"HttpMethod\":\"GET\",\"ActivityId\":\"adbe7d0e-6287-4723-b86c-2d5d36322f72\",\"StatusCode\":\"OK\"}]}}},{\"name\":\"Batch Dispatch Async\",\"duration in milliseconds\":34.5747,\"children\":[{\"name\":\"Using Wait\",\"duration in milliseconds\":0.0019},{\"name\":\"Microsoft.Azure.Cosmos.Handlers.RequestInvokerHandler\",\"duration in milliseconds\":34.2989,\"children\":[{\"name\":\"Microsoft.Azure.Cosmos.Handlers.DiagnosticsHandler\",\"duration in milliseconds\":34.2601,\"data\":{\"System Info\":{\"systemHistory\":[{\"dateUtc\":\"2025-04-16T18:36:36.5852401Z\",\"cpu\":23.502,\"memory\":901252.000,\"threadInfo\":{\"isThreadStarving\":\"False\",\"threadWaitIntervalInMs\":0.6626,\"availableThreads\":32766,\"minThreads\":16,\"maxThreads\":32767},\"numberOfOpenTcpConnection\":3},{\"dateUtc\":\"2025-04-16T18:36:46.5948278Z\",\"cpu\":17.533,\"memory\":886604.000,\"threadInfo\":{\"isThreadStarving\":\"False\",\"threadWaitIntervalInMs\":0.5511,\"availableThreads\":32765,\"minThreads\":16,\"maxThreads\":32767},\"numberOfOpenTcpConnection\":3},{\"dateUtc\":\"2025-04-16T18:36:56.6096435Z\",\"cpu\":9.838,\"memory\":942976.000,\"threadInfo\":{\"isThreadStarving\":\"False\",\"threadWaitIntervalInMs\":0.5086,\"availableThreads\":32765,\"minThreads\":16,\"maxThreads\":32767},\"numberOfOpenTcpConnection\":3},{\"dateUtc\":\"2025-04-16T18:37:06.6107587Z\",\"cpu\":19.877,\"memory\":1868320.000,\"threadInfo\":{\"isThreadStarving\":\"False\",\"threadWaitIntervalInMs\":0.1888,\"availableThreads\":32766,\"minThreads\":16,\"maxThreads\":32767},\"numberOfOpenTcpConnection\":3},{\"dateUtc\":\"2025-04-16T18:37:16.6116030Z\",\"cpu\":22.337,\"memory\":1812264.000,\"threadInfo\":{\"isThreadStarving\":\"False\",\"threadWaitIntervalInMs\":0.4352,\"availableThreads\":32766,\"minThreads\":16,\"maxThreads\":32767},\"numberOfOpenTcpConnection\":3},{\"dateUtc\":\"2025-04-16T18:37:26.6223410Z\",\"cpu\":13.105,\"memory\":1723004.000,\"threadInfo\":{\"isThreadStarving\":\"False\",\"threadWaitIntervalInMs\":0.0451,\"availableThreads\":32766,\"minThreads\":16,\"maxThreads\":32767},\"numberOfOpenTcpConnection\":3}]}},\"children\":[{\"name\":\"Microsoft.Azure.Cosmos.Handlers.TelemetryHandler\",\"duration in milliseconds\":34.2535,\"children\":[{\"name\":\"Microsoft.Azure.Cosmos.Handlers.RetryHandler\",\"duration in milliseconds\":34.2507,\"children\":[{\"name\":\"Microsoft.Azure.Cosmos.Handlers.RouterHandler\",\"duration in milliseconds\":34.2425,\"children\":[{\"name\":\"Microsoft.Azure.Cosmos.Handlers.TransportHandler\",\"duration in milliseconds\":34.2409,\"children\":[{\"name\":\"Microsoft.Azure.Documents.ServerStoreModel Transport Request\",\"duration in milliseconds\":34.1912,\"data\":{\"Client Side Request Stats\":{\"Id\":\"AggregatedClientSideRequestStatistics\",\"ContactedReplicas\":[{\"Count\":12,\"Uri\":\"rntbd://127.0.0.1:10253/apps/DocDbApp/services/DocDbServer6/partitions/a4cb4952-38c8-11e6-8106-8cdcd42c33be/replicas/1p/\"}],\"RegionsContacted\":[],\"FailedReplicas\":[],\"AddressResolutionStatistics\":[{\"StartTimeUTC\":\"2025-04-16T18:37:34.3464959Z\",\"EndTimeUTC\":\"2025-04-16T18:37:34.3548700Z\",\"TargetEndpoint\":\"https://127.0.0.1:8081//addresses/?$resolveFor=dbs%2f2%2blfAA%3d%3d%2fcolls%2f2%2blfAI0hEkA%3d%2fdocs&$filter=protocol eq rntbd&$partitionKeyRangeIds=0\"}],\"StoreResponseStatistics\":[{\"ResponseTimeUTC\":\"2025-04-16T18:37:34.3791176Z\",\"DurationInMs\":21.4317,\"ResourceType\":\"Document\",\"OperationType\":\"Batch\",\"LocationEndpoint\":\"https://127.0.0.1:8081/\",\"StoreResult\":{\"ActivityId\":\"b256f539-1b96-4711-ab43-78cfb243540a\",\"StatusCode\":\"MultiStatus\",\"SubStatusCode\":\"Unknown\",\"LSN\":9265,\"PartitionKeyRangeId\":\"0\",\"GlobalCommittedLSN\":-1,\"ItemLSN\":-1,\"UsingLocalLSN\":false,\"QuorumAckedLSN\":9265,\"SessionToken\":\"-1#9265\",\"CurrentWriteQuorum\":1,\"CurrentReplicaSetSize\":1,\"NumberOfReadRegions\":0,\"IsValid\":true,\"StorePhysicalAddress\":\"rntbd://127.0.0.1:10253/apps/DocDbApp/services/DocDbServer6/partitions/a4cb4952-38c8-11e6-8106-8cdcd42c33be/replicas/1p/\",\"RequestCharge\":2.67,\"RetryAfterInMs\":null,\"BELatencyInMs\":\"11.97\",\"ReplicaHealthStatuses\":[\"(port: 10253 | status: Connected | lkt: 4/16/2025 6:37:34 PM)\"],\"transportRequestTimeline\":{\"requestTimeline\":[{\"event\": \"Created\", \"startTimeUtc\": \"2025-04-16T18:37:34.3576883Z\", \"durationInMs\": 0.0496},{\"event\": \"ChannelAcquisitionStarted\", \"startTimeUtc\": \"2025-04-16T18:37:34.3577379Z\", \"durationInMs\": 8.6376},{\"event\": \"Pipelined\", \"startTimeUtc\": \"2025-04-16T18:37:34.3663755Z\", \"durationInMs\": 0.1276},{\"event\": \"Transit Time\", \"startTimeUtc\": \"2025-04-16T18:37:34.3665031Z\", \"durationInMs\": 12.4889},{\"event\": \"Received\", \"startTimeUtc\": \"2025-04-16T18:37:34.3789920Z\", \"durationInMs\": 0.1098},{\"event\": \"Completed\", \"startTimeUtc\": \"2025-04-16T18:37:34.3791018Z\", \"durationInMs\": 0}],\"serviceEndpointStats\":{\"inflightRequests\":1,\"openConnections\":1},\"connectionStats\":{\"waitforConnectionInit\":\"True\",\"callsPendingReceive\":0,\"lastSendAttempt\":\"2025-04-16T18:37:34.3649475Z\",\"lastSend\":\"2025-04-16T18:37:34.3649893Z\",\"lastReceive\":\"2025-04-16T18:37:34.3653969Z\"},\"requestSizeInBytes\":1280,\"requestBodySizeInBytes\":927,\"responseMetadataSizeInBytes\":243,\"responseBodySizeInBytes\":47},\"TransportException\":null}}],\"HttpResponseStats\":[{\"StartTimeUTC\":\"2025-04-16T18:37:34.3465407Z\",\"DurationInMs\":7.7823,\"RequestUri\":\"https://127.0.0.1:8081//addresses/?$resolveFor=dbs%2f2%2blfAA%3d%3d%2fcolls%2f2%2blfAI0hEkA%3d%2fdocs&$filter=protocol eq rntbd&$partitionKeyRangeIds=0\",\"ResourceType\":\"Document\",\"HttpMethod\":\"GET\",\"ActivityId\":\"b256f539-1b96-4711-ab43-78cfb243540a\",\"StatusCode\":\"OK\"}]}}}]}]}]}]}]}]},{\"name\":\"Create Trace\",\"duration in milliseconds\":0.0193}]}]}"
     ]
    }
   ],
   "source": [
    "using Newtonsoft.Json.Linq;\n",
    "\n",
    "// It takes 15 minutes to run this code\n",
    "var json = await new HttpClient().GetStringAsync(\"https://raw.githubusercontent.com/hsavran/Presentations/refs/heads/main/stackoverflow.json\");\n",
    "var postList = JsonConvert.DeserializeObject<List<Post>>(json);\n",
    "postList.Count.Display(); // Display the number of posts\n",
    "//write the post to the container in bulk mode\n",
    "client = new CosmosClient(cstring, new CosmosClientOptions() {AllowBulkExecution = true});\n",
    "Container postContainer = client.GetContainer(\"StackOverflow\", \"Posts\");\n",
    "foreach (var post in postList)\n",
    "{\n",
    "    var response = await postContainer.CreateItemAsync(post, new PartitionKey(post.OwnerUserId));\n",
    "    //response.StatusCode.Display(); // Display the status code of the response\n",
    "}"
   ]
  },
  {
   "cell_type": "code",
   "execution_count": 39,
   "id": "6a5c93a3",
   "metadata": {
    "polyglot_notebook": {
     "kernelName": "csharp"
    }
   },
   "outputs": [
    {
     "data": {
      "text/html": [
       "<div class=\"dni-plaintext\"><pre>3.09</pre></div><style>\r\n",
       ".dni-code-hint {\r\n",
       "    font-style: italic;\r\n",
       "    overflow: hidden;\r\n",
       "    white-space: nowrap;\r\n",
       "}\r\n",
       ".dni-treeview {\r\n",
       "    white-space: nowrap;\r\n",
       "}\r\n",
       ".dni-treeview td {\r\n",
       "    vertical-align: top;\r\n",
       "    text-align: start;\r\n",
       "}\r\n",
       "details.dni-treeview {\r\n",
       "    padding-left: 1em;\r\n",
       "}\r\n",
       "table td {\r\n",
       "    text-align: start;\r\n",
       "}\r\n",
       "table tr { \r\n",
       "    vertical-align: top; \r\n",
       "    margin: 0em 0px;\r\n",
       "}\r\n",
       "table tr td pre \r\n",
       "{ \r\n",
       "    vertical-align: top !important; \r\n",
       "    margin: 0em 0px !important;\r\n",
       "} \r\n",
       "table th {\r\n",
       "    text-align: start;\r\n",
       "}\r\n",
       "</style>"
      ]
     },
     "metadata": {},
     "output_type": "display_data"
    },
    {
     "data": {
      "text/html": [
       "<table><thead><tr><th><i>index</i></th><th>value</th></tr></thead><tbody><tr><td>0</td><td><details class=\"dni-treeview\"><summary><span class=\"dni-code-hint\"><code>Submission#36+Post</code></span></summary><div><table><thead><tr></tr></thead><tbody><tr><td>id</td><td><div class=\"dni-plaintext\"><pre>a56e5b7e-ee9b-4a5f-a51b-b0e559e5901c</pre></div></td></tr><tr><td>PostId</td><td><div class=\"dni-plaintext\"><pre>20047</pre></div></td></tr><tr><td>PostBody</td><td><div class=\"dni-plaintext\"><pre>&lt;p&gt;We&#39;re seeing some pernicious, but rare, deadlock conditions in the Stack Overflow SQL Server 2005 database.&lt;/p&gt;\n",
       "\n",
       "&lt;p&gt;I attached the profiler, set up a trace profile using &lt;a href=&quot;http://www.simple-talk.com/sql/learn-sql-server/how-to-track-down-deadlocks-using-sql-server-2005-profiler/&quot; rel=&quot;noreferrer&quot;&gt;this excellent article on troubleshooting deadlocks&lt;/a&gt;, and captured a bunch of examples. The weird thing is that &lt;strong&gt;the deadlocking write is &lt;em&gt;always&lt;/em&gt; the same&lt;/strong&gt;:&lt;/p&gt;\n",
       "\n",
       "&lt;pre&gt;&lt;code&gt;UPDATE [dbo].[Posts]\n",
       "SET [AnswerCount] = @p1, [LastActivityDate] = @p2, [LastActivityUserId] = @p3\n",
       "WHERE [Id] = @p0\n",
       "&lt;/code&gt;&lt;/pre&gt;\n",
       "\n",
       "&lt;p&gt;The other deadlocking statement varies, but it&#39;s usually some kind of trivial, simple &lt;strong&gt;read&lt;/strong&gt; of the posts table. This one always gets killed in the deadlock. Here&#39;s an example&lt;/p&gt;\n",
       "\n",
       "&lt;pre&gt;&lt;code&gt;SELECT\n",
       "[t0].[Id], [t0].[PostTypeId], [t0].[Score], [t0].[Views], [t0].[AnswerCount], \n",
       "[t0].[AcceptedAnswerId], [t0].[IsLocked], [t0].[IsLockedEdit], [t0].[ParentId], \n",
       "[t0].[CurrentRevisionId], [t0].[FirstRevisionId], [t0].[LockedReason],\n",
       "[t0].[LastActivityDate], [t0].[LastActivityUserId]\n",
       "FROM [dbo].[Posts] AS [t0]\n",
       "WHERE [t0].[ParentId] = @p0\n",
       "&lt;/code&gt;&lt;/pre&gt;\n",
       "\n",
       "&lt;p&gt;To be perfectly clear, we are not seeing write / write deadlocks, but read / write.&lt;/p&gt;\n",
       "\n",
       "&lt;p&gt;We have a mixture of LINQ and parameterized SQL queries at the moment. We have added &lt;code&gt;with (nolock)&lt;/code&gt; to all the SQL queries. This may have helped some. We also had a single (very) poorly-written badge query that I fixed yesterday, which was taking upwards of 20 seconds to run every time, and was running every minute on top of that. I was hoping this was the source of some of the locking problems!&lt;/p&gt;\n",
       "\n",
       "&lt;p&gt;Unfortunately, I got another deadlock error about 2 hours ago. Same exact symptoms, same exact culprit write.&lt;/p&gt;\n",
       "\n",
       "&lt;p&gt;The truly strange thing is that the locking write SQL statement you see above is part of a very specific code path. It&#39;s &lt;em&gt;only&lt;/em&gt; executed when a new answer is added to a question -- it updates the parent question with the new answer count and last date/user. This is, obviously, not that common relative to the massive number of reads we are doing! As far as I can tell, we&#39;re not doing huge numbers of writes anywhere in the app.&lt;/p&gt;\n",
       "\n",
       "&lt;p&gt;I realize that NOLOCK is sort of a giant hammer, but most of the queries we run here don&#39;t need to be that accurate. Will you care if your user profile is a few seconds out of date?&lt;/p&gt;\n",
       "\n",
       "&lt;p&gt;Using NOLOCK with Linq is a bit more difficult as &lt;a href=&quot;http://www.hanselman.com/blog/GettingLINQToSQLAndLINQToEntitiesToUseNOLOCK.aspx&quot; rel=&quot;noreferrer&quot;&gt;Scott Hanselman discusses here&lt;/a&gt;.&lt;/p&gt;\n",
       "\n",
       "&lt;p&gt;We are flirting with the idea of using&lt;/p&gt;\n",
       "\n",
       "&lt;pre&gt;&lt;code&gt;SET TRANSACTION ISOLATION LEVEL READ UNCOMMITTED\n",
       "&lt;/code&gt;&lt;/pre&gt;\n",
       "\n",
       "&lt;p&gt;on the base database context so that all our LINQ queries have this set. Without that, we&#39;d have to wrap every LINQ call we make (well, the simple reading ones, which is the vast majority of them) in a 3-4 line transaction code block, which is ugly.&lt;/p&gt;\n",
       "\n",
       "&lt;p&gt;I guess I&#39;m a little frustrated that trivial reads in SQL 2005 can deadlock on writes. I could see write/write deadlocks being a huge issue, but &lt;em&gt;reads?&lt;/em&gt; We&#39;re not running a banking site here, we don&#39;t need perfect accuracy every time.&lt;/p&gt;\n",
       "\n",
       "&lt;p&gt;Ideas? Thoughts?&lt;/p&gt;\n",
       "\n",
       "&lt;hr&gt;\n",
       "\n",
       "&lt;blockquote&gt;\n",
       "  &lt;p&gt;Are you instantiating a new LINQ to SQL DataContext object for every operation or are you perhaps sharing the same static context for all your calls?&lt;/p&gt;\n",
       "&lt;/blockquote&gt;\n",
       "\n",
       "&lt;p&gt;Jeremy, we are sharing one static datacontext in the base Controller for the most part:&lt;/p&gt;\n",
       "\n",
       "&lt;pre&gt;&lt;code&gt;private DBContext _db;\n",
       "/// &amp;lt;summary&amp;gt;\n",
       "/// Gets the DataContext to be used by a Request&#39;s controllers.\n",
       "/// &amp;lt;/summary&amp;gt;\n",
       "public DBContext DB\n",
       "{\n",
       "    get\n",
       "    {\n",
       "        if (_db == null)\n",
       "        {\n",
       "            _db = new DBContext() { SessionName = GetType().Name };\n",
       "            //_db.ExecuteCommand(&quot;SET TRANSACTION ISOLATION LEVEL READ UNCOMMITTED&quot;);\n",
       "        }\n",
       "        return _db;\n",
       "    }\n",
       "}\n",
       "&lt;/code&gt;&lt;/pre&gt;\n",
       "\n",
       "&lt;p&gt;Do you recommend we create a new context for every Controller, or per Page, or .. more often?&lt;/p&gt;\n",
       "</pre></div></td></tr><tr><td>Title</td><td><div class=\"dni-plaintext\"><pre>Diagnosing Deadlocks in SQL Server 2005</pre></div></td></tr><tr><td>ViewCount</td><td><div class=\"dni-plaintext\"><pre>27533</pre></div></td></tr><tr><td>AnswerCount</td><td><div class=\"dni-plaintext\"><pre>22</pre></div></td></tr><tr><td>CommentCount</td><td><div class=\"dni-plaintext\"><pre>5</pre></div></td></tr><tr><td>FavoriteCount</td><td><div class=\"dni-plaintext\"><pre>58</pre></div></td></tr><tr><td>AcceptedAnswerId</td><td><div class=\"dni-plaintext\"><pre>21158</pre></div></td></tr><tr><td>CreatedOn</td><td><span>2008-08-21 14:18:41Z</span></td></tr><tr><td>ClosedDate</td><td><div class=\"dni-plaintext\"><pre>&lt;null&gt;</pre></div></td></tr><tr><td>OwnerUserId</td><td><div class=\"dni-plaintext\"><pre>1</pre></div></td></tr><tr><td>OwnerDisplayName</td><td><div class=\"dni-plaintext\"><pre>Jeff Atwood</pre></div></td></tr><tr><td>PostType</td><td><div class=\"dni-plaintext\"><pre>Question</pre></div></td></tr><tr><td>Score</td><td><div class=\"dni-plaintext\"><pre>82</pre></div></td></tr><tr><td>Tags</td><td><div class=\"dni-plaintext\"><pre>&lt;sql-server&gt;&lt;sql-server-2005&gt;&lt;deadlock&gt;</pre></div></td></tr></tbody></table></div></details></td></tr><tr><td>1</td><td><details class=\"dni-treeview\"><summary><span class=\"dni-code-hint\"><code>Submission#36+Post</code></span></summary><div><table><thead><tr></tr></thead><tbody><tr><td>id</td><td><div class=\"dni-plaintext\"><pre>28f9871f-26b6-4774-8e19-dab2c82d6739</pre></div></td></tr><tr><td>PostId</td><td><div class=\"dni-plaintext\"><pre>8472</pre></div></td></tr><tr><td>PostBody</td><td><div class=\"dni-plaintext\"><pre>&lt;p&gt;It looks like we&#39;ll be adding &lt;a href=&quot;http://en.wikipedia.org/wiki/Captcha&quot; rel=&quot;noreferrer&quot;&gt;CAPTCHA&lt;/a&gt; support to Stack Overflow. This is necessary to prevent bots, spammers, and other malicious scripted activity. We only want human beings to post or edit things here!&lt;/p&gt;\n",
       "\n",
       "&lt;p&gt;We&#39;ll be using a JavaScript (jQuery) CAPTCHA as a first line of defense:&lt;/p&gt;\n",
       "\n",
       "&lt;p&gt;&lt;a href=&quot;http://docs.jquery.com/Tutorials:Safer_Contact_Forms_Without_CAPTCHAs&quot; rel=&quot;noreferrer&quot;&gt;http://docs.jquery.com/Tutorials:Safer_Contact_Forms_Without_CAPTCHAs&lt;/a&gt;&lt;/p&gt;\n",
       "\n",
       "&lt;p&gt;The advantage of this approach is that, &lt;strong&gt;for most people, the CAPTCHA won&#39;t ever be visible!&lt;/strong&gt;&lt;/p&gt;\n",
       "\n",
       "&lt;p&gt;However, for people with JavaScript disabled, we still need a fallback and this is where it gets tricky.&lt;/p&gt;\n",
       "\n",
       "&lt;p&gt;I have written a &lt;a href=&quot;http://www.codeproject.com/KB/custom-controls/CaptchaControl.aspx&quot; rel=&quot;noreferrer&quot;&gt;traditional CAPTCHA control for ASP.NET&lt;/a&gt; which we can re-use.&lt;/p&gt;\n",
       "\n",
       "&lt;p&gt;&lt;img src=&quot;https://i.stack.imgur.com/Puvbf.jpg&quot; alt=&quot;CaptchaImage&quot;&gt;&lt;/p&gt;\n",
       "\n",
       "&lt;p&gt;However, I&#39;d prefer to go with something textual to avoid the overhead of creating all these images on the server with each request.&lt;/p&gt;\n",
       "\n",
       "&lt;p&gt;I&#39;ve seen things like..&lt;/p&gt;\n",
       "\n",
       "&lt;ul&gt;\n",
       "&lt;li&gt;ASCII text captcha: &lt;code&gt;\\/\\/(_)\\/\\/&lt;/code&gt;&lt;/li&gt;\n",
       "&lt;li&gt;math puzzles: what is 7 minus 3 times 2?&lt;/li&gt;\n",
       "&lt;li&gt;trivia questions: what tastes better, a toad or a popsicle?&lt;/li&gt;\n",
       "&lt;/ul&gt;\n",
       "\n",
       "&lt;p&gt;Maybe I&#39;m just tilting at windmills here, but I&#39;d like to have a less resource intensive, non-image based &lt;code&gt;&amp;lt;noscript&amp;gt;&lt;/code&gt; compatible CAPTCHA if possible.&lt;/p&gt;\n",
       "\n",
       "&lt;p&gt;Ideas?&lt;/p&gt;\n",
       "</pre></div></td></tr><tr><td>Title</td><td><div class=\"dni-plaintext\"><pre>Practical non-image based CAPTCHA approaches?</pre></div></td></tr><tr><td>ViewCount</td><td><div class=\"dni-plaintext\"><pre>72431</pre></div></td></tr><tr><td>AnswerCount</td><td><div class=\"dni-plaintext\"><pre>103</pre></div></td></tr><tr><td>CommentCount</td><td><div class=\"dni-plaintext\"><pre>25</pre></div></td></tr><tr><td>FavoriteCount</td><td><div class=\"dni-plaintext\"><pre>326</pre></div></td></tr><tr><td>AcceptedAnswerId</td><td><div class=\"dni-plaintext\"><pre>8637</pre></div></td></tr><tr><td>CreatedOn</td><td><span>2008-08-12 04:59:35Z</span></td></tr><tr><td>ClosedDate</td><td><div class=\"dni-plaintext\"><pre>&lt;null&gt;</pre></div></td></tr><tr><td>OwnerUserId</td><td><div class=\"dni-plaintext\"><pre>1</pre></div></td></tr><tr><td>OwnerDisplayName</td><td><div class=\"dni-plaintext\"><pre>Jeff Atwood</pre></div></td></tr><tr><td>PostType</td><td><div class=\"dni-plaintext\"><pre>Question</pre></div></td></tr><tr><td>Score</td><td><div class=\"dni-plaintext\"><pre>318</pre></div></td></tr><tr><td>Tags</td><td><div class=\"dni-plaintext\"><pre>&lt;security&gt;&lt;language-agnostic&gt;&lt;captcha&gt;</pre></div></td></tr></tbody></table></div></details></td></tr><tr><td>2</td><td><details class=\"dni-treeview\"><summary><span class=\"dni-code-hint\"><code>Submission#36+Post</code></span></summary><div><table><thead><tr></tr></thead><tbody><tr><td>id</td><td><div class=\"dni-plaintext\"><pre>e341c49f-d553-4f10-b0de-18bc8fd3480c</pre></div></td></tr><tr><td>PostId</td><td><div class=\"dni-plaintext\"><pre>9</pre></div></td></tr><tr><td>PostBody</td><td><div class=\"dni-plaintext\"><pre>&lt;p&gt;Given a &lt;code&gt;DateTime&lt;/code&gt; representing a person&#39;s birthday, how do I calculate their age in years?  &lt;/p&gt;\n",
       "</pre></div></td></tr><tr><td>Title</td><td><div class=\"dni-plaintext\"><pre>How do I calculate someone&#39;s age in C#?</pre></div></td></tr><tr><td>ViewCount</td><td><div class=\"dni-plaintext\"><pre>480476</pre></div></td></tr><tr><td>AnswerCount</td><td><div class=\"dni-plaintext\"><pre>64</pre></div></td></tr><tr><td>CommentCount</td><td><div class=\"dni-plaintext\"><pre>7</pre></div></td></tr><tr><td>FavoriteCount</td><td><div class=\"dni-plaintext\"><pre>399</pre></div></td></tr><tr><td>AcceptedAnswerId</td><td><div class=\"dni-plaintext\"><pre>1404</pre></div></td></tr><tr><td>CreatedOn</td><td><span>2008-07-31 23:40:59Z</span></td></tr><tr><td>ClosedDate</td><td><div class=\"dni-plaintext\"><pre>&lt;null&gt;</pre></div></td></tr><tr><td>OwnerUserId</td><td><div class=\"dni-plaintext\"><pre>1</pre></div></td></tr><tr><td>OwnerDisplayName</td><td><div class=\"dni-plaintext\"><pre>Jeff Atwood</pre></div></td></tr><tr><td>PostType</td><td><div class=\"dni-plaintext\"><pre>Question</pre></div></td></tr><tr><td>Score</td><td><div class=\"dni-plaintext\"><pre>1743</pre></div></td></tr><tr><td>Tags</td><td><div class=\"dni-plaintext\"><pre>&lt;c#&gt;&lt;.net&gt;&lt;datetime&gt;</pre></div></td></tr></tbody></table></div></details></td></tr><tr><td>3</td><td><details class=\"dni-treeview\"><summary><span class=\"dni-code-hint\"><code>Submission#36+Post</code></span></summary><div><table><thead><tr></tr></thead><tbody><tr><td>id</td><td><div class=\"dni-plaintext\"><pre>bb87518d-489d-4ee5-a19d-8835c96596a9</pre></div></td></tr><tr><td>PostId</td><td><div class=\"dni-plaintext\"><pre>11</pre></div></td></tr><tr><td>PostBody</td><td><div class=\"dni-plaintext\"><pre>&lt;p&gt;Given a specific &lt;code&gt;DateTime&lt;/code&gt; value, how do I display relative time, like:&lt;/p&gt;\n",
       "\n",
       "&lt;ul&gt;\n",
       "&lt;li&gt;2 hours ago&lt;/li&gt;\n",
       "&lt;li&gt;3 days ago&lt;/li&gt;\n",
       "&lt;li&gt;a month ago&lt;/li&gt;\n",
       "&lt;/ul&gt;\n",
       "</pre></div></td></tr><tr><td>Title</td><td><div class=\"dni-plaintext\"><pre>Calculate relative time in C#</pre></div></td></tr><tr><td>ViewCount</td><td><div class=\"dni-plaintext\"><pre>136033</pre></div></td></tr><tr><td>AnswerCount</td><td><div class=\"dni-plaintext\"><pre>35</pre></div></td></tr><tr><td>CommentCount</td><td><div class=\"dni-plaintext\"><pre>3</pre></div></td></tr><tr><td>FavoriteCount</td><td><div class=\"dni-plaintext\"><pre>529</pre></div></td></tr><tr><td>AcceptedAnswerId</td><td><div class=\"dni-plaintext\"><pre>1248</pre></div></td></tr><tr><td>CreatedOn</td><td><span>2008-07-31 23:55:37Z</span></td></tr><tr><td>ClosedDate</td><td><div class=\"dni-plaintext\"><pre>&lt;null&gt;</pre></div></td></tr><tr><td>OwnerUserId</td><td><div class=\"dni-plaintext\"><pre>1</pre></div></td></tr><tr><td>OwnerDisplayName</td><td><div class=\"dni-plaintext\"><pre>Jeff Atwood</pre></div></td></tr><tr><td>PostType</td><td><div class=\"dni-plaintext\"><pre>Question</pre></div></td></tr><tr><td>Score</td><td><div class=\"dni-plaintext\"><pre>1348</pre></div></td></tr><tr><td>Tags</td><td><div class=\"dni-plaintext\"><pre>&lt;c#&gt;&lt;datetime&gt;&lt;time&gt;&lt;datediff&gt;&lt;relative-time-span&gt;</pre></div></td></tr></tbody></table></div></details></td></tr></tbody></table><style>\r\n",
       ".dni-code-hint {\r\n",
       "    font-style: italic;\r\n",
       "    overflow: hidden;\r\n",
       "    white-space: nowrap;\r\n",
       "}\r\n",
       ".dni-treeview {\r\n",
       "    white-space: nowrap;\r\n",
       "}\r\n",
       ".dni-treeview td {\r\n",
       "    vertical-align: top;\r\n",
       "    text-align: start;\r\n",
       "}\r\n",
       "details.dni-treeview {\r\n",
       "    padding-left: 1em;\r\n",
       "}\r\n",
       "table td {\r\n",
       "    text-align: start;\r\n",
       "}\r\n",
       "table tr { \r\n",
       "    vertical-align: top; \r\n",
       "    margin: 0em 0px;\r\n",
       "}\r\n",
       "table tr td pre \r\n",
       "{ \r\n",
       "    vertical-align: top !important; \r\n",
       "    margin: 0em 0px !important;\r\n",
       "} \r\n",
       "table th {\r\n",
       "    text-align: start;\r\n",
       "}\r\n",
       "</style>"
      ]
     },
     "metadata": {},
     "output_type": "display_data"
    }
   ],
   "source": [
    "var cmd = \"SELECT * FROM c WHERE c.OwnerUserId = 1 and c.PostType = 'Question'\";\n",
    "var postQuery = new QueryDefinition(cmd);\n",
    "var iterator = postContainer.GetItemQueryIterator<Post>(postQuery);\n",
    "var results = new List<Post>();\n",
    "\n",
    "while (iterator.HasMoreResults)\n",
    "{\n",
    "    var response = await iterator.ReadNextAsync();    \n",
    "    results.AddRange(response);\n",
    "    response.RequestCharge.Display(); // Display the request charge of the response\n",
    "}\n",
    "results.Display();"
   ]
  }
 ],
 "metadata": {
  "kernelspec": {
   "display_name": ".NET (C#)",
   "language": "C#",
   "name": ".net-csharp"
  },
  "polyglot_notebook": {
   "kernelInfo": {
    "defaultKernelName": "csharp",
    "items": [
     {
      "aliases": [],
      "languageName": "csharp",
      "name": "csharp"
     }
    ]
   }
  }
 },
 "nbformat": 4,
 "nbformat_minor": 5
}
