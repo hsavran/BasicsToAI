{
 "cells": [
  {
   "cell_type": "code",
   "execution_count": 1,
   "id": "62ea5f82",
   "metadata": {
    "polyglot_notebook": {
     "kernelName": "csharp"
    }
   },
   "outputs": [
    {
     "data": {
      "text/html": [
       "<div><div></div><div></div><div><strong>Installed Packages</strong><ul><li><span>Microsoft.Azure.Cosmos, 3.51.0</span></li><li><span>Newtonsoft.Json, 13.0.3</span></li></ul></div></div>"
      ]
     },
     "metadata": {},
     "output_type": "display_data"
    }
   ],
   "source": [
    "#r \"nuget: Newtonsoft.Json\"\n",
    "#r \"nuget: Microsoft.Azure.Cosmos\"\n",
    "using Microsoft.Azure.Cosmos;\n",
    "using System.Net.Http;\n",
    "using Newtonsoft.Json;\n"
   ]
  },
  {
   "cell_type": "code",
   "execution_count": 2,
   "id": "19844e86",
   "metadata": {
    "polyglot_notebook": {
     "kernelName": "csharp"
    }
   },
   "outputs": [],
   "source": [
    "var cstring = \"AccountEndpoint=https://localhost:8081/;AccountKey=C2y6yDjf5/R+ob0N8A7Cgv30VRDJIWEHLM+4QDU5DE2nQ9nDuVTqobD4b8mGGyPMbIZnqyMsEcaGQy67XIw/Jw==\";\n",
    "var client = new CosmosClient(cstring);\n",
    "var db = client.GetDatabase(\"StackOverflow\");\n",
    "var postContainer = db.GetContainer(\"Posts\");"
   ]
  },
  {
   "cell_type": "code",
   "execution_count": 3,
   "id": "c56c7a2d",
   "metadata": {
    "polyglot_notebook": {
     "kernelName": "csharp"
    }
   },
   "outputs": [],
   "source": [
    "public class Post    \n",
    "{\n",
    "    public string id { get; set; }\n",
    "    public int PostId { get; set; }\n",
    "    public string PostBody { get; set; }\n",
    "    public string Title { get; set; }\n",
    "    public int ViewCount { get; set; }\n",
    "    public int AnswerCount { get; set; }\n",
    "    public int CommentCount { get; set; }\n",
    "    public int FavoriteCount { get; set; }\n",
    "    public int AcceptedAnswerId { get; set; }\n",
    "    public DateTime? CreatedOn { get; set; }\n",
    "    public DateTime? ClosedDate { get; set; }\n",
    "    public int OwnerUserId { get; set; }\n",
    "    public string OwnerDisplayName { get; set; }\n",
    "    public string PostType { get; set; }\n",
    "    public int Score { get; set; }\n",
    "    public string Tags { get; set; }\n",
    "}"
   ]
  },
  {
   "cell_type": "code",
   "execution_count": 37,
   "id": "8c420709",
   "metadata": {
    "polyglot_notebook": {
     "kernelName": "csharp"
    }
   },
   "outputs": [
    {
     "data": {
      "text/html": [
       "<div class=\"dni-plaintext\"><pre>9264</pre></div><style>\r\n",
       ".dni-code-hint {\r\n",
       "    font-style: italic;\r\n",
       "    overflow: hidden;\r\n",
       "    white-space: nowrap;\r\n",
       "}\r\n",
       ".dni-treeview {\r\n",
       "    white-space: nowrap;\r\n",
       "}\r\n",
       ".dni-treeview td {\r\n",
       "    vertical-align: top;\r\n",
       "    text-align: start;\r\n",
       "}\r\n",
       "details.dni-treeview {\r\n",
       "    padding-left: 1em;\r\n",
       "}\r\n",
       "table td {\r\n",
       "    text-align: start;\r\n",
       "}\r\n",
       "table tr { \r\n",
       "    vertical-align: top; \r\n",
       "    margin: 0em 0px;\r\n",
       "}\r\n",
       "table tr td pre \r\n",
       "{ \r\n",
       "    vertical-align: top !important; \r\n",
       "    margin: 0em 0px !important;\r\n",
       "} \r\n",
       "table th {\r\n",
       "    text-align: start;\r\n",
       "}\r\n",
       "</style>"
      ]
     },
     "metadata": {},
     "output_type": "display_data"
    },
    {
     "ename": "Error",
     "evalue": "Microsoft.Azure.Cosmos.CosmosException : Response status code does not indicate success: Conflict (409); Substatus: 0; ActivityId: b256f539-1b96-4711-ab43-78cfb243540a; Reason: ();\r\n   at Microsoft.Azure.Cosmos.ClientContextCore.RunWithDiagnosticsHelperAsync[TResult](String containerName, String databaseName, OperationType operationType, ITrace trace, Func`2 task, Nullable`1 openTelemetry, RequestOptions requestOptions, Nullable`1 resourceType)\r\n   at Microsoft.Azure.Cosmos.ClientContextCore.OperationHelperWithRootTraceAsync[TResult](String operationName, String containerName, String databaseName, OperationType operationType, RequestOptions requestOptions, Func`2 task, Nullable`1 openTelemetry, TraceComponent traceComponent, TraceLevel traceLevel, Nullable`1 resourceType)\r\n   at Submission#37.<<Initialize>>d__0.MoveNext()\r\n--- End of stack trace from previous location ---\r\n   at Microsoft.CodeAnalysis.Scripting.ScriptExecutionState.RunSubmissionsAsync[TResult](ImmutableArray`1 precedingExecutors, Func`2 currentExecutor, StrongBox`1 exceptionHolderOpt, Func`2 catchExceptionOpt, CancellationToken cancellationToken)\r\n--- Cosmos Diagnostics ---{\"Summary\":{\"DirectCalls\":{\"(207, 0)\":1},\"GatewayCalls\":{\"(200, 0)\":2}},\"name\":\"CreateItemAsync\",\"start datetime\":\"2025-04-16T18:37:32.183Z\",\"duration in milliseconds\":2196.8892,\"data\":{\"Client Configuration\":{\"Client Created Time Utc\":\"2025-04-16T18:37:32.1809686Z\",\"MachineId\":\"hashedMachineName:854b5717-0c71-e584-b8c5-e106e5718dfa\",\"NumberOfClientsCreated\":5,\"NumberOfActiveClients\":5,\"ConnectionMode\":\"Direct\",\"User Agent\":\"cosmos-netstandard-sdk/3.48.1|5|X64|Microsoft Windows 10.0.26100|.NET 9.0.3|N|F 00000001|\",\"ConnectionConfig\":{\"gw\":\"(cps:50, urto:6, p:False, httpf: False)\",\"rntbd\":\"(cto: 5, icto: -1, mrpc: 30, mcpe: 65535, erd: True, pr: ReuseUnicastPort)\",\"other\":\"(ed:False, be:True)\"},\"ConsistencyConfig\":\"(consistency: NotSet, prgns:[], apprgn: )\",\"ProcessorCount\":16}},\"children\":[{\"name\":\"ItemSerialize\",\"duration in milliseconds\":3.4825},{\"name\":\"Get Collection Cache\",\"duration in milliseconds\":2029.3219,\"children\":[{\"name\":\"Waiting for Initialization of client to complete\",\"duration in milliseconds\":2029.3166}]},{\"name\":\"Read Collection\",\"duration in milliseconds\":29.5545,\"data\":{\"Client Side Request Stats\":{\"Id\":\"AggregatedClientSideRequestStatistics\",\"ContactedReplicas\":[],\"RegionsContacted\":[],\"FailedReplicas\":[],\"AddressResolutionStatistics\":[],\"StoreResponseStatistics\":[],\"HttpResponseStats\":[{\"StartTimeUTC\":\"2025-04-16T18:37:34.2173936Z\",\"DurationInMs\":26.8604,\"RequestUri\":\"https://127.0.0.1:8081/dbs/StackOverflow/colls/Posts\",\"ResourceType\":\"Collection\",\"HttpMethod\":\"GET\",\"ActivityId\":\"adbe7d0e-6287-4723-b86c-2d5d36322f72\",\"StatusCode\":\"OK\"}]}}},{\"name\":\"Batch Dispatch Async\",\"duration in milliseconds\":34.5747,\"children\":[{\"name\":\"Using Wait\",\"duration in milliseconds\":0.0019},{\"name\":\"Microsoft.Azure.Cosmos.Handlers.RequestInvokerHandler\",\"duration in milliseconds\":34.2989,\"children\":[{\"name\":\"Microsoft.Azure.Cosmos.Handlers.DiagnosticsHandler\",\"duration in milliseconds\":34.2601,\"data\":{\"System Info\":{\"systemHistory\":[{\"dateUtc\":\"2025-04-16T18:36:36.5852401Z\",\"cpu\":23.502,\"memory\":901252.000,\"threadInfo\":{\"isThreadStarving\":\"False\",\"threadWaitIntervalInMs\":0.6626,\"availableThreads\":32766,\"minThreads\":16,\"maxThreads\":32767},\"numberOfOpenTcpConnection\":3},{\"dateUtc\":\"2025-04-16T18:36:46.5948278Z\",\"cpu\":17.533,\"memory\":886604.000,\"threadInfo\":{\"isThreadStarving\":\"False\",\"threadWaitIntervalInMs\":0.5511,\"availableThreads\":32765,\"minThreads\":16,\"maxThreads\":32767},\"numberOfOpenTcpConnection\":3},{\"dateUtc\":\"2025-04-16T18:36:56.6096435Z\",\"cpu\":9.838,\"memory\":942976.000,\"threadInfo\":{\"isThreadStarving\":\"False\",\"threadWaitIntervalInMs\":0.5086,\"availableThreads\":32765,\"minThreads\":16,\"maxThreads\":32767},\"numberOfOpenTcpConnection\":3},{\"dateUtc\":\"2025-04-16T18:37:06.6107587Z\",\"cpu\":19.877,\"memory\":1868320.000,\"threadInfo\":{\"isThreadStarving\":\"False\",\"threadWaitIntervalInMs\":0.1888,\"availableThreads\":32766,\"minThreads\":16,\"maxThreads\":32767},\"numberOfOpenTcpConnection\":3},{\"dateUtc\":\"2025-04-16T18:37:16.6116030Z\",\"cpu\":22.337,\"memory\":1812264.000,\"threadInfo\":{\"isThreadStarving\":\"False\",\"threadWaitIntervalInMs\":0.4352,\"availableThreads\":32766,\"minThreads\":16,\"maxThreads\":32767},\"numberOfOpenTcpConnection\":3},{\"dateUtc\":\"2025-04-16T18:37:26.6223410Z\",\"cpu\":13.105,\"memory\":1723004.000,\"threadInfo\":{\"isThreadStarving\":\"False\",\"threadWaitIntervalInMs\":0.0451,\"availableThreads\":32766,\"minThreads\":16,\"maxThreads\":32767},\"numberOfOpenTcpConnection\":3}]}},\"children\":[{\"name\":\"Microsoft.Azure.Cosmos.Handlers.TelemetryHandler\",\"duration in milliseconds\":34.2535,\"children\":[{\"name\":\"Microsoft.Azure.Cosmos.Handlers.RetryHandler\",\"duration in milliseconds\":34.2507,\"children\":[{\"name\":\"Microsoft.Azure.Cosmos.Handlers.RouterHandler\",\"duration in milliseconds\":34.2425,\"children\":[{\"name\":\"Microsoft.Azure.Cosmos.Handlers.TransportHandler\",\"duration in milliseconds\":34.2409,\"children\":[{\"name\":\"Microsoft.Azure.Documents.ServerStoreModel Transport Request\",\"duration in milliseconds\":34.1912,\"data\":{\"Client Side Request Stats\":{\"Id\":\"AggregatedClientSideRequestStatistics\",\"ContactedReplicas\":[{\"Count\":12,\"Uri\":\"rntbd://127.0.0.1:10253/apps/DocDbApp/services/DocDbServer6/partitions/a4cb4952-38c8-11e6-8106-8cdcd42c33be/replicas/1p/\"}],\"RegionsContacted\":[],\"FailedReplicas\":[],\"AddressResolutionStatistics\":[{\"StartTimeUTC\":\"2025-04-16T18:37:34.3464959Z\",\"EndTimeUTC\":\"2025-04-16T18:37:34.3548700Z\",\"TargetEndpoint\":\"https://127.0.0.1:8081//addresses/?$resolveFor=dbs%2f2%2blfAA%3d%3d%2fcolls%2f2%2blfAI0hEkA%3d%2fdocs&$filter=protocol eq rntbd&$partitionKeyRangeIds=0\"}],\"StoreResponseStatistics\":[{\"ResponseTimeUTC\":\"2025-04-16T18:37:34.3791176Z\",\"DurationInMs\":21.4317,\"ResourceType\":\"Document\",\"OperationType\":\"Batch\",\"LocationEndpoint\":\"https://127.0.0.1:8081/\",\"StoreResult\":{\"ActivityId\":\"b256f539-1b96-4711-ab43-78cfb243540a\",\"StatusCode\":\"MultiStatus\",\"SubStatusCode\":\"Unknown\",\"LSN\":9265,\"PartitionKeyRangeId\":\"0\",\"GlobalCommittedLSN\":-1,\"ItemLSN\":-1,\"UsingLocalLSN\":false,\"QuorumAckedLSN\":9265,\"SessionToken\":\"-1#9265\",\"CurrentWriteQuorum\":1,\"CurrentReplicaSetSize\":1,\"NumberOfReadRegions\":0,\"IsValid\":true,\"StorePhysicalAddress\":\"rntbd://127.0.0.1:10253/apps/DocDbApp/services/DocDbServer6/partitions/a4cb4952-38c8-11e6-8106-8cdcd42c33be/replicas/1p/\",\"RequestCharge\":2.67,\"RetryAfterInMs\":null,\"BELatencyInMs\":\"11.97\",\"ReplicaHealthStatuses\":[\"(port: 10253 | status: Connected | lkt: 4/16/2025 6:37:34 PM)\"],\"transportRequestTimeline\":{\"requestTimeline\":[{\"event\": \"Created\", \"startTimeUtc\": \"2025-04-16T18:37:34.3576883Z\", \"durationInMs\": 0.0496},{\"event\": \"ChannelAcquisitionStarted\", \"startTimeUtc\": \"2025-04-16T18:37:34.3577379Z\", \"durationInMs\": 8.6376},{\"event\": \"Pipelined\", \"startTimeUtc\": \"2025-04-16T18:37:34.3663755Z\", \"durationInMs\": 0.1276},{\"event\": \"Transit Time\", \"startTimeUtc\": \"2025-04-16T18:37:34.3665031Z\", \"durationInMs\": 12.4889},{\"event\": \"Received\", \"startTimeUtc\": \"2025-04-16T18:37:34.3789920Z\", \"durationInMs\": 0.1098},{\"event\": \"Completed\", \"startTimeUtc\": \"2025-04-16T18:37:34.3791018Z\", \"durationInMs\": 0}],\"serviceEndpointStats\":{\"inflightRequests\":1,\"openConnections\":1},\"connectionStats\":{\"waitforConnectionInit\":\"True\",\"callsPendingReceive\":0,\"lastSendAttempt\":\"2025-04-16T18:37:34.3649475Z\",\"lastSend\":\"2025-04-16T18:37:34.3649893Z\",\"lastReceive\":\"2025-04-16T18:37:34.3653969Z\"},\"requestSizeInBytes\":1280,\"requestBodySizeInBytes\":927,\"responseMetadataSizeInBytes\":243,\"responseBodySizeInBytes\":47},\"TransportException\":null}}],\"HttpResponseStats\":[{\"StartTimeUTC\":\"2025-04-16T18:37:34.3465407Z\",\"DurationInMs\":7.7823,\"RequestUri\":\"https://127.0.0.1:8081//addresses/?$resolveFor=dbs%2f2%2blfAA%3d%3d%2fcolls%2f2%2blfAI0hEkA%3d%2fdocs&$filter=protocol eq rntbd&$partitionKeyRangeIds=0\",\"ResourceType\":\"Document\",\"HttpMethod\":\"GET\",\"ActivityId\":\"b256f539-1b96-4711-ab43-78cfb243540a\",\"StatusCode\":\"OK\"}]}}}]}]}]}]}]}]},{\"name\":\"Create Trace\",\"duration in milliseconds\":0.0193}]}]}",
     "output_type": "error",
     "traceback": [
      "Microsoft.Azure.Cosmos.CosmosException : Response status code does not indicate success: Conflict (409); Substatus: 0; ActivityId: b256f539-1b96-4711-ab43-78cfb243540a; Reason: ();\r\n",
      "   at Microsoft.Azure.Cosmos.ClientContextCore.RunWithDiagnosticsHelperAsync[TResult](String containerName, String databaseName, OperationType operationType, ITrace trace, Func`2 task, Nullable`1 openTelemetry, RequestOptions requestOptions, Nullable`1 resourceType)\r\n",
      "   at Microsoft.Azure.Cosmos.ClientContextCore.OperationHelperWithRootTraceAsync[TResult](String operationName, String containerName, String databaseName, OperationType operationType, RequestOptions requestOptions, Func`2 task, Nullable`1 openTelemetry, TraceComponent traceComponent, TraceLevel traceLevel, Nullable`1 resourceType)\r\n",
      "   at Submission#37.<<Initialize>>d__0.MoveNext()\r\n",
      "--- End of stack trace from previous location ---\r\n",
      "   at Microsoft.CodeAnalysis.Scripting.ScriptExecutionState.RunSubmissionsAsync[TResult](ImmutableArray`1 precedingExecutors, Func`2 currentExecutor, StrongBox`1 exceptionHolderOpt, Func`2 catchExceptionOpt, CancellationToken cancellationToken)\r\n",
      "--- Cosmos Diagnostics ---{\"Summary\":{\"DirectCalls\":{\"(207, 0)\":1},\"GatewayCalls\":{\"(200, 0)\":2}},\"name\":\"CreateItemAsync\",\"start datetime\":\"2025-04-16T18:37:32.183Z\",\"duration in milliseconds\":2196.8892,\"data\":{\"Client Configuration\":{\"Client Created Time Utc\":\"2025-04-16T18:37:32.1809686Z\",\"MachineId\":\"hashedMachineName:854b5717-0c71-e584-b8c5-e106e5718dfa\",\"NumberOfClientsCreated\":5,\"NumberOfActiveClients\":5,\"ConnectionMode\":\"Direct\",\"User Agent\":\"cosmos-netstandard-sdk/3.48.1|5|X64|Microsoft Windows 10.0.26100|.NET 9.0.3|N|F 00000001|\",\"ConnectionConfig\":{\"gw\":\"(cps:50, urto:6, p:False, httpf: False)\",\"rntbd\":\"(cto: 5, icto: -1, mrpc: 30, mcpe: 65535, erd: True, pr: ReuseUnicastPort)\",\"other\":\"(ed:False, be:True)\"},\"ConsistencyConfig\":\"(consistency: NotSet, prgns:[], apprgn: )\",\"ProcessorCount\":16}},\"children\":[{\"name\":\"ItemSerialize\",\"duration in milliseconds\":3.4825},{\"name\":\"Get Collection Cache\",\"duration in milliseconds\":2029.3219,\"children\":[{\"name\":\"Waiting for Initialization of client to complete\",\"duration in milliseconds\":2029.3166}]},{\"name\":\"Read Collection\",\"duration in milliseconds\":29.5545,\"data\":{\"Client Side Request Stats\":{\"Id\":\"AggregatedClientSideRequestStatistics\",\"ContactedReplicas\":[],\"RegionsContacted\":[],\"FailedReplicas\":[],\"AddressResolutionStatistics\":[],\"StoreResponseStatistics\":[],\"HttpResponseStats\":[{\"StartTimeUTC\":\"2025-04-16T18:37:34.2173936Z\",\"DurationInMs\":26.8604,\"RequestUri\":\"https://127.0.0.1:8081/dbs/StackOverflow/colls/Posts\",\"ResourceType\":\"Collection\",\"HttpMethod\":\"GET\",\"ActivityId\":\"adbe7d0e-6287-4723-b86c-2d5d36322f72\",\"StatusCode\":\"OK\"}]}}},{\"name\":\"Batch Dispatch Async\",\"duration in milliseconds\":34.5747,\"children\":[{\"name\":\"Using Wait\",\"duration in milliseconds\":0.0019},{\"name\":\"Microsoft.Azure.Cosmos.Handlers.RequestInvokerHandler\",\"duration in milliseconds\":34.2989,\"children\":[{\"name\":\"Microsoft.Azure.Cosmos.Handlers.DiagnosticsHandler\",\"duration in milliseconds\":34.2601,\"data\":{\"System Info\":{\"systemHistory\":[{\"dateUtc\":\"2025-04-16T18:36:36.5852401Z\",\"cpu\":23.502,\"memory\":901252.000,\"threadInfo\":{\"isThreadStarving\":\"False\",\"threadWaitIntervalInMs\":0.6626,\"availableThreads\":32766,\"minThreads\":16,\"maxThreads\":32767},\"numberOfOpenTcpConnection\":3},{\"dateUtc\":\"2025-04-16T18:36:46.5948278Z\",\"cpu\":17.533,\"memory\":886604.000,\"threadInfo\":{\"isThreadStarving\":\"False\",\"threadWaitIntervalInMs\":0.5511,\"availableThreads\":32765,\"minThreads\":16,\"maxThreads\":32767},\"numberOfOpenTcpConnection\":3},{\"dateUtc\":\"2025-04-16T18:36:56.6096435Z\",\"cpu\":9.838,\"memory\":942976.000,\"threadInfo\":{\"isThreadStarving\":\"False\",\"threadWaitIntervalInMs\":0.5086,\"availableThreads\":32765,\"minThreads\":16,\"maxThreads\":32767},\"numberOfOpenTcpConnection\":3},{\"dateUtc\":\"2025-04-16T18:37:06.6107587Z\",\"cpu\":19.877,\"memory\":1868320.000,\"threadInfo\":{\"isThreadStarving\":\"False\",\"threadWaitIntervalInMs\":0.1888,\"availableThreads\":32766,\"minThreads\":16,\"maxThreads\":32767},\"numberOfOpenTcpConnection\":3},{\"dateUtc\":\"2025-04-16T18:37:16.6116030Z\",\"cpu\":22.337,\"memory\":1812264.000,\"threadInfo\":{\"isThreadStarving\":\"False\",\"threadWaitIntervalInMs\":0.4352,\"availableThreads\":32766,\"minThreads\":16,\"maxThreads\":32767},\"numberOfOpenTcpConnection\":3},{\"dateUtc\":\"2025-04-16T18:37:26.6223410Z\",\"cpu\":13.105,\"memory\":1723004.000,\"threadInfo\":{\"isThreadStarving\":\"False\",\"threadWaitIntervalInMs\":0.0451,\"availableThreads\":32766,\"minThreads\":16,\"maxThreads\":32767},\"numberOfOpenTcpConnection\":3}]}},\"children\":[{\"name\":\"Microsoft.Azure.Cosmos.Handlers.TelemetryHandler\",\"duration in milliseconds\":34.2535,\"children\":[{\"name\":\"Microsoft.Azure.Cosmos.Handlers.RetryHandler\",\"duration in milliseconds\":34.2507,\"children\":[{\"name\":\"Microsoft.Azure.Cosmos.Handlers.RouterHandler\",\"duration in milliseconds\":34.2425,\"children\":[{\"name\":\"Microsoft.Azure.Cosmos.Handlers.TransportHandler\",\"duration in milliseconds\":34.2409,\"children\":[{\"name\":\"Microsoft.Azure.Documents.ServerStoreModel Transport Request\",\"duration in milliseconds\":34.1912,\"data\":{\"Client Side Request Stats\":{\"Id\":\"AggregatedClientSideRequestStatistics\",\"ContactedReplicas\":[{\"Count\":12,\"Uri\":\"rntbd://127.0.0.1:10253/apps/DocDbApp/services/DocDbServer6/partitions/a4cb4952-38c8-11e6-8106-8cdcd42c33be/replicas/1p/\"}],\"RegionsContacted\":[],\"FailedReplicas\":[],\"AddressResolutionStatistics\":[{\"StartTimeUTC\":\"2025-04-16T18:37:34.3464959Z\",\"EndTimeUTC\":\"2025-04-16T18:37:34.3548700Z\",\"TargetEndpoint\":\"https://127.0.0.1:8081//addresses/?$resolveFor=dbs%2f2%2blfAA%3d%3d%2fcolls%2f2%2blfAI0hEkA%3d%2fdocs&$filter=protocol eq rntbd&$partitionKeyRangeIds=0\"}],\"StoreResponseStatistics\":[{\"ResponseTimeUTC\":\"2025-04-16T18:37:34.3791176Z\",\"DurationInMs\":21.4317,\"ResourceType\":\"Document\",\"OperationType\":\"Batch\",\"LocationEndpoint\":\"https://127.0.0.1:8081/\",\"StoreResult\":{\"ActivityId\":\"b256f539-1b96-4711-ab43-78cfb243540a\",\"StatusCode\":\"MultiStatus\",\"SubStatusCode\":\"Unknown\",\"LSN\":9265,\"PartitionKeyRangeId\":\"0\",\"GlobalCommittedLSN\":-1,\"ItemLSN\":-1,\"UsingLocalLSN\":false,\"QuorumAckedLSN\":9265,\"SessionToken\":\"-1#9265\",\"CurrentWriteQuorum\":1,\"CurrentReplicaSetSize\":1,\"NumberOfReadRegions\":0,\"IsValid\":true,\"StorePhysicalAddress\":\"rntbd://127.0.0.1:10253/apps/DocDbApp/services/DocDbServer6/partitions/a4cb4952-38c8-11e6-8106-8cdcd42c33be/replicas/1p/\",\"RequestCharge\":2.67,\"RetryAfterInMs\":null,\"BELatencyInMs\":\"11.97\",\"ReplicaHealthStatuses\":[\"(port: 10253 | status: Connected | lkt: 4/16/2025 6:37:34 PM)\"],\"transportRequestTimeline\":{\"requestTimeline\":[{\"event\": \"Created\", \"startTimeUtc\": \"2025-04-16T18:37:34.3576883Z\", \"durationInMs\": 0.0496},{\"event\": \"ChannelAcquisitionStarted\", \"startTimeUtc\": \"2025-04-16T18:37:34.3577379Z\", \"durationInMs\": 8.6376},{\"event\": \"Pipelined\", \"startTimeUtc\": \"2025-04-16T18:37:34.3663755Z\", \"durationInMs\": 0.1276},{\"event\": \"Transit Time\", \"startTimeUtc\": \"2025-04-16T18:37:34.3665031Z\", \"durationInMs\": 12.4889},{\"event\": \"Received\", \"startTimeUtc\": \"2025-04-16T18:37:34.3789920Z\", \"durationInMs\": 0.1098},{\"event\": \"Completed\", \"startTimeUtc\": \"2025-04-16T18:37:34.3791018Z\", \"durationInMs\": 0}],\"serviceEndpointStats\":{\"inflightRequests\":1,\"openConnections\":1},\"connectionStats\":{\"waitforConnectionInit\":\"True\",\"callsPendingReceive\":0,\"lastSendAttempt\":\"2025-04-16T18:37:34.3649475Z\",\"lastSend\":\"2025-04-16T18:37:34.3649893Z\",\"lastReceive\":\"2025-04-16T18:37:34.3653969Z\"},\"requestSizeInBytes\":1280,\"requestBodySizeInBytes\":927,\"responseMetadataSizeInBytes\":243,\"responseBodySizeInBytes\":47},\"TransportException\":null}}],\"HttpResponseStats\":[{\"StartTimeUTC\":\"2025-04-16T18:37:34.3465407Z\",\"DurationInMs\":7.7823,\"RequestUri\":\"https://127.0.0.1:8081//addresses/?$resolveFor=dbs%2f2%2blfAA%3d%3d%2fcolls%2f2%2blfAI0hEkA%3d%2fdocs&$filter=protocol eq rntbd&$partitionKeyRangeIds=0\",\"ResourceType\":\"Document\",\"HttpMethod\":\"GET\",\"ActivityId\":\"b256f539-1b96-4711-ab43-78cfb243540a\",\"StatusCode\":\"OK\"}]}}}]}]}]}]}]}]},{\"name\":\"Create Trace\",\"duration in milliseconds\":0.0193}]}]}"
     ]
    }
   ],
   "source": [
    "using Newtonsoft.Json.Linq;\n",
    "\n",
    "// It takes 15 minutes to run this code\n",
    "var json = await new HttpClient().GetStringAsync(\"https://raw.githubusercontent.com/hsavran/Presentations/refs/heads/main/stackoverflow.json\");\n",
    "var postList = JsonConvert.DeserializeObject<List<Post>>(json);\n",
    "postList.Count.Display(); // Display the number of posts\n",
    "//write the post to the container in bulk mode\n",
    "client = new CosmosClient(cstring, new CosmosClientOptions() {AllowBulkExecution = true});\n",
    "Container postContainer = client.GetContainer(\"StackOverflow\", \"Posts\");\n",
    "foreach (var post in postList)\n",
    "{\n",
    "    var response = await postContainer.CreateItemAsync(post, new PartitionKey(post.OwnerUserId));\n",
    "    //response.StatusCode.Display(); // Display the status code of the response\n",
    "}"
   ]
  },
  {
   "cell_type": "code",
   "execution_count": 4,
   "id": "6a5c93a3",
   "metadata": {
    "polyglot_notebook": {
     "kernelName": "csharp"
    }
   },
   "outputs": [
    {
     "ename": "Error",
     "evalue": "System.Net.Http.HttpRequestException: No connection could be made because the target machine actively refused it. (localhost:8081)\r\n ---> System.Net.Sockets.SocketException (10061): No connection could be made because the target machine actively refused it.\r\n   at System.Net.Sockets.Socket.AwaitableSocketAsyncEventArgs.ThrowException(SocketError error, CancellationToken cancellationToken)\r\n   at System.Net.Sockets.Socket.AwaitableSocketAsyncEventArgs.System.Threading.Tasks.Sources.IValueTaskSource.GetResult(Int16 token)\r\n   at System.Net.Sockets.Socket.<ConnectAsync>g__WaitForConnectWithCancellation|285_0(AwaitableSocketAsyncEventArgs saea, ValueTask connectTask, CancellationToken cancellationToken)\r\n   at System.Net.Http.HttpConnectionPool.ConnectToTcpHostAsync(String host, Int32 port, HttpRequestMessage initialRequest, Boolean async, CancellationToken cancellationToken)\r\n   --- End of inner exception stack trace ---\r\n   at Microsoft.Azure.Cosmos.Routing.GlobalEndpointManager.GetAccountPropertiesHelper.GetOnlyGlobalEndpointAsync()\r\n   at Microsoft.Azure.Cosmos.Routing.GlobalEndpointManager.GetAccountPropertiesHelper.GetAccountPropertiesAsync()\r\n   at Microsoft.Azure.Cosmos.Routing.GlobalEndpointManager.GetDatabaseAccountFromAnyLocationsAsync(Uri defaultEndpoint, IList`1 locations, IList`1 accountInitializationCustomEndpoints, Func`2 getDatabaseAccountFn, CancellationToken cancellationToken)\r\n   at Microsoft.Azure.Cosmos.GatewayAccountReader.InitializeReaderAsync()\r\n   at Microsoft.Azure.Cosmos.CosmosAccountServiceConfiguration.InitializeAsync()\r\n   at Microsoft.Azure.Cosmos.DocumentClient.InitializeGatewayConfigurationReaderAsync()\r\n   at Microsoft.Azure.Cosmos.DocumentClient.GetInitializationTaskAsync(IStoreClientFactory storeClientFactory)\r\n   at Microsoft.Azure.Documents.BackoffRetryUtility`1.ExecuteRetryAsync[TParam,TPolicy](Func`1 callbackMethod, Func`3 callbackMethodWithParam, Func`2 callbackMethodWithPolicy, TParam param, IRetryPolicy retryPolicy, IRetryPolicy`1 retryPolicyWithArg, Func`1 inBackoffAlternateCallbackMethod, Func`2 inBackoffAlternateCallbackMethodWithPolicy, TimeSpan minBackoffForInBackoffCallback, CancellationToken cancellationToken, Action`1 preRetryCallback)\r\n   at Microsoft.Azure.Documents.ShouldRetryResult.ThrowIfDoneTrying(ExceptionDispatchInfo capturedException)\r\n   at Microsoft.Azure.Documents.BackoffRetryUtility`1.ExecuteRetryAsync[TParam,TPolicy](Func`1 callbackMethod, Func`3 callbackMethodWithParam, Func`2 callbackMethodWithPolicy, TParam param, IRetryPolicy retryPolicy, IRetryPolicy`1 retryPolicyWithArg, Func`1 inBackoffAlternateCallbackMethod, Func`2 inBackoffAlternateCallbackMethodWithPolicy, TimeSpan minBackoffForInBackoffCallback, CancellationToken cancellationToken, Action`1 preRetryCallback)\r\n   at Microsoft.Azure.Documents.BackoffRetryUtility`1.ExecuteRetryAsync[TParam,TPolicy](Func`1 callbackMethod, Func`3 callbackMethodWithParam, Func`2 callbackMethodWithPolicy, TParam param, IRetryPolicy retryPolicy, IRetryPolicy`1 retryPolicyWithArg, Func`1 inBackoffAlternateCallbackMethod, Func`2 inBackoffAlternateCallbackMethodWithPolicy, TimeSpan minBackoffForInBackoffCallback, CancellationToken cancellationToken, Action`1 preRetryCallback)\r\n   at Microsoft.Azure.Cosmos.AsyncCacheNonBlocking`2.GetAsync(TKey key, Func`2 singleValueInitFunc, Func`2 forceRefresh)\r\n   at Microsoft.Azure.Cosmos.DocumentClient.EnsureValidClientAsync(ITrace trace)\r\n   at Microsoft.Azure.Cosmos.DocumentClient.GetCollectionCacheAsync(ITrace trace)\r\n   at Microsoft.Azure.Cosmos.ClientContextCore.GetCachedContainerPropertiesAsync(String containerUri, ITrace trace, CancellationToken cancellationToken)\r\n   at Microsoft.Azure.Cosmos.CosmosQueryClientCore.GetCachedContainerQueryPropertiesAsync(String containerLink, Nullable`1 partitionKey, ITrace trace, CancellationToken cancellationToken)\r\n   at Microsoft.Azure.Cosmos.Query.Core.ExecutionContext.CosmosQueryExecutionContextFactory.TryCreateCoreContextAsync(DocumentContainer documentContainer, CosmosQueryContext cosmosQueryContext, InputParameters inputParameters, ITrace trace, CancellationToken cancellationToken)\r\n   at Microsoft.Azure.Cosmos.Query.Core.AsyncLazy`1.GetValueAsync(ITrace trace, CancellationToken cancellationToken)\r\n   at Microsoft.Azure.Cosmos.Query.Core.Pipeline.LazyQueryPipelineStage.MoveNextAsync(ITrace trace, CancellationToken cancellationToken)\r\n   at Microsoft.Azure.Cosmos.Query.Core.Pipeline.NameCacheStaleRetryQueryPipelineStage.MoveNextAsync(ITrace trace, CancellationToken cancellationToken)\r\n   at Microsoft.Azure.Cosmos.Query.Core.Pipeline.CatchAllQueryPipelineStage.MoveNextAsync(ITrace trace, CancellationToken cancellationToken)\r\n   at Microsoft.Azure.Cosmos.Query.QueryIterator.ReadNextAsync(ITrace trace, CancellationToken cancellationToken)\r\n   at Microsoft.Azure.Cosmos.FeedIteratorCore`1.ReadNextAsync(ITrace trace, CancellationToken cancellationToken)\r\n   at Microsoft.Azure.Cosmos.ClientContextCore.RunWithDiagnosticsHelperAsync[TResult](String containerName, String databaseName, OperationType operationType, ITrace trace, Func`2 task, Nullable`1 openTelemetry, RequestOptions requestOptions, Nullable`1 resourceType)\r\n   at Microsoft.Azure.Cosmos.ClientContextCore.OperationHelperWithRootTraceAsync[TResult](String operationName, String containerName, String databaseName, OperationType operationType, RequestOptions requestOptions, Func`2 task, Nullable`1 openTelemetry, TraceComponent traceComponent, TraceLevel traceLevel, Nullable`1 resourceType)\r\n   at Submission#4.<<Initialize>>d__0.MoveNext()\r\n--- End of stack trace from previous location ---\r\n   at Microsoft.CodeAnalysis.Scripting.ScriptExecutionState.RunSubmissionsAsync[TResult](ImmutableArray`1 precedingExecutors, Func`2 currentExecutor, StrongBox`1 exceptionHolderOpt, Func`2 catchExceptionOpt, CancellationToken cancellationToken)",
     "output_type": "error",
     "traceback": [
      "System.Net.Http.HttpRequestException: No connection could be made because the target machine actively refused it. (localhost:8081)\r\n",
      " ---> System.Net.Sockets.SocketException (10061): No connection could be made because the target machine actively refused it.\r\n",
      "   at System.Net.Sockets.Socket.AwaitableSocketAsyncEventArgs.ThrowException(SocketError error, CancellationToken cancellationToken)\r\n",
      "   at System.Net.Sockets.Socket.AwaitableSocketAsyncEventArgs.System.Threading.Tasks.Sources.IValueTaskSource.GetResult(Int16 token)\r\n",
      "   at System.Net.Sockets.Socket.<ConnectAsync>g__WaitForConnectWithCancellation|285_0(AwaitableSocketAsyncEventArgs saea, ValueTask connectTask, CancellationToken cancellationToken)\r\n",
      "   at System.Net.Http.HttpConnectionPool.ConnectToTcpHostAsync(String host, Int32 port, HttpRequestMessage initialRequest, Boolean async, CancellationToken cancellationToken)\r\n",
      "   --- End of inner exception stack trace ---\r\n",
      "   at Microsoft.Azure.Cosmos.Routing.GlobalEndpointManager.GetAccountPropertiesHelper.GetOnlyGlobalEndpointAsync()\r\n",
      "   at Microsoft.Azure.Cosmos.Routing.GlobalEndpointManager.GetAccountPropertiesHelper.GetAccountPropertiesAsync()\r\n",
      "   at Microsoft.Azure.Cosmos.Routing.GlobalEndpointManager.GetDatabaseAccountFromAnyLocationsAsync(Uri defaultEndpoint, IList`1 locations, IList`1 accountInitializationCustomEndpoints, Func`2 getDatabaseAccountFn, CancellationToken cancellationToken)\r\n",
      "   at Microsoft.Azure.Cosmos.GatewayAccountReader.InitializeReaderAsync()\r\n",
      "   at Microsoft.Azure.Cosmos.CosmosAccountServiceConfiguration.InitializeAsync()\r\n",
      "   at Microsoft.Azure.Cosmos.DocumentClient.InitializeGatewayConfigurationReaderAsync()\r\n",
      "   at Microsoft.Azure.Cosmos.DocumentClient.GetInitializationTaskAsync(IStoreClientFactory storeClientFactory)\r\n",
      "   at Microsoft.Azure.Documents.BackoffRetryUtility`1.ExecuteRetryAsync[TParam,TPolicy](Func`1 callbackMethod, Func`3 callbackMethodWithParam, Func`2 callbackMethodWithPolicy, TParam param, IRetryPolicy retryPolicy, IRetryPolicy`1 retryPolicyWithArg, Func`1 inBackoffAlternateCallbackMethod, Func`2 inBackoffAlternateCallbackMethodWithPolicy, TimeSpan minBackoffForInBackoffCallback, CancellationToken cancellationToken, Action`1 preRetryCallback)\r\n",
      "   at Microsoft.Azure.Documents.ShouldRetryResult.ThrowIfDoneTrying(ExceptionDispatchInfo capturedException)\r\n",
      "   at Microsoft.Azure.Documents.BackoffRetryUtility`1.ExecuteRetryAsync[TParam,TPolicy](Func`1 callbackMethod, Func`3 callbackMethodWithParam, Func`2 callbackMethodWithPolicy, TParam param, IRetryPolicy retryPolicy, IRetryPolicy`1 retryPolicyWithArg, Func`1 inBackoffAlternateCallbackMethod, Func`2 inBackoffAlternateCallbackMethodWithPolicy, TimeSpan minBackoffForInBackoffCallback, CancellationToken cancellationToken, Action`1 preRetryCallback)\r\n",
      "   at Microsoft.Azure.Documents.BackoffRetryUtility`1.ExecuteRetryAsync[TParam,TPolicy](Func`1 callbackMethod, Func`3 callbackMethodWithParam, Func`2 callbackMethodWithPolicy, TParam param, IRetryPolicy retryPolicy, IRetryPolicy`1 retryPolicyWithArg, Func`1 inBackoffAlternateCallbackMethod, Func`2 inBackoffAlternateCallbackMethodWithPolicy, TimeSpan minBackoffForInBackoffCallback, CancellationToken cancellationToken, Action`1 preRetryCallback)\r\n",
      "   at Microsoft.Azure.Cosmos.AsyncCacheNonBlocking`2.GetAsync(TKey key, Func`2 singleValueInitFunc, Func`2 forceRefresh)\r\n",
      "   at Microsoft.Azure.Cosmos.DocumentClient.EnsureValidClientAsync(ITrace trace)\r\n",
      "   at Microsoft.Azure.Cosmos.DocumentClient.GetCollectionCacheAsync(ITrace trace)\r\n",
      "   at Microsoft.Azure.Cosmos.ClientContextCore.GetCachedContainerPropertiesAsync(String containerUri, ITrace trace, CancellationToken cancellationToken)\r\n",
      "   at Microsoft.Azure.Cosmos.CosmosQueryClientCore.GetCachedContainerQueryPropertiesAsync(String containerLink, Nullable`1 partitionKey, ITrace trace, CancellationToken cancellationToken)\r\n",
      "   at Microsoft.Azure.Cosmos.Query.Core.ExecutionContext.CosmosQueryExecutionContextFactory.TryCreateCoreContextAsync(DocumentContainer documentContainer, CosmosQueryContext cosmosQueryContext, InputParameters inputParameters, ITrace trace, CancellationToken cancellationToken)\r\n",
      "   at Microsoft.Azure.Cosmos.Query.Core.AsyncLazy`1.GetValueAsync(ITrace trace, CancellationToken cancellationToken)\r\n",
      "   at Microsoft.Azure.Cosmos.Query.Core.Pipeline.LazyQueryPipelineStage.MoveNextAsync(ITrace trace, CancellationToken cancellationToken)\r\n",
      "   at Microsoft.Azure.Cosmos.Query.Core.Pipeline.NameCacheStaleRetryQueryPipelineStage.MoveNextAsync(ITrace trace, CancellationToken cancellationToken)\r\n",
      "   at Microsoft.Azure.Cosmos.Query.Core.Pipeline.CatchAllQueryPipelineStage.MoveNextAsync(ITrace trace, CancellationToken cancellationToken)\r\n",
      "   at Microsoft.Azure.Cosmos.Query.QueryIterator.ReadNextAsync(ITrace trace, CancellationToken cancellationToken)\r\n",
      "   at Microsoft.Azure.Cosmos.FeedIteratorCore`1.ReadNextAsync(ITrace trace, CancellationToken cancellationToken)\r\n",
      "   at Microsoft.Azure.Cosmos.ClientContextCore.RunWithDiagnosticsHelperAsync[TResult](String containerName, String databaseName, OperationType operationType, ITrace trace, Func`2 task, Nullable`1 openTelemetry, RequestOptions requestOptions, Nullable`1 resourceType)\r\n",
      "   at Microsoft.Azure.Cosmos.ClientContextCore.OperationHelperWithRootTraceAsync[TResult](String operationName, String containerName, String databaseName, OperationType operationType, RequestOptions requestOptions, Func`2 task, Nullable`1 openTelemetry, TraceComponent traceComponent, TraceLevel traceLevel, Nullable`1 resourceType)\r\n",
      "   at Submission#4.<<Initialize>>d__0.MoveNext()\r\n",
      "--- End of stack trace from previous location ---\r\n",
      "   at Microsoft.CodeAnalysis.Scripting.ScriptExecutionState.RunSubmissionsAsync[TResult](ImmutableArray`1 precedingExecutors, Func`2 currentExecutor, StrongBox`1 exceptionHolderOpt, Func`2 catchExceptionOpt, CancellationToken cancellationToken)"
     ]
    }
   ],
   "source": [
    "var cmd = \"SELECT * FROM c WHERE c.OwnerUserId = 1 and c.PostType = 'Question'\";\n",
    "var postQuery = new QueryDefinition(cmd);\n",
    "var iterator = postContainer.GetItemQueryIterator<Post>(postQuery);\n",
    "var results = new List<Post>();\n",
    "\n",
    "while (iterator.HasMoreResults)\n",
    "{\n",
    "    var response = await iterator.ReadNextAsync();\n",
    "    results.AddRange(response);\n",
    "    response.RequestCharge.Display(); // Display the request charge of the response\n",
    "}\n",
    "results.Display();"
   ]
  }
 ],
 "metadata": {
  "kernelspec": {
   "display_name": ".NET (C#)",
   "language": "C#",
   "name": ".net-csharp"
  },
  "polyglot_notebook": {
   "kernelInfo": {
    "defaultKernelName": "csharp",
    "items": [
     {
      "aliases": [],
      "languageName": "csharp",
      "name": "csharp"
     }
    ]
   }
  }
 },
 "nbformat": 4,
 "nbformat_minor": 5
}
